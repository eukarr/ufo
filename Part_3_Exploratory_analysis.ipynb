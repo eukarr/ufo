{
 "cells": [
  {
   "cell_type": "markdown",
   "id": "72a29dc3",
   "metadata": {},
   "source": [
    "# <span style=\"color:blue\">Importing libraries</span>"
   ]
  },
  {
   "cell_type": "code",
   "execution_count": null,
   "id": "80a4ca71",
   "metadata": {},
   "outputs": [],
   "source": [
    "# import pandas as pd\n",
    "# import numpy as np\n",
    "# import scipy.stats as st\n",
    "\n",
    "# import seaborn as sns\n",
    "# import plotly.express as px\n",
    "# import matplotlib.pyplot as plt\n",
    "# import ipyplot\n",
    "\n",
    "# import requests\n",
    "# import os.path\n",
    "# import re"
   ]
  },
  {
   "cell_type": "markdown",
   "id": "be3e58f2",
   "metadata": {},
   "source": [
    "# <span style=\"color:blue\">Data reading from local files</span>"
   ]
  },
  {
   "cell_type": "code",
   "execution_count": null,
   "id": "714e5a33",
   "metadata": {},
   "outputs": [],
   "source": [
    "ufo = pd.read_csv('ufo_for_analysis.csv', index_col=0, parse_dates=['Observed', 'Posted'])\n",
    "\n",
    "states = pd.read_csv('states.csv', index_col=0)"
   ]
  },
  {
   "cell_type": "markdown",
   "id": "57986dcd",
   "metadata": {},
   "source": [
    "# <span style=\"color:blue\">Exploratory data analysis</span>"
   ]
  },
  {
   "cell_type": "markdown",
   "id": "8c06a929",
   "metadata": {},
   "source": [
    "As the first step, let us first review **the distribution of the observed UFO by shape**.\n",
    "\n",
    "From the plot below it is to be seen that the most frequently observed objects are of **round** shape or just **lights**. Other shapes are less common, and some specific shapes like hexagon or pyramid were observed just several times.\n",
    "\n",
    "It is important to notice that quite many of the observations (17.8%) did not state the shape of the object.\n",
    "\n",
    "On top of incomplete reports, this may come from the fact that about 1.3% of the observations contain [\"MADAR\"](https://madar.site/#home) or \"RADAR\" in the `Summary` field and hence come from some automated observation systems which track the appearance of something yet cannot determine the shape of the object."
   ]
  },
  {
   "cell_type": "code",
   "execution_count": null,
   "id": "f2fabc85",
   "metadata": {
    "tags": [
     "hide-input"
    ]
   },
   "outputs": [],
   "source": [
    "ufo_per_shape = ufo.groupby('Shape')\\\n",
    "        .agg(percentage =('Summary', lambda x: x.size / ufo.shape[0] * 100))\\\n",
    "        .sort_values(by='percentage', ascending=False)\\\n",
    "        .round(2)\n",
    "\n",
    "idx = ufo_per_shape.index.tolist()\n",
    "idx.remove('unknown')\n",
    "ufo_per_shape = ufo_per_shape.reindex(idx + ['unknown'])\n",
    "\n",
    "sns.set_style(\"whitegrid\")\n",
    "sns.set(font_scale=1.1)\n",
    "\n",
    "bar,ax = plt.subplots(figsize=(12,8))\n",
    "ax = sns.barplot(x=ufo_per_shape.index,\n",
    "                 y='percentage',\n",
    "                 data=ufo_per_shape,\n",
    "                 ci=None,\n",
    "                 palette=\"muted\",\n",
    "                 orient='v', )\n",
    "ax.set_title(\"Distribution of UFO observations by the shape\", fontsize=15)\n",
    "ax.set_xlabel (\"UFO shape\")\n",
    "ax.set_ylabel (\"Percentage\")\n",
    "ax.tick_params(axis='x', rotation=45)\n",
    "\n",
    "# calculate the percentages and annotate the sns barplot\n",
    "for rect in ax.patches:\n",
    "    ax.text(rect.get_x(),rect.get_height() + 0.1,\"%.1f%%\"% rect.get_height(), weight='bold' );"
   ]
  },
  {
   "cell_type": "code",
   "execution_count": null,
   "id": "945fd473",
   "metadata": {},
   "outputs": [],
   "source": [
    "round(ufo.query('Summary\\\n",
    "                .str.upper()\\\n",
    "                .str.contains(\"[M|R]ADAR\", na=False)')\\\n",
    "          .shape[0] \n",
    "    / ufo.shape[0], 3)"
   ]
  },
  {
   "cell_type": "markdown",
   "id": "afbee1f1",
   "metadata": {},
   "source": [
    "Now let us consider a **general trend in the number of observed UFO**.\n",
    "\n",
    "Note that hereafter we only consider the cases with a filled `Summary` field, meaning that a case without anything described cannot be verified even theoretically and is not therefore a valid case. Another possibility is to count the entries in the `Posted` field, yet this does not affect the general conclusions.\n",
    "\n",
    "The plot below reveals several characteristic ranges:\n",
    "* Before ~1960, the cases of UFO observation are fairly rare. This is not strange: it is stated in the [web page]() that the National UFO Reporting Center is in operation since 1974, and earlier reports have been likely filed basing on some scarce reports.\n",
    "* Over 1960-1990, the number of UFO observations has remained relatively low. During this period, the cases were likely collected by post or like this.\n",
    "* The onset of steep growth in the number of UFO observations is around 1995, which corresponds to the appearance of the online database (the earliers `Posted` date is March, 1998, see the query below).\n",
    "* A remarkable feature is general decrease in the total observations number after 2016 and sudden increase in 2020 (the latter effect may be somehow related to the COVID-19 lockdown).\n",
    "\n",
    "It is important to notice that the historical data in this database may somewhat change in furute. For example, the case observed at 1905-07-04 15:00:00 was filed just a month before this analysis, on 2021-07-31 (see below). However, this will not likely affect the general conclusions."
   ]
  },
  {
   "cell_type": "code",
   "execution_count": null,
   "id": "86d4b245",
   "metadata": {},
   "outputs": [],
   "source": [
    "ufo_per_year = ufo.groupby(ufo.Observed.dt.year)\\\n",
    "                .Summary\\\n",
    "                .count()\n",
    "\n",
    "sns.set_style(\"whitegrid\")\n",
    "sns.set(font_scale=1.1)\n",
    "\n",
    "plt.figure(figsize=(12,8))\n",
    "ax = sns.lineplot(x=ufo_per_year.index.astype('int'),\n",
    "                 y=ufo_per_year,\n",
    "                 palette=\"muted\")\n",
    "\n",
    "ax.set_title(\"Total UFO observed by year\", fontsize=15)\n",
    "ax.set_xlabel (\"Year\")\n",
    "ax.set_ylabel (\"Observations\");"
   ]
  },
  {
   "cell_type": "code",
   "execution_count": null,
   "id": "e3f17444",
   "metadata": {},
   "outputs": [],
   "source": [
    "ufo_early_posted = ufo.sort_values(by='Posted')\\\n",
    "                      .head()\n",
    "\n",
    "ufo_early_posted\\\n",
    "    .style\\\n",
    "    .set_properties(**{'background-color': '#ffffb3'}, subset=['Posted'])"
   ]
  },
  {
   "cell_type": "code",
   "execution_count": null,
   "id": "3409b371",
   "metadata": {},
   "outputs": [],
   "source": [
    "def highlight_early(s, props=''):\n",
    "    return np.where(s < '1906-01-01', props, '')\n",
    "\n",
    "def highlight_late(s, props=''):\n",
    "    return np.where(s > '2021-01-01', props, '')\n",
    "\n",
    "ufo_early_observations = ufo.query('~Observed.isna()')\\\n",
    "                .sort_values(by='Observed')\\\n",
    "                .head()\n",
    "\n",
    "ufo_early_observations\\\n",
    "        .style\\\n",
    "        .apply(highlight_early, props='color:red;', axis=0, subset=['Observed'])\\\n",
    "        .apply(highlight_late, props='color:blue;', axis=0, subset=['Posted'])"
   ]
  },
  {
   "cell_type": "markdown",
   "id": "5afbc0eb",
   "metadata": {},
   "source": [
    "Now let us consider the historical **trends in the observations of different shapes of UFO**.\n",
    "\n",
    "For better view, we have started the plot with year of 1960 and the UFO shapes to several most popular ones. Note the logarithmic scale of the number of observations.\n",
    "\n",
    "It is to be seen that in general the trends are similar, with the expection of \"Fireball\" shape which shows a pair of sudden jumps. However, in view of 'multiple comparison' issue, it is fair to assume that there have been no anomalous changes in the appearance of UFO of certain shape over the reported cases."
   ]
  },
  {
   "cell_type": "code",
   "execution_count": null,
   "id": "12cc66ea",
   "metadata": {},
   "outputs": [],
   "source": [
    "ufo_per_year_shape = ufo.assign(Year = ufo.Observed.dt.year)\n",
    "\n",
    "ufo_per_year_shape = ufo_per_year_shape.groupby(['Year', 'Shape'], as_index=False)\\\n",
    "        .agg({'Summary': 'count'})\\\n",
    "        .pivot('Year', columns='Shape', values='Summary')\n",
    "\n",
    "ufo_per_year_shape['overall'] = ufo_per_year_shape.sum(axis=1)\n",
    "\n",
    "ufo_per_year_shape = ufo_per_year_shape.reset_index()\\\n",
    "    .melt(id_vars = 'Year', var_name='Shape',  value_name='Observations')\n",
    "\n",
    "ufo_per_year_shape = ufo_per_year_shape.query(\"Shape in ['overall', 'circle', 'light', 'triangle', 'fireball', 'oval', 'cylinder', 'formation']\")\\\n",
    "            .query(\"1960 <= Year <= 2021\")\n",
    "\n",
    "\n",
    "sns.set_style(\"whitegrid\")\n",
    "sns.set(font_scale=1.1)\n",
    "\n",
    "plt.figure(figsize=(12,8))\n",
    "ax = sns.lineplot(data=ufo_per_year_shape,\n",
    "                  x='Year',\n",
    "                  y='Observations',\n",
    "                  hue='Shape',\n",
    "                 palette=\"muted\")\n",
    "\n",
    "ax.set_title(\"UFO observed by year\", fontsize=15)\n",
    "ax.set_xlabel (\"Year\")\n",
    "ax.set_ylabel (\"Observations\")\n",
    "ax.set_yscale(\"log\");"
   ]
  },
  {
   "cell_type": "markdown",
   "id": "637e0bdd",
   "metadata": {},
   "source": [
    "Let us consider the distribution of the cases of **UFO observations over the days of the week**.\n",
    "\n",
    "Seemingly, the number of such follows certain cycle with a peak on Saturdays. However, the difference is not huge, and moreover the total counts accumulate the cases from quite long period. Therefore, it seems reasonable to run a statistical test to verify the significance of this observation."
   ]
  },
  {
   "cell_type": "code",
   "execution_count": null,
   "id": "6e6c0f71",
   "metadata": {},
   "outputs": [],
   "source": [
    "ufo_per_day = ufo.groupby(ufo.Observed.dt.day_name())\\\n",
    "                .Summary\\\n",
    "                .count()\\\n",
    "                .reindex(index = ['Monday', 'Tuesday', 'Wednesday', 'Thursday', 'Friday', 'Saturday', 'Sunday'])\n",
    "\n",
    "sns.set_style(\"whitegrid\")\n",
    "sns.set(font_scale=1.1)\n",
    "\n",
    "plt.figure(figsize=(12,8))\n",
    "ax = sns.barplot(x=ufo_per_day.index,\n",
    "                 y=ufo_per_day,\n",
    "                 palette=\"muted\")\n",
    "\n",
    "ax.set_title(\"Total UFO observed by day\", fontsize=15)\n",
    "ax.set_xlabel (\"Day\")\n",
    "ax.set_ylabel (\"Observations\");"
   ]
  },
  {
   "cell_type": "markdown",
   "id": "64d2e6d3",
   "metadata": {},
   "source": [
    "A straightforward day to do so is to consider the difference between the number of UFO observations on Saturday and the rolling mean over 3 days (which a week centered on Saturday).\n",
    "\n",
    "Note that this is one of the simplest methods to do so, yet it gives quite convincing results."
   ]
  },
  {
   "cell_type": "code",
   "execution_count": null,
   "id": "ef8de399",
   "metadata": {},
   "outputs": [],
   "source": [
    "ufo_daily_count = ufo.resample(rule='D', on='Observed').Summary.count()\n",
    "ufo_rolling_mean = ufo.resample(rule='D', on='Observed').Summary.count().rolling(window=3, center=True).mean()\n",
    "\n",
    "ufo_daily_diff = ufo_daily_count - ufo_rolling_mean\n",
    "\n",
    "diff_Saturday = ufo_daily_diff[ufo_daily_diff.index.day_name() == 'Saturday']\n",
    "\n",
    "diff_Wednesday = ufo_daily_diff[ufo_daily_diff.index.day_name() == 'Wednesday']"
   ]
  },
  {
   "cell_type": "markdown",
   "id": "2fa6f11e",
   "metadata": {},
   "source": [
    "The obtained difference values can be tested against a null hypothesis of equality to zero.\n",
    "\n",
    "The corresponding $p$-value of the single-sample $t$-test is of 5e-18, which leads to rejection of the null hypothesis and confirms that the difference in the UFO observation cases on Saturdays is significantly higher than during the other days. As a comparison, the same statistics calculated for Wednesdays gives $p$-value of 0.9, hence we fail to reject the null hypothesis at any reasonable significance level."
   ]
  },
  {
   "cell_type": "code",
   "execution_count": null,
   "id": "4add2b9a",
   "metadata": {},
   "outputs": [],
   "source": [
    "diff_Saturday.mean().round(4)"
   ]
  },
  {
   "cell_type": "code",
   "execution_count": null,
   "id": "6b4b5fc8",
   "metadata": {},
   "outputs": [],
   "source": [
    "st.ttest_1samp(diff_Saturday, popmean=0, alternative='two-sided')"
   ]
  },
  {
   "cell_type": "code",
   "execution_count": null,
   "id": "38a306d6",
   "metadata": {},
   "outputs": [],
   "source": [
    "diff_Wednesday.mean().round(4)"
   ]
  },
  {
   "cell_type": "code",
   "execution_count": null,
   "id": "2d505d43",
   "metadata": {},
   "outputs": [],
   "source": [
    "st.ttest_1samp(diff_Wednesday, popmean=0, alternative='two-sided', nan_policy='omit')"
   ]
  },
  {
   "cell_type": "markdown",
   "id": "0aa4bea8",
   "metadata": {},
   "source": [
    "The distribution of the **observed cases with respect to the time** seems reasonable: most often, UFO are observed 6 pm and 1 am, when it is dark yet people are still active."
   ]
  },
  {
   "cell_type": "code",
   "execution_count": null,
   "id": "3c93691c",
   "metadata": {},
   "outputs": [],
   "source": [
    "ufo_per_hour = ufo.groupby(ufo.Observed.map(lambda t: t.hour))\\\n",
    "                .Summary\\\n",
    "                .count()\n",
    "\n",
    "sns.set_style(\"whitegrid\")\n",
    "sns.set(font_scale=1.1)\n",
    "\n",
    "plt.figure(figsize=(12,8))\n",
    "ax = sns.barplot(x=ufo_per_hour.index.astype('int'),\n",
    "                 y=ufo_per_hour,\n",
    "                 palette=\"muted\")\n",
    "\n",
    "ax.set_title(\"Total UFO observed by time\", fontsize=15)\n",
    "ax.set_xlabel (\"Hour\")\n",
    "ax.set_ylabel (\"Observations\");"
   ]
  },
  {
   "cell_type": "markdown",
   "id": "8bb557ec",
   "metadata": {},
   "source": [
    "Let us now look at the **observations cases per state** (including these of US and Canada).\n",
    "\n",
    "It is to be seen that the distribution of the cases is strongly uneven: it ranges between just 1 (for VI, Virgin Islands) and 14806 for CA (California)."
   ]
  },
  {
   "cell_type": "code",
   "execution_count": null,
   "id": "64e126f2",
   "metadata": {},
   "outputs": [],
   "source": [
    "ufo_per_state = ufo.groupby('State', as_index=False)\\\n",
    "        .agg({'Summary': 'count'})\\\n",
    "        .rename(columns={'Summary': 'Observations'})\\\n",
    "        .sort_values(by='State', ascending=True)\n",
    "\n",
    "#Seaborn barplot\n",
    "sns.set_style(\"whitegrid\")\n",
    "\n",
    "sns.set(font_scale=1)\n",
    "\n",
    "bar,ax = plt.subplots(figsize=(14,10))\n",
    "ax = sns.barplot(x='State',\n",
    "                 y='Observations',\n",
    "                 data=ufo_per_state,\n",
    "                 ci=None,\n",
    "                 palette=\"muted\",\n",
    "                 orient='v')\n",
    "ax.set_title(\"Distribution of UFO observed by state\", fontsize=15)\n",
    "ax.set_xlabel (\"State\")\n",
    "ax.set_ylabel (\"Number of observations\")\n",
    "ax.tick_params(axis='x', rotation=90)"
   ]
  },
  {
   "cell_type": "code",
   "execution_count": null,
   "id": "d25bcf12",
   "metadata": {},
   "outputs": [],
   "source": [
    "ufo_per_state.describe()"
   ]
  },
  {
   "cell_type": "code",
   "execution_count": null,
   "id": "deb33227",
   "metadata": {},
   "outputs": [],
   "source": [
    "pd.concat([ufo_per_state[ufo_per_state.Observations == min(ufo_per_state.Observations)],\n",
    "           ufo_per_state[ufo_per_state.Observations == max(ufo_per_state.Observations)]])"
   ]
  },
  {
   "cell_type": "markdown",
   "id": "102b7bf2",
   "metadata": {},
   "source": [
    "The simplest idea behind the observed difference is that the states are strongly different in area and population, both factors being potentially in favor of more frequent observations of whatever phenomenon occurring randomly.\n",
    "\n",
    "Therefore, let us consider the similar plots upon normalization of the total observations counts with respect to the states population and area."
   ]
  },
  {
   "cell_type": "code",
   "execution_count": null,
   "id": "f611b2d5",
   "metadata": {},
   "outputs": [],
   "source": [
    "ufo_per_state = pd.merge(left=ufo_per_state, \n",
    "                         right=states, how='inner', \n",
    "                         left_on='State', \n",
    "                         right_on='Abbreviation')"
   ]
  },
  {
   "cell_type": "code",
   "execution_count": null,
   "id": "365b677d",
   "metadata": {},
   "outputs": [],
   "source": [
    "ufo_per_state['Observations_per_population'] = ufo_per_state.Observations / ufo_per_state.Population\n",
    "ufo_per_state['Observations_per_area'] = ufo_per_state.Observations / ufo_per_state.Total_area\n",
    "ufo_per_state['Observations_per_land_area'] = ufo_per_state.Observations / ufo_per_state.Land_area"
   ]
  },
  {
   "cell_type": "markdown",
   "id": "f9c999ee",
   "metadata": {},
   "source": [
    "The distribution of the **observation cases normalized by the population** (as per current data from Wikipedia) becomes more uniform in the range of the highest values, still, there are some states with extremely low observation frequency."
   ]
  },
  {
   "cell_type": "code",
   "execution_count": null,
   "id": "a8e577f4",
   "metadata": {},
   "outputs": [],
   "source": [
    "sns.set_style(\"whitegrid\")\n",
    "\n",
    "sns.set(font_scale=1)\n",
    "\n",
    "bar,ax = plt.subplots(figsize=(14,10))\n",
    "ax = sns.barplot(x='State',\n",
    "                 y='Observations_per_population',\n",
    "                 data=ufo_per_state,\n",
    "                 ci=None,\n",
    "                 palette=\"muted\",\n",
    "                 orient='v')\n",
    "ax.set_title(\"Distribution of UFO observed by state normalized by current population\", fontsize=15)\n",
    "ax.set_xlabel (\"State\")\n",
    "ax.set_ylabel (\"Number of observations per person\")\n",
    "ax.tick_params(axis='x', rotation=90)"
   ]
  },
  {
   "cell_type": "markdown",
   "id": "8f4f3f5c",
   "metadata": {},
   "source": [
    "However, the distribution of the **observation cases normalized by land area** (the data normalized by total area are very similar and not shown for clarity) is strikingly different.\n",
    "\n",
    "There is a state (actually, District of Columbia) with extremely high normalized observations frequency.\n",
    "\n",
    "This fact definitely comes from very small area of DC - even though the total number of observations in DC is as low as 139, 10th percentile of the data, it returns huge normalized value with respect to very small area."
   ]
  },
  {
   "cell_type": "code",
   "execution_count": null,
   "id": "d5a12c6b",
   "metadata": {},
   "outputs": [],
   "source": [
    "sns.set_style(\"whitegrid\")\n",
    "\n",
    "sns.set(font_scale=1)\n",
    "\n",
    "bar,ax = plt.subplots(figsize=(14,10))\n",
    "ax = sns.barplot(x='State',\n",
    "                 y='Observations_per_land_area',\n",
    "                 data=ufo_per_state,\n",
    "                 ci=None,\n",
    "                 palette=\"muted\",\n",
    "                 orient='v')\n",
    "ax.set_title(\"Distribution of UFO observed by state normalized by land area\", fontsize=15)\n",
    "ax.set_xlabel (\"State\")\n",
    "ax.set_ylabel (\"Number of observations per sq.km\")\n",
    "ax.tick_params(axis='x', rotation=90)"
   ]
  },
  {
   "cell_type": "code",
   "execution_count": null,
   "id": "f493a9bc",
   "metadata": {},
   "outputs": [],
   "source": [
    "ufo_per_state.query('State == \"DC\"')"
   ]
  },
  {
   "cell_type": "code",
   "execution_count": null,
   "id": "700cac75",
   "metadata": {},
   "outputs": [],
   "source": [
    "st.percentileofscore(ufo_per_state.Observations, 139)"
   ]
  },
  {
   "cell_type": "markdown",
   "id": "5ac56f89",
   "metadata": {},
   "source": [
    "To better describe the obtained normalized data, let us consider the **distributions of the standartized values**."
   ]
  },
  {
   "cell_type": "code",
   "execution_count": null,
   "id": "269dc644",
   "metadata": {},
   "outputs": [],
   "source": [
    "def z_score(column):\n",
    "    column.replace([np.inf, -np.inf], np.nan, inplace=True)\n",
    "    return (column - column.mean())/column.std()\n",
    "\n",
    "ufo_per_state['Observations_std'] = z_score(ufo_per_state['Observations'])\n",
    "ufo_per_state['Observations_per_population_std'] = z_score(ufo_per_state['Observations_per_population'])\n",
    "ufo_per_state['Observations_per_area_std'] = z_score(ufo_per_state['Observations_per_area'])\n",
    "ufo_per_state['Observations_per_land_area_std'] = z_score(ufo_per_state['Observations_per_land_area'])\n",
    "\n",
    "std_observations = ufo_per_state.loc[:, ['State', 'Observations_std', 'Observations_per_population_std', 'Observations_per_area_std', 'Observations_per_land_area_std']]\n",
    "\n",
    "std_observations = pd.melt(frame=std_observations, \n",
    "        id_vars='State',\n",
    "        value_vars=['Observations_std', 'Observations_per_population_std', 'Observations_per_area_std', 'Observations_per_land_area_std'],\n",
    "        )"
   ]
  },
  {
   "cell_type": "markdown",
   "id": "5ab0cb72",
   "metadata": {},
   "source": [
    "It is to be seen that the initial distribution of the total observation cases by state is somewhat skewed, as marked by a few outliers in the range of high number of observations.\n",
    "\n",
    "These outliers have disappeared upon normalization by current population, yet the variance of the data (as estimated from the interquartile range) has been somewhat widened.\n",
    "\n",
    "The distributions upon normalization to the state area are very narrow, except for the outlier value for DC."
   ]
  },
  {
   "cell_type": "code",
   "execution_count": null,
   "id": "0ec3fa64",
   "metadata": {},
   "outputs": [],
   "source": [
    "plt.figure(figsize=(8,6))\n",
    "sns.boxplot(x=\"value\", y=\"variable\", data=std_observations, color=\"c\")\n",
    "sns.despine(trim=True)"
   ]
  },
  {
   "cell_type": "markdown",
   "id": "2a7d82a4",
   "metadata": {},
   "source": [
    "Wider distribution of the values normalized by population with respect to those normalized by area is likely due to the fact that the current population has been taken as reference, even though the data spans more than a century. From the historical data on the USA population it is to be seen that the population change has been different in different states: for some of them, it remained almost constant over recent decades, being growing rapidly for others. For sure, this imparts a deal of additional variation reflected in the wider distribution."
   ]
  },
  {
   "cell_type": "code",
   "execution_count": null,
   "id": "d87029a8",
   "metadata": {},
   "outputs": [],
   "source": [
    "ipyplot.plot_images(\n",
    "    ['https://upload.wikimedia.org/wikipedia/commons/f/f3/US_state_historical_population_FRED_SMIL.svg'],\n",
    "    img_width=800);"
   ]
  },
  {
   "cell_type": "markdown",
   "id": "7381f2c8",
   "metadata": {},
   "source": [
    "Let us return for a moment to **a special case of DC**.\n",
    "\n",
    "One could imagine that this extremely high frequency of the UFO observations when normalized to the state area is due to the fact thet the District of Columbia is at the very center of some anomaly zone, whereas the potentially frequent observations in the neighbor states could be masked by their relatively large area.\n",
    "\n",
    "In such case, the states adjacent to DC would show somewhat higher frequency of the observations, yet not high enough to be shown as outlier.\n",
    "\n",
    "The map of the values of the cases of UFO observations normalized by the state area shown below does not show any specific pattern (zoom in to spot the DC as a yellow-colored region)."
   ]
  },
  {
   "cell_type": "code",
   "execution_count": null,
   "id": "5a30db0b",
   "metadata": {},
   "outputs": [],
   "source": [
    "fig = px.choropleth(locations=std_observations.query(\"variable == 'Observations_per_area_std'\")\\\n",
    "                                              .State,\n",
    "                    locationmode=\"USA-states\",\n",
    "                    color=std_observations.query(\"variable == 'Observations_per_area_std'\")\\\n",
    "                                           .value,\n",
    "                    scope=\"usa\")\n",
    "fig.show()"
   ]
  },
  {
   "cell_type": "markdown",
   "id": "c272535c",
   "metadata": {},
   "source": [
    "Removal of the value for DC has allowed visualization of certain pattern.\n",
    "\n",
    "Note that even though the states with the highest UFO count normalized by the area are grouped in the Eastern part of the USA, the states adjacent to DC do not reveal the highest normalized UFO counts."
   ]
  },
  {
   "cell_type": "code",
   "execution_count": null,
   "id": "84fcbf32",
   "metadata": {},
   "outputs": [],
   "source": [
    "fig = px.choropleth(locations=std_observations.query(\"variable == 'Observations_per_area_std'\")\\\n",
    "                                              .query(\"abs(value) < 1\")\\\n",
    "                                              .State,\n",
    "                    locationmode=\"USA-states\",\n",
    "                    color=std_observations.query(\"variable == 'Observations_per_area_std'\")\\\n",
    "                                           .query(\"abs(value) < 1\")\\\n",
    "                                           .value,\n",
    "                    scope=\"usa\")\n",
    "fig.show()"
   ]
  },
  {
   "cell_type": "markdown",
   "id": "1bd4e52b",
   "metadata": {},
   "source": [
    "Similarly, the map of the UFO counts normalized by population has not shown any specific pattern."
   ]
  },
  {
   "cell_type": "code",
   "execution_count": null,
   "id": "449a3da4",
   "metadata": {},
   "outputs": [],
   "source": [
    "fig = px.choropleth(locations=std_observations.query(\"variable == 'Observations_per_population_std'\").State,\n",
    "                    locationmode=\"USA-states\",\n",
    "                    color=std_observations.query(\"variable == 'Observations_per_population_std'\").value,\n",
    "                    scope=\"usa\",\n",
    "                    title='Z-score of UFO observations per current state population')\n",
    "fig.show()"
   ]
  },
  {
   "cell_type": "markdown",
   "id": "de5cebc1",
   "metadata": {},
   "source": [
    "As a final point, let us compare the USA and Canada states with the DC data alone to see any specific features."
   ]
  },
  {
   "cell_type": "code",
   "execution_count": null,
   "id": "2457c9db",
   "metadata": {},
   "outputs": [],
   "source": [
    "us_states = states.iloc[:56]\n",
    "canada_states = states.iloc[56:]"
   ]
  },
  {
   "cell_type": "code",
   "execution_count": null,
   "id": "2edbf4ca",
   "metadata": {},
   "outputs": [],
   "source": [
    "ufo_us = ufo.query('State in @us_states.Abbreviation')\n",
    "ufo_canada = ufo.query('State in @canada_states.Abbreviation')\n",
    "ufo_dc = ufo_us.query('State == \"DC\"')\n",
    "ufo_no_dc = ufo_us.query('State != \"DC\"')"
   ]
  },
  {
   "cell_type": "code",
   "execution_count": null,
   "id": "8b9d60e0",
   "metadata": {},
   "outputs": [],
   "source": [
    "ufo_us_per_hour = ufo_us.groupby(ufo_us.Observed.map(lambda t: t.hour))\\\n",
    "                .Summary\\\n",
    "                .count()\n",
    "\n",
    "ufo_canada_per_hour = ufo_canada.groupby(ufo_canada.Observed.map(lambda t: t.hour))\\\n",
    "                .Summary\\\n",
    "                .count()\n",
    "\n",
    "ufo_dc_per_hour = ufo_dc.groupby(ufo_dc.Observed.map(lambda t: t.hour))\\\n",
    "                .Summary\\\n",
    "                .count()\n",
    "\n",
    "ufo_no_dc_per_hour = ufo_no_dc.groupby(ufo_no_dc.Observed.map(lambda t: t.hour))\\\n",
    "                .Summary\\\n",
    "                .count()\n",
    "\n",
    "\n",
    "ufo_us_per_hour = pd.DataFrame({\n",
    "    'Observations': ufo_us_per_hour / ufo_us_per_hour.sum(),\n",
    "    'Region': 'US'\n",
    "            })\n",
    "\n",
    "ufo_canada_per_hour = pd.DataFrame({\n",
    "    'Observations': ufo_canada_per_hour / ufo_canada_per_hour.sum(),\n",
    "    'Region': 'Canada'\n",
    "            })\n",
    "\n",
    "ufo_dc_per_hour = pd.DataFrame({\n",
    "    'Observations': ufo_dc_per_hour / ufo_dc_per_hour.sum(),\n",
    "    'Region': 'DC'\n",
    "            })\n",
    "\n",
    "ufo_no_dc_per_hour = pd.DataFrame({\n",
    "    'Observations': ufo_no_dc_per_hour / ufo_no_dc_per_hour.sum(),\n",
    "    'Region': 'US outside DC'\n",
    "            })\n",
    "\n",
    "\n",
    "\n",
    "ufo_region_hour = pd.concat([ufo_canada_per_hour, ufo_dc_per_hour, ufo_no_dc_per_hour])\n"
   ]
  },
  {
   "cell_type": "code",
   "execution_count": null,
   "id": "103b8ecf",
   "metadata": {},
   "outputs": [],
   "source": [
    "sns.set_style(\"whitegrid\")\n",
    "sns.set(font_scale=1.1)\n",
    "\n",
    "plt.figure(figsize=(12,8))\n",
    "ax = sns.lineplot(x=ufo_region_hour.index.astype('int'),\n",
    "                 y=ufo_region_hour.Observations,\n",
    "                 hue=ufo_region_hour.Region, \n",
    "                 palette=\"muted\")\n",
    "\n",
    "ax.set_title(\"Total UFO observed by time\", fontsize=15)\n",
    "ax.set_xlabel (\"Hour\")\n",
    "ax.set_ylabel (\"Observations fraction\");"
   ]
  },
  {
   "cell_type": "code",
   "execution_count": null,
   "id": "6d462d98",
   "metadata": {},
   "outputs": [],
   "source": [
    "ufo_us_per_shape = ufo_us.groupby('Shape')\\\n",
    "        .agg(percentage =('Summary', lambda x: x.size / ufo_us.shape[0] * 100))\\\n",
    "        .sort_values(by='percentage', ascending=False)\\\n",
    "        .round(2)\n",
    "ufo_us_per_shape['Region'] = 'US'\n",
    "\n",
    "\n",
    "ufo_canada_per_shape = ufo_canada.groupby('Shape')\\\n",
    "        .agg(percentage =('Summary', lambda x: x.size / ufo_canada.shape[0] * 100))\\\n",
    "        .sort_values(by='percentage', ascending=False)\\\n",
    "        .round(2)\n",
    "ufo_canada_per_shape['Region'] = 'Canada'\n",
    "\n",
    "ufo_dc_per_shape = ufo_dc.groupby('Shape')\\\n",
    "        .agg(percentage =('Summary', lambda x: x.size / ufo_dc.shape[0] * 100))\\\n",
    "        .sort_values(by='percentage', ascending=False)\\\n",
    "        .round(2)\n",
    "ufo_dc_per_shape['Region'] = 'DC'\n",
    "\n",
    "ufo_no_dc_per_shape = ufo_no_dc.groupby('Shape')\\\n",
    "        .agg(percentage =('Summary', lambda x: x.size / ufo_no_dc.shape[0] * 100))\\\n",
    "        .sort_values(by='percentage', ascending=False)\\\n",
    "        .round(2)\n",
    "ufo_no_dc_per_shape['Region'] = 'US outside DC'\n",
    "\n",
    "ufo_region_shape = pd.concat([ufo_canada_per_shape, ufo_dc_per_shape, ufo_no_dc_per_shape])"
   ]
  },
  {
   "cell_type": "code",
   "execution_count": null,
   "id": "d3184b7a",
   "metadata": {},
   "outputs": [],
   "source": [
    "idx = ufo_per_shape.index.tolist()\n",
    "idx.remove('unknown')\n",
    "idx.append('unknown')\n",
    "\n",
    "\n",
    "\n",
    "sns.set_style(\"whitegrid\")\n",
    "sns.set(font_scale=1.1)\n",
    "\n",
    "bar,ax = plt.subplots(figsize=(12,8))\n",
    "ax = sns.barplot(x=ufo_region_shape.index,\n",
    "                 y='percentage',\n",
    "                 data=ufo_region_shape,\n",
    "                 hue='Region',\n",
    "                 ci=None,\n",
    "                 palette=\"muted\",\n",
    "                 orient='v',\n",
    "                 order=idx)\n",
    "ax.set_title(\"Distribution of UFO observations by the shape\", fontsize=15)\n",
    "ax.set_xlabel (\"UFO shape\")\n",
    "ax.set_ylabel (\"Percentage\")\n",
    "ax.tick_params(axis='x', rotation=45)\n",
    "\n",
    "# calculate the percentages and annotate the sns barplot\n",
    "# for rect in ax.patches:\n",
    "#     ax.text(rect.get_x(),rect.get_height() + 0.1,\"%.1f%%\"% rect.get_height(), weight='bold' );"
   ]
  },
  {
   "cell_type": "markdown",
   "id": "fd1b1655",
   "metadata": {},
   "source": [
    "It is to be seen that the distributions of the UFO observations over time of a day is almost identical for District of Columbia, USA, and Canada.\n",
    "\n",
    "Similarly, no significant differrences have been founf in the distribution of UFO by shape between these regions.\n",
    "\n",
    "The most striking difference has been revealed in the percentage of cylinder-shaped UFO (about 7% in DC and about 4% in other regions), yet 3% difference of 139 cases observed in DC is just 4 to 5 cases over more than a century of the data collection, and this unlikely marks anything special."
   ]
  },
  {
   "cell_type": "markdown",
   "id": "54a29aa8",
   "metadata": {},
   "source": [
    "# <span style=\"color:blue\">Overall conclusion and future directions</span>\n",
    "\n",
    "Even though personally I do not believe in 'alien' origin of UFO, I think that certain natural or technical phenomena can be regarded as such. \n",
    "\n",
    "The data obtained from the [http://www.nuforc.org/](http://www.nuforc.org/) web page give many inspirations for analysis, apart from the alien hypothesis.\n",
    "\n",
    "Even preliminary exploratory consideration of the available data has shown that the observation of UFO is likely a general worldwide phenomenon which can be investigated further in connection with different political, health, and cultural ussues possibly affecting the desire for people to observe something 'strange'.\n",
    "\n",
    "Moreover, this dataset has much more to discover, including possibly the NLP analysis of the `Summary` field in the data to reveal common features and their historical trends."
   ]
  }
 ],
 "metadata": {
  "celltoolbar": "Необработанный формат ячейки",
  "kernelspec": {
   "display_name": "Python 3",
   "language": "python",
   "name": "python3"
  },
  "language_info": {
   "codemirror_mode": {
    "name": "ipython",
    "version": 3
   },
   "file_extension": ".py",
   "mimetype": "text/x-python",
   "name": "python",
   "nbconvert_exporter": "python",
   "pygments_lexer": "ipython3",
   "version": "3.8.7"
  }
 },
 "nbformat": 4,
 "nbformat_minor": 5
}
