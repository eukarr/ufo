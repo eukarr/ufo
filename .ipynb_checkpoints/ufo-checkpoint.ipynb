{
 "cells": [
  {
   "cell_type": "markdown",
   "id": "ec2102ce",
   "metadata": {},
   "source": [
    "# <span style=\"color:blue\">Importing libraries</span>"
   ]
  },
  {
   "cell_type": "code",
   "execution_count": 1,
   "id": "80a4ca71",
   "metadata": {},
   "outputs": [],
   "source": [
    "import pandas as pd\n",
    "import numpy as np\n",
    "\n",
    "import seaborn as sns\n",
    "import matplotlib.pyplot as plt\n",
    "\n",
    "import requests\n",
    "import os.path\n",
    "import re"
   ]
  },
  {
   "cell_type": "markdown",
   "id": "cf511a7d",
   "metadata": {},
   "source": [
    "# <span style=\"color:blue\">Data reading from web</span>"
   ]
  },
  {
   "cell_type": "markdown",
   "id": "10eaef4f",
   "metadata": {},
   "source": [
    "### <span style=\"color:red\">The code below takes quite long to be run and sometimes it hangs.</span>  \n",
    "\n",
    "It is for illustration of initial data collection only. **For practice, the saved csv files should be used.**"
   ]
  },
  {
   "cell_type": "markdown",
   "id": "a897a686",
   "metadata": {},
   "source": [
    "### Reading tables arranged by UFO observation date"
   ]
  },
  {
   "cell_type": "markdown",
   "id": "feae3ae9",
   "metadata": {},
   "source": [
    "This returns a list of dataframes, the `[0]` element being a dataframe describing the tables of UFO observations by date. The `Reports` column contains the list of the available tables.  \n",
    "The dataframes corresponding to each shape can then be retrieved from\n",
    "`http://www.nuforc.org/webreports/ndxs{date}.html`. The `{date}` in the url should be empty for `Unspecified` date, otherwise in the `YYYYMM` format."
   ]
  },
  {
   "cell_type": "code",
   "execution_count": null,
   "id": "fa8540e8",
   "metadata": {},
   "outputs": [],
   "source": [
    "tables_by_date_list = pd.read_html('http://www.nuforc.org/webreports/ndxevent.html')"
   ]
  },
  {
   "cell_type": "markdown",
   "id": "c8cc4723",
   "metadata": {},
   "source": [
    "The code below saves each table as local html file for further import if necessary. This is done because reading of numerous files from the server is unstable and sometimes fails. Saving the html files can be restarted if needed - only the missing files will be downloaded during subsequent runs. Overall, **the downloading takes about 25 minutes**."
   ]
  },
  {
   "cell_type": "code",
   "execution_count": null,
   "id": "5d329442",
   "metadata": {},
   "outputs": [],
   "source": [
    "if not os.path.exists('by_date'):\n",
    "        os.mkdir('by_date')\n",
    "\n",
    "for date in tables_by_date_list[0].Reports:\n",
    "    if date == 'UNSPECIFIED / APPROXIMATE':\n",
    "        url = 'http://www.nuforc.org/webreports/ndxe.html'\n",
    "        file = 'by_date/unspecified.html'\n",
    "    else:\n",
    "        url = f'http://www.nuforc.org/webreports/ndxe{date[-4:]}{date[:2]}.html'\n",
    "        file = 'by_date/' + date.replace('/', '_') + '.html'\n",
    "    \n",
    "    if not os.path.isfile(file):\n",
    "        r = requests.get(url, allow_redirects=True)\n",
    "        open(file, 'wb').write(r.content)\n",
    "        # optional text output to track the process\n",
    "        #print(file)"
   ]
  },
  {
   "cell_type": "markdown",
   "id": "0d012041",
   "metadata": {},
   "source": [
    "The code below is for reading the tables from url directly to the dataframe. If often fails; when successful, **<ins>the reading takes about an hour</ins>**"
   ]
  },
  {
   "cell_type": "code",
   "execution_count": null,
   "id": "a60b6699",
   "metadata": {},
   "outputs": [],
   "source": [
    "ufo_by_date = []\n",
    "\n",
    "for date in tables_by_date_list[0].Reports:\n",
    "    #print(f'Reading data for shape = {shape_name}...')\n",
    "    if date == 'UNSPECIFIED / APPROXIMATE':\n",
    "        temp_df = pd.read_html(f'http://www.nuforc.org/webreports/ndxe.html')[0]\n",
    "        temp_df['Date_label'] = date\n",
    "        ufo_by_date.append(temp_df)\n",
    "    else:\n",
    "        temp_df = pd.read_html(f'http://www.nuforc.org/webreports/ndxe{date[-4:]}{date[:2]}.html')[0]\n",
    "        temp_df['Date_label'] = date\n",
    "        ufo_by_date.append(temp_df)\n",
    "    # optional text output to monitor the process\n",
    "    #print(f'Reading data for date = {date} done!')\n",
    "\n",
    "finish_reading_by_date = pd.Timestamp.now()    \n",
    "    \n",
    "ufo_raw_date = pd.concat(ufo_by_date)"
   ]
  },
  {
   "cell_type": "markdown",
   "id": "d58d8990",
   "metadata": {},
   "source": [
    "Saving the dataframe for further use"
   ]
  },
  {
   "cell_type": "code",
   "execution_count": null,
   "id": "eef3410a",
   "metadata": {},
   "outputs": [],
   "source": [
    "ufo_raw_date.reset_index(drop=True, inplace=True)"
   ]
  },
  {
   "cell_type": "code",
   "execution_count": null,
   "id": "9c986f34",
   "metadata": {},
   "outputs": [],
   "source": [
    "ufo_raw_date.to_csv(\"ufo_raw_date.csv\")"
   ]
  },
  {
   "cell_type": "markdown",
   "id": "9ae2acee",
   "metadata": {},
   "source": [
    "### Reading tables arranged by UFO shape"
   ]
  },
  {
   "cell_type": "markdown",
   "id": "20932c01",
   "metadata": {},
   "source": [
    "This code returns a list of dataframes, the `[0]` element being a dataframe showing UFOs by type.  \n",
    "The dataframes corresponding to each shape can then be retrieved from\n",
    "`'http://www.nuforc.org/webreports/ndxs{shape_name}.html'`. The `{shape}` in the url should be empty for `Unspecified` shape."
   ]
  },
  {
   "cell_type": "code",
   "execution_count": null,
   "id": "edf9cac1",
   "metadata": {},
   "outputs": [],
   "source": [
    "tables_by_shape_list = pd.read_html('http://www.nuforc.org/webreports/ndxshape.html')"
   ]
  },
  {
   "cell_type": "markdown",
   "id": "38386896",
   "metadata": {},
   "source": [
    "Subsequent code is similar to reading by date. The data reading to dataframe takes **<ins>about 20 minutes</ins>** and is not always stable. The data reading to file takes about **4 minutes**."
   ]
  },
  {
   "cell_type": "code",
   "execution_count": null,
   "id": "f00bd072",
   "metadata": {},
   "outputs": [],
   "source": [
    "if not os.path.exists('by_shape'):\n",
    "        os.mkdir('by_shape')\n",
    "\n",
    "for shape_name in tables_by_shape_list[0].Reports:\n",
    "    if shape_name == 'Unspecified':\n",
    "        url = 'http://www.nuforc.org/webreports/ndxs.html'\n",
    "        file = 'by_shape/unspecified.html'\n",
    "    else:\n",
    "        url = f'http://www.nuforc.org/webreports/ndxs{shape_name}.html'\n",
    "        file = 'by_shape/' + shape_name + '.html'\n",
    "    \n",
    "    if not os.path.isfile(file):\n",
    "        r = requests.get(url, allow_redirects=True)\n",
    "        open(file, 'wb').write(r.content)\n",
    "        # optional text output to monitor the process\n",
    "        print(file)"
   ]
  },
  {
   "cell_type": "code",
   "execution_count": null,
   "id": "768a6118",
   "metadata": {},
   "outputs": [],
   "source": [
    "ufo_by_shape = []\n",
    "\n",
    "for shape_name in tables_by_shape_list[0].Reports:\n",
    "    if shape_name == 'Unspecified':\n",
    "        temp_df = pd.read_html(f'http://www.nuforc.org/webreports/ndxs.html')[0]\n",
    "    else:\n",
    "        temp_df = pd.read_html(f'http://www.nuforc.org/webreports/ndxs{shape_name}.html')[0]\n",
    "    ufo_by_shape.append(temp_df)\n",
    "    # optional text output to monitor the process\n",
    "    #print(f'{shape_name} done!')\n",
    "\n",
    "ufo_raw_shape = pd.concat(ufo_by_shape)"
   ]
  },
  {
   "cell_type": "code",
   "execution_count": null,
   "id": "d9e2e0b0",
   "metadata": {},
   "outputs": [],
   "source": [
    "ufo_raw_shape.to_csv(\"ufo_raw_shape.csv\")"
   ]
  },
  {
   "cell_type": "markdown",
   "id": "620ba8b4",
   "metadata": {},
   "source": [
    "### Reading information about the states (USA and Canada)"
   ]
  },
  {
   "cell_type": "markdown",
   "id": "972b6176",
   "metadata": {},
   "source": [
    "Taking information from wikipedia: [USA](https://en.wikipedia.org/wiki/List_of_states_and_territories_of_the_United_States) and [Canada](https://en.wikipedia.org/wiki/Provinces_and_territories_of_Canada')\n",
    "\n",
    "We will need the states population and area (total and land ones) for further analysis."
   ]
  },
  {
   "cell_type": "code",
   "execution_count": 2,
   "id": "8e9b3646",
   "metadata": {},
   "outputs": [],
   "source": [
    "USA_wiki = 'https://en.wikipedia.org/wiki/List_of_states_and_territories_of_the_United_States'\n",
    "\n",
    "tables_states_list = pd.read_html(USA_wiki)"
   ]
  },
  {
   "cell_type": "markdown",
   "id": "9c3cdb61",
   "metadata": {},
   "source": [
    "The first table about the USA states"
   ]
  },
  {
   "cell_type": "code",
   "execution_count": 22,
   "id": "02f1a92a",
   "metadata": {},
   "outputs": [
    {
     "data": {
      "text/html": [
       "<div>\n",
       "<style scoped>\n",
       "    .dataframe tbody tr th:only-of-type {\n",
       "        vertical-align: middle;\n",
       "    }\n",
       "\n",
       "    .dataframe tbody tr th {\n",
       "        vertical-align: top;\n",
       "    }\n",
       "\n",
       "    .dataframe thead tr th {\n",
       "        text-align: left;\n",
       "    }\n",
       "</style>\n",
       "<table border=\"1\" class=\"dataframe\">\n",
       "  <thead>\n",
       "    <tr>\n",
       "      <th></th>\n",
       "      <th colspan=\"2\" halign=\"left\">Flag, name andpostal abbreviation[12]</th>\n",
       "      <th colspan=\"2\" halign=\"left\">Cities</th>\n",
       "      <th>Ratification oradmission[C]</th>\n",
       "      <th>Population[14]</th>\n",
       "      <th colspan=\"2\" halign=\"left\">Total area[15]</th>\n",
       "      <th colspan=\"2\" halign=\"left\">Land area[15]</th>\n",
       "      <th colspan=\"2\" halign=\"left\">Water area[15]</th>\n",
       "      <th>Numberof Reps.</th>\n",
       "    </tr>\n",
       "    <tr>\n",
       "      <th></th>\n",
       "      <th>Flag, name andpostal abbreviation[12]</th>\n",
       "      <th>Flag, name andpostal abbreviation[12].1</th>\n",
       "      <th>Capital</th>\n",
       "      <th>Largest[16]</th>\n",
       "      <th>Ratification oradmission[C]</th>\n",
       "      <th>Population[14]</th>\n",
       "      <th>mi2</th>\n",
       "      <th>km2</th>\n",
       "      <th>mi2</th>\n",
       "      <th>km2</th>\n",
       "      <th>mi2</th>\n",
       "      <th>km2</th>\n",
       "      <th>Numberof Reps.</th>\n",
       "    </tr>\n",
       "  </thead>\n",
       "  <tbody>\n",
       "    <tr>\n",
       "      <th>0</th>\n",
       "      <td>Alabama</td>\n",
       "      <td>AL</td>\n",
       "      <td>Montgomery</td>\n",
       "      <td>Birmingham</td>\n",
       "      <td>Dec 14, 1819</td>\n",
       "      <td>5024279</td>\n",
       "      <td>52420</td>\n",
       "      <td>135767</td>\n",
       "      <td>50645</td>\n",
       "      <td>131171</td>\n",
       "      <td>1775</td>\n",
       "      <td>4597</td>\n",
       "      <td>7</td>\n",
       "    </tr>\n",
       "  </tbody>\n",
       "</table>\n",
       "</div>"
      ],
      "text/plain": [
       "  Flag, name andpostal abbreviation[12]  \\\n",
       "  Flag, name andpostal abbreviation[12]   \n",
       "0                               Alabama   \n",
       "\n",
       "                                               Cities              \\\n",
       "  Flag, name andpostal abbreviation[12].1     Capital Largest[16]   \n",
       "0                                      AL  Montgomery  Birmingham   \n",
       "\n",
       "  Ratification oradmission[C] Population[14] Total area[15]          \\\n",
       "  Ratification oradmission[C] Population[14]            mi2     km2   \n",
       "0                Dec 14, 1819        5024279          52420  135767   \n",
       "\n",
       "  Land area[15]         Water area[15]       Numberof Reps.  \n",
       "            mi2     km2            mi2   km2 Numberof Reps.  \n",
       "0         50645  131171           1775  4597              7  "
      ]
     },
     "execution_count": 22,
     "metadata": {},
     "output_type": "execute_result"
    }
   ],
   "source": [
    "states = tables_states_list[0]\n",
    "states.head(1)"
   ]
  },
  {
   "cell_type": "code",
   "execution_count": 23,
   "id": "51edbb71",
   "metadata": {},
   "outputs": [],
   "source": [
    "%%capture\n",
    "\n",
    "# Leaving area in km^2\n",
    "states = states.iloc[:, [0, 1, 5, 7, 9]]\n",
    "states.columns = ['Name', 'Abbreviation', 'Population', 'Total_area', 'Land_area']\n",
    "\n",
    "# Removing a note mark in the names\n",
    "states.Name = states.Name.str.replace('[D]', '', regex=False)\n",
    "\n",
    "states.Population = states.Population.astype('int64')"
   ]
  },
  {
   "cell_type": "markdown",
   "id": "62e5340c",
   "metadata": {},
   "source": [
    "For further merging, the `Population`, `Total_area`, and `Land_area` should be numeric."
   ]
  },
  {
   "cell_type": "code",
   "execution_count": 24,
   "id": "62a95484",
   "metadata": {},
   "outputs": [
    {
     "data": {
      "text/plain": [
       "Name            object\n",
       "Abbreviation    object\n",
       "Population       int64\n",
       "Total_area       int64\n",
       "Land_area        int64\n",
       "dtype: object"
      ]
     },
     "execution_count": 24,
     "metadata": {},
     "output_type": "execute_result"
    }
   ],
   "source": [
    "states.dtypes"
   ]
  },
  {
   "cell_type": "markdown",
   "id": "7cf83939",
   "metadata": {},
   "source": [
    "Adding information of District of Columbia"
   ]
  },
  {
   "cell_type": "code",
   "execution_count": 25,
   "id": "ded670ad",
   "metadata": {},
   "outputs": [
    {
     "data": {
      "text/html": [
       "<div>\n",
       "<style scoped>\n",
       "    .dataframe tbody tr th:only-of-type {\n",
       "        vertical-align: middle;\n",
       "    }\n",
       "\n",
       "    .dataframe tbody tr th {\n",
       "        vertical-align: top;\n",
       "    }\n",
       "\n",
       "    .dataframe thead tr th {\n",
       "        text-align: left;\n",
       "    }\n",
       "</style>\n",
       "<table border=\"1\" class=\"dataframe\">\n",
       "  <thead>\n",
       "    <tr>\n",
       "      <th></th>\n",
       "      <th colspan=\"2\" halign=\"left\">Name andpostal abbreviation[12]</th>\n",
       "      <th>Established</th>\n",
       "      <th>Population[14]</th>\n",
       "      <th colspan=\"2\" halign=\"left\">Total area[15]</th>\n",
       "      <th colspan=\"2\" halign=\"left\">Land area[15]</th>\n",
       "      <th colspan=\"2\" halign=\"left\">Water area[15]</th>\n",
       "      <th>Numberof Reps.</th>\n",
       "    </tr>\n",
       "    <tr>\n",
       "      <th></th>\n",
       "      <th>Name andpostal abbreviation[12]</th>\n",
       "      <th>Name andpostal abbreviation[12].1</th>\n",
       "      <th>Established</th>\n",
       "      <th>Population[14]</th>\n",
       "      <th>mi2</th>\n",
       "      <th>km2</th>\n",
       "      <th>mi2</th>\n",
       "      <th>km2</th>\n",
       "      <th>mi2</th>\n",
       "      <th>km2</th>\n",
       "      <th>Numberof Reps.</th>\n",
       "    </tr>\n",
       "  </thead>\n",
       "  <tbody>\n",
       "    <tr>\n",
       "      <th>0</th>\n",
       "      <td>District of Columbia</td>\n",
       "      <td>DC</td>\n",
       "      <td>Jul 16, 1790[17]</td>\n",
       "      <td>689545</td>\n",
       "      <td>68</td>\n",
       "      <td>176</td>\n",
       "      <td>61</td>\n",
       "      <td>158</td>\n",
       "      <td>7</td>\n",
       "      <td>18</td>\n",
       "      <td>1[E]</td>\n",
       "    </tr>\n",
       "  </tbody>\n",
       "</table>\n",
       "</div>"
      ],
      "text/plain": [
       "  Name andpostal abbreviation[12]                                    \\\n",
       "  Name andpostal abbreviation[12] Name andpostal abbreviation[12].1   \n",
       "0            District of Columbia                                DC   \n",
       "\n",
       "        Established Population[14] Total area[15]      Land area[15]       \\\n",
       "        Established Population[14]            mi2  km2           mi2  km2   \n",
       "0  Jul 16, 1790[17]         689545             68  176            61  158   \n",
       "\n",
       "  Water area[15]     Numberof Reps.  \n",
       "             mi2 km2 Numberof Reps.  \n",
       "0              7  18           1[E]  "
      ]
     },
     "execution_count": 25,
     "metadata": {},
     "output_type": "execute_result"
    }
   ],
   "source": [
    "DC = tables_states_list[1]\n",
    "\n",
    "DC"
   ]
  },
  {
   "cell_type": "code",
   "execution_count": 26,
   "id": "c06ebf79",
   "metadata": {},
   "outputs": [],
   "source": [
    "# Information about District of Columbia\n",
    "\n",
    "DC = DC.iloc[:, [0, 1, 3, 4, 6]]\n",
    "DC.columns = ['Name', 'Abbreviation', 'Population', 'Total_area', 'Land_area']"
   ]
  },
  {
   "cell_type": "code",
   "execution_count": 27,
   "id": "1054f201",
   "metadata": {},
   "outputs": [
    {
     "data": {
      "text/plain": [
       "Name            object\n",
       "Abbreviation    object\n",
       "Population       int64\n",
       "Total_area       int64\n",
       "Land_area        int64\n",
       "dtype: object"
      ]
     },
     "execution_count": 27,
     "metadata": {},
     "output_type": "execute_result"
    }
   ],
   "source": [
    "DC.dtypes"
   ]
  },
  {
   "cell_type": "code",
   "execution_count": 28,
   "id": "c542265a",
   "metadata": {},
   "outputs": [],
   "source": [
    "states = pd.merge(states, DC, how='outer')"
   ]
  },
  {
   "cell_type": "markdown",
   "id": "f06f5e17",
   "metadata": {},
   "source": [
    "Adding information about USA territories"
   ]
  },
  {
   "cell_type": "code",
   "execution_count": 29,
   "id": "822367d9",
   "metadata": {},
   "outputs": [
    {
     "data": {
      "text/html": [
       "<div>\n",
       "<style scoped>\n",
       "    .dataframe tbody tr th:only-of-type {\n",
       "        vertical-align: middle;\n",
       "    }\n",
       "\n",
       "    .dataframe tbody tr th {\n",
       "        vertical-align: top;\n",
       "    }\n",
       "\n",
       "    .dataframe thead tr th {\n",
       "        text-align: left;\n",
       "    }\n",
       "</style>\n",
       "<table border=\"1\" class=\"dataframe\">\n",
       "  <thead>\n",
       "    <tr>\n",
       "      <th></th>\n",
       "      <th colspan=\"2\" halign=\"left\">Name andpostal abbreviation[12]</th>\n",
       "      <th>Capital</th>\n",
       "      <th>Acquired[19]</th>\n",
       "      <th>Territorial status[20]</th>\n",
       "      <th>Population[F]</th>\n",
       "      <th colspan=\"2\" halign=\"left\">Total area[15]</th>\n",
       "      <th colspan=\"2\" halign=\"left\">Land area[15]</th>\n",
       "      <th colspan=\"2\" halign=\"left\">Water area[15]</th>\n",
       "      <th>Numberof Reps.</th>\n",
       "    </tr>\n",
       "    <tr>\n",
       "      <th></th>\n",
       "      <th>Name andpostal abbreviation[12]</th>\n",
       "      <th>Name andpostal abbreviation[12].1</th>\n",
       "      <th>Capital</th>\n",
       "      <th>Acquired[19]</th>\n",
       "      <th>Territorial status[20]</th>\n",
       "      <th>Population[F]</th>\n",
       "      <th>mi2</th>\n",
       "      <th>km2</th>\n",
       "      <th>mi2</th>\n",
       "      <th>km2</th>\n",
       "      <th>mi2</th>\n",
       "      <th>km2</th>\n",
       "      <th>Numberof Reps.</th>\n",
       "    </tr>\n",
       "  </thead>\n",
       "  <tbody>\n",
       "    <tr>\n",
       "      <th>0</th>\n",
       "      <td>American Samoa</td>\n",
       "      <td>AS</td>\n",
       "      <td>Pago Pago[21]</td>\n",
       "      <td>1900</td>\n",
       "      <td>Unincorporated, unorganized[G]</td>\n",
       "      <td>57,400[22]</td>\n",
       "      <td>581</td>\n",
       "      <td>1505</td>\n",
       "      <td>76</td>\n",
       "      <td>198</td>\n",
       "      <td>505</td>\n",
       "      <td>1307</td>\n",
       "      <td>1[E]</td>\n",
       "    </tr>\n",
       "  </tbody>\n",
       "</table>\n",
       "</div>"
      ],
      "text/plain": [
       "  Name andpostal abbreviation[12]                                    \\\n",
       "  Name andpostal abbreviation[12] Name andpostal abbreviation[12].1   \n",
       "0                  American Samoa                                AS   \n",
       "\n",
       "         Capital Acquired[19]          Territorial status[20] Population[F]  \\\n",
       "         Capital Acquired[19]          Territorial status[20] Population[F]   \n",
       "0  Pago Pago[21]         1900  Unincorporated, unorganized[G]    57,400[22]   \n",
       "\n",
       "  Total area[15]       Land area[15]      Water area[15]       Numberof Reps.  \n",
       "             mi2   km2           mi2  km2            mi2   km2 Numberof Reps.  \n",
       "0            581  1505            76  198            505  1307           1[E]  "
      ]
     },
     "execution_count": 29,
     "metadata": {},
     "output_type": "execute_result"
    }
   ],
   "source": [
    "territories = tables_states_list[2]\n",
    "territories.head(1)"
   ]
  },
  {
   "cell_type": "code",
   "execution_count": 30,
   "id": "ca207196",
   "metadata": {},
   "outputs": [],
   "source": [
    "%%capture\n",
    "\n",
    "territories = territories.iloc[:, [0, 1, 5, 7, 9]]\n",
    "territories.columns = ['Name', 'Abbreviation', 'Population', 'Total_area', 'Land_area']\n",
    "\n",
    "# Removing coomments and useless commas\n",
    "territories.Population = territories.Population\\\n",
    "        .astype('str')\\\n",
    "        .str.replace('\\[..\\]', '', regex=True)\\\n",
    "        .str.replace(',', '', regex=False)\\\n",
    "        .astype('int64')"
   ]
  },
  {
   "cell_type": "code",
   "execution_count": 31,
   "id": "75d26804",
   "metadata": {},
   "outputs": [
    {
     "data": {
      "text/plain": [
       "Name            object\n",
       "Abbreviation    object\n",
       "Population       int64\n",
       "Total_area       int64\n",
       "Land_area        int64\n",
       "dtype: object"
      ]
     },
     "execution_count": 31,
     "metadata": {},
     "output_type": "execute_result"
    }
   ],
   "source": [
    "territories.dtypes"
   ]
  },
  {
   "cell_type": "code",
   "execution_count": 32,
   "id": "8180a5fe",
   "metadata": {},
   "outputs": [],
   "source": [
    "states = pd.merge(states, territories, how='outer')"
   ]
  },
  {
   "cell_type": "markdown",
   "id": "4c0dd035",
   "metadata": {},
   "source": [
    "Adding information about Canada states"
   ]
  },
  {
   "cell_type": "code",
   "execution_count": 33,
   "id": "16f1724f",
   "metadata": {},
   "outputs": [],
   "source": [
    "# States of Canada\n",
    "\n",
    "canada = pd.read_html('https://en.wikipedia.org/wiki/Provinces_and_territories_of_Canada')[1]\n",
    "canada = canada.iloc[:-1, [0, 1, 6, 7, 8]]\n",
    "canada.columns = ['Name', 'Abbreviation', 'Population', 'Total_area', 'Land_area']\n",
    "canada.Name = canada.Name.str.replace('[b]', '', regex=False)"
   ]
  },
  {
   "cell_type": "code",
   "execution_count": 34,
   "id": "78882e67",
   "metadata": {},
   "outputs": [],
   "source": [
    "states = pd.merge(states, canada, how='outer')"
   ]
  },
  {
   "cell_type": "markdown",
   "id": "776be8dd",
   "metadata": {},
   "source": [
    "Adding information about Canada territories"
   ]
  },
  {
   "cell_type": "code",
   "execution_count": 35,
   "id": "e77688ba",
   "metadata": {},
   "outputs": [],
   "source": [
    "# Territories of Canada\n",
    "\n",
    "canada_territories = pd.read_html('https://en.wikipedia.org/wiki/Provinces_and_territories_of_Canada')[2]\n",
    "canada_territories = canada_territories.iloc[:-1, [0, 1, 6, 7, 8]]\n",
    "canada_territories.columns = ['Name', 'Abbreviation', 'Population', 'Total_area', 'Land_area']"
   ]
  },
  {
   "cell_type": "code",
   "execution_count": 36,
   "id": "fcd23dba",
   "metadata": {},
   "outputs": [],
   "source": [
    "states = pd.merge(states, canada_territories, how='outer')"
   ]
  },
  {
   "cell_type": "code",
   "execution_count": 37,
   "id": "f8fa7b13",
   "metadata": {},
   "outputs": [
    {
     "data": {
      "text/html": [
       "<div>\n",
       "<style scoped>\n",
       "    .dataframe tbody tr th:only-of-type {\n",
       "        vertical-align: middle;\n",
       "    }\n",
       "\n",
       "    .dataframe tbody tr th {\n",
       "        vertical-align: top;\n",
       "    }\n",
       "\n",
       "    .dataframe thead th {\n",
       "        text-align: right;\n",
       "    }\n",
       "</style>\n",
       "<table border=\"1\" class=\"dataframe\">\n",
       "  <thead>\n",
       "    <tr style=\"text-align: right;\">\n",
       "      <th></th>\n",
       "      <th>Name</th>\n",
       "      <th>Abbreviation</th>\n",
       "      <th>Population</th>\n",
       "      <th>Total_area</th>\n",
       "      <th>Land_area</th>\n",
       "    </tr>\n",
       "  </thead>\n",
       "  <tbody>\n",
       "    <tr>\n",
       "      <th>0</th>\n",
       "      <td>Alabama</td>\n",
       "      <td>AL</td>\n",
       "      <td>5024279</td>\n",
       "      <td>135767</td>\n",
       "      <td>131171</td>\n",
       "    </tr>\n",
       "    <tr>\n",
       "      <th>1</th>\n",
       "      <td>Alaska</td>\n",
       "      <td>AK</td>\n",
       "      <td>733391</td>\n",
       "      <td>1723337</td>\n",
       "      <td>1477953</td>\n",
       "    </tr>\n",
       "    <tr>\n",
       "      <th>2</th>\n",
       "      <td>Arizona</td>\n",
       "      <td>AZ</td>\n",
       "      <td>7151502</td>\n",
       "      <td>295234</td>\n",
       "      <td>294207</td>\n",
       "    </tr>\n",
       "    <tr>\n",
       "      <th>3</th>\n",
       "      <td>Arkansas</td>\n",
       "      <td>AR</td>\n",
       "      <td>3011524</td>\n",
       "      <td>137732</td>\n",
       "      <td>134771</td>\n",
       "    </tr>\n",
       "    <tr>\n",
       "      <th>4</th>\n",
       "      <td>California</td>\n",
       "      <td>CA</td>\n",
       "      <td>39538223</td>\n",
       "      <td>423967</td>\n",
       "      <td>403466</td>\n",
       "    </tr>\n",
       "    <tr>\n",
       "      <th>...</th>\n",
       "      <td>...</td>\n",
       "      <td>...</td>\n",
       "      <td>...</td>\n",
       "      <td>...</td>\n",
       "      <td>...</td>\n",
       "    </tr>\n",
       "    <tr>\n",
       "      <th>64</th>\n",
       "      <td>Alberta</td>\n",
       "      <td>AB</td>\n",
       "      <td>4444277</td>\n",
       "      <td>642317</td>\n",
       "      <td>19531</td>\n",
       "    </tr>\n",
       "    <tr>\n",
       "      <th>65</th>\n",
       "      <td>Newfoundland and Labrador</td>\n",
       "      <td>NL</td>\n",
       "      <td>520286</td>\n",
       "      <td>373872</td>\n",
       "      <td>31340</td>\n",
       "    </tr>\n",
       "    <tr>\n",
       "      <th>66</th>\n",
       "      <td>Northwest Territories</td>\n",
       "      <td>NT</td>\n",
       "      <td>44991</td>\n",
       "      <td>1183085</td>\n",
       "      <td>163021</td>\n",
       "    </tr>\n",
       "    <tr>\n",
       "      <th>67</th>\n",
       "      <td>Yukon</td>\n",
       "      <td>YT</td>\n",
       "      <td>42596</td>\n",
       "      <td>474391</td>\n",
       "      <td>8052</td>\n",
       "    </tr>\n",
       "    <tr>\n",
       "      <th>68</th>\n",
       "      <td>Nunavut</td>\n",
       "      <td>NU</td>\n",
       "      <td>39536</td>\n",
       "      <td>1936113</td>\n",
       "      <td>157077</td>\n",
       "    </tr>\n",
       "  </tbody>\n",
       "</table>\n",
       "<p>69 rows × 5 columns</p>\n",
       "</div>"
      ],
      "text/plain": [
       "                         Name Abbreviation  Population  Total_area  Land_area\n",
       "0                     Alabama           AL     5024279      135767     131171\n",
       "1                      Alaska           AK      733391     1723337    1477953\n",
       "2                     Arizona           AZ     7151502      295234     294207\n",
       "3                    Arkansas           AR     3011524      137732     134771\n",
       "4                  California           CA    39538223      423967     403466\n",
       "..                        ...          ...         ...         ...        ...\n",
       "64                    Alberta           AB     4444277      642317      19531\n",
       "65  Newfoundland and Labrador           NL      520286      373872      31340\n",
       "66      Northwest Territories           NT       44991     1183085     163021\n",
       "67                      Yukon           YT       42596      474391       8052\n",
       "68                    Nunavut           NU       39536     1936113     157077\n",
       "\n",
       "[69 rows x 5 columns]"
      ]
     },
     "execution_count": 37,
     "metadata": {},
     "output_type": "execute_result"
    }
   ],
   "source": [
    "states"
   ]
  },
  {
   "cell_type": "code",
   "execution_count": 38,
   "id": "dd2d8768",
   "metadata": {},
   "outputs": [],
   "source": [
    "states.to_csv('states.csv')"
   ]
  },
  {
   "cell_type": "markdown",
   "id": "ccd6261b",
   "metadata": {},
   "source": [
    "# <span style=\"color:blue\">Data reading from local files</span>"
   ]
  },
  {
   "cell_type": "code",
   "execution_count": 39,
   "id": "9d5917e0",
   "metadata": {},
   "outputs": [],
   "source": [
    "ufo_by_date = pd.read_csv('ufo_raw_date.csv', index_col=0)"
   ]
  },
  {
   "cell_type": "code",
   "execution_count": 40,
   "id": "baec93ca",
   "metadata": {},
   "outputs": [],
   "source": [
    "ufo_by_shape = pd.read_csv('ufo_raw_shape.csv', index_col=0)"
   ]
  },
  {
   "cell_type": "code",
   "execution_count": 41,
   "id": "40abd12f",
   "metadata": {},
   "outputs": [],
   "source": [
    "states = pd.read_csv('states.csv', index_col=0)"
   ]
  },
  {
   "cell_type": "markdown",
   "id": "21a7864b",
   "metadata": {},
   "source": [
    "# <span style=\"color:blue\">Data cleaning</span>"
   ]
  },
  {
   "cell_type": "markdown",
   "id": "85c430b3",
   "metadata": {},
   "source": [
    "Number of rows of the dataframes imported from tables arranged by UFO shape and by observation date is the same. Additional column in `ufo_by_date` is the manually introduced `Date_label` column."
   ]
  },
  {
   "cell_type": "code",
   "execution_count": 42,
   "id": "755e37ad",
   "metadata": {},
   "outputs": [
    {
     "data": {
      "text/plain": [
       "((134841, 8), (134841, 7))"
      ]
     },
     "execution_count": 42,
     "metadata": {},
     "output_type": "execute_result"
    }
   ],
   "source": [
    "ufo_by_date.shape, ufo_by_shape.shape"
   ]
  },
  {
   "cell_type": "markdown",
   "id": "b1db9017",
   "metadata": {},
   "source": [
    "Datasets collected by shape and by date are identical (result of the first merge is empty), but there are a few duplicates (result of the second merge is longer than the initial dataframe)."
   ]
  },
  {
   "cell_type": "code",
   "execution_count": 43,
   "id": "3734bc88",
   "metadata": {},
   "outputs": [
    {
     "data": {
      "text/plain": [
       "(0, 9)"
      ]
     },
     "execution_count": 43,
     "metadata": {},
     "output_type": "execute_result"
    }
   ],
   "source": [
    "pd.merge(left=ufo_by_date, right=ufo_by_shape, how='outer', indicator=True)\\\n",
    "    .query('_merge != \"both\"').shape"
   ]
  },
  {
   "cell_type": "code",
   "execution_count": 44,
   "id": "4c369fd7",
   "metadata": {},
   "outputs": [
    {
     "data": {
      "text/plain": [
       "(134847, 9)"
      ]
     },
     "execution_count": 44,
     "metadata": {},
     "output_type": "execute_result"
    }
   ],
   "source": [
    "pd.merge(left=ufo_by_date, right=ufo_by_shape, how='outer', indicator=True)\\\n",
    "    .query('_merge == \"both\"').shape"
   ]
  },
  {
   "cell_type": "markdown",
   "id": "6f959957",
   "metadata": {},
   "source": [
    "We will further work with `ufo_raw_date` to keep \"manual\" date labels."
   ]
  },
  {
   "cell_type": "code",
   "execution_count": 45,
   "id": "a00d5e3c",
   "metadata": {},
   "outputs": [],
   "source": [
    "# making a copy to preserve source data\n",
    "ufo = ufo_by_date.copy()"
   ]
  },
  {
   "cell_type": "code",
   "execution_count": 46,
   "id": "397065b3",
   "metadata": {},
   "outputs": [
    {
     "data": {
      "text/html": [
       "<div>\n",
       "<style scoped>\n",
       "    .dataframe tbody tr th:only-of-type {\n",
       "        vertical-align: middle;\n",
       "    }\n",
       "\n",
       "    .dataframe tbody tr th {\n",
       "        vertical-align: top;\n",
       "    }\n",
       "\n",
       "    .dataframe thead th {\n",
       "        text-align: right;\n",
       "    }\n",
       "</style>\n",
       "<table border=\"1\" class=\"dataframe\">\n",
       "  <thead>\n",
       "    <tr style=\"text-align: right;\">\n",
       "      <th></th>\n",
       "      <th>Date / Time</th>\n",
       "      <th>City</th>\n",
       "      <th>State</th>\n",
       "      <th>Shape</th>\n",
       "      <th>Duration</th>\n",
       "      <th>Summary</th>\n",
       "      <th>Posted</th>\n",
       "      <th>Date_label</th>\n",
       "    </tr>\n",
       "  </thead>\n",
       "  <tbody>\n",
       "    <tr>\n",
       "      <th>0</th>\n",
       "      <td>7/7/21 01:23</td>\n",
       "      <td>Moscow</td>\n",
       "      <td>ID</td>\n",
       "      <td>Light</td>\n",
       "      <td>30 min</td>\n",
       "      <td>Object moving across sky west to east that was...</td>\n",
       "      <td>7/31/21</td>\n",
       "      <td>07/2021</td>\n",
       "    </tr>\n",
       "    <tr>\n",
       "      <th>1</th>\n",
       "      <td>6/23/21 20:00</td>\n",
       "      <td>Medina</td>\n",
       "      <td>TN</td>\n",
       "      <td>Unknown</td>\n",
       "      <td>15 seconds</td>\n",
       "      <td>Unknown bright object disappears in a cloudles...</td>\n",
       "      <td>7/31/21</td>\n",
       "      <td>06/2021</td>\n",
       "    </tr>\n",
       "    <tr>\n",
       "      <th>2</th>\n",
       "      <td>6/22/21 01:00</td>\n",
       "      <td>Senji (India)</td>\n",
       "      <td>NaN</td>\n",
       "      <td>Flash</td>\n",
       "      <td>15 seconds</td>\n",
       "      <td>I have that ufo video video as recorded 43 sec...</td>\n",
       "      <td>7/31/21</td>\n",
       "      <td>06/2021</td>\n",
       "    </tr>\n",
       "    <tr>\n",
       "      <th>3</th>\n",
       "      <td>6/21/21 19:30</td>\n",
       "      <td>York City (Brooklyn)</td>\n",
       "      <td>NY</td>\n",
       "      <td>Circle</td>\n",
       "      <td>5 min6</td>\n",
       "      <td>A round white object (sphere) zoomed quickly i...</td>\n",
       "      <td>7/31/21</td>\n",
       "      <td>06/2021</td>\n",
       "    </tr>\n",
       "    <tr>\n",
       "      <th>4</th>\n",
       "      <td>6/21/21 14:45</td>\n",
       "      <td>San Jose</td>\n",
       "      <td>CA</td>\n",
       "      <td>Cylinder</td>\n",
       "      <td>10 Seconds</td>\n",
       "      <td>Capsule/Cylinder shaped object.</td>\n",
       "      <td>7/31/21</td>\n",
       "      <td>06/2021</td>\n",
       "    </tr>\n",
       "    <tr>\n",
       "      <th>...</th>\n",
       "      <td>...</td>\n",
       "      <td>...</td>\n",
       "      <td>...</td>\n",
       "      <td>...</td>\n",
       "      <td>...</td>\n",
       "      <td>...</td>\n",
       "      <td>...</td>\n",
       "      <td>...</td>\n",
       "    </tr>\n",
       "    <tr>\n",
       "      <th>134836</th>\n",
       "      <td>09?/?/1975</td>\n",
       "      <td>Oscoda</td>\n",
       "      <td>MI</td>\n",
       "      <td>Unknown</td>\n",
       "      <td>2-3 min</td>\n",
       "      <td>Funny flashing lights that hovered then just d...</td>\n",
       "      <td>6/6/00</td>\n",
       "      <td>UNSPECIFIED / APPROXIMATE</td>\n",
       "    </tr>\n",
       "    <tr>\n",
       "      <th>134837</th>\n",
       "      <td>NaN</td>\n",
       "      <td>Santa Maria</td>\n",
       "      <td>CA</td>\n",
       "      <td>Circle</td>\n",
       "      <td>19:00</td>\n",
       "      <td>Watching Sunday or Monday night football went ...</td>\n",
       "      <td>1/31/20</td>\n",
       "      <td>UNSPECIFIED / APPROXIMATE</td>\n",
       "    </tr>\n",
       "    <tr>\n",
       "      <th>134838</th>\n",
       "      <td>NaN</td>\n",
       "      <td>Rule</td>\n",
       "      <td>TX</td>\n",
       "      <td>Unknown</td>\n",
       "      <td>15 minutes</td>\n",
       "      <td>Unusual sounds and starlight distortion defini...</td>\n",
       "      <td>8/19/12</td>\n",
       "      <td>UNSPECIFIED / APPROXIMATE</td>\n",
       "    </tr>\n",
       "    <tr>\n",
       "      <th>134839</th>\n",
       "      <td>NaN</td>\n",
       "      <td>Graham</td>\n",
       "      <td>WA</td>\n",
       "      <td>Disk</td>\n",
       "      <td>2 minutes</td>\n",
       "      <td>Driving west on 224th looked right saw large c...</td>\n",
       "      <td>6/4/14</td>\n",
       "      <td>UNSPECIFIED / APPROXIMATE</td>\n",
       "    </tr>\n",
       "    <tr>\n",
       "      <th>134840</th>\n",
       "      <td>NaN</td>\n",
       "      <td>Anchorage</td>\n",
       "      <td>AK</td>\n",
       "      <td>Rectangle</td>\n",
       "      <td>5 mins</td>\n",
       "      <td>Around 2 in the morning went outside on my fro...</td>\n",
       "      <td>5/14/19</td>\n",
       "      <td>UNSPECIFIED / APPROXIMATE</td>\n",
       "    </tr>\n",
       "  </tbody>\n",
       "</table>\n",
       "<p>134841 rows × 8 columns</p>\n",
       "</div>"
      ],
      "text/plain": [
       "          Date / Time                  City State      Shape    Duration  \\\n",
       "0        7/7/21 01:23                Moscow    ID      Light      30 min   \n",
       "1       6/23/21 20:00                Medina    TN    Unknown  15 seconds   \n",
       "2       6/22/21 01:00         Senji (India)   NaN      Flash  15 seconds   \n",
       "3       6/21/21 19:30  York City (Brooklyn)    NY     Circle      5 min6   \n",
       "4       6/21/21 14:45              San Jose    CA   Cylinder  10 Seconds   \n",
       "...               ...                   ...   ...        ...         ...   \n",
       "134836     09?/?/1975                Oscoda    MI    Unknown     2-3 min   \n",
       "134837            NaN           Santa Maria    CA     Circle       19:00   \n",
       "134838            NaN                  Rule    TX    Unknown  15 minutes   \n",
       "134839            NaN                Graham    WA       Disk   2 minutes   \n",
       "134840            NaN             Anchorage    AK  Rectangle      5 mins   \n",
       "\n",
       "                                                  Summary   Posted  \\\n",
       "0       Object moving across sky west to east that was...  7/31/21   \n",
       "1       Unknown bright object disappears in a cloudles...  7/31/21   \n",
       "2       I have that ufo video video as recorded 43 sec...  7/31/21   \n",
       "3       A round white object (sphere) zoomed quickly i...  7/31/21   \n",
       "4                         Capsule/Cylinder shaped object.  7/31/21   \n",
       "...                                                   ...      ...   \n",
       "134836  Funny flashing lights that hovered then just d...   6/6/00   \n",
       "134837  Watching Sunday or Monday night football went ...  1/31/20   \n",
       "134838  Unusual sounds and starlight distortion defini...  8/19/12   \n",
       "134839  Driving west on 224th looked right saw large c...   6/4/14   \n",
       "134840  Around 2 in the morning went outside on my fro...  5/14/19   \n",
       "\n",
       "                       Date_label  \n",
       "0                         07/2021  \n",
       "1                         06/2021  \n",
       "2                         06/2021  \n",
       "3                         06/2021  \n",
       "4                         06/2021  \n",
       "...                           ...  \n",
       "134836  UNSPECIFIED / APPROXIMATE  \n",
       "134837  UNSPECIFIED / APPROXIMATE  \n",
       "134838  UNSPECIFIED / APPROXIMATE  \n",
       "134839  UNSPECIFIED / APPROXIMATE  \n",
       "134840  UNSPECIFIED / APPROXIMATE  \n",
       "\n",
       "[134841 rows x 8 columns]"
      ]
     },
     "execution_count": 46,
     "metadata": {},
     "output_type": "execute_result"
    }
   ],
   "source": [
    "ufo"
   ]
  },
  {
   "cell_type": "code",
   "execution_count": 47,
   "id": "2a85d080",
   "metadata": {},
   "outputs": [
    {
     "data": {
      "text/plain": [
       "Date / Time    object\n",
       "City           object\n",
       "State          object\n",
       "Shape          object\n",
       "Duration       object\n",
       "Summary        object\n",
       "Posted         object\n",
       "Date_label     object\n",
       "dtype: object"
      ]
     },
     "execution_count": 47,
     "metadata": {},
     "output_type": "execute_result"
    }
   ],
   "source": [
    "ufo.dtypes"
   ]
  },
  {
   "cell_type": "markdown",
   "id": "579a8be3",
   "metadata": {},
   "source": [
    "We should consider converting `Date / Time` and `Posted` columns to datetime format.\n",
    "On top of that, the column name with slash and spaces is not convenient."
   ]
  },
  {
   "cell_type": "code",
   "execution_count": 48,
   "id": "2044a28f",
   "metadata": {},
   "outputs": [],
   "source": [
    "ufo.rename(columns={'Date / Time': 'Observed'}, inplace=True)"
   ]
  },
  {
   "cell_type": "code",
   "execution_count": 49,
   "id": "240db0fa",
   "metadata": {},
   "outputs": [
    {
     "data": {
      "text/plain": [
       "0.0027"
      ]
     },
     "execution_count": 49,
     "metadata": {},
     "output_type": "execute_result"
    }
   ],
   "source": [
    "round(sum(ufo.Date_label == 'UNSPECIFIED / APPROXIMATE') / ufo.shape[0] , 4)"
   ]
  },
  {
   "cell_type": "markdown",
   "id": "f48ee295",
   "metadata": {},
   "source": [
    "Parsing of poorly formatted dates/times is a complicated issue, but these are less than 0.3% of the observations. Hence, the solution is to remove such rows.\n",
    "\n",
    "Then, we will remove too old observations (say, before 1900). This will resolve the issue of limited range of the `pd.datetime` type; moreover, these observations are not reliable and too scarce to affect the conclusions.\n",
    "\n",
    "Since year is coded by two last digits, we will extract it from the `Date_label` column. A new `Year` column will be created instead of just query because we will then use it to modify the `Observed` values"
   ]
  },
  {
   "cell_type": "code",
   "execution_count": 51,
   "id": "92f69731",
   "metadata": {
    "scrolled": true
   },
   "outputs": [],
   "source": [
    "%%capture\n",
    "\n",
    "ufo = ufo.query('Date_label != \"UNSPECIFIED / APPROXIMATE\"')\n",
    "\n",
    "ufo['Year'] = ufo.Date_label.apply(lambda x: int(x[-4:]))\n",
    "\n",
    "ufo = ufo.query(\"Year >= 1900\")"
   ]
  },
  {
   "cell_type": "markdown",
   "id": "ecca0c35",
   "metadata": {},
   "source": [
    "Without the following insertion of complete year, '68' would be converted to '2068'"
   ]
  },
  {
   "cell_type": "code",
   "execution_count": 52,
   "id": "2e49d1d5",
   "metadata": {},
   "outputs": [],
   "source": [
    "times = []\n",
    "\n",
    "for row in ufo.itertuples():\n",
    "    date_complete_year = re.sub('/(.. )', '/' + str(row.Year) + ' ', row.Observed)\n",
    "    times.append(date_complete_year)\n",
    "\n",
    "ufo['Observed'] = pd.to_datetime(times, format=\"%m/%d/%Y %H:%M\", errors='coerce')"
   ]
  },
  {
   "cell_type": "markdown",
   "id": "a489db4c",
   "metadata": {},
   "source": [
    "About 1.3% of the dates/times were not complete, even though not marked as 'UNSPECIFIED / APPROXIMATE\"'  \n",
    "\n",
    "An example of such entry is given below (time are missing)"
   ]
  },
  {
   "cell_type": "code",
   "execution_count": 53,
   "id": "36470e32",
   "metadata": {},
   "outputs": [
    {
     "data": {
      "text/plain": [
       "0.013"
      ]
     },
     "execution_count": 53,
     "metadata": {},
     "output_type": "execute_result"
    }
   ],
   "source": [
    "round(ufo.Observed.isnull().sum() / ufo.shape[0], 3)"
   ]
  },
  {
   "cell_type": "code",
   "execution_count": 55,
   "id": "d88284cd",
   "metadata": {},
   "outputs": [
    {
     "data": {
      "text/html": [
       "<div>\n",
       "<style scoped>\n",
       "    .dataframe tbody tr th:only-of-type {\n",
       "        vertical-align: middle;\n",
       "    }\n",
       "\n",
       "    .dataframe tbody tr th {\n",
       "        vertical-align: top;\n",
       "    }\n",
       "\n",
       "    .dataframe thead th {\n",
       "        text-align: right;\n",
       "    }\n",
       "</style>\n",
       "<table border=\"1\" class=\"dataframe\">\n",
       "  <thead>\n",
       "    <tr style=\"text-align: right;\">\n",
       "      <th></th>\n",
       "      <th>as imported</th>\n",
       "      <th>working</th>\n",
       "    </tr>\n",
       "  </thead>\n",
       "  <tbody>\n",
       "    <tr>\n",
       "      <th>City</th>\n",
       "      <td>Meeting Creek (Canada)</td>\n",
       "      <td>Meeting Creek (Canada)</td>\n",
       "    </tr>\n",
       "    <tr>\n",
       "      <th>Date / Time</th>\n",
       "      <td>12/24/14</td>\n",
       "      <td>NaN</td>\n",
       "    </tr>\n",
       "    <tr>\n",
       "      <th>Date_label</th>\n",
       "      <td>12/1914</td>\n",
       "      <td>12/1914</td>\n",
       "    </tr>\n",
       "    <tr>\n",
       "      <th>Duration</th>\n",
       "      <td>NaN</td>\n",
       "      <td>NaN</td>\n",
       "    </tr>\n",
       "    <tr>\n",
       "      <th>Observed</th>\n",
       "      <td>NaN</td>\n",
       "      <td>NaT</td>\n",
       "    </tr>\n",
       "    <tr>\n",
       "      <th>Posted</th>\n",
       "      <td>7/7/17</td>\n",
       "      <td>7/7/17</td>\n",
       "    </tr>\n",
       "    <tr>\n",
       "      <th>Shape</th>\n",
       "      <td>NaN</td>\n",
       "      <td>NaN</td>\n",
       "    </tr>\n",
       "    <tr>\n",
       "      <th>State</th>\n",
       "      <td>SK</td>\n",
       "      <td>SK</td>\n",
       "    </tr>\n",
       "    <tr>\n",
       "      <th>Summary</th>\n",
       "      <td>I initially submitted this several years ago, ...</td>\n",
       "      <td>I initially submitted this several years ago, ...</td>\n",
       "    </tr>\n",
       "    <tr>\n",
       "      <th>Year</th>\n",
       "      <td>NaN</td>\n",
       "      <td>1914</td>\n",
       "    </tr>\n",
       "  </tbody>\n",
       "</table>\n",
       "</div>"
      ],
      "text/plain": [
       "                                                   as imported  \\\n",
       "City                                    Meeting Creek (Canada)   \n",
       "Date / Time                                           12/24/14   \n",
       "Date_label                                             12/1914   \n",
       "Duration                                                   NaN   \n",
       "Observed                                                   NaN   \n",
       "Posted                                                  7/7/17   \n",
       "Shape                                                      NaN   \n",
       "State                                                       SK   \n",
       "Summary      I initially submitted this several years ago, ...   \n",
       "Year                                                       NaN   \n",
       "\n",
       "                                                       working  \n",
       "City                                    Meeting Creek (Canada)  \n",
       "Date / Time                                                NaN  \n",
       "Date_label                                             12/1914  \n",
       "Duration                                                   NaN  \n",
       "Observed                                                   NaT  \n",
       "Posted                                                  7/7/17  \n",
       "Shape                                                      NaN  \n",
       "State                                                       SK  \n",
       "Summary      I initially submitted this several years ago, ...  \n",
       "Year                                                      1914  "
      ]
     },
     "execution_count": 55,
     "metadata": {},
     "output_type": "execute_result"
    }
   ],
   "source": [
    "pd.DataFrame({\n",
    "                'as imported': ufo_by_date.loc[134435, :],\n",
    "                'working': ufo.loc[134435, :]\n",
    "             })"
   ]
  },
  {
   "cell_type": "markdown",
   "id": "ef44b42d",
   "metadata": {},
   "source": [
    "In the case of `Posted` date, conversion to `datetime` is ambiguous anyway, but we will do it (maybe we will not use this column at all)"
   ]
  },
  {
   "cell_type": "code",
   "execution_count": 56,
   "id": "e93ca059",
   "metadata": {},
   "outputs": [],
   "source": [
    "ufo.Posted = pd.to_datetime(ufo.Posted, format=\"%m/%d/%y\", errors='coerce')"
   ]
  },
  {
   "cell_type": "markdown",
   "id": "b3f096f1",
   "metadata": {},
   "source": [
    "We don't need `Date_label` and `Year` columns any more."
   ]
  },
  {
   "cell_type": "code",
   "execution_count": 58,
   "id": "1ee9cb5b",
   "metadata": {},
   "outputs": [],
   "source": [
    "ufo.drop(columns=['Date_label', 'Year'], inplace=True)"
   ]
  },
  {
   "cell_type": "markdown",
   "id": "355a8408",
   "metadata": {},
   "source": [
    "Checking non-null data"
   ]
  },
  {
   "cell_type": "markdown",
   "id": "ab80d1b3",
   "metadata": {},
   "source": [
    "There are 49 totally incomplete observations (null data in `Observed`, `City`, `State`, `Shape`, and `Duration` columns). Since we do not aim at analyzing textual data, these observations will be removed."
   ]
  },
  {
   "cell_type": "code",
   "execution_count": 60,
   "id": "a5f7f26f",
   "metadata": {},
   "outputs": [
    {
     "data": {
      "text/plain": [
       "49"
      ]
     },
     "execution_count": 60,
     "metadata": {},
     "output_type": "execute_result"
    }
   ],
   "source": [
    "ufo[ufo[['Observed', 'City', 'Shape', 'State', 'Duration']].isnull().sum(axis=1) == 5].shape[0]"
   ]
  },
  {
   "cell_type": "code",
   "execution_count": 61,
   "id": "5265c0f8",
   "metadata": {},
   "outputs": [],
   "source": [
    "ufo = ufo[ufo[['Observed', 'City', 'Shape', 'State', 'Duration']].isnull().sum(axis=1) < 5]"
   ]
  },
  {
   "cell_type": "markdown",
   "id": "533b3506",
   "metadata": {},
   "source": [
    "Working with `States` column: we will find the states abbreviations which are not in the `states` dataframe and correct the errors in data input"
   ]
  },
  {
   "cell_type": "code",
   "execution_count": 62,
   "id": "5506e259",
   "metadata": {},
   "outputs": [
    {
     "data": {
      "text/plain": [
       "PQ    102\n",
       "NF     43\n",
       "SA     41\n",
       "YK      6\n",
       "Fl      5\n",
       "QB      1\n",
       "Ca      1\n",
       "M0      1\n",
       "Name: State, dtype: int64"
      ]
     },
     "execution_count": 62,
     "metadata": {},
     "output_type": "execute_result"
    }
   ],
   "source": [
    "ufo.query('State not in @states.Abbreviation.values').query('not State.isnull()').State.value_counts()"
   ]
  },
  {
   "cell_type": "markdown",
   "id": "3cd25c9d",
   "metadata": {},
   "source": [
    "* PQ is another assignment of Quebec (QC)\n",
    "* NF stands for Newfoundland and Labrador (which is NL in `ufo` dataset)\n",
    "* SA is for Sounth Australia (will keep it in the dataframe as is)\n",
    "* YK seems to stand for Yukon (YT)\n",
    "* Fl is misprinted FL (Florida)\n",
    "* QB seems to be Quebec (QC) as well\n",
    "* M0 is misprinted MO\n",
    "* Ca is misprinted CA"
   ]
  },
  {
   "cell_type": "code",
   "execution_count": 63,
   "id": "20b9da69",
   "metadata": {},
   "outputs": [],
   "source": [
    "new_state = {\n",
    "                'State': {'PQ': 'QC',\n",
    "                          'NF': 'NL',\n",
    "                          'SA': np.nan,\n",
    "                          'YK': 'YT',\n",
    "                          'Fl': 'FL',\n",
    "                          'QB': 'QC',\n",
    "                          'M0': 'MO',\n",
    "                          'Ca': 'CA'}\n",
    "            }\n",
    "\n",
    "ufo = ufo.replace(new_state)"
   ]
  },
  {
   "cell_type": "markdown",
   "id": "62132339",
   "metadata": {},
   "source": [
    "Now we will analyze the duplicates"
   ]
  },
  {
   "cell_type": "markdown",
   "id": "e4ca3bb6",
   "metadata": {},
   "source": [
    "4 cases have complete duplicates in the data"
   ]
  },
  {
   "cell_type": "code",
   "execution_count": 65,
   "id": "e0b84925",
   "metadata": {},
   "outputs": [
    {
     "data": {
      "text/html": [
       "<div>\n",
       "<style scoped>\n",
       "    .dataframe tbody tr th:only-of-type {\n",
       "        vertical-align: middle;\n",
       "    }\n",
       "\n",
       "    .dataframe tbody tr th {\n",
       "        vertical-align: top;\n",
       "    }\n",
       "\n",
       "    .dataframe thead th {\n",
       "        text-align: right;\n",
       "    }\n",
       "</style>\n",
       "<table border=\"1\" class=\"dataframe\">\n",
       "  <thead>\n",
       "    <tr style=\"text-align: right;\">\n",
       "      <th></th>\n",
       "      <th>Observed</th>\n",
       "      <th>City</th>\n",
       "      <th>State</th>\n",
       "      <th>Shape</th>\n",
       "      <th>Duration</th>\n",
       "      <th>Summary</th>\n",
       "      <th>Posted</th>\n",
       "    </tr>\n",
       "  </thead>\n",
       "  <tbody>\n",
       "    <tr>\n",
       "      <th>30165</th>\n",
       "      <td>2015-11-15 05:20:00</td>\n",
       "      <td>Reno</td>\n",
       "      <td>NV</td>\n",
       "      <td>Triangle</td>\n",
       "      <td>15 seconds</td>\n",
       "      <td>Black triangle. Only discernible by observing ...</td>\n",
       "      <td>2015-12-10</td>\n",
       "    </tr>\n",
       "    <tr>\n",
       "      <th>30167</th>\n",
       "      <td>2015-11-15 05:20:00</td>\n",
       "      <td>Reno</td>\n",
       "      <td>NV</td>\n",
       "      <td>Triangle</td>\n",
       "      <td>15 seconds</td>\n",
       "      <td>Black triangle. Only discernible by observing ...</td>\n",
       "      <td>2015-12-10</td>\n",
       "    </tr>\n",
       "    <tr>\n",
       "      <th>14406</th>\n",
       "      <td>2019-03-16 20:45:00</td>\n",
       "      <td>Virginia Beach</td>\n",
       "      <td>VA</td>\n",
       "      <td>Circle</td>\n",
       "      <td>5 minutes</td>\n",
       "      <td>Orange orb. ((anonymous report))</td>\n",
       "      <td>2019-03-21</td>\n",
       "    </tr>\n",
       "    <tr>\n",
       "      <th>14407</th>\n",
       "      <td>2019-03-16 20:45:00</td>\n",
       "      <td>Virginia Beach</td>\n",
       "      <td>VA</td>\n",
       "      <td>Circle</td>\n",
       "      <td>5 minutes</td>\n",
       "      <td>Orange orb. ((anonymous report))</td>\n",
       "      <td>2019-03-21</td>\n",
       "    </tr>\n",
       "    <tr>\n",
       "      <th>3200</th>\n",
       "      <td>2020-09-14 06:53:00</td>\n",
       "      <td>Aliquippa</td>\n",
       "      <td>PA</td>\n",
       "      <td>NaN</td>\n",
       "      <td>NaN</td>\n",
       "      <td>MADAR Node 68</td>\n",
       "      <td>2020-11-05</td>\n",
       "    </tr>\n",
       "    <tr>\n",
       "      <th>3201</th>\n",
       "      <td>2020-09-14 06:53:00</td>\n",
       "      <td>Aliquippa</td>\n",
       "      <td>PA</td>\n",
       "      <td>NaN</td>\n",
       "      <td>NaN</td>\n",
       "      <td>MADAR Node 68</td>\n",
       "      <td>2020-11-05</td>\n",
       "    </tr>\n",
       "    <tr>\n",
       "      <th>8538</th>\n",
       "      <td>NaT</td>\n",
       "      <td>Grand Junction</td>\n",
       "      <td>CO</td>\n",
       "      <td>NaN</td>\n",
       "      <td>NaN</td>\n",
       "      <td>MADAR Node 75 A number of anomalies this day</td>\n",
       "      <td>2020-01-31</td>\n",
       "    </tr>\n",
       "    <tr>\n",
       "      <th>8557</th>\n",
       "      <td>NaT</td>\n",
       "      <td>Grand Junction</td>\n",
       "      <td>CO</td>\n",
       "      <td>NaN</td>\n",
       "      <td>NaN</td>\n",
       "      <td>MADAR Node 75 A number of anomalies this day</td>\n",
       "      <td>2020-01-31</td>\n",
       "    </tr>\n",
       "    <tr>\n",
       "      <th>8581</th>\n",
       "      <td>NaT</td>\n",
       "      <td>Grand Junction</td>\n",
       "      <td>CO</td>\n",
       "      <td>NaN</td>\n",
       "      <td>NaN</td>\n",
       "      <td>MADAR Node 75 A number of anomalies this day</td>\n",
       "      <td>2020-01-31</td>\n",
       "    </tr>\n",
       "    <tr>\n",
       "      <th>8601</th>\n",
       "      <td>NaT</td>\n",
       "      <td>Grand Junction</td>\n",
       "      <td>CO</td>\n",
       "      <td>NaN</td>\n",
       "      <td>NaN</td>\n",
       "      <td>MADAR Node 75 A number of anomalies this day</td>\n",
       "      <td>2020-01-31</td>\n",
       "    </tr>\n",
       "  </tbody>\n",
       "</table>\n",
       "</div>"
      ],
      "text/plain": [
       "                 Observed            City State     Shape    Duration  \\\n",
       "30165 2015-11-15 05:20:00            Reno    NV  Triangle  15 seconds   \n",
       "30167 2015-11-15 05:20:00            Reno    NV  Triangle  15 seconds   \n",
       "14406 2019-03-16 20:45:00  Virginia Beach    VA    Circle   5 minutes   \n",
       "14407 2019-03-16 20:45:00  Virginia Beach    VA    Circle   5 minutes   \n",
       "3200  2020-09-14 06:53:00       Aliquippa    PA       NaN         NaN   \n",
       "3201  2020-09-14 06:53:00       Aliquippa    PA       NaN         NaN   \n",
       "8538                  NaT  Grand Junction    CO       NaN         NaN   \n",
       "8557                  NaT  Grand Junction    CO       NaN         NaN   \n",
       "8581                  NaT  Grand Junction    CO       NaN         NaN   \n",
       "8601                  NaT  Grand Junction    CO       NaN         NaN   \n",
       "\n",
       "                                                 Summary     Posted  \n",
       "30165  Black triangle. Only discernible by observing ... 2015-12-10  \n",
       "30167  Black triangle. Only discernible by observing ... 2015-12-10  \n",
       "14406                   Orange orb. ((anonymous report)) 2019-03-21  \n",
       "14407                   Orange orb. ((anonymous report)) 2019-03-21  \n",
       "3200                                       MADAR Node 68 2020-11-05  \n",
       "3201                                       MADAR Node 68 2020-11-05  \n",
       "8538        MADAR Node 75 A number of anomalies this day 2020-01-31  \n",
       "8557        MADAR Node 75 A number of anomalies this day 2020-01-31  \n",
       "8581        MADAR Node 75 A number of anomalies this day 2020-01-31  \n",
       "8601        MADAR Node 75 A number of anomalies this day 2020-01-31  "
      ]
     },
     "execution_count": 65,
     "metadata": {},
     "output_type": "execute_result"
    }
   ],
   "source": [
    "ufo[ufo.duplicated(['Observed', 'City', 'State', 'Shape', 'Duration', 'Summary', 'Posted'], keep=False)]\\\n",
    "    .sort_values(by=['Observed', 'City', 'State', 'Shape', 'Duration', 'Summary', 'Posted'])"
   ]
  },
  {
   "cell_type": "markdown",
   "id": "d7e176cc",
   "metadata": {},
   "source": [
    "4 more observations differ only in the Posted date"
   ]
  },
  {
   "cell_type": "code",
   "execution_count": 66,
   "id": "644d205f",
   "metadata": {},
   "outputs": [
    {
     "data": {
      "text/html": [
       "<div>\n",
       "<style scoped>\n",
       "    .dataframe tbody tr th:only-of-type {\n",
       "        vertical-align: middle;\n",
       "    }\n",
       "\n",
       "    .dataframe tbody tr th {\n",
       "        vertical-align: top;\n",
       "    }\n",
       "\n",
       "    .dataframe thead th {\n",
       "        text-align: right;\n",
       "    }\n",
       "</style>\n",
       "<table border=\"1\" class=\"dataframe\">\n",
       "  <thead>\n",
       "    <tr style=\"text-align: right;\">\n",
       "      <th></th>\n",
       "      <th>Observed</th>\n",
       "      <th>City</th>\n",
       "      <th>State</th>\n",
       "      <th>Shape</th>\n",
       "      <th>Duration</th>\n",
       "      <th>Summary</th>\n",
       "      <th>Posted</th>\n",
       "    </tr>\n",
       "  </thead>\n",
       "  <tbody>\n",
       "    <tr>\n",
       "      <th>30165</th>\n",
       "      <td>2015-11-15 05:20:00</td>\n",
       "      <td>Reno</td>\n",
       "      <td>NV</td>\n",
       "      <td>Triangle</td>\n",
       "      <td>15 seconds</td>\n",
       "      <td>Black triangle. Only discernible by observing ...</td>\n",
       "      <td>2015-12-10</td>\n",
       "    </tr>\n",
       "    <tr>\n",
       "      <th>30167</th>\n",
       "      <td>2015-11-15 05:20:00</td>\n",
       "      <td>Reno</td>\n",
       "      <td>NV</td>\n",
       "      <td>Triangle</td>\n",
       "      <td>15 seconds</td>\n",
       "      <td>Black triangle. Only discernible by observing ...</td>\n",
       "      <td>2015-12-10</td>\n",
       "    </tr>\n",
       "    <tr>\n",
       "      <th>20683</th>\n",
       "      <td>2017-08-12 22:30:00</td>\n",
       "      <td>Mount Pleasant</td>\n",
       "      <td>OH</td>\n",
       "      <td>Flash</td>\n",
       "      <td>12 minutes</td>\n",
       "      <td>White flashing light moving irregularly throug...</td>\n",
       "      <td>2017-08-24</td>\n",
       "    </tr>\n",
       "    <tr>\n",
       "      <th>20682</th>\n",
       "      <td>2017-08-12 22:30:00</td>\n",
       "      <td>Mount Pleasant</td>\n",
       "      <td>OH</td>\n",
       "      <td>Flash</td>\n",
       "      <td>12 minutes</td>\n",
       "      <td>White flashing light moving irregularly throug...</td>\n",
       "      <td>2017-09-05</td>\n",
       "    </tr>\n",
       "    <tr>\n",
       "      <th>15061</th>\n",
       "      <td>2019-01-05 14:00:00</td>\n",
       "      <td>Detroit</td>\n",
       "      <td>MI</td>\n",
       "      <td>Flash</td>\n",
       "      <td>10 minutes</td>\n",
       "      <td>We witnessed 3 bright objects flying in a circ...</td>\n",
       "      <td>2019-01-11</td>\n",
       "    </tr>\n",
       "    <tr>\n",
       "      <th>15062</th>\n",
       "      <td>2019-01-05 14:00:00</td>\n",
       "      <td>Detroit</td>\n",
       "      <td>MI</td>\n",
       "      <td>Flash</td>\n",
       "      <td>10 minutes</td>\n",
       "      <td>We witnessed 3 bright objects flying in a circ...</td>\n",
       "      <td>2019-01-17</td>\n",
       "    </tr>\n",
       "    <tr>\n",
       "      <th>14406</th>\n",
       "      <td>2019-03-16 20:45:00</td>\n",
       "      <td>Virginia Beach</td>\n",
       "      <td>VA</td>\n",
       "      <td>Circle</td>\n",
       "      <td>5 minutes</td>\n",
       "      <td>Orange orb. ((anonymous report))</td>\n",
       "      <td>2019-03-21</td>\n",
       "    </tr>\n",
       "    <tr>\n",
       "      <th>14407</th>\n",
       "      <td>2019-03-16 20:45:00</td>\n",
       "      <td>Virginia Beach</td>\n",
       "      <td>VA</td>\n",
       "      <td>Circle</td>\n",
       "      <td>5 minutes</td>\n",
       "      <td>Orange orb. ((anonymous report))</td>\n",
       "      <td>2019-03-21</td>\n",
       "    </tr>\n",
       "    <tr>\n",
       "      <th>8533</th>\n",
       "      <td>2020-01-12 05:37:00</td>\n",
       "      <td>Mountlake Terrace</td>\n",
       "      <td>WA</td>\n",
       "      <td>NaN</td>\n",
       "      <td>NaN</td>\n",
       "      <td>MADAR Node 100</td>\n",
       "      <td>2020-01-31</td>\n",
       "    </tr>\n",
       "    <tr>\n",
       "      <th>8534</th>\n",
       "      <td>2020-01-12 05:37:00</td>\n",
       "      <td>Mountlake Terrace</td>\n",
       "      <td>WA</td>\n",
       "      <td>NaN</td>\n",
       "      <td>NaN</td>\n",
       "      <td>MADAR Node 100</td>\n",
       "      <td>2020-02-07</td>\n",
       "    </tr>\n",
       "    <tr>\n",
       "      <th>4888</th>\n",
       "      <td>2020-06-20 21:56:00</td>\n",
       "      <td>Grand Junction</td>\n",
       "      <td>CO</td>\n",
       "      <td>NaN</td>\n",
       "      <td>NaN</td>\n",
       "      <td>MADAR Node 75</td>\n",
       "      <td>2020-07-03</td>\n",
       "    </tr>\n",
       "    <tr>\n",
       "      <th>4887</th>\n",
       "      <td>2020-06-20 21:56:00</td>\n",
       "      <td>Grand Junction</td>\n",
       "      <td>CO</td>\n",
       "      <td>NaN</td>\n",
       "      <td>NaN</td>\n",
       "      <td>MADAR Node 75</td>\n",
       "      <td>2020-07-09</td>\n",
       "    </tr>\n",
       "    <tr>\n",
       "      <th>3200</th>\n",
       "      <td>2020-09-14 06:53:00</td>\n",
       "      <td>Aliquippa</td>\n",
       "      <td>PA</td>\n",
       "      <td>NaN</td>\n",
       "      <td>NaN</td>\n",
       "      <td>MADAR Node 68</td>\n",
       "      <td>2020-11-05</td>\n",
       "    </tr>\n",
       "    <tr>\n",
       "      <th>3201</th>\n",
       "      <td>2020-09-14 06:53:00</td>\n",
       "      <td>Aliquippa</td>\n",
       "      <td>PA</td>\n",
       "      <td>NaN</td>\n",
       "      <td>NaN</td>\n",
       "      <td>MADAR Node 68</td>\n",
       "      <td>2020-11-05</td>\n",
       "    </tr>\n",
       "    <tr>\n",
       "      <th>8538</th>\n",
       "      <td>NaT</td>\n",
       "      <td>Grand Junction</td>\n",
       "      <td>CO</td>\n",
       "      <td>NaN</td>\n",
       "      <td>NaN</td>\n",
       "      <td>MADAR Node 75 A number of anomalies this day</td>\n",
       "      <td>2020-01-31</td>\n",
       "    </tr>\n",
       "    <tr>\n",
       "      <th>8557</th>\n",
       "      <td>NaT</td>\n",
       "      <td>Grand Junction</td>\n",
       "      <td>CO</td>\n",
       "      <td>NaN</td>\n",
       "      <td>NaN</td>\n",
       "      <td>MADAR Node 75 A number of anomalies this day</td>\n",
       "      <td>2020-01-31</td>\n",
       "    </tr>\n",
       "    <tr>\n",
       "      <th>8581</th>\n",
       "      <td>NaT</td>\n",
       "      <td>Grand Junction</td>\n",
       "      <td>CO</td>\n",
       "      <td>NaN</td>\n",
       "      <td>NaN</td>\n",
       "      <td>MADAR Node 75 A number of anomalies this day</td>\n",
       "      <td>2020-01-31</td>\n",
       "    </tr>\n",
       "    <tr>\n",
       "      <th>8601</th>\n",
       "      <td>NaT</td>\n",
       "      <td>Grand Junction</td>\n",
       "      <td>CO</td>\n",
       "      <td>NaN</td>\n",
       "      <td>NaN</td>\n",
       "      <td>MADAR Node 75 A number of anomalies this day</td>\n",
       "      <td>2020-01-31</td>\n",
       "    </tr>\n",
       "  </tbody>\n",
       "</table>\n",
       "</div>"
      ],
      "text/plain": [
       "                 Observed               City State     Shape    Duration  \\\n",
       "30165 2015-11-15 05:20:00               Reno    NV  Triangle  15 seconds   \n",
       "30167 2015-11-15 05:20:00               Reno    NV  Triangle  15 seconds   \n",
       "20683 2017-08-12 22:30:00     Mount Pleasant    OH     Flash  12 minutes   \n",
       "20682 2017-08-12 22:30:00     Mount Pleasant    OH     Flash  12 minutes   \n",
       "15061 2019-01-05 14:00:00            Detroit    MI     Flash  10 minutes   \n",
       "15062 2019-01-05 14:00:00            Detroit    MI     Flash  10 minutes   \n",
       "14406 2019-03-16 20:45:00     Virginia Beach    VA    Circle   5 minutes   \n",
       "14407 2019-03-16 20:45:00     Virginia Beach    VA    Circle   5 minutes   \n",
       "8533  2020-01-12 05:37:00  Mountlake Terrace    WA       NaN         NaN   \n",
       "8534  2020-01-12 05:37:00  Mountlake Terrace    WA       NaN         NaN   \n",
       "4888  2020-06-20 21:56:00     Grand Junction    CO       NaN         NaN   \n",
       "4887  2020-06-20 21:56:00     Grand Junction    CO       NaN         NaN   \n",
       "3200  2020-09-14 06:53:00          Aliquippa    PA       NaN         NaN   \n",
       "3201  2020-09-14 06:53:00          Aliquippa    PA       NaN         NaN   \n",
       "8538                  NaT     Grand Junction    CO       NaN         NaN   \n",
       "8557                  NaT     Grand Junction    CO       NaN         NaN   \n",
       "8581                  NaT     Grand Junction    CO       NaN         NaN   \n",
       "8601                  NaT     Grand Junction    CO       NaN         NaN   \n",
       "\n",
       "                                                 Summary     Posted  \n",
       "30165  Black triangle. Only discernible by observing ... 2015-12-10  \n",
       "30167  Black triangle. Only discernible by observing ... 2015-12-10  \n",
       "20683  White flashing light moving irregularly throug... 2017-08-24  \n",
       "20682  White flashing light moving irregularly throug... 2017-09-05  \n",
       "15061  We witnessed 3 bright objects flying in a circ... 2019-01-11  \n",
       "15062  We witnessed 3 bright objects flying in a circ... 2019-01-17  \n",
       "14406                   Orange orb. ((anonymous report)) 2019-03-21  \n",
       "14407                   Orange orb. ((anonymous report)) 2019-03-21  \n",
       "8533                                      MADAR Node 100 2020-01-31  \n",
       "8534                                      MADAR Node 100 2020-02-07  \n",
       "4888                                       MADAR Node 75 2020-07-03  \n",
       "4887                                       MADAR Node 75 2020-07-09  \n",
       "3200                                       MADAR Node 68 2020-11-05  \n",
       "3201                                       MADAR Node 68 2020-11-05  \n",
       "8538        MADAR Node 75 A number of anomalies this day 2020-01-31  \n",
       "8557        MADAR Node 75 A number of anomalies this day 2020-01-31  \n",
       "8581        MADAR Node 75 A number of anomalies this day 2020-01-31  \n",
       "8601        MADAR Node 75 A number of anomalies this day 2020-01-31  "
      ]
     },
     "execution_count": 66,
     "metadata": {},
     "output_type": "execute_result"
    }
   ],
   "source": [
    "ufo[ufo.duplicated(['Observed', 'City', 'State', 'Shape', 'Duration', 'Summary'], keep=False)]\\\n",
    "    .sort_values(by=['Observed', 'City', 'State', 'Shape', 'Duration', 'Summary', 'Posted'])"
   ]
  },
  {
   "cell_type": "markdown",
   "id": "ec8bb890",
   "metadata": {},
   "source": [
    "Quite many observations share place, time, and duration, but Summary is different.\n",
    "\n",
    "Arbitrary inspection of several first cases has shown that there are minor textual differences in the Summary field. It seems safe to consider them true duplicates.\n",
    "\n",
    "No more investigation on duplicates on place, time and duration will be performed - let us consider that if at least duration is different, this can indicate multiple objects or multiple (=more reliable) observations of the same object."
   ]
  },
  {
   "cell_type": "code",
   "execution_count": 68,
   "id": "d869ffdf",
   "metadata": {},
   "outputs": [
    {
     "data": {
      "text/plain": [
       "(1143, 7)"
      ]
     },
     "execution_count": 68,
     "metadata": {},
     "output_type": "execute_result"
    }
   ],
   "source": [
    "ufo[ufo.duplicated(['Observed', 'City', 'State', 'Shape', 'Duration'], keep=False)]\\\n",
    "    .sort_values(by=['Observed', 'City', 'State', 'Shape', 'Duration', 'Summary', 'Posted'], ascending=False)\\\n",
    "    .shape"
   ]
  },
  {
   "cell_type": "markdown",
   "id": "11a2d197",
   "metadata": {},
   "source": [
    "Hence, the decision is to remove duplicates basing on `Observed`, `City`, `State`, `Shape`, and `Duration` fields.\n",
    "\n",
    "This will be done later, upon inspection of the `Shape` column."
   ]
  },
  {
   "cell_type": "code",
   "execution_count": 69,
   "id": "b5af4ab1",
   "metadata": {},
   "outputs": [
    {
     "data": {
      "text/plain": [
       "changed           1\n",
       "changing       3267\n",
       "chevron        1541\n",
       "cigar          3256\n",
       "circle        14172\n",
       "cone            537\n",
       "crescent          2\n",
       "cross           432\n",
       "cylinder       2089\n",
       "delta             8\n",
       "diamond        1946\n",
       "disk           7993\n",
       "dome              1\n",
       "egg            1167\n",
       "fireball       9510\n",
       "flare             1\n",
       "flash          2364\n",
       "formation      4490\n",
       "hexagon           1\n",
       "light         27463\n",
       "other          9237\n",
       "oval           5841\n",
       "pyramid           1\n",
       "rectangle      2294\n",
       "round             2\n",
       "sphere         8773\n",
       "teardrop       1163\n",
       "triangle      12121\n",
       "triangular        1\n",
       "unknown        9197\n",
       "Name: Shape, dtype: int64"
      ]
     },
     "execution_count": 69,
     "metadata": {},
     "output_type": "execute_result"
    }
   ],
   "source": [
    "ufo.Shape.str.lower().value_counts().sort_index()"
   ]
  },
  {
   "cell_type": "markdown",
   "id": "600b91df",
   "metadata": {},
   "source": [
    "It seems reasonable to \n",
    "1) ignore case and \n",
    "2) consider (other joinings are possible but questionable):\n",
    "* 'changed' = 'changing'\n",
    "* 'cigar' = 'cylinder'\n",
    "* 'delta' = 'triangular' = 'triangle'\n",
    "* 'circle' = 'disk' = 'round' = 'sphere'\n",
    "* 'flare' = 'light'\n",
    "* 'other' = 'unknown'\n",
    "* 'egg' = 'oval'\n",
    "and\n",
    "3) set NaN to 'unknown'"
   ]
  },
  {
   "cell_type": "code",
   "execution_count": 70,
   "id": "d8abf874",
   "metadata": {},
   "outputs": [],
   "source": [
    "ufo.Shape = ufo.Shape.str.lower()\n",
    "\n",
    "new_shape = {\n",
    "                'Shape': {'changed': 'changing',\n",
    "                          'cigar': 'cylinder',\n",
    "                          'delta': 'triangle',\n",
    "                          'triangular': 'triangle',\n",
    "                          'disk': 'circle',\n",
    "                          'round': 'circle',\n",
    "                          'sphere': 'circle',\n",
    "                          'flash': 'light',\n",
    "                          'other': 'unknown',\n",
    "                          'egg': 'oval',\n",
    "                          np.nan: 'unknown'}\n",
    "            }\n",
    "\n",
    "ufo = ufo.replace(new_shape)"
   ]
  },
  {
   "cell_type": "code",
   "execution_count": null,
   "id": "8a73614b",
   "metadata": {},
   "outputs": [],
   "source": [
    "ufo[ufo.duplicated(['Observed', 'City', 'State', 'Shape', 'Duration'], keep=False)]\\\n",
    "    .sort_values(by=['Observed', 'City', 'State', 'Shape', 'Duration', 'Summary', 'Posted'], ascending=False)"
   ]
  },
  {
   "cell_type": "markdown",
   "id": "568a0792",
   "metadata": {},
   "source": [
    "Now we will finally drop the duplicates in view of updated `Shape` column"
   ]
  },
  {
   "cell_type": "code",
   "execution_count": 72,
   "id": "b6f02b24",
   "metadata": {},
   "outputs": [],
   "source": [
    "ufo.drop_duplicates(['Observed', 'City', 'State', 'Shape', 'Duration'], keep='first', inplace=True)"
   ]
  },
  {
   "cell_type": "markdown",
   "id": "f38873df",
   "metadata": {},
   "source": [
    "Upon the cleaning, we have kept >99% of the observations.\n",
    "\n",
    "Many of them (about 12%) have NaN in at least one of the columns, but let us consider these as potentially useful partial information."
   ]
  },
  {
   "cell_type": "code",
   "execution_count": 73,
   "id": "775000d6",
   "metadata": {},
   "outputs": [
    {
     "data": {
      "text/plain": [
       "0.9923"
      ]
     },
     "execution_count": 73,
     "metadata": {},
     "output_type": "execute_result"
    }
   ],
   "source": [
    "round(ufo.shape[0] / ufo_by_date.shape[0], 4)"
   ]
  },
  {
   "cell_type": "code",
   "execution_count": 74,
   "id": "860a8d37",
   "metadata": {},
   "outputs": [
    {
     "data": {
      "text/plain": [
       "0.117"
      ]
     },
     "execution_count": 74,
     "metadata": {},
     "output_type": "execute_result"
    }
   ],
   "source": [
    "round((ufo.shape[0] - ufo.dropna().shape[0]) / ufo.shape[0], 3)"
   ]
  },
  {
   "cell_type": "code",
   "execution_count": 75,
   "id": "79c6d238",
   "metadata": {},
   "outputs": [],
   "source": [
    "# saving cleaned dataframe in case we distort it occasionally during analysis\n",
    "ufo.to_csv(\"ufo_for_analysis.csv\")"
   ]
  },
  {
   "cell_type": "markdown",
   "id": "471cb28a",
   "metadata": {},
   "source": [
    "# <span style=\"color:blue\">Exploratory data analysis</span>"
   ]
  },
  {
   "cell_type": "markdown",
   "id": "41726941",
   "metadata": {},
   "source": [
    "Plan:\n",
    "* **DONE** Fractions of observations by shape\n",
    "* **DONE** Line Plot of observations by year\n",
    "* **DONE** Line Plot of observations by year and shape\n",
    "* **DONE** Barplot of observations by state (raw and normalized by state population)\n",
    "* Top counts by state + city"
   ]
  },
  {
   "cell_type": "code",
   "execution_count": 76,
   "id": "be775612",
   "metadata": {},
   "outputs": [],
   "source": [
    "# start analysis from scratch\n",
    "ufo = pd.read_csv('ufo_for_analysis.csv', index_col=0, parse_dates=['Observed', 'Posted'])"
   ]
  },
  {
   "cell_type": "code",
   "execution_count": null,
   "id": "94fd5f53",
   "metadata": {},
   "outputs": [],
   "source": [
    "ufo_per_shape = ufo.groupby('Shape')\\\n",
    "        .agg(percentage =('Summary', lambda x: x.size / ufo.shape[0] * 100))\\\n",
    "        .sort_values(by='percentage', ascending=False)\\\n",
    "        .round(2)\n",
    "\n",
    "idx = ufo_per_shape.index.tolist()\n",
    "idx.remove('unknown')\n",
    "ufo_per_shape = ufo_per_shape.reindex(idx + ['unknown'])\n",
    "\n",
    "#Seaborn barplot\n",
    "sns.set_style(\"whitegrid\")\n",
    "\n",
    "sns.set(font_scale=1.1)\n",
    "\n",
    "bar,ax = plt.subplots(figsize=(12,8))\n",
    "ax = sns.barplot(x=ufo_per_shape.index,\n",
    "                 y='percentage',\n",
    "                 data=ufo_per_shape,\n",
    "                 ci=None,\n",
    "                 palette=\"muted\",\n",
    "                 orient='v', )\n",
    "ax.set_title(\"Distribution of UFO observed by shape\", fontsize=15)\n",
    "ax.set_xlabel (\"UFO shape\")\n",
    "ax.set_ylabel (\"Percentage\")\n",
    "ax.tick_params(axis='x', rotation=45)\n",
    "# calculate the percentages and annotate the sns barplot\n",
    "for rect in ax.patches:\n",
    "    ax.text(rect.get_x(),rect.get_height() + 0.1,\"%.1f%%\"% rect.get_height(), weight='bold' );"
   ]
  },
  {
   "cell_type": "code",
   "execution_count": null,
   "id": "9c87f64d",
   "metadata": {},
   "outputs": [],
   "source": [
    "ufo_per_year = ufo.copy()\n",
    "ufo_per_year.index = ufo.Observed\n",
    "ufo_per_year = ufo_per_year.resample(rule='Y').Summary.count()\n",
    "\n",
    "sns.set_style(\"whitegrid\")\n",
    "sns.set(font_scale=1.1)\n",
    "\n",
    "plt.figure(figsize=(12,8))\n",
    "ax = sns.lineplot(x=ufo_per_year.index,\n",
    "                 y=ufo_per_year,\n",
    "                 palette=\"muted\")\n",
    "\n",
    "ax.set_title(\"Total UFO observed by year\", fontsize=15)\n",
    "ax.set_xlabel (\"Year\")\n",
    "ax.set_ylabel (\"Observations\");"
   ]
  },
  {
   "cell_type": "code",
   "execution_count": null,
   "id": "5abf5c1e",
   "metadata": {},
   "outputs": [],
   "source": [
    "ufo_per_year_shape = ufo.assign(Year = ufo.Observed.dt.year)\n",
    "\n",
    "ufo_per_year_shape = ufo_per_year_shape.groupby(['Year', 'Shape'], as_index=False)\\\n",
    "        .agg({'Summary': 'count'})\\\n",
    "        .pivot('Year', columns='Shape', values='Summary')\n",
    "\n",
    "ufo_per_year_shape['overall'] = ufo_per_year_shape.sum(axis=1)\n",
    "\n",
    "ufo_per_year_shape = ufo_per_year_shape.reset_index()\\\n",
    "    .melt(id_vars = 'Year', var_name='Shape',  value_name='Observations')\n",
    "\n",
    "\n",
    "\n",
    "sns.set_style(\"whitegrid\")\n",
    "sns.set(font_scale=1.1)\n",
    "\n",
    "plt.figure(figsize=(12,8))\n",
    "ax = sns.lineplot(data=ufo_per_year_shape,\n",
    "                  x='Year',\n",
    "                  y='Observations',\n",
    "                  hue='Shape',\n",
    "                 palette=\"muted\")\n",
    "\n",
    "ax.set_title(\"UFO observed by year\", fontsize=15)\n",
    "ax.set_xlabel (\"Year\")\n",
    "ax.set_ylabel (\"Observations\");"
   ]
  },
  {
   "cell_type": "code",
   "execution_count": null,
   "id": "9e981696",
   "metadata": {},
   "outputs": [],
   "source": [
    "ufo_per_year_shape = ufo.assign(Year = ufo.Observed.dt.year)\n",
    "\n",
    "ufo_per_year_shape = ufo_per_year_shape.groupby(['Year', 'Shape'], as_index=False)\\\n",
    "        .agg({'Summary': 'count'})\\\n",
    "        .pivot('Year', columns='Shape', values='Summary')\n",
    "\n",
    "ufo_per_year_shape['overall'] = ufo_per_year_shape.sum(axis=1)\n",
    "\n",
    "ufo_per_year_shape = ufo_per_year_shape.reset_index()\\\n",
    "    .melt(id_vars = 'Year', var_name='Shape',  value_name='Observations')\n",
    "\n",
    "ufo_per_year_shape = ufo_per_year_shape.query(\"Shape in ['overall', 'circle', 'light', 'triangle', 'fireball', 'oval', 'cylinder', 'formation']\")\\\n",
    "            .query(\"1960 <= Year <= 2021\")\n",
    "\n",
    "\n",
    "sns.set_style(\"whitegrid\")\n",
    "sns.set(font_scale=1.1)\n",
    "\n",
    "plt.figure(figsize=(12,8))\n",
    "ax = sns.lineplot(data=ufo_per_year_shape,\n",
    "                  x='Year',\n",
    "                  y='Observations',\n",
    "                  hue='Shape',\n",
    "                 palette=\"muted\")\n",
    "\n",
    "ax.set_title(\"UFO observed by year\", fontsize=15)\n",
    "ax.set_xlabel (\"Year\")\n",
    "ax.set_ylabel (\"Observations\");"
   ]
  },
  {
   "cell_type": "code",
   "execution_count": null,
   "id": "1e7fc4d4",
   "metadata": {},
   "outputs": [],
   "source": [
    "ufo_per_state = ufo.groupby('State', as_index=False)\\\n",
    "        .agg({'Summary': 'count'})\\\n",
    "        .rename(columns={'Summary': 'Observations'})\\\n",
    "        .sort_values(by='State', ascending=True)\n",
    "\n",
    "#Seaborn barplot\n",
    "sns.set_style(\"whitegrid\")\n",
    "\n",
    "sns.set(font_scale=1)\n",
    "\n",
    "bar,ax = plt.subplots(figsize=(14,10))\n",
    "ax = sns.barplot(x='State',\n",
    "                 y='Observations',\n",
    "                 data=ufo_per_state,\n",
    "                 ci=None,\n",
    "                 palette=\"muted\",\n",
    "                 orient='v')\n",
    "ax.set_title(\"Distribution of UFO observed by state\", fontsize=15)\n",
    "ax.set_xlabel (\"State\")\n",
    "ax.set_ylabel (\"Number of observations\")\n",
    "ax.tick_params(axis='x', rotation=90)"
   ]
  },
  {
   "cell_type": "markdown",
   "id": "9311e1a7",
   "metadata": {},
   "source": [
    "Distribution by state is strongly uneven; let us normalize it to the state population and area"
   ]
  },
  {
   "cell_type": "code",
   "execution_count": null,
   "id": "ab3aeda8",
   "metadata": {},
   "outputs": [],
   "source": [
    "ufo_per_state = pd.merge(left=ufo_per_state, \n",
    "                         right=states, how='inner', \n",
    "                         left_on='State', \n",
    "                         right_on='Abbreviation')"
   ]
  },
  {
   "cell_type": "code",
   "execution_count": null,
   "id": "3f14d5c0",
   "metadata": {},
   "outputs": [],
   "source": [
    "ufo_per_state['Observations_per_population'] = ufo_per_state.Observations / ufo_per_state.Population\n",
    "ufo_per_state['Observations_per_area'] = ufo_per_state.Observations / ufo_per_state.Total_area\n",
    "ufo_per_state['Observations_per_land_area'] = ufo_per_state.Observations / ufo_per_state.Land_area"
   ]
  },
  {
   "cell_type": "code",
   "execution_count": null,
   "id": "f614c817",
   "metadata": {},
   "outputs": [],
   "source": [
    "sns.set_style(\"whitegrid\")\n",
    "\n",
    "sns.set(font_scale=1)\n",
    "\n",
    "bar,ax = plt.subplots(figsize=(14,10))\n",
    "ax = sns.barplot(x='State',\n",
    "                 y='Observations_per_population',\n",
    "                 data=ufo_per_state,\n",
    "                 ci=None,\n",
    "                 palette=\"muted\",\n",
    "                 orient='v')\n",
    "ax.set_title(\"Distribution of UFO observed by state normalized by current population\", fontsize=15)\n",
    "ax.set_xlabel (\"State\")\n",
    "ax.set_ylabel (\"Number of observations per person\")\n",
    "ax.tick_params(axis='x', rotation=90)"
   ]
  },
  {
   "cell_type": "code",
   "execution_count": null,
   "id": "5b238afd",
   "metadata": {},
   "outputs": [],
   "source": [
    "sns.set_style(\"whitegrid\")\n",
    "\n",
    "sns.set(font_scale=1)\n",
    "\n",
    "bar,ax = plt.subplots(figsize=(14,10))\n",
    "ax = sns.barplot(x='State',\n",
    "                 y='Observations_per_area',\n",
    "                 data=ufo_per_state,\n",
    "                 ci=None,\n",
    "                 palette=\"muted\",\n",
    "                 orient='v')\n",
    "ax.set_title(\"Distribution of UFO observed by state normalized by total area\", fontsize=15)\n",
    "ax.set_xlabel (\"State\")\n",
    "ax.set_ylabel (\"Number of observations per sq.km\")\n",
    "ax.tick_params(axis='x', rotation=90)"
   ]
  },
  {
   "cell_type": "code",
   "execution_count": null,
   "id": "bc9bc0c7",
   "metadata": {},
   "outputs": [],
   "source": [
    "sns.set_style(\"whitegrid\")\n",
    "\n",
    "sns.set(font_scale=1)\n",
    "\n",
    "bar,ax = plt.subplots(figsize=(14,10))\n",
    "ax = sns.barplot(x='State',\n",
    "                 y='Observations_per_land_area',\n",
    "                 data=ufo_per_state,\n",
    "                 ci=None,\n",
    "                 palette=\"muted\",\n",
    "                 orient='v')\n",
    "ax.set_title(\"Distribution of UFO observed by state normalized by land area\", fontsize=15)\n",
    "ax.set_xlabel (\"State\")\n",
    "ax.set_ylabel (\"Number of observations per sq.km\")\n",
    "ax.tick_params(axis='x', rotation=90)"
   ]
  },
  {
   "cell_type": "code",
   "execution_count": null,
   "id": "efed2fc0",
   "metadata": {},
   "outputs": [],
   "source": [
    "def z_score(column):\n",
    "    column.replace([np.inf, -np.inf], np.nan, inplace=True)\n",
    "    return (column - column.mean())/column.std()\n",
    "\n",
    "\n",
    "ufo_per_state['Observations_per_population_std'] = z_score(ufo_per_state['Observations_per_population'])\n",
    "ufo_per_state['Observations_per_area_std'] = z_score(ufo_per_state['Observations_per_area'])\n",
    "ufo_per_state['Observations_per_land_area_std'] = z_score(ufo_per_state['Observations_per_land_area'])\n",
    "\n",
    "std_observations = ufo_per_state.loc[:, ['State', 'Observations_per_population_std', 'Observations_per_area_std', 'Observations_per_land_area_std']]\n",
    "\n",
    "std_observations = pd.melt(frame=std_observations, \n",
    "        id_vars='State',\n",
    "        value_vars=['Observations_per_population_std', 'Observations_per_area_std', 'Observations_per_land_area_std'],\n",
    "        )"
   ]
  },
  {
   "cell_type": "code",
   "execution_count": null,
   "id": "fe7e7120",
   "metadata": {},
   "outputs": [],
   "source": [
    "plt.figure(figsize=(8,6))\n",
    "sns.boxplot(x=\"value\", y=\"variable\", data=std_observations, color=\"c\")\n",
    "sns.despine(trim=True)"
   ]
  },
  {
   "cell_type": "code",
   "execution_count": null,
   "id": "25c8ec78",
   "metadata": {},
   "outputs": [],
   "source": []
  },
  {
   "cell_type": "code",
   "execution_count": null,
   "id": "d8dc9893",
   "metadata": {},
   "outputs": [],
   "source": []
  },
  {
   "cell_type": "code",
   "execution_count": null,
   "id": "be6ce3ba",
   "metadata": {},
   "outputs": [],
   "source": []
  },
  {
   "cell_type": "code",
   "execution_count": null,
   "id": "eee6f8bd",
   "metadata": {},
   "outputs": [],
   "source": []
  },
  {
   "cell_type": "code",
   "execution_count": null,
   "id": "add5fd7a",
   "metadata": {},
   "outputs": [],
   "source": []
  },
  {
   "cell_type": "code",
   "execution_count": null,
   "id": "73a7b952",
   "metadata": {},
   "outputs": [],
   "source": [
    "ufo_per_state"
   ]
  },
  {
   "cell_type": "code",
   "execution_count": null,
   "id": "f20efe99",
   "metadata": {},
   "outputs": [],
   "source": [
    "ufo.dtypes"
   ]
  },
  {
   "cell_type": "code",
   "execution_count": null,
   "id": "f1fecbfe",
   "metadata": {},
   "outputs": [],
   "source": []
  }
 ],
 "metadata": {
  "kernelspec": {
   "display_name": "Python 3",
   "language": "python",
   "name": "python3"
  },
  "language_info": {
   "codemirror_mode": {
    "name": "ipython",
    "version": 3
   },
   "file_extension": ".py",
   "mimetype": "text/x-python",
   "name": "python",
   "nbconvert_exporter": "python",
   "pygments_lexer": "ipython3",
   "version": "3.8.7"
  }
 },
 "nbformat": 4,
 "nbformat_minor": 5
}
