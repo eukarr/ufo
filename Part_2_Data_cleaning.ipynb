{
 "cells": [
  {
   "cell_type": "markdown",
   "id": "72a29dc3",
   "metadata": {},
   "source": [
    "# <span style=\"color:blue\">Importing libraries</span>"
   ]
  },
  {
   "cell_type": "code",
   "execution_count": 33,
   "id": "80a4ca71",
   "metadata": {},
   "outputs": [],
   "source": [
    "import pandas as pd\n",
    "import numpy as np\n",
    "import re"
   ]
  },
  {
   "cell_type": "markdown",
   "id": "6f34a1dd",
   "metadata": {},
   "source": [
    "# <span style=\"color:blue\">Data reading from local files</span>"
   ]
  },
  {
   "cell_type": "code",
   "execution_count": 3,
   "id": "625343d7",
   "metadata": {},
   "outputs": [],
   "source": [
    "ufo_by_date = pd.read_csv('ufo_raw_date.csv', index_col=0)"
   ]
  },
  {
   "cell_type": "code",
   "execution_count": 4,
   "id": "becc8fd8",
   "metadata": {},
   "outputs": [],
   "source": [
    "ufo_by_shape = pd.read_csv('ufo_raw_shape.csv', index_col=0)"
   ]
  },
  {
   "cell_type": "code",
   "execution_count": 5,
   "id": "d842f3fe",
   "metadata": {},
   "outputs": [],
   "source": [
    "states = pd.read_csv('states.csv', index_col=0)"
   ]
  },
  {
   "cell_type": "markdown",
   "id": "ffb886e2",
   "metadata": {},
   "source": [
    "# <span style=\"color:blue\">Data cleaning</span>"
   ]
  },
  {
   "cell_type": "markdown",
   "id": "24f1668e",
   "metadata": {},
   "source": [
    "Number of rows of the dataframes imported from tables arranged by UFO shape and by observation date is the same. Additional column in `ufo_by_date` is the manually introduced `Date_label` column."
   ]
  },
  {
   "cell_type": "code",
   "execution_count": 6,
   "id": "755e37ad",
   "metadata": {},
   "outputs": [
    {
     "data": {
      "text/plain": [
       "((135282, 8), (135282, 8))"
      ]
     },
     "execution_count": 6,
     "metadata": {},
     "output_type": "execute_result"
    }
   ],
   "source": [
    "ufo_by_date.shape, ufo_by_shape.shape"
   ]
  },
  {
   "cell_type": "markdown",
   "id": "b1db9017",
   "metadata": {},
   "source": [
    "Datasets collected by shape and by date are identical (result of the first merge is empty), but there are a few duplicates (result of the second merge is longer than the initial dataframe)."
   ]
  },
  {
   "cell_type": "code",
   "execution_count": 7,
   "id": "3734bc88",
   "metadata": {},
   "outputs": [
    {
     "data": {
      "text/plain": [
       "(0, 9)"
      ]
     },
     "execution_count": 7,
     "metadata": {},
     "output_type": "execute_result"
    }
   ],
   "source": [
    "pd.merge(left=ufo_by_date, right=ufo_by_shape, how='outer', indicator=True)\\\n",
    "    .query('_merge != \"both\"').shape"
   ]
  },
  {
   "cell_type": "code",
   "execution_count": 8,
   "id": "3fe4b54d",
   "metadata": {},
   "outputs": [
    {
     "data": {
      "text/plain": [
       "(135290, 9)"
      ]
     },
     "execution_count": 8,
     "metadata": {},
     "output_type": "execute_result"
    }
   ],
   "source": [
    "pd.merge(left=ufo_by_date, right=ufo_by_shape, how='outer', indicator=True)\\\n",
    "    .query('_merge == \"both\"').shape"
   ]
  },
  {
   "cell_type": "markdown",
   "id": "868d9e75",
   "metadata": {},
   "source": [
    "We will further work with `ufo_raw_date` to keep \"manual\" date labels."
   ]
  },
  {
   "cell_type": "code",
   "execution_count": 9,
   "id": "a00d5e3c",
   "metadata": {},
   "outputs": [],
   "source": [
    "# making a copy to preserve source data\n",
    "ufo = ufo_by_date.copy()"
   ]
  },
  {
   "cell_type": "code",
   "execution_count": 10,
   "id": "397065b3",
   "metadata": {},
   "outputs": [
    {
     "data": {
      "text/html": [
       "<div>\n",
       "<style scoped>\n",
       "    .dataframe tbody tr th:only-of-type {\n",
       "        vertical-align: middle;\n",
       "    }\n",
       "\n",
       "    .dataframe tbody tr th {\n",
       "        vertical-align: top;\n",
       "    }\n",
       "\n",
       "    .dataframe thead th {\n",
       "        text-align: right;\n",
       "    }\n",
       "</style>\n",
       "<table border=\"1\" class=\"dataframe\">\n",
       "  <thead>\n",
       "    <tr style=\"text-align: right;\">\n",
       "      <th></th>\n",
       "      <th>Date / Time</th>\n",
       "      <th>City</th>\n",
       "      <th>State</th>\n",
       "      <th>Shape</th>\n",
       "      <th>Duration</th>\n",
       "      <th>Summary</th>\n",
       "      <th>Posted</th>\n",
       "      <th>Date_label</th>\n",
       "    </tr>\n",
       "  </thead>\n",
       "  <tbody>\n",
       "    <tr>\n",
       "      <th>0</th>\n",
       "      <td>1/1/10</td>\n",
       "      <td>Kirksville (near)</td>\n",
       "      <td>MO</td>\n",
       "      <td>Disk</td>\n",
       "      <td>Minutes</td>\n",
       "      <td>Historical sighting (1903 - 1913) Northern Mis...</td>\n",
       "      <td>9/15/05</td>\n",
       "      <td>01_1910</td>\n",
       "    </tr>\n",
       "    <tr>\n",
       "      <th>1</th>\n",
       "      <td>1/28/29 15:41</td>\n",
       "      <td>Santa Teresa</td>\n",
       "      <td>NM</td>\n",
       "      <td>Circle</td>\n",
       "      <td>5 mins</td>\n",
       "      <td>large craft with other smaller crafts moving f...</td>\n",
       "      <td>1/19/21</td>\n",
       "      <td>01_1929</td>\n",
       "    </tr>\n",
       "    <tr>\n",
       "      <th>2</th>\n",
       "      <td>1/18/43 07:15</td>\n",
       "      <td>Fiji Islands (S. Pacific Ocean)</td>\n",
       "      <td>NaN</td>\n",
       "      <td>NaN</td>\n",
       "      <td>10 sec.</td>\n",
       "      <td>Crew contingents of 2 USN vessels see reconnai...</td>\n",
       "      <td>8/11/04</td>\n",
       "      <td>01_1943</td>\n",
       "    </tr>\n",
       "    <tr>\n",
       "      <th>3</th>\n",
       "      <td>1/1/44 12:00</td>\n",
       "      <td>San Diego</td>\n",
       "      <td>CA</td>\n",
       "      <td>Cigar</td>\n",
       "      <td>3 minutes</td>\n",
       "      <td>A sighting of one silver or white enlongated c...</td>\n",
       "      <td>7/25/04</td>\n",
       "      <td>01_1944</td>\n",
       "    </tr>\n",
       "    <tr>\n",
       "      <th>4</th>\n",
       "      <td>1/1/44 12:00</td>\n",
       "      <td>Wilderness</td>\n",
       "      <td>WV</td>\n",
       "      <td>Disk</td>\n",
       "      <td>3 weeks</td>\n",
       "      <td>Two related reports of possible predecessor to...</td>\n",
       "      <td>7/8/04</td>\n",
       "      <td>01_1944</td>\n",
       "    </tr>\n",
       "    <tr>\n",
       "      <th>...</th>\n",
       "      <td>...</td>\n",
       "      <td>...</td>\n",
       "      <td>...</td>\n",
       "      <td>...</td>\n",
       "      <td>...</td>\n",
       "      <td>...</td>\n",
       "      <td>...</td>\n",
       "      <td>...</td>\n",
       "    </tr>\n",
       "    <tr>\n",
       "      <th>135277</th>\n",
       "      <td>NaN</td>\n",
       "      <td>Kelowna (Canada)</td>\n",
       "      <td>BC</td>\n",
       "      <td>NaN</td>\n",
       "      <td>NaN</td>\n",
       "      <td>They were close to my home, hope they come soo...</td>\n",
       "      <td>7/3/13</td>\n",
       "      <td>unspecified</td>\n",
       "    </tr>\n",
       "    <tr>\n",
       "      <th>135278</th>\n",
       "      <td>NaN</td>\n",
       "      <td>Rule</td>\n",
       "      <td>TX</td>\n",
       "      <td>Unknown</td>\n",
       "      <td>15 minutes</td>\n",
       "      <td>Unusual sounds and starlight distortion defini...</td>\n",
       "      <td>8/19/12</td>\n",
       "      <td>unspecified</td>\n",
       "    </tr>\n",
       "    <tr>\n",
       "      <th>135279</th>\n",
       "      <td>NaN</td>\n",
       "      <td>Gulf Breeze</td>\n",
       "      <td>FL</td>\n",
       "      <td>NaN</td>\n",
       "      <td>NaN</td>\n",
       "      <td>The gulf breeze florida sightings were a AC130...</td>\n",
       "      <td>8/5/12</td>\n",
       "      <td>unspecified</td>\n",
       "    </tr>\n",
       "    <tr>\n",
       "      <th>135280</th>\n",
       "      <td>NaN</td>\n",
       "      <td>Richland</td>\n",
       "      <td>WA</td>\n",
       "      <td>Sphere</td>\n",
       "      <td>10 min</td>\n",
       "      <td>Multiple sightings</td>\n",
       "      <td>12/20/12</td>\n",
       "      <td>unspecified</td>\n",
       "    </tr>\n",
       "    <tr>\n",
       "      <th>135281</th>\n",
       "      <td>NaN</td>\n",
       "      <td>NaN</td>\n",
       "      <td>KS</td>\n",
       "      <td>NaN</td>\n",
       "      <td>NaN</td>\n",
       "      <td>((NUFORC Note: Witness provides no information...</td>\n",
       "      <td>12/23/20</td>\n",
       "      <td>unspecified</td>\n",
       "    </tr>\n",
       "  </tbody>\n",
       "</table>\n",
       "<p>135282 rows × 8 columns</p>\n",
       "</div>"
      ],
      "text/plain": [
       "          Date / Time                             City State    Shape  \\\n",
       "0              1/1/10                Kirksville (near)    MO     Disk   \n",
       "1       1/28/29 15:41                     Santa Teresa    NM   Circle   \n",
       "2       1/18/43 07:15  Fiji Islands (S. Pacific Ocean)   NaN      NaN   \n",
       "3        1/1/44 12:00                        San Diego    CA    Cigar   \n",
       "4        1/1/44 12:00                       Wilderness    WV     Disk   \n",
       "...               ...                              ...   ...      ...   \n",
       "135277            NaN                 Kelowna (Canada)    BC      NaN   \n",
       "135278            NaN                             Rule    TX  Unknown   \n",
       "135279            NaN                      Gulf Breeze    FL      NaN   \n",
       "135280            NaN                         Richland    WA   Sphere   \n",
       "135281            NaN                              NaN    KS      NaN   \n",
       "\n",
       "          Duration                                            Summary  \\\n",
       "0          Minutes  Historical sighting (1903 - 1913) Northern Mis...   \n",
       "1           5 mins  large craft with other smaller crafts moving f...   \n",
       "2          10 sec.  Crew contingents of 2 USN vessels see reconnai...   \n",
       "3        3 minutes  A sighting of one silver or white enlongated c...   \n",
       "4          3 weeks  Two related reports of possible predecessor to...   \n",
       "...            ...                                                ...   \n",
       "135277         NaN  They were close to my home, hope they come soo...   \n",
       "135278  15 minutes  Unusual sounds and starlight distortion defini...   \n",
       "135279         NaN  The gulf breeze florida sightings were a AC130...   \n",
       "135280      10 min                                 Multiple sightings   \n",
       "135281         NaN  ((NUFORC Note: Witness provides no information...   \n",
       "\n",
       "          Posted   Date_label  \n",
       "0        9/15/05      01_1910  \n",
       "1        1/19/21      01_1929  \n",
       "2        8/11/04      01_1943  \n",
       "3        7/25/04      01_1944  \n",
       "4         7/8/04      01_1944  \n",
       "...          ...          ...  \n",
       "135277    7/3/13  unspecified  \n",
       "135278   8/19/12  unspecified  \n",
       "135279    8/5/12  unspecified  \n",
       "135280  12/20/12  unspecified  \n",
       "135281  12/23/20  unspecified  \n",
       "\n",
       "[135282 rows x 8 columns]"
      ]
     },
     "execution_count": 10,
     "metadata": {},
     "output_type": "execute_result"
    }
   ],
   "source": [
    "ufo"
   ]
  },
  {
   "cell_type": "code",
   "execution_count": 11,
   "id": "2a85d080",
   "metadata": {},
   "outputs": [
    {
     "data": {
      "text/plain": [
       "Date / Time    object\n",
       "City           object\n",
       "State          object\n",
       "Shape          object\n",
       "Duration       object\n",
       "Summary        object\n",
       "Posted         object\n",
       "Date_label     object\n",
       "dtype: object"
      ]
     },
     "execution_count": 11,
     "metadata": {},
     "output_type": "execute_result"
    }
   ],
   "source": [
    "ufo.dtypes"
   ]
  },
  {
   "cell_type": "markdown",
   "id": "a54e9274",
   "metadata": {},
   "source": [
    "We should consider converting `Date / Time` and `Posted` columns to datetime format.\n",
    "On top of that, the column name with slash and spaces is not convenient."
   ]
  },
  {
   "cell_type": "code",
   "execution_count": 12,
   "id": "489e99d9",
   "metadata": {},
   "outputs": [],
   "source": [
    "ufo.rename(columns={'Date / Time': 'Observed'}, inplace=True)"
   ]
  },
  {
   "cell_type": "code",
   "execution_count": 18,
   "id": "240db0fa",
   "metadata": {},
   "outputs": [
    {
     "data": {
      "text/plain": [
       "0.0028"
      ]
     },
     "execution_count": 18,
     "metadata": {},
     "output_type": "execute_result"
    }
   ],
   "source": [
    "round(sum(ufo.Date_label == 'unspecified') / ufo.shape[0] , 4)"
   ]
  },
  {
   "cell_type": "markdown",
   "id": "ec4bb0d2",
   "metadata": {},
   "source": [
    "Parsing of poorly formatted dates/times is a complicated issue, but these are less than 0.3% of the observations. Hence, the solution is to remove such rows.\n",
    "\n",
    "Then, we will remove too old observations (say, before 1900). This will resolve the issue of limited range of the `pd.datetime` type; moreover, these observations are not reliable and too scarce to affect the conclusions.\n",
    "\n",
    "Since year is coded by two last digits, we will extract it from the `Date_label` column. A new `Year` column will be created instead of just query because we will then use it to modify the `Observed` values"
   ]
  },
  {
   "cell_type": "code",
   "execution_count": 19,
   "id": "92f69731",
   "metadata": {
    "scrolled": true
   },
   "outputs": [],
   "source": [
    "%%capture\n",
    "\n",
    "ufo = ufo.query('Date_label != \"unspecified\"')\n",
    "\n",
    "ufo['Year'] = ufo.Date_label.apply(lambda x: int(x[-4:]))\n",
    "\n",
    "ufo = ufo.query(\"Year >= 1900\")"
   ]
  },
  {
   "cell_type": "markdown",
   "id": "66a0cfe8",
   "metadata": {},
   "source": [
    "Without the following insertion of complete year, '68' would be converted to '2068'"
   ]
  },
  {
   "cell_type": "code",
   "execution_count": 22,
   "id": "2e49d1d5",
   "metadata": {},
   "outputs": [],
   "source": [
    "times = []\n",
    "\n",
    "for row in ufo.itertuples():\n",
    "    date_complete_year = re.sub('/(.. )', '/' + str(row.Year) + ' ', row.Observed)\n",
    "    times.append(date_complete_year)\n",
    "\n",
    "ufo['Observed'] = pd.to_datetime(times, format=\"%m/%d/%Y %H:%M\", errors='coerce')"
   ]
  },
  {
   "cell_type": "markdown",
   "id": "15beb2d0",
   "metadata": {},
   "source": [
    "About 1.3% of the dates/times were not complete, even though not marked as 'unspecified'  \n",
    "\n",
    "An example of such entry is given below (time are missing)"
   ]
  },
  {
   "cell_type": "code",
   "execution_count": 23,
   "id": "1d629864",
   "metadata": {},
   "outputs": [
    {
     "data": {
      "text/plain": [
       "0.013"
      ]
     },
     "execution_count": 23,
     "metadata": {},
     "output_type": "execute_result"
    }
   ],
   "source": [
    "round(ufo.Observed.isnull().sum() / ufo.shape[0], 3)"
   ]
  },
  {
   "cell_type": "code",
   "execution_count": 26,
   "id": "d88284cd",
   "metadata": {},
   "outputs": [
    {
     "data": {
      "text/html": [
       "<div>\n",
       "<style scoped>\n",
       "    .dataframe tbody tr th:only-of-type {\n",
       "        vertical-align: middle;\n",
       "    }\n",
       "\n",
       "    .dataframe tbody tr th {\n",
       "        vertical-align: top;\n",
       "    }\n",
       "\n",
       "    .dataframe thead th {\n",
       "        text-align: right;\n",
       "    }\n",
       "</style>\n",
       "<table border=\"1\" class=\"dataframe\">\n",
       "  <thead>\n",
       "    <tr style=\"text-align: right;\">\n",
       "      <th></th>\n",
       "      <th>as imported</th>\n",
       "      <th>working</th>\n",
       "    </tr>\n",
       "  </thead>\n",
       "  <tbody>\n",
       "    <tr>\n",
       "      <th>City</th>\n",
       "      <td>Meeting Creek (Canada)</td>\n",
       "      <td>Meeting Creek (Canada)</td>\n",
       "    </tr>\n",
       "    <tr>\n",
       "      <th>Date / Time</th>\n",
       "      <td>12/24/14</td>\n",
       "      <td>NaN</td>\n",
       "    </tr>\n",
       "    <tr>\n",
       "      <th>Date_label</th>\n",
       "      <td>12_1914</td>\n",
       "      <td>12_1914</td>\n",
       "    </tr>\n",
       "    <tr>\n",
       "      <th>Duration</th>\n",
       "      <td>NaN</td>\n",
       "      <td>NaN</td>\n",
       "    </tr>\n",
       "    <tr>\n",
       "      <th>Observed</th>\n",
       "      <td>NaN</td>\n",
       "      <td>NaT</td>\n",
       "    </tr>\n",
       "    <tr>\n",
       "      <th>Posted</th>\n",
       "      <td>7/7/17</td>\n",
       "      <td>7/7/17</td>\n",
       "    </tr>\n",
       "    <tr>\n",
       "      <th>Shape</th>\n",
       "      <td>NaN</td>\n",
       "      <td>NaN</td>\n",
       "    </tr>\n",
       "    <tr>\n",
       "      <th>State</th>\n",
       "      <td>SK</td>\n",
       "      <td>SK</td>\n",
       "    </tr>\n",
       "    <tr>\n",
       "      <th>Summary</th>\n",
       "      <td>I initially submitted this several years ago, ...</td>\n",
       "      <td>I initially submitted this several years ago, ...</td>\n",
       "    </tr>\n",
       "    <tr>\n",
       "      <th>Year</th>\n",
       "      <td>NaN</td>\n",
       "      <td>1914</td>\n",
       "    </tr>\n",
       "  </tbody>\n",
       "</table>\n",
       "</div>"
      ],
      "text/plain": [
       "                                                   as imported  \\\n",
       "City                                    Meeting Creek (Canada)   \n",
       "Date / Time                                           12/24/14   \n",
       "Date_label                                             12_1914   \n",
       "Duration                                                   NaN   \n",
       "Observed                                                   NaN   \n",
       "Posted                                                  7/7/17   \n",
       "Shape                                                      NaN   \n",
       "State                                                       SK   \n",
       "Summary      I initially submitted this several years ago, ...   \n",
       "Year                                                       NaN   \n",
       "\n",
       "                                                       working  \n",
       "City                                    Meeting Creek (Canada)  \n",
       "Date / Time                                                NaN  \n",
       "Date_label                                             12_1914  \n",
       "Duration                                                   NaN  \n",
       "Observed                                                   NaT  \n",
       "Posted                                                  7/7/17  \n",
       "Shape                                                      NaN  \n",
       "State                                                       SK  \n",
       "Summary      I initially submitted this several years ago, ...  \n",
       "Year                                                      1914  "
      ]
     },
     "execution_count": 26,
     "metadata": {},
     "output_type": "execute_result"
    }
   ],
   "source": [
    "pd.DataFrame({\n",
    "                'as imported': ufo_by_date.loc[125256, :],\n",
    "                'working': ufo.loc[125256, :]\n",
    "             })"
   ]
  },
  {
   "cell_type": "markdown",
   "id": "c14e3e7d",
   "metadata": {},
   "source": [
    "In the case of `Posted` date, conversion to `datetime` is ambiguous anyway, but we will do it (maybe we will not use this column at all)"
   ]
  },
  {
   "cell_type": "code",
   "execution_count": 27,
   "id": "e93ca059",
   "metadata": {},
   "outputs": [],
   "source": [
    "ufo.Posted = pd.to_datetime(ufo.Posted, format=\"%m/%d/%y\", errors='coerce')"
   ]
  },
  {
   "cell_type": "markdown",
   "id": "5122aa40",
   "metadata": {},
   "source": [
    "We don't need `Date_label` and `Year` columns any more."
   ]
  },
  {
   "cell_type": "code",
   "execution_count": 28,
   "id": "15e00a01",
   "metadata": {},
   "outputs": [],
   "source": [
    "ufo.drop(columns=['Date_label', 'Year'], inplace=True)"
   ]
  },
  {
   "cell_type": "markdown",
   "id": "d01ac733",
   "metadata": {},
   "source": [
    "Checking non-null data"
   ]
  },
  {
   "cell_type": "markdown",
   "id": "250b5395",
   "metadata": {},
   "source": [
    "There are 49 totally incomplete observations (null data in `Observed`, `City`, `State`, `Shape`, and `Duration` columns). Since we do not aim at analyzing textual data, these observations will be removed."
   ]
  },
  {
   "cell_type": "code",
   "execution_count": 29,
   "id": "91afc03c",
   "metadata": {},
   "outputs": [
    {
     "data": {
      "text/plain": [
       "49"
      ]
     },
     "execution_count": 29,
     "metadata": {},
     "output_type": "execute_result"
    }
   ],
   "source": [
    "ufo[ufo[['Observed', 'City', 'Shape', 'State', 'Duration']].isnull().sum(axis=1) == 5].shape[0]"
   ]
  },
  {
   "cell_type": "code",
   "execution_count": 30,
   "id": "9e69cd8d",
   "metadata": {},
   "outputs": [],
   "source": [
    "ufo = ufo[ufo[['Observed', 'City', 'Shape', 'State', 'Duration']].isnull().sum(axis=1) < 5]"
   ]
  },
  {
   "cell_type": "markdown",
   "id": "cdfba278",
   "metadata": {},
   "source": [
    "Working with `States` column: we will find the states abbreviations which are not in the `states` dataframe and correct the errors in data input"
   ]
  },
  {
   "cell_type": "code",
   "execution_count": 31,
   "id": "e1a256d0",
   "metadata": {},
   "outputs": [
    {
     "data": {
      "text/plain": [
       "PQ    102\n",
       "NF     43\n",
       "SA     41\n",
       "YK      6\n",
       "Fl      5\n",
       "QB      1\n",
       "Ca      1\n",
       "M0      1\n",
       "Name: State, dtype: int64"
      ]
     },
     "execution_count": 31,
     "metadata": {},
     "output_type": "execute_result"
    }
   ],
   "source": [
    "ufo.query('State not in @states.Abbreviation.values').query('not State.isnull()').State.value_counts()"
   ]
  },
  {
   "cell_type": "markdown",
   "id": "d6fb97e4",
   "metadata": {},
   "source": [
    "* PQ is another assignment of Quebec (QC)\n",
    "* NF stands for Newfoundland and Labrador (which is NL in `ufo` dataset)\n",
    "* SA is for Sounth Australia (will keep it in the dataframe as is)\n",
    "* YK seems to stand for Yukon (YT)\n",
    "* Fl is misprinted FL (Florida)\n",
    "* QB seems to be Quebec (QC) as well\n",
    "* M0 is misprinted MO\n",
    "* Ca is misprinted CA"
   ]
  },
  {
   "cell_type": "code",
   "execution_count": 34,
   "id": "0814c6d6",
   "metadata": {},
   "outputs": [],
   "source": [
    "new_state = {\n",
    "                'State': {'PQ': 'QC',\n",
    "                          'NF': 'NL',\n",
    "                          'SA': np.nan,\n",
    "                          'YK': 'YT',\n",
    "                          'Fl': 'FL',\n",
    "                          'QB': 'QC',\n",
    "                          'M0': 'MO',\n",
    "                          'Ca': 'CA'}\n",
    "            }\n",
    "\n",
    "ufo = ufo.replace(new_state)"
   ]
  },
  {
   "cell_type": "markdown",
   "id": "9f4e4df9",
   "metadata": {},
   "source": [
    "Now we will analyze the duplicates"
   ]
  },
  {
   "cell_type": "markdown",
   "id": "07f852bb",
   "metadata": {},
   "source": [
    "5 cases have complete duplicates in the data"
   ]
  },
  {
   "cell_type": "code",
   "execution_count": 35,
   "id": "2c8d3219",
   "metadata": {},
   "outputs": [
    {
     "data": {
      "text/html": [
       "<div>\n",
       "<style scoped>\n",
       "    .dataframe tbody tr th:only-of-type {\n",
       "        vertical-align: middle;\n",
       "    }\n",
       "\n",
       "    .dataframe tbody tr th {\n",
       "        vertical-align: top;\n",
       "    }\n",
       "\n",
       "    .dataframe thead th {\n",
       "        text-align: right;\n",
       "    }\n",
       "</style>\n",
       "<table border=\"1\" class=\"dataframe\">\n",
       "  <thead>\n",
       "    <tr style=\"text-align: right;\">\n",
       "      <th></th>\n",
       "      <th>Observed</th>\n",
       "      <th>City</th>\n",
       "      <th>State</th>\n",
       "      <th>Shape</th>\n",
       "      <th>Duration</th>\n",
       "      <th>Summary</th>\n",
       "      <th>Posted</th>\n",
       "    </tr>\n",
       "  </thead>\n",
       "  <tbody>\n",
       "    <tr>\n",
       "      <th>122371</th>\n",
       "      <td>2015-11-15 05:20:00</td>\n",
       "      <td>Reno</td>\n",
       "      <td>NV</td>\n",
       "      <td>Triangle</td>\n",
       "      <td>15 seconds</td>\n",
       "      <td>Black triangle. Only discernible by observing ...</td>\n",
       "      <td>2015-12-10</td>\n",
       "    </tr>\n",
       "    <tr>\n",
       "      <th>122372</th>\n",
       "      <td>2015-11-15 05:20:00</td>\n",
       "      <td>Reno</td>\n",
       "      <td>NV</td>\n",
       "      <td>Triangle</td>\n",
       "      <td>15 seconds</td>\n",
       "      <td>Black triangle. Only discernible by observing ...</td>\n",
       "      <td>2015-12-10</td>\n",
       "    </tr>\n",
       "    <tr>\n",
       "      <th>25160</th>\n",
       "      <td>2019-03-16 20:45:00</td>\n",
       "      <td>Virginia Beach</td>\n",
       "      <td>VA</td>\n",
       "      <td>Circle</td>\n",
       "      <td>5 minutes</td>\n",
       "      <td>Orange orb. ((anonymous report))</td>\n",
       "      <td>2019-03-21</td>\n",
       "    </tr>\n",
       "    <tr>\n",
       "      <th>25161</th>\n",
       "      <td>2019-03-16 20:45:00</td>\n",
       "      <td>Virginia Beach</td>\n",
       "      <td>VA</td>\n",
       "      <td>Circle</td>\n",
       "      <td>5 minutes</td>\n",
       "      <td>Orange orb. ((anonymous report))</td>\n",
       "      <td>2019-03-21</td>\n",
       "    </tr>\n",
       "    <tr>\n",
       "      <th>101225</th>\n",
       "      <td>2020-09-14 06:53:00</td>\n",
       "      <td>Aliquippa</td>\n",
       "      <td>PA</td>\n",
       "      <td>NaN</td>\n",
       "      <td>NaN</td>\n",
       "      <td>MADAR Node 68</td>\n",
       "      <td>2020-11-05</td>\n",
       "    </tr>\n",
       "    <tr>\n",
       "      <th>101226</th>\n",
       "      <td>2020-09-14 06:53:00</td>\n",
       "      <td>Aliquippa</td>\n",
       "      <td>PA</td>\n",
       "      <td>NaN</td>\n",
       "      <td>NaN</td>\n",
       "      <td>MADAR Node 68</td>\n",
       "      <td>2020-11-05</td>\n",
       "    </tr>\n",
       "    <tr>\n",
       "      <th>88646</th>\n",
       "      <td>2021-08-17 22:59:00</td>\n",
       "      <td>Kennett square</td>\n",
       "      <td>PA</td>\n",
       "      <td>Light</td>\n",
       "      <td>15 minutes</td>\n",
       "      <td>Color changing, circular glowing light spotted...</td>\n",
       "      <td>2021-08-20</td>\n",
       "    </tr>\n",
       "    <tr>\n",
       "      <th>88647</th>\n",
       "      <td>2021-08-17 22:59:00</td>\n",
       "      <td>Kennett square</td>\n",
       "      <td>PA</td>\n",
       "      <td>Light</td>\n",
       "      <td>15 minutes</td>\n",
       "      <td>Color changing, circular glowing light spotted...</td>\n",
       "      <td>2021-08-20</td>\n",
       "    </tr>\n",
       "    <tr>\n",
       "      <th>8844</th>\n",
       "      <td>NaT</td>\n",
       "      <td>Grand Junction</td>\n",
       "      <td>CO</td>\n",
       "      <td>NaN</td>\n",
       "      <td>NaN</td>\n",
       "      <td>MADAR Node 75 A number of anomalies this day</td>\n",
       "      <td>2020-01-31</td>\n",
       "    </tr>\n",
       "    <tr>\n",
       "      <th>8863</th>\n",
       "      <td>NaT</td>\n",
       "      <td>Grand Junction</td>\n",
       "      <td>CO</td>\n",
       "      <td>NaN</td>\n",
       "      <td>NaN</td>\n",
       "      <td>MADAR Node 75 A number of anomalies this day</td>\n",
       "      <td>2020-01-31</td>\n",
       "    </tr>\n",
       "    <tr>\n",
       "      <th>8887</th>\n",
       "      <td>NaT</td>\n",
       "      <td>Grand Junction</td>\n",
       "      <td>CO</td>\n",
       "      <td>NaN</td>\n",
       "      <td>NaN</td>\n",
       "      <td>MADAR Node 75 A number of anomalies this day</td>\n",
       "      <td>2020-01-31</td>\n",
       "    </tr>\n",
       "    <tr>\n",
       "      <th>8907</th>\n",
       "      <td>NaT</td>\n",
       "      <td>Grand Junction</td>\n",
       "      <td>CO</td>\n",
       "      <td>NaN</td>\n",
       "      <td>NaN</td>\n",
       "      <td>MADAR Node 75 A number of anomalies this day</td>\n",
       "      <td>2020-01-31</td>\n",
       "    </tr>\n",
       "  </tbody>\n",
       "</table>\n",
       "</div>"
      ],
      "text/plain": [
       "                  Observed            City State     Shape    Duration  \\\n",
       "122371 2015-11-15 05:20:00            Reno    NV  Triangle  15 seconds   \n",
       "122372 2015-11-15 05:20:00            Reno    NV  Triangle  15 seconds   \n",
       "25160  2019-03-16 20:45:00  Virginia Beach    VA    Circle   5 minutes   \n",
       "25161  2019-03-16 20:45:00  Virginia Beach    VA    Circle   5 minutes   \n",
       "101225 2020-09-14 06:53:00       Aliquippa    PA       NaN         NaN   \n",
       "101226 2020-09-14 06:53:00       Aliquippa    PA       NaN         NaN   \n",
       "88646  2021-08-17 22:59:00  Kennett square    PA     Light  15 minutes   \n",
       "88647  2021-08-17 22:59:00  Kennett square    PA     Light  15 minutes   \n",
       "8844                   NaT  Grand Junction    CO       NaN         NaN   \n",
       "8863                   NaT  Grand Junction    CO       NaN         NaN   \n",
       "8887                   NaT  Grand Junction    CO       NaN         NaN   \n",
       "8907                   NaT  Grand Junction    CO       NaN         NaN   \n",
       "\n",
       "                                                  Summary     Posted  \n",
       "122371  Black triangle. Only discernible by observing ... 2015-12-10  \n",
       "122372  Black triangle. Only discernible by observing ... 2015-12-10  \n",
       "25160                    Orange orb. ((anonymous report)) 2019-03-21  \n",
       "25161                    Orange orb. ((anonymous report)) 2019-03-21  \n",
       "101225                                      MADAR Node 68 2020-11-05  \n",
       "101226                                      MADAR Node 68 2020-11-05  \n",
       "88646   Color changing, circular glowing light spotted... 2021-08-20  \n",
       "88647   Color changing, circular glowing light spotted... 2021-08-20  \n",
       "8844         MADAR Node 75 A number of anomalies this day 2020-01-31  \n",
       "8863         MADAR Node 75 A number of anomalies this day 2020-01-31  \n",
       "8887         MADAR Node 75 A number of anomalies this day 2020-01-31  \n",
       "8907         MADAR Node 75 A number of anomalies this day 2020-01-31  "
      ]
     },
     "execution_count": 35,
     "metadata": {},
     "output_type": "execute_result"
    }
   ],
   "source": [
    "ufo[ufo.duplicated(['Observed', 'City', 'State', 'Shape', 'Duration', 'Summary', 'Posted'], keep=False)]\\\n",
    "    .sort_values(by=['Observed', 'City', 'State', 'Shape', 'Duration', 'Summary', 'Posted'])"
   ]
  },
  {
   "cell_type": "markdown",
   "id": "50afd1c7",
   "metadata": {},
   "source": [
    "Several more observations differ only in the Posted date"
   ]
  },
  {
   "cell_type": "code",
   "execution_count": 36,
   "id": "93efbdf1",
   "metadata": {},
   "outputs": [
    {
     "data": {
      "text/html": [
       "<div>\n",
       "<style scoped>\n",
       "    .dataframe tbody tr th:only-of-type {\n",
       "        vertical-align: middle;\n",
       "    }\n",
       "\n",
       "    .dataframe tbody tr th {\n",
       "        vertical-align: top;\n",
       "    }\n",
       "\n",
       "    .dataframe thead th {\n",
       "        text-align: right;\n",
       "    }\n",
       "</style>\n",
       "<table border=\"1\" class=\"dataframe\">\n",
       "  <thead>\n",
       "    <tr style=\"text-align: right;\">\n",
       "      <th></th>\n",
       "      <th>Observed</th>\n",
       "      <th>City</th>\n",
       "      <th>State</th>\n",
       "      <th>Shape</th>\n",
       "      <th>Duration</th>\n",
       "      <th>Summary</th>\n",
       "      <th>Posted</th>\n",
       "    </tr>\n",
       "  </thead>\n",
       "  <tbody>\n",
       "    <tr>\n",
       "      <th>122371</th>\n",
       "      <td>2015-11-15 05:20:00</td>\n",
       "      <td>Reno</td>\n",
       "      <td>NV</td>\n",
       "      <td>Triangle</td>\n",
       "      <td>15 seconds</td>\n",
       "      <td>Black triangle. Only discernible by observing ...</td>\n",
       "      <td>2015-12-10</td>\n",
       "    </tr>\n",
       "    <tr>\n",
       "      <th>122372</th>\n",
       "      <td>2015-11-15 05:20:00</td>\n",
       "      <td>Reno</td>\n",
       "      <td>NV</td>\n",
       "      <td>Triangle</td>\n",
       "      <td>15 seconds</td>\n",
       "      <td>Black triangle. Only discernible by observing ...</td>\n",
       "      <td>2015-12-10</td>\n",
       "    </tr>\n",
       "    <tr>\n",
       "      <th>86900</th>\n",
       "      <td>2017-08-12 22:30:00</td>\n",
       "      <td>Mount Pleasant</td>\n",
       "      <td>OH</td>\n",
       "      <td>Flash</td>\n",
       "      <td>12 minutes</td>\n",
       "      <td>White flashing light moving irregularly throug...</td>\n",
       "      <td>2017-08-24</td>\n",
       "    </tr>\n",
       "    <tr>\n",
       "      <th>86899</th>\n",
       "      <td>2017-08-12 22:30:00</td>\n",
       "      <td>Mount Pleasant</td>\n",
       "      <td>OH</td>\n",
       "      <td>Flash</td>\n",
       "      <td>12 minutes</td>\n",
       "      <td>White flashing light moving irregularly throug...</td>\n",
       "      <td>2017-09-05</td>\n",
       "    </tr>\n",
       "    <tr>\n",
       "      <th>8444</th>\n",
       "      <td>2019-01-05 14:00:00</td>\n",
       "      <td>Detroit</td>\n",
       "      <td>MI</td>\n",
       "      <td>Flash</td>\n",
       "      <td>10 minutes</td>\n",
       "      <td>We witnessed 3 bright objects flying in a circ...</td>\n",
       "      <td>2019-01-11</td>\n",
       "    </tr>\n",
       "    <tr>\n",
       "      <th>8445</th>\n",
       "      <td>2019-01-05 14:00:00</td>\n",
       "      <td>Detroit</td>\n",
       "      <td>MI</td>\n",
       "      <td>Flash</td>\n",
       "      <td>10 minutes</td>\n",
       "      <td>We witnessed 3 bright objects flying in a circ...</td>\n",
       "      <td>2019-01-17</td>\n",
       "    </tr>\n",
       "    <tr>\n",
       "      <th>25160</th>\n",
       "      <td>2019-03-16 20:45:00</td>\n",
       "      <td>Virginia Beach</td>\n",
       "      <td>VA</td>\n",
       "      <td>Circle</td>\n",
       "      <td>5 minutes</td>\n",
       "      <td>Orange orb. ((anonymous report))</td>\n",
       "      <td>2019-03-21</td>\n",
       "    </tr>\n",
       "    <tr>\n",
       "      <th>25161</th>\n",
       "      <td>2019-03-16 20:45:00</td>\n",
       "      <td>Virginia Beach</td>\n",
       "      <td>VA</td>\n",
       "      <td>Circle</td>\n",
       "      <td>5 minutes</td>\n",
       "      <td>Orange orb. ((anonymous report))</td>\n",
       "      <td>2019-03-21</td>\n",
       "    </tr>\n",
       "    <tr>\n",
       "      <th>113296</th>\n",
       "      <td>2019-10-04 03:00:00</td>\n",
       "      <td>Danville (Canada)</td>\n",
       "      <td>QC</td>\n",
       "      <td>Unknown</td>\n",
       "      <td>15 seconds</td>\n",
       "      <td>2 perfect apples appeared out of nowhere, 1 UF...</td>\n",
       "      <td>2021-07-31</td>\n",
       "    </tr>\n",
       "    <tr>\n",
       "      <th>113297</th>\n",
       "      <td>2019-10-04 03:00:00</td>\n",
       "      <td>Danville (Canada)</td>\n",
       "      <td>QC</td>\n",
       "      <td>Unknown</td>\n",
       "      <td>15 seconds</td>\n",
       "      <td>2 perfect apples appeared out of nowhere, 1 UF...</td>\n",
       "      <td>2021-08-16</td>\n",
       "    </tr>\n",
       "    <tr>\n",
       "      <th>8839</th>\n",
       "      <td>2020-01-12 05:37:00</td>\n",
       "      <td>Mountlake Terrace</td>\n",
       "      <td>WA</td>\n",
       "      <td>NaN</td>\n",
       "      <td>NaN</td>\n",
       "      <td>MADAR Node 100</td>\n",
       "      <td>2020-01-31</td>\n",
       "    </tr>\n",
       "    <tr>\n",
       "      <th>8840</th>\n",
       "      <td>2020-01-12 05:37:00</td>\n",
       "      <td>Mountlake Terrace</td>\n",
       "      <td>WA</td>\n",
       "      <td>NaN</td>\n",
       "      <td>NaN</td>\n",
       "      <td>MADAR Node 100</td>\n",
       "      <td>2020-02-07</td>\n",
       "    </tr>\n",
       "    <tr>\n",
       "      <th>58492</th>\n",
       "      <td>2020-06-20 21:56:00</td>\n",
       "      <td>Grand Junction</td>\n",
       "      <td>CO</td>\n",
       "      <td>NaN</td>\n",
       "      <td>NaN</td>\n",
       "      <td>MADAR Node 75</td>\n",
       "      <td>2020-07-03</td>\n",
       "    </tr>\n",
       "    <tr>\n",
       "      <th>58491</th>\n",
       "      <td>2020-06-20 21:56:00</td>\n",
       "      <td>Grand Junction</td>\n",
       "      <td>CO</td>\n",
       "      <td>NaN</td>\n",
       "      <td>NaN</td>\n",
       "      <td>MADAR Node 75</td>\n",
       "      <td>2020-07-09</td>\n",
       "    </tr>\n",
       "    <tr>\n",
       "      <th>101225</th>\n",
       "      <td>2020-09-14 06:53:00</td>\n",
       "      <td>Aliquippa</td>\n",
       "      <td>PA</td>\n",
       "      <td>NaN</td>\n",
       "      <td>NaN</td>\n",
       "      <td>MADAR Node 68</td>\n",
       "      <td>2020-11-05</td>\n",
       "    </tr>\n",
       "    <tr>\n",
       "      <th>101226</th>\n",
       "      <td>2020-09-14 06:53:00</td>\n",
       "      <td>Aliquippa</td>\n",
       "      <td>PA</td>\n",
       "      <td>NaN</td>\n",
       "      <td>NaN</td>\n",
       "      <td>MADAR Node 68</td>\n",
       "      <td>2020-11-05</td>\n",
       "    </tr>\n",
       "    <tr>\n",
       "      <th>58820</th>\n",
       "      <td>2021-06-18 16:55:00</td>\n",
       "      <td>Port Vila (Vanuatu)</td>\n",
       "      <td>NaN</td>\n",
       "      <td>Other</td>\n",
       "      <td>3 minute</td>\n",
       "      <td>That something just show him self like has a e...</td>\n",
       "      <td>2021-07-31</td>\n",
       "    </tr>\n",
       "    <tr>\n",
       "      <th>58819</th>\n",
       "      <td>2021-06-18 16:55:00</td>\n",
       "      <td>Port Vila (Vanuatu)</td>\n",
       "      <td>NaN</td>\n",
       "      <td>Other</td>\n",
       "      <td>3 minute</td>\n",
       "      <td>That something just show him self like has a e...</td>\n",
       "      <td>2021-08-16</td>\n",
       "    </tr>\n",
       "    <tr>\n",
       "      <th>58806</th>\n",
       "      <td>2021-06-19 23:30:00</td>\n",
       "      <td>Beckley</td>\n",
       "      <td>WV</td>\n",
       "      <td>Light</td>\n",
       "      <td>2 minutes</td>\n",
       "      <td>Lighted object flies directly at United 1520 a...</td>\n",
       "      <td>2021-07-31</td>\n",
       "    </tr>\n",
       "    <tr>\n",
       "      <th>58807</th>\n",
       "      <td>2021-06-19 23:30:00</td>\n",
       "      <td>Beckley</td>\n",
       "      <td>WV</td>\n",
       "      <td>Light</td>\n",
       "      <td>2 minutes</td>\n",
       "      <td>Lighted object flies directly at United 1520 a...</td>\n",
       "      <td>2021-08-16</td>\n",
       "    </tr>\n",
       "    <tr>\n",
       "      <th>88646</th>\n",
       "      <td>2021-08-17 22:59:00</td>\n",
       "      <td>Kennett square</td>\n",
       "      <td>PA</td>\n",
       "      <td>Light</td>\n",
       "      <td>15 minutes</td>\n",
       "      <td>Color changing, circular glowing light spotted...</td>\n",
       "      <td>2021-08-20</td>\n",
       "    </tr>\n",
       "    <tr>\n",
       "      <th>88647</th>\n",
       "      <td>2021-08-17 22:59:00</td>\n",
       "      <td>Kennett square</td>\n",
       "      <td>PA</td>\n",
       "      <td>Light</td>\n",
       "      <td>15 minutes</td>\n",
       "      <td>Color changing, circular glowing light spotted...</td>\n",
       "      <td>2021-08-20</td>\n",
       "    </tr>\n",
       "    <tr>\n",
       "      <th>8844</th>\n",
       "      <td>NaT</td>\n",
       "      <td>Grand Junction</td>\n",
       "      <td>CO</td>\n",
       "      <td>NaN</td>\n",
       "      <td>NaN</td>\n",
       "      <td>MADAR Node 75 A number of anomalies this day</td>\n",
       "      <td>2020-01-31</td>\n",
       "    </tr>\n",
       "    <tr>\n",
       "      <th>8863</th>\n",
       "      <td>NaT</td>\n",
       "      <td>Grand Junction</td>\n",
       "      <td>CO</td>\n",
       "      <td>NaN</td>\n",
       "      <td>NaN</td>\n",
       "      <td>MADAR Node 75 A number of anomalies this day</td>\n",
       "      <td>2020-01-31</td>\n",
       "    </tr>\n",
       "    <tr>\n",
       "      <th>8887</th>\n",
       "      <td>NaT</td>\n",
       "      <td>Grand Junction</td>\n",
       "      <td>CO</td>\n",
       "      <td>NaN</td>\n",
       "      <td>NaN</td>\n",
       "      <td>MADAR Node 75 A number of anomalies this day</td>\n",
       "      <td>2020-01-31</td>\n",
       "    </tr>\n",
       "    <tr>\n",
       "      <th>8907</th>\n",
       "      <td>NaT</td>\n",
       "      <td>Grand Junction</td>\n",
       "      <td>CO</td>\n",
       "      <td>NaN</td>\n",
       "      <td>NaN</td>\n",
       "      <td>MADAR Node 75 A number of anomalies this day</td>\n",
       "      <td>2020-01-31</td>\n",
       "    </tr>\n",
       "  </tbody>\n",
       "</table>\n",
       "</div>"
      ],
      "text/plain": [
       "                  Observed                 City State     Shape    Duration  \\\n",
       "122371 2015-11-15 05:20:00                 Reno    NV  Triangle  15 seconds   \n",
       "122372 2015-11-15 05:20:00                 Reno    NV  Triangle  15 seconds   \n",
       "86900  2017-08-12 22:30:00       Mount Pleasant    OH     Flash  12 minutes   \n",
       "86899  2017-08-12 22:30:00       Mount Pleasant    OH     Flash  12 minutes   \n",
       "8444   2019-01-05 14:00:00              Detroit    MI     Flash  10 minutes   \n",
       "8445   2019-01-05 14:00:00              Detroit    MI     Flash  10 minutes   \n",
       "25160  2019-03-16 20:45:00       Virginia Beach    VA    Circle   5 minutes   \n",
       "25161  2019-03-16 20:45:00       Virginia Beach    VA    Circle   5 minutes   \n",
       "113296 2019-10-04 03:00:00    Danville (Canada)    QC   Unknown  15 seconds   \n",
       "113297 2019-10-04 03:00:00    Danville (Canada)    QC   Unknown  15 seconds   \n",
       "8839   2020-01-12 05:37:00    Mountlake Terrace    WA       NaN         NaN   \n",
       "8840   2020-01-12 05:37:00    Mountlake Terrace    WA       NaN         NaN   \n",
       "58492  2020-06-20 21:56:00       Grand Junction    CO       NaN         NaN   \n",
       "58491  2020-06-20 21:56:00       Grand Junction    CO       NaN         NaN   \n",
       "101225 2020-09-14 06:53:00            Aliquippa    PA       NaN         NaN   \n",
       "101226 2020-09-14 06:53:00            Aliquippa    PA       NaN         NaN   \n",
       "58820  2021-06-18 16:55:00  Port Vila (Vanuatu)   NaN     Other    3 minute   \n",
       "58819  2021-06-18 16:55:00  Port Vila (Vanuatu)   NaN     Other    3 minute   \n",
       "58806  2021-06-19 23:30:00              Beckley    WV     Light   2 minutes   \n",
       "58807  2021-06-19 23:30:00              Beckley    WV     Light   2 minutes   \n",
       "88646  2021-08-17 22:59:00       Kennett square    PA     Light  15 minutes   \n",
       "88647  2021-08-17 22:59:00       Kennett square    PA     Light  15 minutes   \n",
       "8844                   NaT       Grand Junction    CO       NaN         NaN   \n",
       "8863                   NaT       Grand Junction    CO       NaN         NaN   \n",
       "8887                   NaT       Grand Junction    CO       NaN         NaN   \n",
       "8907                   NaT       Grand Junction    CO       NaN         NaN   \n",
       "\n",
       "                                                  Summary     Posted  \n",
       "122371  Black triangle. Only discernible by observing ... 2015-12-10  \n",
       "122372  Black triangle. Only discernible by observing ... 2015-12-10  \n",
       "86900   White flashing light moving irregularly throug... 2017-08-24  \n",
       "86899   White flashing light moving irregularly throug... 2017-09-05  \n",
       "8444    We witnessed 3 bright objects flying in a circ... 2019-01-11  \n",
       "8445    We witnessed 3 bright objects flying in a circ... 2019-01-17  \n",
       "25160                    Orange orb. ((anonymous report)) 2019-03-21  \n",
       "25161                    Orange orb. ((anonymous report)) 2019-03-21  \n",
       "113296  2 perfect apples appeared out of nowhere, 1 UF... 2021-07-31  \n",
       "113297  2 perfect apples appeared out of nowhere, 1 UF... 2021-08-16  \n",
       "8839                                       MADAR Node 100 2020-01-31  \n",
       "8840                                       MADAR Node 100 2020-02-07  \n",
       "58492                                       MADAR Node 75 2020-07-03  \n",
       "58491                                       MADAR Node 75 2020-07-09  \n",
       "101225                                      MADAR Node 68 2020-11-05  \n",
       "101226                                      MADAR Node 68 2020-11-05  \n",
       "58820   That something just show him self like has a e... 2021-07-31  \n",
       "58819   That something just show him self like has a e... 2021-08-16  \n",
       "58806   Lighted object flies directly at United 1520 a... 2021-07-31  \n",
       "58807   Lighted object flies directly at United 1520 a... 2021-08-16  \n",
       "88646   Color changing, circular glowing light spotted... 2021-08-20  \n",
       "88647   Color changing, circular glowing light spotted... 2021-08-20  \n",
       "8844         MADAR Node 75 A number of anomalies this day 2020-01-31  \n",
       "8863         MADAR Node 75 A number of anomalies this day 2020-01-31  \n",
       "8887         MADAR Node 75 A number of anomalies this day 2020-01-31  \n",
       "8907         MADAR Node 75 A number of anomalies this day 2020-01-31  "
      ]
     },
     "execution_count": 36,
     "metadata": {},
     "output_type": "execute_result"
    }
   ],
   "source": [
    "ufo[ufo.duplicated(['Observed', 'City', 'State', 'Shape', 'Duration', 'Summary'], keep=False)]\\\n",
    "    .sort_values(by=['Observed', 'City', 'State', 'Shape', 'Duration', 'Summary', 'Posted'])"
   ]
  },
  {
   "cell_type": "markdown",
   "id": "b2e0821a",
   "metadata": {},
   "source": [
    "Quite many observations share place, time, and duration, but Summary is different.\n",
    "\n",
    "Arbitrary inspection of several first cases has shown that there are minor textual differences in the Summary field. It seems safe to consider them true duplicates.\n",
    "\n",
    "No more investigation on duplicates on place, time and duration will be performed - let us consider that if at least duration is different, this can indicate multiple objects or multiple (=more reliable) observations of the same object."
   ]
  },
  {
   "cell_type": "code",
   "execution_count": 41,
   "id": "629ddbe2",
   "metadata": {},
   "outputs": [
    {
     "data": {
      "text/plain": [
       "(1192, 7)"
      ]
     },
     "execution_count": 41,
     "metadata": {},
     "output_type": "execute_result"
    }
   ],
   "source": [
    "ufo[ufo.duplicated(['Observed', 'City', 'State', 'Shape', 'Duration'], keep=False)]\\\n",
    "    .shape"
   ]
  },
  {
   "cell_type": "markdown",
   "id": "628ec7b0",
   "metadata": {},
   "source": [
    "Hence, the decision is to remove duplicates basing on `Observed`, `City`, `State`, `Shape`, and `Duration` fields.\n",
    "\n",
    "This will be done later, upon inspection of the `Shape` column."
   ]
  },
  {
   "cell_type": "code",
   "execution_count": 38,
   "id": "ecf05837",
   "metadata": {},
   "outputs": [
    {
     "data": {
      "text/plain": [
       "changed           1\n",
       "changing       3283\n",
       "chevron        1547\n",
       "cigar          3267\n",
       "circle        14215\n",
       "cone            538\n",
       "crescent          2\n",
       "cross           433\n",
       "cylinder       2095\n",
       "delta             8\n",
       "diamond        1953\n",
       "disk           8016\n",
       "dome              1\n",
       "egg            1170\n",
       "fireball       9524\n",
       "flare             1\n",
       "flash          2372\n",
       "formation      4502\n",
       "hexagon           1\n",
       "light         27537\n",
       "other          9272\n",
       "oval           5859\n",
       "pyramid           1\n",
       "rectangle      2302\n",
       "round             2\n",
       "sphere         8798\n",
       "teardrop       1168\n",
       "triangle      12163\n",
       "triangular        1\n",
       "unknown        9218\n",
       "Name: Shape, dtype: int64"
      ]
     },
     "execution_count": 38,
     "metadata": {},
     "output_type": "execute_result"
    }
   ],
   "source": [
    "ufo.Shape.str.lower().value_counts().sort_index()"
   ]
  },
  {
   "cell_type": "markdown",
   "id": "fe4a0c99",
   "metadata": {},
   "source": [
    "It seems reasonable to \n",
    "1) ignore case and  \n",
    "2) consider (other joinings are possible but questionable):\n",
    "* 'changed' = 'changing'\n",
    "* 'cigar' = 'cylinder'\n",
    "* 'delta' = 'triangular' = 'triangle'\n",
    "* 'circle' = 'disk' = 'round' = 'sphere'\n",
    "* 'flare' = 'light'\n",
    "* 'other' = 'unknown'\n",
    "* 'egg' = 'oval'\n",
    "and\n",
    "3) set NaN to 'unknown'"
   ]
  },
  {
   "cell_type": "code",
   "execution_count": 39,
   "id": "d8abf874",
   "metadata": {},
   "outputs": [],
   "source": [
    "ufo.Shape = ufo.Shape.str.lower()\n",
    "\n",
    "new_shape = {\n",
    "                'Shape': {'changed': 'changing',\n",
    "                          'cigar': 'cylinder',\n",
    "                          'delta': 'triangle',\n",
    "                          'triangular': 'triangle',\n",
    "                          'disk': 'circle',\n",
    "                          'round': 'circle',\n",
    "                          'sphere': 'circle',\n",
    "                          'flash': 'light',\n",
    "                          'other': 'unknown',\n",
    "                          'egg': 'oval',\n",
    "                          np.nan: 'unknown'}\n",
    "            }\n",
    "\n",
    "ufo = ufo.replace(new_shape)"
   ]
  },
  {
   "cell_type": "markdown",
   "id": "b02500b7",
   "metadata": {},
   "source": [
    "Now we will finally drop the duplicates in view of updated `Shape` column"
   ]
  },
  {
   "cell_type": "code",
   "execution_count": 42,
   "id": "b0774c4b",
   "metadata": {},
   "outputs": [],
   "source": [
    "ufo.drop_duplicates(['Observed', 'City', 'State', 'Shape', 'Duration'], keep='first', inplace=True)"
   ]
  },
  {
   "cell_type": "markdown",
   "id": "b16fcf70",
   "metadata": {},
   "source": [
    "Upon the cleaning, we have kept >99% of the observations.\n",
    "\n",
    "Many of them (about 12%) have NaN in at least one of the columns, but let us consider these as potentially useful partial information."
   ]
  },
  {
   "cell_type": "code",
   "execution_count": 43,
   "id": "67a7fd2d",
   "metadata": {},
   "outputs": [
    {
     "data": {
      "text/plain": [
       "0.9922"
      ]
     },
     "execution_count": 43,
     "metadata": {},
     "output_type": "execute_result"
    }
   ],
   "source": [
    "round(ufo.shape[0] / ufo_by_date.shape[0], 4)"
   ]
  },
  {
   "cell_type": "code",
   "execution_count": 44,
   "id": "bf335bd5",
   "metadata": {},
   "outputs": [
    {
     "data": {
      "text/plain": [
       "0.117"
      ]
     },
     "execution_count": 44,
     "metadata": {},
     "output_type": "execute_result"
    }
   ],
   "source": [
    "round((ufo.shape[0] - ufo.dropna().shape[0]) / ufo.shape[0], 3)"
   ]
  },
  {
   "cell_type": "code",
   "execution_count": 45,
   "id": "bc2f643a",
   "metadata": {},
   "outputs": [],
   "source": [
    "# saving cleaned dataframe in case we distort it occasionally during analysis\n",
    "ufo.to_csv(\"ufo_for_analysis.csv\")"
   ]
  }
 ],
 "metadata": {
  "celltoolbar": "Необработанный формат ячейки",
  "kernelspec": {
   "display_name": "Python 3",
   "language": "python",
   "name": "python3"
  },
  "language_info": {
   "codemirror_mode": {
    "name": "ipython",
    "version": 3
   },
   "file_extension": ".py",
   "mimetype": "text/x-python",
   "name": "python",
   "nbconvert_exporter": "python",
   "pygments_lexer": "ipython3",
   "version": "3.8.7"
  }
 },
 "nbformat": 4,
 "nbformat_minor": 5
}
