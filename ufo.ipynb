{
 "cells": [
  {
   "cell_type": "markdown",
   "id": "efbed688",
   "metadata": {},
   "source": [
    "# <span style=\"color:blue\">Importing libraries</span>"
   ]
  },
  {
   "cell_type": "code",
   "execution_count": 1,
   "id": "80a4ca71",
   "metadata": {},
   "outputs": [],
   "source": [
    "import pandas as pd\n",
    "import numpy as np\n",
    "\n",
    "import seaborn as sns\n",
    "import matplotlib.pyplot as plt\n",
    "\n",
    "import requests\n",
    "import os.path\n",
    "import re"
   ]
  },
  {
   "cell_type": "markdown",
   "id": "527e58f2",
   "metadata": {},
   "source": [
    "# <span style=\"color:blue\">Data reading from web</span>"
   ]
  },
  {
   "cell_type": "markdown",
   "id": "c2d990bc",
   "metadata": {},
   "source": [
    "### <span style=\"color:red\">The code below takes quite long to be run and sometimes it hangs.</span>  \n",
    "\n",
    "It is for illustration of initial data collection only. **For practice, the saved csv files should be used.**"
   ]
  },
  {
   "cell_type": "markdown",
   "id": "c0463fc9",
   "metadata": {},
   "source": [
    "### Reading tables arranged by UFO observation date"
   ]
  },
  {
   "cell_type": "markdown",
   "id": "59904ac0",
   "metadata": {},
   "source": [
    "This returns a list of dataframes, the `[0]` element being a dataframe describing the tables of UFO observations by date. The `Reports` column contains the list of the available tables.  \n",
    "The dataframes corresponding to each shape can then be retrieved from\n",
    "`http://www.nuforc.org/webreports/ndxs{date}.html`. The `{date}` in the url should be empty for `Unspecified` date, otherwise in the `YYYYMM` format."
   ]
  },
  {
   "cell_type": "code",
   "execution_count": null,
   "id": "fe242efa",
   "metadata": {},
   "outputs": [],
   "source": [
    "tables_by_date_list = pd.read_html('http://www.nuforc.org/webreports/ndxevent.html')"
   ]
  },
  {
   "cell_type": "markdown",
   "id": "026c2a1c",
   "metadata": {},
   "source": [
    "The code below saves each table as local html file for further import if necessary. This is done because reading of numerous files from the server is unstable and sometimes fails. Saving the html files can be restarted if needed - only the missing files will be downloaded during subsequent runs. Overall, **the downloading takes about 25 minutes**."
   ]
  },
  {
   "cell_type": "code",
   "execution_count": null,
   "id": "c60afed9",
   "metadata": {},
   "outputs": [],
   "source": [
    "if not os.path.exists('by_date'):\n",
    "        os.mkdir('by_date')\n",
    "\n",
    "for date in tables_by_date_list[0].Reports:\n",
    "    if date == 'UNSPECIFIED / APPROXIMATE':\n",
    "        url = 'http://www.nuforc.org/webreports/ndxe.html'\n",
    "        file = 'by_date/unspecified.html'\n",
    "    else:\n",
    "        url = f'http://www.nuforc.org/webreports/ndxe{date[-4:]}{date[:2]}.html'\n",
    "        file = 'by_date/' + date.replace('/', '_') + '.html'\n",
    "    \n",
    "    if not os.path.isfile(file):\n",
    "        r = requests.get(url, allow_redirects=True)\n",
    "        open(file, 'wb').write(r.content)\n",
    "        # optional text output to track the process\n",
    "        #print(file)"
   ]
  },
  {
   "cell_type": "markdown",
   "id": "c530c72c",
   "metadata": {},
   "source": [
    "The code below is for reading the tables from url directly to the dataframe. If often fails; when successful, **<ins>the reading takes about an hour</ins>**"
   ]
  },
  {
   "cell_type": "code",
   "execution_count": null,
   "id": "a60b6699",
   "metadata": {},
   "outputs": [],
   "source": [
    "ufo_by_date = []\n",
    "\n",
    "for date in tables_by_date_list[0].Reports:\n",
    "    #print(f'Reading data for shape = {shape_name}...')\n",
    "    if date == 'UNSPECIFIED / APPROXIMATE':\n",
    "        temp_df = pd.read_html(f'http://www.nuforc.org/webreports/ndxe.html')[0]\n",
    "        temp_df['Date_label'] = date\n",
    "        ufo_by_date.append(temp_df)\n",
    "    else:\n",
    "        temp_df = pd.read_html(f'http://www.nuforc.org/webreports/ndxe{date[-4:]}{date[:2]}.html')[0]\n",
    "        temp_df['Date_label'] = date\n",
    "        ufo_by_date.append(temp_df)\n",
    "    # optional text output to monitor the process\n",
    "    #print(f'Reading data for date = {date} done!')\n",
    "\n",
    "finish_reading_by_date = pd.Timestamp.now()    \n",
    "    \n",
    "ufo_raw_date = pd.concat(ufo_by_date)"
   ]
  },
  {
   "cell_type": "markdown",
   "id": "2eb59231",
   "metadata": {},
   "source": [
    "Saving the dataframe for further use"
   ]
  },
  {
   "cell_type": "code",
   "execution_count": null,
   "id": "eef3410a",
   "metadata": {},
   "outputs": [],
   "source": [
    "ufo_raw_date.reset_index(drop=True, inplace=True)"
   ]
  },
  {
   "cell_type": "code",
   "execution_count": null,
   "id": "9c986f34",
   "metadata": {},
   "outputs": [],
   "source": [
    "ufo_raw_date.to_csv(\"ufo_raw_date.csv\")"
   ]
  },
  {
   "cell_type": "markdown",
   "id": "e7cc856a",
   "metadata": {},
   "source": [
    "### Reading tables arranged by UFO shape"
   ]
  },
  {
   "cell_type": "markdown",
   "id": "b4250916",
   "metadata": {},
   "source": [
    "This code returns a list of dataframes, the `[0]` element being a dataframe showing UFOs by type.  \n",
    "The dataframes corresponding to each shape can then be retrieved from\n",
    "`'http://www.nuforc.org/webreports/ndxs{shape_name}.html'`. The `{shape}` in the url should be empty for `Unspecified` shape."
   ]
  },
  {
   "cell_type": "code",
   "execution_count": null,
   "id": "edf9cac1",
   "metadata": {},
   "outputs": [],
   "source": [
    "tables_by_shape_list = pd.read_html('http://www.nuforc.org/webreports/ndxshape.html')"
   ]
  },
  {
   "cell_type": "markdown",
   "id": "38386896",
   "metadata": {},
   "source": [
    "Subsequent code is similar to reading by date. The data reading to dataframe takes **<ins>about 20 minutes</ins>** and is not always stable. The data reading to file takes about **4 minutes**."
   ]
  },
  {
   "cell_type": "code",
   "execution_count": null,
   "id": "a9e3f50c",
   "metadata": {},
   "outputs": [],
   "source": [
    "if not os.path.exists('by_shape'):\n",
    "        os.mkdir('by_shape')\n",
    "\n",
    "for shape_name in tables_by_shape_list[0].Reports:\n",
    "    if shape_name == 'Unspecified':\n",
    "        url = 'http://www.nuforc.org/webreports/ndxs.html'\n",
    "        file = 'by_shape/unspecified.html'\n",
    "    else:\n",
    "        url = f'http://www.nuforc.org/webreports/ndxs{shape_name}.html'\n",
    "        file = 'by_shape/' + shape_name + '.html'\n",
    "    \n",
    "    if not os.path.isfile(file):\n",
    "        r = requests.get(url, allow_redirects=True)\n",
    "        open(file, 'wb').write(r.content)\n",
    "        # optional text output to monitor the process\n",
    "        print(file)"
   ]
  },
  {
   "cell_type": "code",
   "execution_count": null,
   "id": "ac3939cc",
   "metadata": {},
   "outputs": [],
   "source": [
    "ufo_by_shape = []\n",
    "\n",
    "for shape_name in tables_by_shape_list[0].Reports:\n",
    "    if shape_name == 'Unspecified':\n",
    "        temp_df = pd.read_html(f'http://www.nuforc.org/webreports/ndxs.html')[0]\n",
    "    else:\n",
    "        temp_df = pd.read_html(f'http://www.nuforc.org/webreports/ndxs{shape_name}.html')[0]\n",
    "    ufo_by_shape.append(temp_df)\n",
    "    # optional text output to monitor the process\n",
    "    #print(f'{shape_name} done!')\n",
    "\n",
    "ufo_raw_shape = pd.concat(ufo_by_shape)"
   ]
  },
  {
   "cell_type": "code",
   "execution_count": null,
   "id": "d9e2e0b0",
   "metadata": {},
   "outputs": [],
   "source": [
    "ufo_raw_shape.to_csv(\"ufo_raw_shape.csv\")"
   ]
  },
  {
   "cell_type": "markdown",
   "id": "7a8b924b",
   "metadata": {},
   "source": [
    "### Reading information about the states (USA and Canada)"
   ]
  },
  {
   "cell_type": "markdown",
   "id": "3d9207aa",
   "metadata": {},
   "source": [
    "Taking information from wikipedia: [USA](https://en.wikipedia.org/wiki/List_of_states_and_territories_of_the_United_States) and [Canada](https://en.wikipedia.org/wiki/Provinces_and_territories_of_Canada')\n",
    "\n",
    "We will need the states population and area (total and land ones) for further analysis."
   ]
  },
  {
   "cell_type": "code",
   "execution_count": 2,
   "id": "4945aa96",
   "metadata": {},
   "outputs": [],
   "source": [
    "USA_wiki = 'https://en.wikipedia.org/wiki/List_of_states_and_territories_of_the_United_States'\n",
    "\n",
    "tables_states_list = pd.read_html(USA_wiki)"
   ]
  },
  {
   "cell_type": "markdown",
   "id": "b0980ed4",
   "metadata": {},
   "source": [
    "The first table about the USA states"
   ]
  },
  {
   "cell_type": "code",
   "execution_count": 22,
   "id": "97b83e9d",
   "metadata": {},
   "outputs": [
    {
     "data": {
      "text/html": [
       "<div>\n",
       "<style scoped>\n",
       "    .dataframe tbody tr th:only-of-type {\n",
       "        vertical-align: middle;\n",
       "    }\n",
       "\n",
       "    .dataframe tbody tr th {\n",
       "        vertical-align: top;\n",
       "    }\n",
       "\n",
       "    .dataframe thead tr th {\n",
       "        text-align: left;\n",
       "    }\n",
       "</style>\n",
       "<table border=\"1\" class=\"dataframe\">\n",
       "  <thead>\n",
       "    <tr>\n",
       "      <th></th>\n",
       "      <th colspan=\"2\" halign=\"left\">Flag, name andpostal abbreviation[12]</th>\n",
       "      <th colspan=\"2\" halign=\"left\">Cities</th>\n",
       "      <th>Ratification oradmission[C]</th>\n",
       "      <th>Population[14]</th>\n",
       "      <th colspan=\"2\" halign=\"left\">Total area[15]</th>\n",
       "      <th colspan=\"2\" halign=\"left\">Land area[15]</th>\n",
       "      <th colspan=\"2\" halign=\"left\">Water area[15]</th>\n",
       "      <th>Numberof Reps.</th>\n",
       "    </tr>\n",
       "    <tr>\n",
       "      <th></th>\n",
       "      <th>Flag, name andpostal abbreviation[12]</th>\n",
       "      <th>Flag, name andpostal abbreviation[12].1</th>\n",
       "      <th>Capital</th>\n",
       "      <th>Largest[16]</th>\n",
       "      <th>Ratification oradmission[C]</th>\n",
       "      <th>Population[14]</th>\n",
       "      <th>mi2</th>\n",
       "      <th>km2</th>\n",
       "      <th>mi2</th>\n",
       "      <th>km2</th>\n",
       "      <th>mi2</th>\n",
       "      <th>km2</th>\n",
       "      <th>Numberof Reps.</th>\n",
       "    </tr>\n",
       "  </thead>\n",
       "  <tbody>\n",
       "    <tr>\n",
       "      <th>0</th>\n",
       "      <td>Alabama</td>\n",
       "      <td>AL</td>\n",
       "      <td>Montgomery</td>\n",
       "      <td>Birmingham</td>\n",
       "      <td>Dec 14, 1819</td>\n",
       "      <td>5024279</td>\n",
       "      <td>52420</td>\n",
       "      <td>135767</td>\n",
       "      <td>50645</td>\n",
       "      <td>131171</td>\n",
       "      <td>1775</td>\n",
       "      <td>4597</td>\n",
       "      <td>7</td>\n",
       "    </tr>\n",
       "  </tbody>\n",
       "</table>\n",
       "</div>"
      ],
      "text/plain": [
       "  Flag, name andpostal abbreviation[12]  \\\n",
       "  Flag, name andpostal abbreviation[12]   \n",
       "0                               Alabama   \n",
       "\n",
       "                                               Cities              \\\n",
       "  Flag, name andpostal abbreviation[12].1     Capital Largest[16]   \n",
       "0                                      AL  Montgomery  Birmingham   \n",
       "\n",
       "  Ratification oradmission[C] Population[14] Total area[15]          \\\n",
       "  Ratification oradmission[C] Population[14]            mi2     km2   \n",
       "0                Dec 14, 1819        5024279          52420  135767   \n",
       "\n",
       "  Land area[15]         Water area[15]       Numberof Reps.  \n",
       "            mi2     km2            mi2   km2 Numberof Reps.  \n",
       "0         50645  131171           1775  4597              7  "
      ]
     },
     "execution_count": 22,
     "metadata": {},
     "output_type": "execute_result"
    }
   ],
   "source": [
    "states = tables_states_list[0]\n",
    "states.head(1)"
   ]
  },
  {
   "cell_type": "code",
   "execution_count": 23,
   "id": "867d4f81",
   "metadata": {},
   "outputs": [],
   "source": [
    "%%capture\n",
    "\n",
    "# Leaving area in km^2\n",
    "states = states.iloc[:, [0, 1, 5, 7, 9]]\n",
    "states.columns = ['Name', 'Abbreviation', 'Population', 'Total_area', 'Land_area']\n",
    "\n",
    "# Removing a note mark in the names\n",
    "states.Name = states.Name.str.replace('[D]', '', regex=False)\n",
    "\n",
    "states.Population = states.Population.astype('int64')"
   ]
  },
  {
   "cell_type": "markdown",
   "id": "b7894b5e",
   "metadata": {},
   "source": [
    "For further merging, the `Population`, `Total_area`, and `Land_area` should be numeric."
   ]
  },
  {
   "cell_type": "code",
   "execution_count": 24,
   "id": "47df230a",
   "metadata": {},
   "outputs": [
    {
     "data": {
      "text/plain": [
       "Name            object\n",
       "Abbreviation    object\n",
       "Population       int64\n",
       "Total_area       int64\n",
       "Land_area        int64\n",
       "dtype: object"
      ]
     },
     "execution_count": 24,
     "metadata": {},
     "output_type": "execute_result"
    }
   ],
   "source": [
    "states.dtypes"
   ]
  },
  {
   "cell_type": "markdown",
   "id": "4f9c820a",
   "metadata": {},
   "source": [
    "Adding information of District of Columbia"
   ]
  },
  {
   "cell_type": "code",
   "execution_count": 25,
   "id": "f13755ed",
   "metadata": {},
   "outputs": [
    {
     "data": {
      "text/html": [
       "<div>\n",
       "<style scoped>\n",
       "    .dataframe tbody tr th:only-of-type {\n",
       "        vertical-align: middle;\n",
       "    }\n",
       "\n",
       "    .dataframe tbody tr th {\n",
       "        vertical-align: top;\n",
       "    }\n",
       "\n",
       "    .dataframe thead tr th {\n",
       "        text-align: left;\n",
       "    }\n",
       "</style>\n",
       "<table border=\"1\" class=\"dataframe\">\n",
       "  <thead>\n",
       "    <tr>\n",
       "      <th></th>\n",
       "      <th colspan=\"2\" halign=\"left\">Name andpostal abbreviation[12]</th>\n",
       "      <th>Established</th>\n",
       "      <th>Population[14]</th>\n",
       "      <th colspan=\"2\" halign=\"left\">Total area[15]</th>\n",
       "      <th colspan=\"2\" halign=\"left\">Land area[15]</th>\n",
       "      <th colspan=\"2\" halign=\"left\">Water area[15]</th>\n",
       "      <th>Numberof Reps.</th>\n",
       "    </tr>\n",
       "    <tr>\n",
       "      <th></th>\n",
       "      <th>Name andpostal abbreviation[12]</th>\n",
       "      <th>Name andpostal abbreviation[12].1</th>\n",
       "      <th>Established</th>\n",
       "      <th>Population[14]</th>\n",
       "      <th>mi2</th>\n",
       "      <th>km2</th>\n",
       "      <th>mi2</th>\n",
       "      <th>km2</th>\n",
       "      <th>mi2</th>\n",
       "      <th>km2</th>\n",
       "      <th>Numberof Reps.</th>\n",
       "    </tr>\n",
       "  </thead>\n",
       "  <tbody>\n",
       "    <tr>\n",
       "      <th>0</th>\n",
       "      <td>District of Columbia</td>\n",
       "      <td>DC</td>\n",
       "      <td>Jul 16, 1790[17]</td>\n",
       "      <td>689545</td>\n",
       "      <td>68</td>\n",
       "      <td>176</td>\n",
       "      <td>61</td>\n",
       "      <td>158</td>\n",
       "      <td>7</td>\n",
       "      <td>18</td>\n",
       "      <td>1[E]</td>\n",
       "    </tr>\n",
       "  </tbody>\n",
       "</table>\n",
       "</div>"
      ],
      "text/plain": [
       "  Name andpostal abbreviation[12]                                    \\\n",
       "  Name andpostal abbreviation[12] Name andpostal abbreviation[12].1   \n",
       "0            District of Columbia                                DC   \n",
       "\n",
       "        Established Population[14] Total area[15]      Land area[15]       \\\n",
       "        Established Population[14]            mi2  km2           mi2  km2   \n",
       "0  Jul 16, 1790[17]         689545             68  176            61  158   \n",
       "\n",
       "  Water area[15]     Numberof Reps.  \n",
       "             mi2 km2 Numberof Reps.  \n",
       "0              7  18           1[E]  "
      ]
     },
     "execution_count": 25,
     "metadata": {},
     "output_type": "execute_result"
    }
   ],
   "source": [
    "DC = tables_states_list[1]\n",
    "\n",
    "DC"
   ]
  },
  {
   "cell_type": "code",
   "execution_count": 26,
   "id": "c6689a14",
   "metadata": {},
   "outputs": [],
   "source": [
    "# Information about District of Columbia\n",
    "\n",
    "DC = DC.iloc[:, [0, 1, 3, 4, 6]]\n",
    "DC.columns = ['Name', 'Abbreviation', 'Population', 'Total_area', 'Land_area']"
   ]
  },
  {
   "cell_type": "code",
   "execution_count": 27,
   "id": "f1242522",
   "metadata": {},
   "outputs": [
    {
     "data": {
      "text/plain": [
       "Name            object\n",
       "Abbreviation    object\n",
       "Population       int64\n",
       "Total_area       int64\n",
       "Land_area        int64\n",
       "dtype: object"
      ]
     },
     "execution_count": 27,
     "metadata": {},
     "output_type": "execute_result"
    }
   ],
   "source": [
    "DC.dtypes"
   ]
  },
  {
   "cell_type": "code",
   "execution_count": 28,
   "id": "d5ea7a55",
   "metadata": {},
   "outputs": [],
   "source": [
    "states = pd.merge(states, DC, how='outer')"
   ]
  },
  {
   "cell_type": "markdown",
   "id": "8b540e1a",
   "metadata": {},
   "source": [
    "Adding information about USA territories"
   ]
  },
  {
   "cell_type": "code",
   "execution_count": 29,
   "id": "55026f29",
   "metadata": {},
   "outputs": [
    {
     "data": {
      "text/html": [
       "<div>\n",
       "<style scoped>\n",
       "    .dataframe tbody tr th:only-of-type {\n",
       "        vertical-align: middle;\n",
       "    }\n",
       "\n",
       "    .dataframe tbody tr th {\n",
       "        vertical-align: top;\n",
       "    }\n",
       "\n",
       "    .dataframe thead tr th {\n",
       "        text-align: left;\n",
       "    }\n",
       "</style>\n",
       "<table border=\"1\" class=\"dataframe\">\n",
       "  <thead>\n",
       "    <tr>\n",
       "      <th></th>\n",
       "      <th colspan=\"2\" halign=\"left\">Name andpostal abbreviation[12]</th>\n",
       "      <th>Capital</th>\n",
       "      <th>Acquired[19]</th>\n",
       "      <th>Territorial status[20]</th>\n",
       "      <th>Population[F]</th>\n",
       "      <th colspan=\"2\" halign=\"left\">Total area[15]</th>\n",
       "      <th colspan=\"2\" halign=\"left\">Land area[15]</th>\n",
       "      <th colspan=\"2\" halign=\"left\">Water area[15]</th>\n",
       "      <th>Numberof Reps.</th>\n",
       "    </tr>\n",
       "    <tr>\n",
       "      <th></th>\n",
       "      <th>Name andpostal abbreviation[12]</th>\n",
       "      <th>Name andpostal abbreviation[12].1</th>\n",
       "      <th>Capital</th>\n",
       "      <th>Acquired[19]</th>\n",
       "      <th>Territorial status[20]</th>\n",
       "      <th>Population[F]</th>\n",
       "      <th>mi2</th>\n",
       "      <th>km2</th>\n",
       "      <th>mi2</th>\n",
       "      <th>km2</th>\n",
       "      <th>mi2</th>\n",
       "      <th>km2</th>\n",
       "      <th>Numberof Reps.</th>\n",
       "    </tr>\n",
       "  </thead>\n",
       "  <tbody>\n",
       "    <tr>\n",
       "      <th>0</th>\n",
       "      <td>American Samoa</td>\n",
       "      <td>AS</td>\n",
       "      <td>Pago Pago[21]</td>\n",
       "      <td>1900</td>\n",
       "      <td>Unincorporated, unorganized[G]</td>\n",
       "      <td>57,400[22]</td>\n",
       "      <td>581</td>\n",
       "      <td>1505</td>\n",
       "      <td>76</td>\n",
       "      <td>198</td>\n",
       "      <td>505</td>\n",
       "      <td>1307</td>\n",
       "      <td>1[E]</td>\n",
       "    </tr>\n",
       "  </tbody>\n",
       "</table>\n",
       "</div>"
      ],
      "text/plain": [
       "  Name andpostal abbreviation[12]                                    \\\n",
       "  Name andpostal abbreviation[12] Name andpostal abbreviation[12].1   \n",
       "0                  American Samoa                                AS   \n",
       "\n",
       "         Capital Acquired[19]          Territorial status[20] Population[F]  \\\n",
       "         Capital Acquired[19]          Territorial status[20] Population[F]   \n",
       "0  Pago Pago[21]         1900  Unincorporated, unorganized[G]    57,400[22]   \n",
       "\n",
       "  Total area[15]       Land area[15]      Water area[15]       Numberof Reps.  \n",
       "             mi2   km2           mi2  km2            mi2   km2 Numberof Reps.  \n",
       "0            581  1505            76  198            505  1307           1[E]  "
      ]
     },
     "execution_count": 29,
     "metadata": {},
     "output_type": "execute_result"
    }
   ],
   "source": [
    "territories = tables_states_list[2]\n",
    "territories.head(1)"
   ]
  },
  {
   "cell_type": "code",
   "execution_count": 30,
   "id": "c6027ddf",
   "metadata": {},
   "outputs": [],
   "source": [
    "%%capture\n",
    "\n",
    "territories = territories.iloc[:, [0, 1, 5, 7, 9]]\n",
    "territories.columns = ['Name', 'Abbreviation', 'Population', 'Total_area', 'Land_area']\n",
    "\n",
    "# Removing coomments and useless commas\n",
    "territories.Population = territories.Population\\\n",
    "        .astype('str')\\\n",
    "        .str.replace('\\[..\\]', '', regex=True)\\\n",
    "        .str.replace(',', '', regex=False)\\\n",
    "        .astype('int64')"
   ]
  },
  {
   "cell_type": "code",
   "execution_count": 31,
   "id": "91cabf28",
   "metadata": {},
   "outputs": [
    {
     "data": {
      "text/plain": [
       "Name            object\n",
       "Abbreviation    object\n",
       "Population       int64\n",
       "Total_area       int64\n",
       "Land_area        int64\n",
       "dtype: object"
      ]
     },
     "execution_count": 31,
     "metadata": {},
     "output_type": "execute_result"
    }
   ],
   "source": [
    "territories.dtypes"
   ]
  },
  {
   "cell_type": "code",
   "execution_count": 32,
   "id": "531434df",
   "metadata": {},
   "outputs": [],
   "source": [
    "states = pd.merge(states, territories, how='outer')"
   ]
  },
  {
   "cell_type": "markdown",
   "id": "9fd22d14",
   "metadata": {},
   "source": [
    "Adding information about Canada states"
   ]
  },
  {
   "cell_type": "code",
   "execution_count": 33,
   "id": "37d92c38",
   "metadata": {},
   "outputs": [],
   "source": [
    "# States of Canada\n",
    "\n",
    "canada = pd.read_html('https://en.wikipedia.org/wiki/Provinces_and_territories_of_Canada')[1]\n",
    "canada = canada.iloc[:-1, [0, 1, 6, 7, 8]]\n",
    "canada.columns = ['Name', 'Abbreviation', 'Population', 'Total_area', 'Land_area']\n",
    "canada.Name = canada.Name.str.replace('[b]', '', regex=False)"
   ]
  },
  {
   "cell_type": "code",
   "execution_count": 34,
   "id": "dd3a93a8",
   "metadata": {},
   "outputs": [],
   "source": [
    "states = pd.merge(states, canada, how='outer')"
   ]
  },
  {
   "cell_type": "markdown",
   "id": "e5cdc839",
   "metadata": {},
   "source": [
    "Adding information about Canada territories"
   ]
  },
  {
   "cell_type": "code",
   "execution_count": 35,
   "id": "baa111e3",
   "metadata": {},
   "outputs": [],
   "source": [
    "# Territories of Canada\n",
    "\n",
    "canada_territories = pd.read_html('https://en.wikipedia.org/wiki/Provinces_and_territories_of_Canada')[2]\n",
    "canada_territories = canada_territories.iloc[:-1, [0, 1, 6, 7, 8]]\n",
    "canada_territories.columns = ['Name', 'Abbreviation', 'Population', 'Total_area', 'Land_area']"
   ]
  },
  {
   "cell_type": "code",
   "execution_count": 36,
   "id": "b251c38a",
   "metadata": {},
   "outputs": [],
   "source": [
    "states = pd.merge(states, canada_territories, how='outer')"
   ]
  },
  {
   "cell_type": "code",
   "execution_count": 37,
   "id": "783ee26a",
   "metadata": {},
   "outputs": [
    {
     "data": {
      "text/html": [
       "<div>\n",
       "<style scoped>\n",
       "    .dataframe tbody tr th:only-of-type {\n",
       "        vertical-align: middle;\n",
       "    }\n",
       "\n",
       "    .dataframe tbody tr th {\n",
       "        vertical-align: top;\n",
       "    }\n",
       "\n",
       "    .dataframe thead th {\n",
       "        text-align: right;\n",
       "    }\n",
       "</style>\n",
       "<table border=\"1\" class=\"dataframe\">\n",
       "  <thead>\n",
       "    <tr style=\"text-align: right;\">\n",
       "      <th></th>\n",
       "      <th>Name</th>\n",
       "      <th>Abbreviation</th>\n",
       "      <th>Population</th>\n",
       "      <th>Total_area</th>\n",
       "      <th>Land_area</th>\n",
       "    </tr>\n",
       "  </thead>\n",
       "  <tbody>\n",
       "    <tr>\n",
       "      <th>0</th>\n",
       "      <td>Alabama</td>\n",
       "      <td>AL</td>\n",
       "      <td>5024279</td>\n",
       "      <td>135767</td>\n",
       "      <td>131171</td>\n",
       "    </tr>\n",
       "    <tr>\n",
       "      <th>1</th>\n",
       "      <td>Alaska</td>\n",
       "      <td>AK</td>\n",
       "      <td>733391</td>\n",
       "      <td>1723337</td>\n",
       "      <td>1477953</td>\n",
       "    </tr>\n",
       "    <tr>\n",
       "      <th>2</th>\n",
       "      <td>Arizona</td>\n",
       "      <td>AZ</td>\n",
       "      <td>7151502</td>\n",
       "      <td>295234</td>\n",
       "      <td>294207</td>\n",
       "    </tr>\n",
       "    <tr>\n",
       "      <th>3</th>\n",
       "      <td>Arkansas</td>\n",
       "      <td>AR</td>\n",
       "      <td>3011524</td>\n",
       "      <td>137732</td>\n",
       "      <td>134771</td>\n",
       "    </tr>\n",
       "    <tr>\n",
       "      <th>4</th>\n",
       "      <td>California</td>\n",
       "      <td>CA</td>\n",
       "      <td>39538223</td>\n",
       "      <td>423967</td>\n",
       "      <td>403466</td>\n",
       "    </tr>\n",
       "    <tr>\n",
       "      <th>...</th>\n",
       "      <td>...</td>\n",
       "      <td>...</td>\n",
       "      <td>...</td>\n",
       "      <td>...</td>\n",
       "      <td>...</td>\n",
       "    </tr>\n",
       "    <tr>\n",
       "      <th>64</th>\n",
       "      <td>Alberta</td>\n",
       "      <td>AB</td>\n",
       "      <td>4444277</td>\n",
       "      <td>642317</td>\n",
       "      <td>19531</td>\n",
       "    </tr>\n",
       "    <tr>\n",
       "      <th>65</th>\n",
       "      <td>Newfoundland and Labrador</td>\n",
       "      <td>NL</td>\n",
       "      <td>520286</td>\n",
       "      <td>373872</td>\n",
       "      <td>31340</td>\n",
       "    </tr>\n",
       "    <tr>\n",
       "      <th>66</th>\n",
       "      <td>Northwest Territories</td>\n",
       "      <td>NT</td>\n",
       "      <td>44991</td>\n",
       "      <td>1183085</td>\n",
       "      <td>163021</td>\n",
       "    </tr>\n",
       "    <tr>\n",
       "      <th>67</th>\n",
       "      <td>Yukon</td>\n",
       "      <td>YT</td>\n",
       "      <td>42596</td>\n",
       "      <td>474391</td>\n",
       "      <td>8052</td>\n",
       "    </tr>\n",
       "    <tr>\n",
       "      <th>68</th>\n",
       "      <td>Nunavut</td>\n",
       "      <td>NU</td>\n",
       "      <td>39536</td>\n",
       "      <td>1936113</td>\n",
       "      <td>157077</td>\n",
       "    </tr>\n",
       "  </tbody>\n",
       "</table>\n",
       "<p>69 rows × 5 columns</p>\n",
       "</div>"
      ],
      "text/plain": [
       "                         Name Abbreviation  Population  Total_area  Land_area\n",
       "0                     Alabama           AL     5024279      135767     131171\n",
       "1                      Alaska           AK      733391     1723337    1477953\n",
       "2                     Arizona           AZ     7151502      295234     294207\n",
       "3                    Arkansas           AR     3011524      137732     134771\n",
       "4                  California           CA    39538223      423967     403466\n",
       "..                        ...          ...         ...         ...        ...\n",
       "64                    Alberta           AB     4444277      642317      19531\n",
       "65  Newfoundland and Labrador           NL      520286      373872      31340\n",
       "66      Northwest Territories           NT       44991     1183085     163021\n",
       "67                      Yukon           YT       42596      474391       8052\n",
       "68                    Nunavut           NU       39536     1936113     157077\n",
       "\n",
       "[69 rows x 5 columns]"
      ]
     },
     "execution_count": 37,
     "metadata": {},
     "output_type": "execute_result"
    }
   ],
   "source": [
    "states"
   ]
  },
  {
   "cell_type": "code",
   "execution_count": 38,
   "id": "c8d1fe98",
   "metadata": {},
   "outputs": [],
   "source": [
    "states.to_csv('states.csv')"
   ]
  },
  {
   "cell_type": "markdown",
   "id": "3e4c9b82",
   "metadata": {},
   "source": [
    "# <span style=\"color:blue\">Data reading from local files</span>"
   ]
  },
  {
   "cell_type": "code",
   "execution_count": 39,
   "id": "3e1a5c1b",
   "metadata": {},
   "outputs": [],
   "source": [
    "ufo_by_date = pd.read_csv('ufo_raw_date.csv', index_col=0)"
   ]
  },
  {
   "cell_type": "code",
   "execution_count": 40,
   "id": "41487249",
   "metadata": {},
   "outputs": [],
   "source": [
    "ufo_by_shape = pd.read_csv('ufo_raw_shape.csv', index_col=0)"
   ]
  },
  {
   "cell_type": "code",
   "execution_count": 41,
   "id": "82fbd994",
   "metadata": {},
   "outputs": [],
   "source": [
    "states = pd.read_csv('states.csv', index_col=0)"
   ]
  },
  {
   "cell_type": "markdown",
   "id": "548ed4ad",
   "metadata": {},
   "source": [
    "# <span style=\"color:blue\">Preliminary cleaning of the data</span>"
   ]
  },
  {
   "cell_type": "markdown",
   "id": "88f9e634",
   "metadata": {},
   "source": [
    "Number of rows of the dataframes obtained via import by shape and by date is the same. Additional column in `ufo_by_date` is the manually introduced `Date_label` column."
   ]
  },
  {
   "cell_type": "code",
   "execution_count": null,
   "id": "755e37ad",
   "metadata": {},
   "outputs": [],
   "source": [
    "ufo_by_date.shape, ufo_by_shape.shape"
   ]
  },
  {
   "cell_type": "code",
   "execution_count": null,
   "id": "3734bc88",
   "metadata": {},
   "outputs": [],
   "source": [
    "pd.merge(left=ufo_by_date, right=ufo_by_shape, how='outer', indicator=True)\\\n",
    "    .query('_merge != \"both\"').shape"
   ]
  },
  {
   "cell_type": "code",
   "execution_count": null,
   "id": "c1402878",
   "metadata": {},
   "outputs": [],
   "source": [
    "pd.merge(left=ufo_by_date, right=ufo_by_shape, how='outer', indicator=True)\\\n",
    "    .query('_merge == \"both\"').shape"
   ]
  },
  {
   "cell_type": "markdown",
   "id": "b1db9017",
   "metadata": {},
   "source": [
    "Datasets collected by shape and by date are identical (result of the first merge is empty), but there are a few duplicates (esult of the second merge is longer than the initial dataframe).\n",
    "\n",
    "We will further work with `ufo_raw_date` to keep \"manual\" date labels."
   ]
  },
  {
   "cell_type": "code",
   "execution_count": null,
   "id": "a00d5e3c",
   "metadata": {},
   "outputs": [],
   "source": [
    "# making a copy to preserve source data\n",
    "ufo = ufo_by_date.copy()"
   ]
  },
  {
   "cell_type": "code",
   "execution_count": null,
   "id": "397065b3",
   "metadata": {},
   "outputs": [],
   "source": [
    "ufo"
   ]
  },
  {
   "cell_type": "code",
   "execution_count": null,
   "id": "2a85d080",
   "metadata": {},
   "outputs": [],
   "source": [
    "ufo.dtypes"
   ]
  },
  {
   "cell_type": "markdown",
   "id": "1c864c1c",
   "metadata": {},
   "source": [
    "We should consider converting `Date / Time` and `Posted` columns to datetime format.\n",
    "On top of that, the column name with slash and spaces is not convenient."
   ]
  },
  {
   "cell_type": "code",
   "execution_count": null,
   "id": "f190ab04",
   "metadata": {},
   "outputs": [],
   "source": [
    "ufo.rename(columns={'Date / Time': 'Observed'}, inplace=True)"
   ]
  },
  {
   "cell_type": "code",
   "execution_count": null,
   "id": "240db0fa",
   "metadata": {},
   "outputs": [],
   "source": [
    "round(sum(ufo.Date_label == 'UNSPECIFIED / APPROXIMATE') / ufo.shape[0] , 4)"
   ]
  },
  {
   "cell_type": "markdown",
   "id": "336b91a3",
   "metadata": {},
   "source": [
    "Parsing of poorly formatted dates/times is a complicated issue, but these are less than 0.3% of the observations. Hence, the solution is to remove such rows.\n",
    "\n",
    "Then, we will remove too old observations (say, before 1900). This will resolve the issue of limited range of the `pd.datetime` type; moreover, these observations seem not reliable and too scarce to affect the conclusions.\n",
    "\n",
    "Since year is coded by two last digits, we will extract it from the earlier introduced `Date_label` column. A new `Year` column will be created instead of just query because we will then use it to modify the `Observed` values"
   ]
  },
  {
   "cell_type": "code",
   "execution_count": null,
   "id": "92f69731",
   "metadata": {
    "scrolled": true
   },
   "outputs": [],
   "source": [
    "ufo = ufo.query('Date_label != \"UNSPECIFIED / APPROXIMATE\"')\n",
    "\n",
    "# this is divided into two linea to suppress warning\n",
    "years = ufo.Date_label.apply(lambda x: int(x[-4:]))\n",
    "ufo['Year'] = years\n",
    "\n",
    "ufo = ufo.query(\"Year >= 1900\")"
   ]
  },
  {
   "cell_type": "markdown",
   "id": "5ba70fd1",
   "metadata": {},
   "source": [
    "Without the following insertion of complete year, '68' would be converted to '2068'"
   ]
  },
  {
   "cell_type": "code",
   "execution_count": null,
   "id": "2e49d1d5",
   "metadata": {},
   "outputs": [],
   "source": [
    "times = []\n",
    "\n",
    "for row in ufo.itertuples():\n",
    "    date_complete_year = re.sub('/(.. )', '/' + str(row.Year) + ' ', row.Observed)\n",
    "    times.append(date_complete_year)\n",
    "\n",
    "ufo['Observed'] = pd.to_datetime(times, format=\"%m/%d/%Y %H:%M\", errors='coerce')"
   ]
  },
  {
   "cell_type": "markdown",
   "id": "269e8b64",
   "metadata": {},
   "source": [
    "Still, about 1.3% of the dates/times were not complete, even though not marked as 'UNSPECIFIED / APPROXIMATE\"'  \n",
    "\n",
    "An example of such entry is given below (day and time are missing)"
   ]
  },
  {
   "cell_type": "code",
   "execution_count": null,
   "id": "69dce3d9",
   "metadata": {},
   "outputs": [],
   "source": [
    "round(ufo.Observed.isnull().sum() / ufo.shape[0], 3)"
   ]
  },
  {
   "cell_type": "code",
   "execution_count": null,
   "id": "d88284cd",
   "metadata": {},
   "outputs": [],
   "source": [
    "pd.DataFrame({\n",
    "                'working': ufo.loc[134435, :],\n",
    "                'as imported': ufo_by_date.loc[134435, :]\n",
    "             })"
   ]
  },
  {
   "cell_type": "markdown",
   "id": "e270cce6",
   "metadata": {},
   "source": [
    "In the case of `Posted` date, conversion to `datetime` will be ambiguous anyway, but we will do it (maybe we will not use this column at all)"
   ]
  },
  {
   "cell_type": "code",
   "execution_count": null,
   "id": "e93ca059",
   "metadata": {},
   "outputs": [],
   "source": [
    "ufo.Posted = pd.to_datetime(ufo.Posted, format=\"%m/%d/%y\", errors='coerce')"
   ]
  },
  {
   "cell_type": "code",
   "execution_count": null,
   "id": "9e3bb23c",
   "metadata": {},
   "outputs": [],
   "source": [
    "ufo.dtypes"
   ]
  },
  {
   "cell_type": "markdown",
   "id": "216c8b3c",
   "metadata": {},
   "source": [
    "We don't need Date_label and Year columns any more"
   ]
  },
  {
   "cell_type": "code",
   "execution_count": null,
   "id": "5226fe2a",
   "metadata": {},
   "outputs": [],
   "source": [
    "ufo.drop(columns=['Date_label', 'Year'], inplace=True)"
   ]
  },
  {
   "cell_type": "markdown",
   "id": "d1f33c6f",
   "metadata": {},
   "source": [
    "Checking non-null data"
   ]
  },
  {
   "cell_type": "code",
   "execution_count": null,
   "id": "c9de4dd3",
   "metadata": {
    "scrolled": true
   },
   "outputs": [],
   "source": [
    "ufo.info()"
   ]
  },
  {
   "cell_type": "markdown",
   "id": "5eb71b49",
   "metadata": {},
   "source": [
    "number of totally incomplete observations (5 is for Observed, City, State, Shape, and Duration columns"
   ]
  },
  {
   "cell_type": "code",
   "execution_count": null,
   "id": "bf42402e",
   "metadata": {},
   "outputs": [],
   "source": [
    "ufo[ufo[['Observed', 'City', 'Shape', 'State', 'Duration']].isnull().sum(axis=1) == 5].shape[0]"
   ]
  },
  {
   "cell_type": "markdown",
   "id": "7acda9e6",
   "metadata": {},
   "source": [
    "filtering them out"
   ]
  },
  {
   "cell_type": "code",
   "execution_count": null,
   "id": "a2c1bbad",
   "metadata": {},
   "outputs": [],
   "source": [
    "ufo = ufo[ufo[['Observed', 'City', 'Shape', 'State', 'Duration']].isnull().sum(axis=1) < 5]"
   ]
  },
  {
   "cell_type": "code",
   "execution_count": null,
   "id": "265f57ec",
   "metadata": {},
   "outputs": [],
   "source": [
    "ufo.shape"
   ]
  },
  {
   "cell_type": "markdown",
   "id": "32d08c42",
   "metadata": {},
   "source": [
    "About 99.7% of the data were retained at this step"
   ]
  },
  {
   "cell_type": "code",
   "execution_count": null,
   "id": "84755984",
   "metadata": {},
   "outputs": [],
   "source": [
    "round(ufo.shape[0] / ufo_by_date.shape[0], 4)"
   ]
  },
  {
   "cell_type": "markdown",
   "id": "11827ca8",
   "metadata": {},
   "source": [
    "Working with States column - we don't need states outside USA"
   ]
  },
  {
   "cell_type": "code",
   "execution_count": null,
   "id": "9aa3dd97",
   "metadata": {},
   "outputs": [],
   "source": [
    "states.tail(12)"
   ]
  },
  {
   "cell_type": "code",
   "execution_count": null,
   "id": "2541b558",
   "metadata": {},
   "outputs": [],
   "source": [
    "ufo.query('State not in @states.Abbreviation.values').query('not State.isnull()').State.value_counts()"
   ]
  },
  {
   "cell_type": "markdown",
   "id": "f27d04e1",
   "metadata": {},
   "source": [
    "* PQ is another assignment of Quebec (QC)\n",
    "* NF stands for Newfoundland and Labrador (which is NL in the dataset)\n",
    "* SA is for Sounth Australia\n",
    "* YK seems to stand for Yukon (YT)\n",
    "* Fl is misprinted FL (Florida)\n",
    "* QB seems to be Quebec (QC) as well\n",
    "* M0 is misprinted MO\n",
    "* Ca is misprinted CA"
   ]
  },
  {
   "cell_type": "code",
   "execution_count": null,
   "id": "97b54f39",
   "metadata": {},
   "outputs": [],
   "source": [
    "new_state = {\n",
    "                'State': {'PQ': 'QC',\n",
    "                          'NF': 'NL',\n",
    "                          'SA': np.nan,\n",
    "                          'YK': 'YT',\n",
    "                          'Fl': 'FL',\n",
    "                          'QB': 'QC',\n",
    "                          'M0': 'MO',\n",
    "                          'Ca': 'CA'}\n",
    "            }\n",
    "\n",
    "ufo = ufo.replace(new_state)"
   ]
  },
  {
   "cell_type": "code",
   "execution_count": null,
   "id": "56a4a5e1",
   "metadata": {},
   "outputs": [],
   "source": [
    "ufo.query('State not in @states.Abbreviation.values').query('not State.isnull()')"
   ]
  },
  {
   "cell_type": "code",
   "execution_count": null,
   "id": "76d4116d",
   "metadata": {},
   "outputs": [],
   "source": []
  },
  {
   "cell_type": "code",
   "execution_count": null,
   "id": "a5f4ee87",
   "metadata": {},
   "outputs": [],
   "source": []
  },
  {
   "cell_type": "markdown",
   "id": "78251a62",
   "metadata": {},
   "source": [
    "Now it is time to turn to duplicates"
   ]
  },
  {
   "cell_type": "markdown",
   "id": "ed0a0bf3",
   "metadata": {},
   "source": [
    "Four cases have complete duplicates"
   ]
  },
  {
   "cell_type": "code",
   "execution_count": null,
   "id": "b1723dce",
   "metadata": {},
   "outputs": [],
   "source": [
    "ufo[ufo.duplicated(['Observed', 'City', 'State', 'Shape', 'Duration', 'Summary', 'Posted'], keep=False)]\\\n",
    "    .sort_values(by=['Observed', 'City', 'State', 'Shape', 'Duration', 'Summary', 'Posted'])"
   ]
  },
  {
   "cell_type": "markdown",
   "id": "c600eacf",
   "metadata": {},
   "source": [
    "Four more observations differ in the Posted date"
   ]
  },
  {
   "cell_type": "code",
   "execution_count": null,
   "id": "b7624c9b",
   "metadata": {},
   "outputs": [],
   "source": [
    "ufo[ufo.duplicated(['Observed', 'City', 'State', 'Shape', 'Duration', 'Summary'], keep=False)]\\\n",
    "    .sort_values(by=['Observed', 'City', 'State', 'Shape', 'Duration', 'Summary', 'Posted'])"
   ]
  },
  {
   "cell_type": "markdown",
   "id": "f56ef226",
   "metadata": {},
   "source": [
    "Quite many observations share place, time, and duration, but Summary is different.\n",
    "\n",
    "Arbitrary inspection of several first cases show that there are minor textual differences in the Summary field. It seems dafe to consider them true duplicates.\n",
    "\n",
    "No more investigation on duplicates on place, time and duration will be performed - let us consider that if at least duration is different, this can indicate multiple objects or multiple (=more reliable) observations of the same object."
   ]
  },
  {
   "cell_type": "code",
   "execution_count": null,
   "id": "d9a76c6a",
   "metadata": {},
   "outputs": [],
   "source": [
    "ufo[ufo.duplicated(['Observed', 'City', 'State', 'Shape', 'Duration'], keep=False)]\\\n",
    "    .sort_values(by=['Observed', 'City', 'State', 'Shape', 'Duration', 'Summary', 'Posted'], ascending=False)"
   ]
  },
  {
   "cell_type": "markdown",
   "id": "2873e854",
   "metadata": {},
   "source": [
    "Hence, the decision is to remove duplicates basing on 'Observed', 'City', 'State', 'Shape', 'Duration' fields:"
   ]
  },
  {
   "cell_type": "code",
   "execution_count": null,
   "id": "c49b9a23",
   "metadata": {},
   "outputs": [],
   "source": [
    "# this is not needed since we will drop duplicates later\n",
    "\n",
    "#ufo.drop_duplicates(['Observed', 'City', 'State', 'Shape', 'Duration'], keep='first', inplace=True)"
   ]
  },
  {
   "cell_type": "markdown",
   "id": "9ec37e39",
   "metadata": {},
   "source": [
    "Upon this step, we have kept >99% of the observations.\n",
    "\n",
    "Many of them (about 13.6%) have NaN in at least one of the columns, but let us consider these as partial potentially useful information."
   ]
  },
  {
   "cell_type": "code",
   "execution_count": null,
   "id": "72f3e655",
   "metadata": {},
   "outputs": [],
   "source": [
    "round(ufo.shape[0] / ufo_by_date.shape[0], 4)"
   ]
  },
  {
   "cell_type": "code",
   "execution_count": null,
   "id": "f762ef41",
   "metadata": {},
   "outputs": [],
   "source": [
    "round((ufo.shape[0] - ufo.dropna().shape[0]) / ufo.shape[0], 3)"
   ]
  },
  {
   "cell_type": "markdown",
   "id": "73f29746",
   "metadata": {},
   "source": [
    "Plan:\n",
    "* **DONE** convert `Date / Time` to datetime\n",
    "* **DONE** break datetime into date and time?\n",
    "* **DONE** convert `posted` to date\n",
    "* **DONE** remove duplicates\n",
    "* aggregate common shapes\n",
    "* remove duplicates again (probably not perform first deletion?)\n",
    "* filter off old rare occasions (20%?)"
   ]
  },
  {
   "cell_type": "code",
   "execution_count": null,
   "id": "aa1a5770",
   "metadata": {},
   "outputs": [],
   "source": [
    "ufo.Shape.str.lower().value_counts().sort_index()"
   ]
  },
  {
   "cell_type": "markdown",
   "id": "7b469e76",
   "metadata": {},
   "source": [
    "It seems reasonable to \n",
    "1) ignore case and \n",
    "2) consider (other synonims are possible but questionable):\n",
    "* 'changed' = 'changing'\n",
    "* 'cigar' = 'cylinder'\n",
    "* 'delta' = 'triangular' = 'triangle'\n",
    "* 'circle' = 'disk' = 'round' = 'sphere'\n",
    "* 'flare' = 'light'\n",
    "* 'other' = 'unknown'\n",
    "* 'egg' = 'oval'\n",
    "and\n",
    "3) set NaN to 'unknown'"
   ]
  },
  {
   "cell_type": "code",
   "execution_count": null,
   "id": "d8abf874",
   "metadata": {},
   "outputs": [],
   "source": [
    "ufo.Shape = ufo.Shape.str.lower()\n",
    "\n",
    "new_shape = {\n",
    "                'Shape': {'changed': 'changing',\n",
    "                          'cigar': 'cylinder',\n",
    "                          'delta': 'triangle',\n",
    "                          'triangular': 'triangle',\n",
    "                          'disk': 'circle',\n",
    "                          'round': 'circle',\n",
    "                          'sphere': 'circle',\n",
    "                          'flash': 'light',\n",
    "                          'other': 'unknown',\n",
    "                          'egg': 'oval',\n",
    "                          np.nan: 'unknown'}\n",
    "            }\n",
    "\n",
    "ufo = ufo.replace(new_shape)"
   ]
  },
  {
   "cell_type": "code",
   "execution_count": null,
   "id": "06841fed",
   "metadata": {},
   "outputs": [],
   "source": [
    "ufo.Shape.value_counts()"
   ]
  },
  {
   "cell_type": "code",
   "execution_count": null,
   "id": "42bd441a",
   "metadata": {},
   "outputs": [],
   "source": [
    "ufo[ufo.duplicated(['Observed', 'City', 'State', 'Shape', 'Duration'], keep=False)]\\\n",
    "    .sort_values(by=['Observed', 'City', 'State', 'Shape', 'Duration', 'Summary', 'Posted'], ascending=False)"
   ]
  },
  {
   "cell_type": "markdown",
   "id": "10670c73",
   "metadata": {},
   "source": [
    "Since several additional duplicates have appeared at this step, we will again drop them"
   ]
  },
  {
   "cell_type": "code",
   "execution_count": null,
   "id": "feab8d1e",
   "metadata": {},
   "outputs": [],
   "source": [
    "# not actually again - judt once here\n",
    "\n",
    "ufo.drop_duplicates(['Observed', 'City', 'State', 'Shape', 'Duration'], keep='first', inplace=True)"
   ]
  },
  {
   "cell_type": "code",
   "execution_count": null,
   "id": "064e3784",
   "metadata": {},
   "outputs": [],
   "source": [
    "# saving cleaned dataframe in case we distort it occasionally during analysis\n",
    "ufo.to_csv(\"ufo_for_analysis.csv\")"
   ]
  },
  {
   "cell_type": "markdown",
   "id": "e96182c7",
   "metadata": {},
   "source": [
    "# <span style=\"color:blue\">Exploratory data analysis</span>"
   ]
  },
  {
   "cell_type": "markdown",
   "id": "f607c96f",
   "metadata": {},
   "source": [
    "Plan:\n",
    "* **DONE** Fractions of observations by shape\n",
    "* **DONE** Line Plot of observations by year\n",
    "* **DONE** Line Plot of observations by year and shape\n",
    "* **DONE** Barplot of observations by state (raw and normalized by state population)\n",
    "* Top counts by state + city"
   ]
  },
  {
   "cell_type": "code",
   "execution_count": null,
   "id": "756f9ecf",
   "metadata": {},
   "outputs": [],
   "source": [
    "# start analysis from scratch\n",
    "ufo = pd.read_csv('ufo_for_analysis.csv', index_col=0, parse_dates=['Observed', 'Posted'])"
   ]
  },
  {
   "cell_type": "code",
   "execution_count": null,
   "id": "9697a61f",
   "metadata": {},
   "outputs": [],
   "source": [
    "ufo_per_shape = ufo.groupby('Shape')\\\n",
    "        .agg(percentage =('Summary', lambda x: x.size / ufo.shape[0] * 100))\\\n",
    "        .sort_values(by='percentage', ascending=False)\\\n",
    "        .round(2)\n",
    "\n",
    "idx = ufo_per_shape.index.tolist()\n",
    "idx.remove('unknown')\n",
    "ufo_per_shape = ufo_per_shape.reindex(idx + ['unknown'])\n",
    "\n",
    "#Seaborn barplot\n",
    "sns.set_style(\"whitegrid\")\n",
    "\n",
    "sns.set(font_scale=1.1)\n",
    "\n",
    "bar,ax = plt.subplots(figsize=(12,8))\n",
    "ax = sns.barplot(x=ufo_per_shape.index,\n",
    "                 y='percentage',\n",
    "                 data=ufo_per_shape,\n",
    "                 ci=None,\n",
    "                 palette=\"muted\",\n",
    "                 orient='v', )\n",
    "ax.set_title(\"Distribution of UFO observed by shape\", fontsize=15)\n",
    "ax.set_xlabel (\"UFO shape\")\n",
    "ax.set_ylabel (\"Percentage\")\n",
    "ax.tick_params(axis='x', rotation=45)\n",
    "# calculate the percentages and annotate the sns barplot\n",
    "for rect in ax.patches:\n",
    "    ax.text(rect.get_x(),rect.get_height() + 0.1,\"%.1f%%\"% rect.get_height(), weight='bold' );"
   ]
  },
  {
   "cell_type": "code",
   "execution_count": null,
   "id": "a19b6d2b",
   "metadata": {},
   "outputs": [],
   "source": [
    "ufo_per_year = ufo.copy()\n",
    "ufo_per_year.index = ufo.Observed\n",
    "ufo_per_year = ufo_per_year.resample(rule='Y').Summary.count()\n",
    "\n",
    "sns.set_style(\"whitegrid\")\n",
    "sns.set(font_scale=1.1)\n",
    "\n",
    "plt.figure(figsize=(12,8))\n",
    "ax = sns.lineplot(x=ufo_per_year.index,\n",
    "                 y=ufo_per_year,\n",
    "                 palette=\"muted\")\n",
    "\n",
    "ax.set_title(\"Total UFO observed by year\", fontsize=15)\n",
    "ax.set_xlabel (\"Year\")\n",
    "ax.set_ylabel (\"Observations\");"
   ]
  },
  {
   "cell_type": "code",
   "execution_count": null,
   "id": "b030c090",
   "metadata": {},
   "outputs": [],
   "source": [
    "ufo_per_year_shape = ufo.assign(Year = ufo.Observed.dt.year)\n",
    "\n",
    "ufo_per_year_shape = ufo_per_year_shape.groupby(['Year', 'Shape'], as_index=False)\\\n",
    "        .agg({'Summary': 'count'})\\\n",
    "        .pivot('Year', columns='Shape', values='Summary')\n",
    "\n",
    "ufo_per_year_shape['overall'] = ufo_per_year_shape.sum(axis=1)\n",
    "\n",
    "ufo_per_year_shape = ufo_per_year_shape.reset_index()\\\n",
    "    .melt(id_vars = 'Year', var_name='Shape',  value_name='Observations')\n",
    "\n",
    "\n",
    "\n",
    "sns.set_style(\"whitegrid\")\n",
    "sns.set(font_scale=1.1)\n",
    "\n",
    "plt.figure(figsize=(12,8))\n",
    "ax = sns.lineplot(data=ufo_per_year_shape,\n",
    "                  x='Year',\n",
    "                  y='Observations',\n",
    "                  hue='Shape',\n",
    "                 palette=\"muted\")\n",
    "\n",
    "ax.set_title(\"UFO observed by year\", fontsize=15)\n",
    "ax.set_xlabel (\"Year\")\n",
    "ax.set_ylabel (\"Observations\");"
   ]
  },
  {
   "cell_type": "code",
   "execution_count": null,
   "id": "c7cd5cd8",
   "metadata": {},
   "outputs": [],
   "source": [
    "ufo_per_year_shape = ufo.assign(Year = ufo.Observed.dt.year)\n",
    "\n",
    "ufo_per_year_shape = ufo_per_year_shape.groupby(['Year', 'Shape'], as_index=False)\\\n",
    "        .agg({'Summary': 'count'})\\\n",
    "        .pivot('Year', columns='Shape', values='Summary')\n",
    "\n",
    "ufo_per_year_shape['overall'] = ufo_per_year_shape.sum(axis=1)\n",
    "\n",
    "ufo_per_year_shape = ufo_per_year_shape.reset_index()\\\n",
    "    .melt(id_vars = 'Year', var_name='Shape',  value_name='Observations')\n",
    "\n",
    "ufo_per_year_shape = ufo_per_year_shape.query(\"Shape in ['overall', 'circle', 'light', 'triangle', 'fireball', 'oval', 'cylinder', 'formation']\")\\\n",
    "            .query(\"1960 <= Year <= 2021\")\n",
    "\n",
    "\n",
    "sns.set_style(\"whitegrid\")\n",
    "sns.set(font_scale=1.1)\n",
    "\n",
    "plt.figure(figsize=(12,8))\n",
    "ax = sns.lineplot(data=ufo_per_year_shape,\n",
    "                  x='Year',\n",
    "                  y='Observations',\n",
    "                  hue='Shape',\n",
    "                 palette=\"muted\")\n",
    "\n",
    "ax.set_title(\"UFO observed by year\", fontsize=15)\n",
    "ax.set_xlabel (\"Year\")\n",
    "ax.set_ylabel (\"Observations\");"
   ]
  },
  {
   "cell_type": "code",
   "execution_count": null,
   "id": "dce3c0b1",
   "metadata": {},
   "outputs": [],
   "source": [
    "ufo_per_state = ufo.groupby('State', as_index=False)\\\n",
    "        .agg({'Summary': 'count'})\\\n",
    "        .rename(columns={'Summary': 'Observations'})\\\n",
    "        .sort_values(by='State', ascending=True)\n",
    "\n",
    "#Seaborn barplot\n",
    "sns.set_style(\"whitegrid\")\n",
    "\n",
    "sns.set(font_scale=1)\n",
    "\n",
    "bar,ax = plt.subplots(figsize=(14,10))\n",
    "ax = sns.barplot(x='State',\n",
    "                 y='Observations',\n",
    "                 data=ufo_per_state,\n",
    "                 ci=None,\n",
    "                 palette=\"muted\",\n",
    "                 orient='v')\n",
    "ax.set_title(\"Distribution of UFO observed by state\", fontsize=15)\n",
    "ax.set_xlabel (\"State\")\n",
    "ax.set_ylabel (\"Number of observations\")\n",
    "ax.tick_params(axis='x', rotation=90)"
   ]
  },
  {
   "cell_type": "markdown",
   "id": "35a42a12",
   "metadata": {},
   "source": [
    "Distribution by state is strongly uneven; let us normalize it to the state population and area"
   ]
  },
  {
   "cell_type": "code",
   "execution_count": null,
   "id": "b4dda8cc",
   "metadata": {},
   "outputs": [],
   "source": [
    "ufo_per_state = pd.merge(left=ufo_per_state, \n",
    "                         right=states, how='inner', \n",
    "                         left_on='State', \n",
    "                         right_on='Abbreviation')"
   ]
  },
  {
   "cell_type": "code",
   "execution_count": null,
   "id": "7e5cf5e3",
   "metadata": {},
   "outputs": [],
   "source": [
    "ufo_per_state['Observations_per_population'] = ufo_per_state.Observations / ufo_per_state.Population\n",
    "ufo_per_state['Observations_per_area'] = ufo_per_state.Observations / ufo_per_state.Total_area\n",
    "ufo_per_state['Observations_per_land_area'] = ufo_per_state.Observations / ufo_per_state.Land_area"
   ]
  },
  {
   "cell_type": "code",
   "execution_count": null,
   "id": "5f274384",
   "metadata": {},
   "outputs": [],
   "source": [
    "sns.set_style(\"whitegrid\")\n",
    "\n",
    "sns.set(font_scale=1)\n",
    "\n",
    "bar,ax = plt.subplots(figsize=(14,10))\n",
    "ax = sns.barplot(x='State',\n",
    "                 y='Observations_per_population',\n",
    "                 data=ufo_per_state,\n",
    "                 ci=None,\n",
    "                 palette=\"muted\",\n",
    "                 orient='v')\n",
    "ax.set_title(\"Distribution of UFO observed by state normalized by current population\", fontsize=15)\n",
    "ax.set_xlabel (\"State\")\n",
    "ax.set_ylabel (\"Number of observations per person\")\n",
    "ax.tick_params(axis='x', rotation=90)"
   ]
  },
  {
   "cell_type": "code",
   "execution_count": null,
   "id": "31bbee5a",
   "metadata": {},
   "outputs": [],
   "source": [
    "sns.set_style(\"whitegrid\")\n",
    "\n",
    "sns.set(font_scale=1)\n",
    "\n",
    "bar,ax = plt.subplots(figsize=(14,10))\n",
    "ax = sns.barplot(x='State',\n",
    "                 y='Observations_per_area',\n",
    "                 data=ufo_per_state,\n",
    "                 ci=None,\n",
    "                 palette=\"muted\",\n",
    "                 orient='v')\n",
    "ax.set_title(\"Distribution of UFO observed by state normalized by total area\", fontsize=15)\n",
    "ax.set_xlabel (\"State\")\n",
    "ax.set_ylabel (\"Number of observations per sq.km\")\n",
    "ax.tick_params(axis='x', rotation=90)"
   ]
  },
  {
   "cell_type": "code",
   "execution_count": null,
   "id": "f3914d0e",
   "metadata": {},
   "outputs": [],
   "source": [
    "sns.set_style(\"whitegrid\")\n",
    "\n",
    "sns.set(font_scale=1)\n",
    "\n",
    "bar,ax = plt.subplots(figsize=(14,10))\n",
    "ax = sns.barplot(x='State',\n",
    "                 y='Observations_per_land_area',\n",
    "                 data=ufo_per_state,\n",
    "                 ci=None,\n",
    "                 palette=\"muted\",\n",
    "                 orient='v')\n",
    "ax.set_title(\"Distribution of UFO observed by state normalized by land area\", fontsize=15)\n",
    "ax.set_xlabel (\"State\")\n",
    "ax.set_ylabel (\"Number of observations per sq.km\")\n",
    "ax.tick_params(axis='x', rotation=90)"
   ]
  },
  {
   "cell_type": "code",
   "execution_count": null,
   "id": "965448f0",
   "metadata": {},
   "outputs": [],
   "source": [
    "def z_score(column):\n",
    "    column.replace([np.inf, -np.inf], np.nan, inplace=True)\n",
    "    return (column - column.mean())/column.std()\n",
    "\n",
    "\n",
    "ufo_per_state['Observations_per_population_std'] = z_score(ufo_per_state['Observations_per_population'])\n",
    "ufo_per_state['Observations_per_area_std'] = z_score(ufo_per_state['Observations_per_area'])\n",
    "ufo_per_state['Observations_per_land_area_std'] = z_score(ufo_per_state['Observations_per_land_area'])\n",
    "\n",
    "std_observations = ufo_per_state.loc[:, ['State', 'Observations_per_population_std', 'Observations_per_area_std', 'Observations_per_land_area_std']]\n",
    "\n",
    "std_observations = pd.melt(frame=std_observations, \n",
    "        id_vars='State',\n",
    "        value_vars=['Observations_per_population_std', 'Observations_per_area_std', 'Observations_per_land_area_std'],\n",
    "        )"
   ]
  },
  {
   "cell_type": "code",
   "execution_count": null,
   "id": "3a73b79b",
   "metadata": {},
   "outputs": [],
   "source": [
    "plt.figure(figsize=(8,6))\n",
    "sns.boxplot(x=\"value\", y=\"variable\", data=std_observations, color=\"c\")\n",
    "sns.despine(trim=True)"
   ]
  },
  {
   "cell_type": "code",
   "execution_count": null,
   "id": "44908bf2",
   "metadata": {},
   "outputs": [],
   "source": []
  },
  {
   "cell_type": "code",
   "execution_count": null,
   "id": "3d8ae7ab",
   "metadata": {},
   "outputs": [],
   "source": []
  },
  {
   "cell_type": "code",
   "execution_count": null,
   "id": "41d9ba5e",
   "metadata": {},
   "outputs": [],
   "source": []
  },
  {
   "cell_type": "code",
   "execution_count": null,
   "id": "c965a52f",
   "metadata": {},
   "outputs": [],
   "source": []
  },
  {
   "cell_type": "code",
   "execution_count": null,
   "id": "03c569eb",
   "metadata": {},
   "outputs": [],
   "source": []
  },
  {
   "cell_type": "code",
   "execution_count": null,
   "id": "010504a2",
   "metadata": {},
   "outputs": [],
   "source": [
    "ufo_per_state"
   ]
  },
  {
   "cell_type": "code",
   "execution_count": null,
   "id": "5c2b78d1",
   "metadata": {},
   "outputs": [],
   "source": [
    "ufo.dtypes"
   ]
  },
  {
   "cell_type": "code",
   "execution_count": null,
   "id": "78a1bf59",
   "metadata": {},
   "outputs": [],
   "source": []
  }
 ],
 "metadata": {
  "kernelspec": {
   "display_name": "Python 3",
   "language": "python",
   "name": "python3"
  },
  "language_info": {
   "codemirror_mode": {
    "name": "ipython",
    "version": 3
   },
   "file_extension": ".py",
   "mimetype": "text/x-python",
   "name": "python",
   "nbconvert_exporter": "python",
   "pygments_lexer": "ipython3",
   "version": "3.8.7"
  }
 },
 "nbformat": 4,
 "nbformat_minor": 5
}
