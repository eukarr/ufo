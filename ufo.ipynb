{
 "cells": [
  {
   "cell_type": "markdown",
   "id": "3885b0c4",
   "metadata": {},
   "source": [
    "# <span style=\"color:blue\">Importing libraries</span>"
   ]
  },
  {
   "cell_type": "code",
   "execution_count": 1,
   "id": "80a4ca71",
   "metadata": {},
   "outputs": [],
   "source": [
    "import pandas as pd\n",
    "import numpy as np\n",
    "\n",
    "import seaborn as sns\n",
    "import plotly.express as px\n",
    "import matplotlib.pyplot as plt\n",
    "\n",
    "import requests\n",
    "import os.path\n",
    "import re"
   ]
  },
  {
   "cell_type": "markdown",
   "id": "bcbaaa0c",
   "metadata": {},
   "source": [
    "# <span style=\"color:blue\">Data reading from web</span>"
   ]
  },
  {
   "cell_type": "markdown",
   "id": "567cfd4d",
   "metadata": {},
   "source": [
    "### <span style=\"color:red\">The code below takes quite long to be run and sometimes it hangs.</span>  \n",
    "\n",
    "It is for illustration of initial data collection only. **For practice, the saved csv files should be used.**"
   ]
  },
  {
   "cell_type": "markdown",
   "id": "13c552b2",
   "metadata": {},
   "source": [
    "### Reading tables arranged by UFO observation date"
   ]
  },
  {
   "cell_type": "markdown",
   "id": "250b0c2c",
   "metadata": {},
   "source": [
    "This returns a list of dataframes, the `[0]` element being a dataframe describing the tables of UFO observations by date. The `Reports` column contains the list of the available tables.  \n",
    "The dataframes corresponding to each shape can then be retrieved from\n",
    "`http://www.nuforc.org/webreports/ndxs{date}.html`. The `{date}` in the url should be empty for `Unspecified` date, otherwise in the `YYYYMM` format."
   ]
  },
  {
   "cell_type": "code",
   "execution_count": null,
   "id": "2924135b",
   "metadata": {},
   "outputs": [],
   "source": [
    "tables_by_date_list = pd.read_html('http://www.nuforc.org/webreports/ndxevent.html')"
   ]
  },
  {
   "cell_type": "markdown",
   "id": "a0c91c18",
   "metadata": {},
   "source": [
    "The code below saves each table as local html file for further import if necessary. This is done because reading of numerous files from the server is unstable and sometimes fails. Saving the html files can be restarted if needed - only the missing files will be downloaded during subsequent runs. Overall, **the downloading takes about 25 minutes**."
   ]
  },
  {
   "cell_type": "code",
   "execution_count": null,
   "id": "6b0b0385",
   "metadata": {},
   "outputs": [],
   "source": [
    "if not os.path.exists('by_date'):\n",
    "        os.mkdir('by_date')\n",
    "\n",
    "for date in tables_by_date_list[0].Reports:\n",
    "    if date == 'UNSPECIFIED / APPROXIMATE':\n",
    "        url = 'http://www.nuforc.org/webreports/ndxe.html'\n",
    "        file = 'by_date/unspecified.html'\n",
    "    else:\n",
    "        url = f'http://www.nuforc.org/webreports/ndxe{date[-4:]}{date[:2]}.html'\n",
    "        file = 'by_date/' + date.replace('/', '_') + '.html'\n",
    "    \n",
    "    if not os.path.isfile(file):\n",
    "        r = requests.get(url, allow_redirects=True)\n",
    "        open(file, 'wb').write(r.content)\n",
    "        # optional text output to track the process\n",
    "        #print(file)"
   ]
  },
  {
   "cell_type": "markdown",
   "id": "1f678609",
   "metadata": {},
   "source": [
    "The code below is for reading the tables from url directly to the dataframe. If often fails; when successful, **<ins>the reading takes about an hour</ins>**"
   ]
  },
  {
   "cell_type": "code",
   "execution_count": null,
   "id": "a60b6699",
   "metadata": {},
   "outputs": [],
   "source": [
    "ufo_by_date = []\n",
    "\n",
    "for date in tables_by_date_list[0].Reports:\n",
    "    #print(f'Reading data for shape = {shape_name}...')\n",
    "    if date == 'UNSPECIFIED / APPROXIMATE':\n",
    "        temp_df = pd.read_html(f'http://www.nuforc.org/webreports/ndxe.html')[0]\n",
    "        temp_df['Date_label'] = date\n",
    "        ufo_by_date.append(temp_df)\n",
    "    else:\n",
    "        temp_df = pd.read_html(f'http://www.nuforc.org/webreports/ndxe{date[-4:]}{date[:2]}.html')[0]\n",
    "        temp_df['Date_label'] = date\n",
    "        ufo_by_date.append(temp_df)\n",
    "    # optional text output to monitor the process\n",
    "    #print(f'Reading data for date = {date} done!')\n",
    "\n",
    "finish_reading_by_date = pd.Timestamp.now()    \n",
    "    \n",
    "ufo_raw_date = pd.concat(ufo_by_date)"
   ]
  },
  {
   "cell_type": "markdown",
   "id": "89e42566",
   "metadata": {},
   "source": [
    "Saving the dataframe for further use"
   ]
  },
  {
   "cell_type": "code",
   "execution_count": null,
   "id": "eef3410a",
   "metadata": {},
   "outputs": [],
   "source": [
    "ufo_raw_date.reset_index(drop=True, inplace=True)"
   ]
  },
  {
   "cell_type": "code",
   "execution_count": null,
   "id": "9c986f34",
   "metadata": {},
   "outputs": [],
   "source": [
    "ufo_raw_date.to_csv(\"ufo_raw_date.csv\")"
   ]
  },
  {
   "cell_type": "markdown",
   "id": "02ccfed0",
   "metadata": {},
   "source": [
    "### Reading tables arranged by UFO shape"
   ]
  },
  {
   "cell_type": "markdown",
   "id": "025b736e",
   "metadata": {},
   "source": [
    "This code returns a list of dataframes, the `[0]` element being a dataframe showing UFOs by type.  \n",
    "The dataframes corresponding to each shape can then be retrieved from\n",
    "`'http://www.nuforc.org/webreports/ndxs{shape_name}.html'`. The `{shape}` in the url should be empty for `Unspecified` shape."
   ]
  },
  {
   "cell_type": "code",
   "execution_count": null,
   "id": "edf9cac1",
   "metadata": {},
   "outputs": [],
   "source": [
    "tables_by_shape_list = pd.read_html('http://www.nuforc.org/webreports/ndxshape.html')"
   ]
  },
  {
   "cell_type": "markdown",
   "id": "38386896",
   "metadata": {},
   "source": [
    "Subsequent code is similar to reading by date. The data reading to dataframe takes **<ins>about 20 minutes</ins>** and is not always stable. The data reading to file takes about **4 minutes**."
   ]
  },
  {
   "cell_type": "code",
   "execution_count": null,
   "id": "4f12e411",
   "metadata": {},
   "outputs": [],
   "source": [
    "if not os.path.exists('by_shape'):\n",
    "        os.mkdir('by_shape')\n",
    "\n",
    "for shape_name in tables_by_shape_list[0].Reports:\n",
    "    if shape_name == 'Unspecified':\n",
    "        url = 'http://www.nuforc.org/webreports/ndxs.html'\n",
    "        file = 'by_shape/unspecified.html'\n",
    "    else:\n",
    "        url = f'http://www.nuforc.org/webreports/ndxs{shape_name}.html'\n",
    "        file = 'by_shape/' + shape_name + '.html'\n",
    "    \n",
    "    if not os.path.isfile(file):\n",
    "        r = requests.get(url, allow_redirects=True)\n",
    "        open(file, 'wb').write(r.content)\n",
    "        # optional text output to monitor the process\n",
    "        print(file)"
   ]
  },
  {
   "cell_type": "code",
   "execution_count": null,
   "id": "3f0e401c",
   "metadata": {},
   "outputs": [],
   "source": [
    "ufo_by_shape = []\n",
    "\n",
    "for shape_name in tables_by_shape_list[0].Reports:\n",
    "    if shape_name == 'Unspecified':\n",
    "        temp_df = pd.read_html(f'http://www.nuforc.org/webreports/ndxs.html')[0]\n",
    "    else:\n",
    "        temp_df = pd.read_html(f'http://www.nuforc.org/webreports/ndxs{shape_name}.html')[0]\n",
    "    ufo_by_shape.append(temp_df)\n",
    "    # optional text output to monitor the process\n",
    "    #print(f'{shape_name} done!')\n",
    "\n",
    "ufo_raw_shape = pd.concat(ufo_by_shape)"
   ]
  },
  {
   "cell_type": "code",
   "execution_count": null,
   "id": "d9e2e0b0",
   "metadata": {},
   "outputs": [],
   "source": [
    "ufo_raw_shape.to_csv(\"ufo_raw_shape.csv\")"
   ]
  },
  {
   "cell_type": "markdown",
   "id": "127c9c54",
   "metadata": {},
   "source": [
    "### Reading information about the states (USA and Canada)"
   ]
  },
  {
   "cell_type": "markdown",
   "id": "f5cb8813",
   "metadata": {},
   "source": [
    "Taking information from wikipedia: [USA](https://en.wikipedia.org/wiki/List_of_states_and_territories_of_the_United_States) and [Canada](https://en.wikipedia.org/wiki/Provinces_and_territories_of_Canada')\n",
    "\n",
    "We will need the states population and area (total and land ones) for further analysis."
   ]
  },
  {
   "cell_type": "code",
   "execution_count": 2,
   "id": "f19168fd",
   "metadata": {},
   "outputs": [],
   "source": [
    "USA_wiki = 'https://en.wikipedia.org/wiki/List_of_states_and_territories_of_the_United_States'\n",
    "\n",
    "tables_states_list = pd.read_html(USA_wiki)"
   ]
  },
  {
   "cell_type": "markdown",
   "id": "1c19e90a",
   "metadata": {},
   "source": [
    "The first table about the USA states"
   ]
  },
  {
   "cell_type": "code",
   "execution_count": 22,
   "id": "83c1096f",
   "metadata": {},
   "outputs": [
    {
     "data": {
      "text/html": [
       "<div>\n",
       "<style scoped>\n",
       "    .dataframe tbody tr th:only-of-type {\n",
       "        vertical-align: middle;\n",
       "    }\n",
       "\n",
       "    .dataframe tbody tr th {\n",
       "        vertical-align: top;\n",
       "    }\n",
       "\n",
       "    .dataframe thead tr th {\n",
       "        text-align: left;\n",
       "    }\n",
       "</style>\n",
       "<table border=\"1\" class=\"dataframe\">\n",
       "  <thead>\n",
       "    <tr>\n",
       "      <th></th>\n",
       "      <th colspan=\"2\" halign=\"left\">Flag, name andpostal abbreviation[12]</th>\n",
       "      <th colspan=\"2\" halign=\"left\">Cities</th>\n",
       "      <th>Ratification oradmission[C]</th>\n",
       "      <th>Population[14]</th>\n",
       "      <th colspan=\"2\" halign=\"left\">Total area[15]</th>\n",
       "      <th colspan=\"2\" halign=\"left\">Land area[15]</th>\n",
       "      <th colspan=\"2\" halign=\"left\">Water area[15]</th>\n",
       "      <th>Numberof Reps.</th>\n",
       "    </tr>\n",
       "    <tr>\n",
       "      <th></th>\n",
       "      <th>Flag, name andpostal abbreviation[12]</th>\n",
       "      <th>Flag, name andpostal abbreviation[12].1</th>\n",
       "      <th>Capital</th>\n",
       "      <th>Largest[16]</th>\n",
       "      <th>Ratification oradmission[C]</th>\n",
       "      <th>Population[14]</th>\n",
       "      <th>mi2</th>\n",
       "      <th>km2</th>\n",
       "      <th>mi2</th>\n",
       "      <th>km2</th>\n",
       "      <th>mi2</th>\n",
       "      <th>km2</th>\n",
       "      <th>Numberof Reps.</th>\n",
       "    </tr>\n",
       "  </thead>\n",
       "  <tbody>\n",
       "    <tr>\n",
       "      <th>0</th>\n",
       "      <td>Alabama</td>\n",
       "      <td>AL</td>\n",
       "      <td>Montgomery</td>\n",
       "      <td>Birmingham</td>\n",
       "      <td>Dec 14, 1819</td>\n",
       "      <td>5024279</td>\n",
       "      <td>52420</td>\n",
       "      <td>135767</td>\n",
       "      <td>50645</td>\n",
       "      <td>131171</td>\n",
       "      <td>1775</td>\n",
       "      <td>4597</td>\n",
       "      <td>7</td>\n",
       "    </tr>\n",
       "  </tbody>\n",
       "</table>\n",
       "</div>"
      ],
      "text/plain": [
       "  Flag, name andpostal abbreviation[12]  \\\n",
       "  Flag, name andpostal abbreviation[12]   \n",
       "0                               Alabama   \n",
       "\n",
       "                                               Cities              \\\n",
       "  Flag, name andpostal abbreviation[12].1     Capital Largest[16]   \n",
       "0                                      AL  Montgomery  Birmingham   \n",
       "\n",
       "  Ratification oradmission[C] Population[14] Total area[15]          \\\n",
       "  Ratification oradmission[C] Population[14]            mi2     km2   \n",
       "0                Dec 14, 1819        5024279          52420  135767   \n",
       "\n",
       "  Land area[15]         Water area[15]       Numberof Reps.  \n",
       "            mi2     km2            mi2   km2 Numberof Reps.  \n",
       "0         50645  131171           1775  4597              7  "
      ]
     },
     "execution_count": 22,
     "metadata": {},
     "output_type": "execute_result"
    }
   ],
   "source": [
    "states = tables_states_list[0]\n",
    "states.head(1)"
   ]
  },
  {
   "cell_type": "code",
   "execution_count": 23,
   "id": "efcbf520",
   "metadata": {},
   "outputs": [],
   "source": [
    "%%capture\n",
    "\n",
    "# Leaving area in km^2\n",
    "states = states.iloc[:, [0, 1, 5, 7, 9]]\n",
    "states.columns = ['Name', 'Abbreviation', 'Population', 'Total_area', 'Land_area']\n",
    "\n",
    "# Removing a note mark in the names\n",
    "states.Name = states.Name.str.replace('[D]', '', regex=False)\n",
    "\n",
    "states.Population = states.Population.astype('int64')"
   ]
  },
  {
   "cell_type": "markdown",
   "id": "1ca62ad4",
   "metadata": {},
   "source": [
    "For further merging, the `Population`, `Total_area`, and `Land_area` should be numeric."
   ]
  },
  {
   "cell_type": "code",
   "execution_count": 24,
   "id": "409be9d2",
   "metadata": {},
   "outputs": [
    {
     "data": {
      "text/plain": [
       "Name            object\n",
       "Abbreviation    object\n",
       "Population       int64\n",
       "Total_area       int64\n",
       "Land_area        int64\n",
       "dtype: object"
      ]
     },
     "execution_count": 24,
     "metadata": {},
     "output_type": "execute_result"
    }
   ],
   "source": [
    "states.dtypes"
   ]
  },
  {
   "cell_type": "markdown",
   "id": "e12506e9",
   "metadata": {},
   "source": [
    "Adding information of District of Columbia"
   ]
  },
  {
   "cell_type": "code",
   "execution_count": 25,
   "id": "3188aefa",
   "metadata": {},
   "outputs": [
    {
     "data": {
      "text/html": [
       "<div>\n",
       "<style scoped>\n",
       "    .dataframe tbody tr th:only-of-type {\n",
       "        vertical-align: middle;\n",
       "    }\n",
       "\n",
       "    .dataframe tbody tr th {\n",
       "        vertical-align: top;\n",
       "    }\n",
       "\n",
       "    .dataframe thead tr th {\n",
       "        text-align: left;\n",
       "    }\n",
       "</style>\n",
       "<table border=\"1\" class=\"dataframe\">\n",
       "  <thead>\n",
       "    <tr>\n",
       "      <th></th>\n",
       "      <th colspan=\"2\" halign=\"left\">Name andpostal abbreviation[12]</th>\n",
       "      <th>Established</th>\n",
       "      <th>Population[14]</th>\n",
       "      <th colspan=\"2\" halign=\"left\">Total area[15]</th>\n",
       "      <th colspan=\"2\" halign=\"left\">Land area[15]</th>\n",
       "      <th colspan=\"2\" halign=\"left\">Water area[15]</th>\n",
       "      <th>Numberof Reps.</th>\n",
       "    </tr>\n",
       "    <tr>\n",
       "      <th></th>\n",
       "      <th>Name andpostal abbreviation[12]</th>\n",
       "      <th>Name andpostal abbreviation[12].1</th>\n",
       "      <th>Established</th>\n",
       "      <th>Population[14]</th>\n",
       "      <th>mi2</th>\n",
       "      <th>km2</th>\n",
       "      <th>mi2</th>\n",
       "      <th>km2</th>\n",
       "      <th>mi2</th>\n",
       "      <th>km2</th>\n",
       "      <th>Numberof Reps.</th>\n",
       "    </tr>\n",
       "  </thead>\n",
       "  <tbody>\n",
       "    <tr>\n",
       "      <th>0</th>\n",
       "      <td>District of Columbia</td>\n",
       "      <td>DC</td>\n",
       "      <td>Jul 16, 1790[17]</td>\n",
       "      <td>689545</td>\n",
       "      <td>68</td>\n",
       "      <td>176</td>\n",
       "      <td>61</td>\n",
       "      <td>158</td>\n",
       "      <td>7</td>\n",
       "      <td>18</td>\n",
       "      <td>1[E]</td>\n",
       "    </tr>\n",
       "  </tbody>\n",
       "</table>\n",
       "</div>"
      ],
      "text/plain": [
       "  Name andpostal abbreviation[12]                                    \\\n",
       "  Name andpostal abbreviation[12] Name andpostal abbreviation[12].1   \n",
       "0            District of Columbia                                DC   \n",
       "\n",
       "        Established Population[14] Total area[15]      Land area[15]       \\\n",
       "        Established Population[14]            mi2  km2           mi2  km2   \n",
       "0  Jul 16, 1790[17]         689545             68  176            61  158   \n",
       "\n",
       "  Water area[15]     Numberof Reps.  \n",
       "             mi2 km2 Numberof Reps.  \n",
       "0              7  18           1[E]  "
      ]
     },
     "execution_count": 25,
     "metadata": {},
     "output_type": "execute_result"
    }
   ],
   "source": [
    "DC = tables_states_list[1]\n",
    "\n",
    "DC"
   ]
  },
  {
   "cell_type": "code",
   "execution_count": 26,
   "id": "4b3f7ea0",
   "metadata": {},
   "outputs": [],
   "source": [
    "# Information about District of Columbia\n",
    "\n",
    "DC = DC.iloc[:, [0, 1, 3, 4, 6]]\n",
    "DC.columns = ['Name', 'Abbreviation', 'Population', 'Total_area', 'Land_area']"
   ]
  },
  {
   "cell_type": "code",
   "execution_count": 27,
   "id": "eaf95a4a",
   "metadata": {},
   "outputs": [
    {
     "data": {
      "text/plain": [
       "Name            object\n",
       "Abbreviation    object\n",
       "Population       int64\n",
       "Total_area       int64\n",
       "Land_area        int64\n",
       "dtype: object"
      ]
     },
     "execution_count": 27,
     "metadata": {},
     "output_type": "execute_result"
    }
   ],
   "source": [
    "DC.dtypes"
   ]
  },
  {
   "cell_type": "code",
   "execution_count": 28,
   "id": "e7569714",
   "metadata": {},
   "outputs": [],
   "source": [
    "states = pd.merge(states, DC, how='outer')"
   ]
  },
  {
   "cell_type": "markdown",
   "id": "bc9e5342",
   "metadata": {},
   "source": [
    "Adding information about USA territories"
   ]
  },
  {
   "cell_type": "code",
   "execution_count": 29,
   "id": "00fb1932",
   "metadata": {},
   "outputs": [
    {
     "data": {
      "text/html": [
       "<div>\n",
       "<style scoped>\n",
       "    .dataframe tbody tr th:only-of-type {\n",
       "        vertical-align: middle;\n",
       "    }\n",
       "\n",
       "    .dataframe tbody tr th {\n",
       "        vertical-align: top;\n",
       "    }\n",
       "\n",
       "    .dataframe thead tr th {\n",
       "        text-align: left;\n",
       "    }\n",
       "</style>\n",
       "<table border=\"1\" class=\"dataframe\">\n",
       "  <thead>\n",
       "    <tr>\n",
       "      <th></th>\n",
       "      <th colspan=\"2\" halign=\"left\">Name andpostal abbreviation[12]</th>\n",
       "      <th>Capital</th>\n",
       "      <th>Acquired[19]</th>\n",
       "      <th>Territorial status[20]</th>\n",
       "      <th>Population[F]</th>\n",
       "      <th colspan=\"2\" halign=\"left\">Total area[15]</th>\n",
       "      <th colspan=\"2\" halign=\"left\">Land area[15]</th>\n",
       "      <th colspan=\"2\" halign=\"left\">Water area[15]</th>\n",
       "      <th>Numberof Reps.</th>\n",
       "    </tr>\n",
       "    <tr>\n",
       "      <th></th>\n",
       "      <th>Name andpostal abbreviation[12]</th>\n",
       "      <th>Name andpostal abbreviation[12].1</th>\n",
       "      <th>Capital</th>\n",
       "      <th>Acquired[19]</th>\n",
       "      <th>Territorial status[20]</th>\n",
       "      <th>Population[F]</th>\n",
       "      <th>mi2</th>\n",
       "      <th>km2</th>\n",
       "      <th>mi2</th>\n",
       "      <th>km2</th>\n",
       "      <th>mi2</th>\n",
       "      <th>km2</th>\n",
       "      <th>Numberof Reps.</th>\n",
       "    </tr>\n",
       "  </thead>\n",
       "  <tbody>\n",
       "    <tr>\n",
       "      <th>0</th>\n",
       "      <td>American Samoa</td>\n",
       "      <td>AS</td>\n",
       "      <td>Pago Pago[21]</td>\n",
       "      <td>1900</td>\n",
       "      <td>Unincorporated, unorganized[G]</td>\n",
       "      <td>57,400[22]</td>\n",
       "      <td>581</td>\n",
       "      <td>1505</td>\n",
       "      <td>76</td>\n",
       "      <td>198</td>\n",
       "      <td>505</td>\n",
       "      <td>1307</td>\n",
       "      <td>1[E]</td>\n",
       "    </tr>\n",
       "  </tbody>\n",
       "</table>\n",
       "</div>"
      ],
      "text/plain": [
       "  Name andpostal abbreviation[12]                                    \\\n",
       "  Name andpostal abbreviation[12] Name andpostal abbreviation[12].1   \n",
       "0                  American Samoa                                AS   \n",
       "\n",
       "         Capital Acquired[19]          Territorial status[20] Population[F]  \\\n",
       "         Capital Acquired[19]          Territorial status[20] Population[F]   \n",
       "0  Pago Pago[21]         1900  Unincorporated, unorganized[G]    57,400[22]   \n",
       "\n",
       "  Total area[15]       Land area[15]      Water area[15]       Numberof Reps.  \n",
       "             mi2   km2           mi2  km2            mi2   km2 Numberof Reps.  \n",
       "0            581  1505            76  198            505  1307           1[E]  "
      ]
     },
     "execution_count": 29,
     "metadata": {},
     "output_type": "execute_result"
    }
   ],
   "source": [
    "territories = tables_states_list[2]\n",
    "territories.head(1)"
   ]
  },
  {
   "cell_type": "code",
   "execution_count": 30,
   "id": "a9bbfc3f",
   "metadata": {},
   "outputs": [],
   "source": [
    "%%capture\n",
    "\n",
    "territories = territories.iloc[:, [0, 1, 5, 7, 9]]\n",
    "territories.columns = ['Name', 'Abbreviation', 'Population', 'Total_area', 'Land_area']\n",
    "\n",
    "# Removing coomments and useless commas\n",
    "territories.Population = territories.Population\\\n",
    "        .astype('str')\\\n",
    "        .str.replace('\\[..\\]', '', regex=True)\\\n",
    "        .str.replace(',', '', regex=False)\\\n",
    "        .astype('int64')"
   ]
  },
  {
   "cell_type": "code",
   "execution_count": 31,
   "id": "aabcfa3c",
   "metadata": {},
   "outputs": [
    {
     "data": {
      "text/plain": [
       "Name            object\n",
       "Abbreviation    object\n",
       "Population       int64\n",
       "Total_area       int64\n",
       "Land_area        int64\n",
       "dtype: object"
      ]
     },
     "execution_count": 31,
     "metadata": {},
     "output_type": "execute_result"
    }
   ],
   "source": [
    "territories.dtypes"
   ]
  },
  {
   "cell_type": "code",
   "execution_count": 32,
   "id": "1888123f",
   "metadata": {},
   "outputs": [],
   "source": [
    "states = pd.merge(states, territories, how='outer')"
   ]
  },
  {
   "cell_type": "markdown",
   "id": "2c314180",
   "metadata": {},
   "source": [
    "Adding information about Canada states"
   ]
  },
  {
   "cell_type": "code",
   "execution_count": 33,
   "id": "7c0341bb",
   "metadata": {},
   "outputs": [],
   "source": [
    "# States of Canada\n",
    "\n",
    "canada = pd.read_html('https://en.wikipedia.org/wiki/Provinces_and_territories_of_Canada')[1]\n",
    "canada = canada.iloc[:-1, [0, 1, 6, 7, 8]]\n",
    "canada.columns = ['Name', 'Abbreviation', 'Population', 'Total_area', 'Land_area']\n",
    "canada.Name = canada.Name.str.replace('[b]', '', regex=False)"
   ]
  },
  {
   "cell_type": "code",
   "execution_count": 34,
   "id": "0131c9f7",
   "metadata": {},
   "outputs": [],
   "source": [
    "states = pd.merge(states, canada, how='outer')"
   ]
  },
  {
   "cell_type": "markdown",
   "id": "939fb88f",
   "metadata": {},
   "source": [
    "Adding information about Canada territories"
   ]
  },
  {
   "cell_type": "code",
   "execution_count": 35,
   "id": "a0298ee8",
   "metadata": {},
   "outputs": [],
   "source": [
    "# Territories of Canada\n",
    "\n",
    "canada_territories = pd.read_html('https://en.wikipedia.org/wiki/Provinces_and_territories_of_Canada')[2]\n",
    "canada_territories = canada_territories.iloc[:-1, [0, 1, 6, 7, 8]]\n",
    "canada_territories.columns = ['Name', 'Abbreviation', 'Population', 'Total_area', 'Land_area']"
   ]
  },
  {
   "cell_type": "code",
   "execution_count": 36,
   "id": "763a9422",
   "metadata": {},
   "outputs": [],
   "source": [
    "states = pd.merge(states, canada_territories, how='outer')"
   ]
  },
  {
   "cell_type": "code",
   "execution_count": 37,
   "id": "2afdab89",
   "metadata": {},
   "outputs": [
    {
     "data": {
      "text/html": [
       "<div>\n",
       "<style scoped>\n",
       "    .dataframe tbody tr th:only-of-type {\n",
       "        vertical-align: middle;\n",
       "    }\n",
       "\n",
       "    .dataframe tbody tr th {\n",
       "        vertical-align: top;\n",
       "    }\n",
       "\n",
       "    .dataframe thead th {\n",
       "        text-align: right;\n",
       "    }\n",
       "</style>\n",
       "<table border=\"1\" class=\"dataframe\">\n",
       "  <thead>\n",
       "    <tr style=\"text-align: right;\">\n",
       "      <th></th>\n",
       "      <th>Name</th>\n",
       "      <th>Abbreviation</th>\n",
       "      <th>Population</th>\n",
       "      <th>Total_area</th>\n",
       "      <th>Land_area</th>\n",
       "    </tr>\n",
       "  </thead>\n",
       "  <tbody>\n",
       "    <tr>\n",
       "      <th>0</th>\n",
       "      <td>Alabama</td>\n",
       "      <td>AL</td>\n",
       "      <td>5024279</td>\n",
       "      <td>135767</td>\n",
       "      <td>131171</td>\n",
       "    </tr>\n",
       "    <tr>\n",
       "      <th>1</th>\n",
       "      <td>Alaska</td>\n",
       "      <td>AK</td>\n",
       "      <td>733391</td>\n",
       "      <td>1723337</td>\n",
       "      <td>1477953</td>\n",
       "    </tr>\n",
       "    <tr>\n",
       "      <th>2</th>\n",
       "      <td>Arizona</td>\n",
       "      <td>AZ</td>\n",
       "      <td>7151502</td>\n",
       "      <td>295234</td>\n",
       "      <td>294207</td>\n",
       "    </tr>\n",
       "    <tr>\n",
       "      <th>3</th>\n",
       "      <td>Arkansas</td>\n",
       "      <td>AR</td>\n",
       "      <td>3011524</td>\n",
       "      <td>137732</td>\n",
       "      <td>134771</td>\n",
       "    </tr>\n",
       "    <tr>\n",
       "      <th>4</th>\n",
       "      <td>California</td>\n",
       "      <td>CA</td>\n",
       "      <td>39538223</td>\n",
       "      <td>423967</td>\n",
       "      <td>403466</td>\n",
       "    </tr>\n",
       "    <tr>\n",
       "      <th>...</th>\n",
       "      <td>...</td>\n",
       "      <td>...</td>\n",
       "      <td>...</td>\n",
       "      <td>...</td>\n",
       "      <td>...</td>\n",
       "    </tr>\n",
       "    <tr>\n",
       "      <th>64</th>\n",
       "      <td>Alberta</td>\n",
       "      <td>AB</td>\n",
       "      <td>4444277</td>\n",
       "      <td>642317</td>\n",
       "      <td>19531</td>\n",
       "    </tr>\n",
       "    <tr>\n",
       "      <th>65</th>\n",
       "      <td>Newfoundland and Labrador</td>\n",
       "      <td>NL</td>\n",
       "      <td>520286</td>\n",
       "      <td>373872</td>\n",
       "      <td>31340</td>\n",
       "    </tr>\n",
       "    <tr>\n",
       "      <th>66</th>\n",
       "      <td>Northwest Territories</td>\n",
       "      <td>NT</td>\n",
       "      <td>44991</td>\n",
       "      <td>1183085</td>\n",
       "      <td>163021</td>\n",
       "    </tr>\n",
       "    <tr>\n",
       "      <th>67</th>\n",
       "      <td>Yukon</td>\n",
       "      <td>YT</td>\n",
       "      <td>42596</td>\n",
       "      <td>474391</td>\n",
       "      <td>8052</td>\n",
       "    </tr>\n",
       "    <tr>\n",
       "      <th>68</th>\n",
       "      <td>Nunavut</td>\n",
       "      <td>NU</td>\n",
       "      <td>39536</td>\n",
       "      <td>1936113</td>\n",
       "      <td>157077</td>\n",
       "    </tr>\n",
       "  </tbody>\n",
       "</table>\n",
       "<p>69 rows × 5 columns</p>\n",
       "</div>"
      ],
      "text/plain": [
       "                         Name Abbreviation  Population  Total_area  Land_area\n",
       "0                     Alabama           AL     5024279      135767     131171\n",
       "1                      Alaska           AK      733391     1723337    1477953\n",
       "2                     Arizona           AZ     7151502      295234     294207\n",
       "3                    Arkansas           AR     3011524      137732     134771\n",
       "4                  California           CA    39538223      423967     403466\n",
       "..                        ...          ...         ...         ...        ...\n",
       "64                    Alberta           AB     4444277      642317      19531\n",
       "65  Newfoundland and Labrador           NL      520286      373872      31340\n",
       "66      Northwest Territories           NT       44991     1183085     163021\n",
       "67                      Yukon           YT       42596      474391       8052\n",
       "68                    Nunavut           NU       39536     1936113     157077\n",
       "\n",
       "[69 rows x 5 columns]"
      ]
     },
     "execution_count": 37,
     "metadata": {},
     "output_type": "execute_result"
    }
   ],
   "source": [
    "states"
   ]
  },
  {
   "cell_type": "code",
   "execution_count": 38,
   "id": "70d2450d",
   "metadata": {},
   "outputs": [],
   "source": [
    "states.to_csv('states.csv')"
   ]
  },
  {
   "cell_type": "markdown",
   "id": "03f11c40",
   "metadata": {},
   "source": [
    "# <span style=\"color:blue\">Data reading from local files</span>"
   ]
  },
  {
   "cell_type": "code",
   "execution_count": 39,
   "id": "8f03331a",
   "metadata": {},
   "outputs": [],
   "source": [
    "ufo_by_date = pd.read_csv('ufo_raw_date.csv', index_col=0)"
   ]
  },
  {
   "cell_type": "code",
   "execution_count": 40,
   "id": "fd2f3e0e",
   "metadata": {},
   "outputs": [],
   "source": [
    "ufo_by_shape = pd.read_csv('ufo_raw_shape.csv', index_col=0)"
   ]
  },
  {
   "cell_type": "code",
   "execution_count": 41,
   "id": "8b25f12d",
   "metadata": {},
   "outputs": [],
   "source": [
    "states = pd.read_csv('states.csv', index_col=0)"
   ]
  },
  {
   "cell_type": "markdown",
   "id": "026f4e28",
   "metadata": {},
   "source": [
    "# <span style=\"color:blue\">Data cleaning</span>"
   ]
  },
  {
   "cell_type": "markdown",
   "id": "8956c2bf",
   "metadata": {},
   "source": [
    "Number of rows of the dataframes imported from tables arranged by UFO shape and by observation date is the same. Additional column in `ufo_by_date` is the manually introduced `Date_label` column."
   ]
  },
  {
   "cell_type": "code",
   "execution_count": 42,
   "id": "755e37ad",
   "metadata": {},
   "outputs": [
    {
     "data": {
      "text/plain": [
       "((134841, 8), (134841, 7))"
      ]
     },
     "execution_count": 42,
     "metadata": {},
     "output_type": "execute_result"
    }
   ],
   "source": [
    "ufo_by_date.shape, ufo_by_shape.shape"
   ]
  },
  {
   "cell_type": "markdown",
   "id": "b1db9017",
   "metadata": {},
   "source": [
    "Datasets collected by shape and by date are identical (result of the first merge is empty), but there are a few duplicates (result of the second merge is longer than the initial dataframe)."
   ]
  },
  {
   "cell_type": "code",
   "execution_count": 43,
   "id": "3734bc88",
   "metadata": {},
   "outputs": [
    {
     "data": {
      "text/plain": [
       "(0, 9)"
      ]
     },
     "execution_count": 43,
     "metadata": {},
     "output_type": "execute_result"
    }
   ],
   "source": [
    "pd.merge(left=ufo_by_date, right=ufo_by_shape, how='outer', indicator=True)\\\n",
    "    .query('_merge != \"both\"').shape"
   ]
  },
  {
   "cell_type": "code",
   "execution_count": 44,
   "id": "837700b6",
   "metadata": {},
   "outputs": [
    {
     "data": {
      "text/plain": [
       "(134847, 9)"
      ]
     },
     "execution_count": 44,
     "metadata": {},
     "output_type": "execute_result"
    }
   ],
   "source": [
    "pd.merge(left=ufo_by_date, right=ufo_by_shape, how='outer', indicator=True)\\\n",
    "    .query('_merge == \"both\"').shape"
   ]
  },
  {
   "cell_type": "markdown",
   "id": "f3bf79a1",
   "metadata": {},
   "source": [
    "We will further work with `ufo_raw_date` to keep \"manual\" date labels."
   ]
  },
  {
   "cell_type": "code",
   "execution_count": 45,
   "id": "a00d5e3c",
   "metadata": {},
   "outputs": [],
   "source": [
    "# making a copy to preserve source data\n",
    "ufo = ufo_by_date.copy()"
   ]
  },
  {
   "cell_type": "code",
   "execution_count": 46,
   "id": "397065b3",
   "metadata": {},
   "outputs": [
    {
     "data": {
      "text/html": [
       "<div>\n",
       "<style scoped>\n",
       "    .dataframe tbody tr th:only-of-type {\n",
       "        vertical-align: middle;\n",
       "    }\n",
       "\n",
       "    .dataframe tbody tr th {\n",
       "        vertical-align: top;\n",
       "    }\n",
       "\n",
       "    .dataframe thead th {\n",
       "        text-align: right;\n",
       "    }\n",
       "</style>\n",
       "<table border=\"1\" class=\"dataframe\">\n",
       "  <thead>\n",
       "    <tr style=\"text-align: right;\">\n",
       "      <th></th>\n",
       "      <th>Date / Time</th>\n",
       "      <th>City</th>\n",
       "      <th>State</th>\n",
       "      <th>Shape</th>\n",
       "      <th>Duration</th>\n",
       "      <th>Summary</th>\n",
       "      <th>Posted</th>\n",
       "      <th>Date_label</th>\n",
       "    </tr>\n",
       "  </thead>\n",
       "  <tbody>\n",
       "    <tr>\n",
       "      <th>0</th>\n",
       "      <td>7/7/21 01:23</td>\n",
       "      <td>Moscow</td>\n",
       "      <td>ID</td>\n",
       "      <td>Light</td>\n",
       "      <td>30 min</td>\n",
       "      <td>Object moving across sky west to east that was...</td>\n",
       "      <td>7/31/21</td>\n",
       "      <td>07/2021</td>\n",
       "    </tr>\n",
       "    <tr>\n",
       "      <th>1</th>\n",
       "      <td>6/23/21 20:00</td>\n",
       "      <td>Medina</td>\n",
       "      <td>TN</td>\n",
       "      <td>Unknown</td>\n",
       "      <td>15 seconds</td>\n",
       "      <td>Unknown bright object disappears in a cloudles...</td>\n",
       "      <td>7/31/21</td>\n",
       "      <td>06/2021</td>\n",
       "    </tr>\n",
       "    <tr>\n",
       "      <th>2</th>\n",
       "      <td>6/22/21 01:00</td>\n",
       "      <td>Senji (India)</td>\n",
       "      <td>NaN</td>\n",
       "      <td>Flash</td>\n",
       "      <td>15 seconds</td>\n",
       "      <td>I have that ufo video video as recorded 43 sec...</td>\n",
       "      <td>7/31/21</td>\n",
       "      <td>06/2021</td>\n",
       "    </tr>\n",
       "    <tr>\n",
       "      <th>3</th>\n",
       "      <td>6/21/21 19:30</td>\n",
       "      <td>York City (Brooklyn)</td>\n",
       "      <td>NY</td>\n",
       "      <td>Circle</td>\n",
       "      <td>5 min6</td>\n",
       "      <td>A round white object (sphere) zoomed quickly i...</td>\n",
       "      <td>7/31/21</td>\n",
       "      <td>06/2021</td>\n",
       "    </tr>\n",
       "    <tr>\n",
       "      <th>4</th>\n",
       "      <td>6/21/21 14:45</td>\n",
       "      <td>San Jose</td>\n",
       "      <td>CA</td>\n",
       "      <td>Cylinder</td>\n",
       "      <td>10 Seconds</td>\n",
       "      <td>Capsule/Cylinder shaped object.</td>\n",
       "      <td>7/31/21</td>\n",
       "      <td>06/2021</td>\n",
       "    </tr>\n",
       "    <tr>\n",
       "      <th>...</th>\n",
       "      <td>...</td>\n",
       "      <td>...</td>\n",
       "      <td>...</td>\n",
       "      <td>...</td>\n",
       "      <td>...</td>\n",
       "      <td>...</td>\n",
       "      <td>...</td>\n",
       "      <td>...</td>\n",
       "    </tr>\n",
       "    <tr>\n",
       "      <th>134836</th>\n",
       "      <td>09?/?/1975</td>\n",
       "      <td>Oscoda</td>\n",
       "      <td>MI</td>\n",
       "      <td>Unknown</td>\n",
       "      <td>2-3 min</td>\n",
       "      <td>Funny flashing lights that hovered then just d...</td>\n",
       "      <td>6/6/00</td>\n",
       "      <td>UNSPECIFIED / APPROXIMATE</td>\n",
       "    </tr>\n",
       "    <tr>\n",
       "      <th>134837</th>\n",
       "      <td>NaN</td>\n",
       "      <td>Santa Maria</td>\n",
       "      <td>CA</td>\n",
       "      <td>Circle</td>\n",
       "      <td>19:00</td>\n",
       "      <td>Watching Sunday or Monday night football went ...</td>\n",
       "      <td>1/31/20</td>\n",
       "      <td>UNSPECIFIED / APPROXIMATE</td>\n",
       "    </tr>\n",
       "    <tr>\n",
       "      <th>134838</th>\n",
       "      <td>NaN</td>\n",
       "      <td>Rule</td>\n",
       "      <td>TX</td>\n",
       "      <td>Unknown</td>\n",
       "      <td>15 minutes</td>\n",
       "      <td>Unusual sounds and starlight distortion defini...</td>\n",
       "      <td>8/19/12</td>\n",
       "      <td>UNSPECIFIED / APPROXIMATE</td>\n",
       "    </tr>\n",
       "    <tr>\n",
       "      <th>134839</th>\n",
       "      <td>NaN</td>\n",
       "      <td>Graham</td>\n",
       "      <td>WA</td>\n",
       "      <td>Disk</td>\n",
       "      <td>2 minutes</td>\n",
       "      <td>Driving west on 224th looked right saw large c...</td>\n",
       "      <td>6/4/14</td>\n",
       "      <td>UNSPECIFIED / APPROXIMATE</td>\n",
       "    </tr>\n",
       "    <tr>\n",
       "      <th>134840</th>\n",
       "      <td>NaN</td>\n",
       "      <td>Anchorage</td>\n",
       "      <td>AK</td>\n",
       "      <td>Rectangle</td>\n",
       "      <td>5 mins</td>\n",
       "      <td>Around 2 in the morning went outside on my fro...</td>\n",
       "      <td>5/14/19</td>\n",
       "      <td>UNSPECIFIED / APPROXIMATE</td>\n",
       "    </tr>\n",
       "  </tbody>\n",
       "</table>\n",
       "<p>134841 rows × 8 columns</p>\n",
       "</div>"
      ],
      "text/plain": [
       "          Date / Time                  City State      Shape    Duration  \\\n",
       "0        7/7/21 01:23                Moscow    ID      Light      30 min   \n",
       "1       6/23/21 20:00                Medina    TN    Unknown  15 seconds   \n",
       "2       6/22/21 01:00         Senji (India)   NaN      Flash  15 seconds   \n",
       "3       6/21/21 19:30  York City (Brooklyn)    NY     Circle      5 min6   \n",
       "4       6/21/21 14:45              San Jose    CA   Cylinder  10 Seconds   \n",
       "...               ...                   ...   ...        ...         ...   \n",
       "134836     09?/?/1975                Oscoda    MI    Unknown     2-3 min   \n",
       "134837            NaN           Santa Maria    CA     Circle       19:00   \n",
       "134838            NaN                  Rule    TX    Unknown  15 minutes   \n",
       "134839            NaN                Graham    WA       Disk   2 minutes   \n",
       "134840            NaN             Anchorage    AK  Rectangle      5 mins   \n",
       "\n",
       "                                                  Summary   Posted  \\\n",
       "0       Object moving across sky west to east that was...  7/31/21   \n",
       "1       Unknown bright object disappears in a cloudles...  7/31/21   \n",
       "2       I have that ufo video video as recorded 43 sec...  7/31/21   \n",
       "3       A round white object (sphere) zoomed quickly i...  7/31/21   \n",
       "4                         Capsule/Cylinder shaped object.  7/31/21   \n",
       "...                                                   ...      ...   \n",
       "134836  Funny flashing lights that hovered then just d...   6/6/00   \n",
       "134837  Watching Sunday or Monday night football went ...  1/31/20   \n",
       "134838  Unusual sounds and starlight distortion defini...  8/19/12   \n",
       "134839  Driving west on 224th looked right saw large c...   6/4/14   \n",
       "134840  Around 2 in the morning went outside on my fro...  5/14/19   \n",
       "\n",
       "                       Date_label  \n",
       "0                         07/2021  \n",
       "1                         06/2021  \n",
       "2                         06/2021  \n",
       "3                         06/2021  \n",
       "4                         06/2021  \n",
       "...                           ...  \n",
       "134836  UNSPECIFIED / APPROXIMATE  \n",
       "134837  UNSPECIFIED / APPROXIMATE  \n",
       "134838  UNSPECIFIED / APPROXIMATE  \n",
       "134839  UNSPECIFIED / APPROXIMATE  \n",
       "134840  UNSPECIFIED / APPROXIMATE  \n",
       "\n",
       "[134841 rows x 8 columns]"
      ]
     },
     "execution_count": 46,
     "metadata": {},
     "output_type": "execute_result"
    }
   ],
   "source": [
    "ufo"
   ]
  },
  {
   "cell_type": "code",
   "execution_count": 47,
   "id": "2a85d080",
   "metadata": {},
   "outputs": [
    {
     "data": {
      "text/plain": [
       "Date / Time    object\n",
       "City           object\n",
       "State          object\n",
       "Shape          object\n",
       "Duration       object\n",
       "Summary        object\n",
       "Posted         object\n",
       "Date_label     object\n",
       "dtype: object"
      ]
     },
     "execution_count": 47,
     "metadata": {},
     "output_type": "execute_result"
    }
   ],
   "source": [
    "ufo.dtypes"
   ]
  },
  {
   "cell_type": "markdown",
   "id": "869b20f7",
   "metadata": {},
   "source": [
    "We should consider converting `Date / Time` and `Posted` columns to datetime format.\n",
    "On top of that, the column name with slash and spaces is not convenient."
   ]
  },
  {
   "cell_type": "code",
   "execution_count": 48,
   "id": "2be8c86f",
   "metadata": {},
   "outputs": [],
   "source": [
    "ufo.rename(columns={'Date / Time': 'Observed'}, inplace=True)"
   ]
  },
  {
   "cell_type": "code",
   "execution_count": 49,
   "id": "240db0fa",
   "metadata": {},
   "outputs": [
    {
     "data": {
      "text/plain": [
       "0.0027"
      ]
     },
     "execution_count": 49,
     "metadata": {},
     "output_type": "execute_result"
    }
   ],
   "source": [
    "round(sum(ufo.Date_label == 'UNSPECIFIED / APPROXIMATE') / ufo.shape[0] , 4)"
   ]
  },
  {
   "cell_type": "markdown",
   "id": "f1893033",
   "metadata": {},
   "source": [
    "Parsing of poorly formatted dates/times is a complicated issue, but these are less than 0.3% of the observations. Hence, the solution is to remove such rows.\n",
    "\n",
    "Then, we will remove too old observations (say, before 1900). This will resolve the issue of limited range of the `pd.datetime` type; moreover, these observations are not reliable and too scarce to affect the conclusions.\n",
    "\n",
    "Since year is coded by two last digits, we will extract it from the `Date_label` column. A new `Year` column will be created instead of just query because we will then use it to modify the `Observed` values"
   ]
  },
  {
   "cell_type": "code",
   "execution_count": 51,
   "id": "92f69731",
   "metadata": {
    "scrolled": true
   },
   "outputs": [],
   "source": [
    "%%capture\n",
    "\n",
    "ufo = ufo.query('Date_label != \"UNSPECIFIED / APPROXIMATE\"')\n",
    "\n",
    "ufo['Year'] = ufo.Date_label.apply(lambda x: int(x[-4:]))\n",
    "\n",
    "ufo = ufo.query(\"Year >= 1900\")"
   ]
  },
  {
   "cell_type": "markdown",
   "id": "4c3a2228",
   "metadata": {},
   "source": [
    "Without the following insertion of complete year, '68' would be converted to '2068'"
   ]
  },
  {
   "cell_type": "code",
   "execution_count": 52,
   "id": "2e49d1d5",
   "metadata": {},
   "outputs": [],
   "source": [
    "times = []\n",
    "\n",
    "for row in ufo.itertuples():\n",
    "    date_complete_year = re.sub('/(.. )', '/' + str(row.Year) + ' ', row.Observed)\n",
    "    times.append(date_complete_year)\n",
    "\n",
    "ufo['Observed'] = pd.to_datetime(times, format=\"%m/%d/%Y %H:%M\", errors='coerce')"
   ]
  },
  {
   "cell_type": "markdown",
   "id": "41b3f6a6",
   "metadata": {},
   "source": [
    "About 1.3% of the dates/times were not complete, even though not marked as 'UNSPECIFIED / APPROXIMATE\"'  \n",
    "\n",
    "An example of such entry is given below (time are missing)"
   ]
  },
  {
   "cell_type": "code",
   "execution_count": 53,
   "id": "6dabe060",
   "metadata": {},
   "outputs": [
    {
     "data": {
      "text/plain": [
       "0.013"
      ]
     },
     "execution_count": 53,
     "metadata": {},
     "output_type": "execute_result"
    }
   ],
   "source": [
    "round(ufo.Observed.isnull().sum() / ufo.shape[0], 3)"
   ]
  },
  {
   "cell_type": "code",
   "execution_count": 55,
   "id": "d88284cd",
   "metadata": {},
   "outputs": [
    {
     "data": {
      "text/html": [
       "<div>\n",
       "<style scoped>\n",
       "    .dataframe tbody tr th:only-of-type {\n",
       "        vertical-align: middle;\n",
       "    }\n",
       "\n",
       "    .dataframe tbody tr th {\n",
       "        vertical-align: top;\n",
       "    }\n",
       "\n",
       "    .dataframe thead th {\n",
       "        text-align: right;\n",
       "    }\n",
       "</style>\n",
       "<table border=\"1\" class=\"dataframe\">\n",
       "  <thead>\n",
       "    <tr style=\"text-align: right;\">\n",
       "      <th></th>\n",
       "      <th>as imported</th>\n",
       "      <th>working</th>\n",
       "    </tr>\n",
       "  </thead>\n",
       "  <tbody>\n",
       "    <tr>\n",
       "      <th>City</th>\n",
       "      <td>Meeting Creek (Canada)</td>\n",
       "      <td>Meeting Creek (Canada)</td>\n",
       "    </tr>\n",
       "    <tr>\n",
       "      <th>Date / Time</th>\n",
       "      <td>12/24/14</td>\n",
       "      <td>NaN</td>\n",
       "    </tr>\n",
       "    <tr>\n",
       "      <th>Date_label</th>\n",
       "      <td>12/1914</td>\n",
       "      <td>12/1914</td>\n",
       "    </tr>\n",
       "    <tr>\n",
       "      <th>Duration</th>\n",
       "      <td>NaN</td>\n",
       "      <td>NaN</td>\n",
       "    </tr>\n",
       "    <tr>\n",
       "      <th>Observed</th>\n",
       "      <td>NaN</td>\n",
       "      <td>NaT</td>\n",
       "    </tr>\n",
       "    <tr>\n",
       "      <th>Posted</th>\n",
       "      <td>7/7/17</td>\n",
       "      <td>7/7/17</td>\n",
       "    </tr>\n",
       "    <tr>\n",
       "      <th>Shape</th>\n",
       "      <td>NaN</td>\n",
       "      <td>NaN</td>\n",
       "    </tr>\n",
       "    <tr>\n",
       "      <th>State</th>\n",
       "      <td>SK</td>\n",
       "      <td>SK</td>\n",
       "    </tr>\n",
       "    <tr>\n",
       "      <th>Summary</th>\n",
       "      <td>I initially submitted this several years ago, ...</td>\n",
       "      <td>I initially submitted this several years ago, ...</td>\n",
       "    </tr>\n",
       "    <tr>\n",
       "      <th>Year</th>\n",
       "      <td>NaN</td>\n",
       "      <td>1914</td>\n",
       "    </tr>\n",
       "  </tbody>\n",
       "</table>\n",
       "</div>"
      ],
      "text/plain": [
       "                                                   as imported  \\\n",
       "City                                    Meeting Creek (Canada)   \n",
       "Date / Time                                           12/24/14   \n",
       "Date_label                                             12/1914   \n",
       "Duration                                                   NaN   \n",
       "Observed                                                   NaN   \n",
       "Posted                                                  7/7/17   \n",
       "Shape                                                      NaN   \n",
       "State                                                       SK   \n",
       "Summary      I initially submitted this several years ago, ...   \n",
       "Year                                                       NaN   \n",
       "\n",
       "                                                       working  \n",
       "City                                    Meeting Creek (Canada)  \n",
       "Date / Time                                                NaN  \n",
       "Date_label                                             12/1914  \n",
       "Duration                                                   NaN  \n",
       "Observed                                                   NaT  \n",
       "Posted                                                  7/7/17  \n",
       "Shape                                                      NaN  \n",
       "State                                                       SK  \n",
       "Summary      I initially submitted this several years ago, ...  \n",
       "Year                                                      1914  "
      ]
     },
     "execution_count": 55,
     "metadata": {},
     "output_type": "execute_result"
    }
   ],
   "source": [
    "pd.DataFrame({\n",
    "                'as imported': ufo_by_date.loc[134435, :],\n",
    "                'working': ufo.loc[134435, :]\n",
    "             })"
   ]
  },
  {
   "cell_type": "markdown",
   "id": "fc192c6f",
   "metadata": {},
   "source": [
    "In the case of `Posted` date, conversion to `datetime` is ambiguous anyway, but we will do it (maybe we will not use this column at all)"
   ]
  },
  {
   "cell_type": "code",
   "execution_count": 56,
   "id": "e93ca059",
   "metadata": {},
   "outputs": [],
   "source": [
    "ufo.Posted = pd.to_datetime(ufo.Posted, format=\"%m/%d/%y\", errors='coerce')"
   ]
  },
  {
   "cell_type": "markdown",
   "id": "c8cbc6f0",
   "metadata": {},
   "source": [
    "We don't need `Date_label` and `Year` columns any more."
   ]
  },
  {
   "cell_type": "code",
   "execution_count": 58,
   "id": "3cd11371",
   "metadata": {},
   "outputs": [],
   "source": [
    "ufo.drop(columns=['Date_label', 'Year'], inplace=True)"
   ]
  },
  {
   "cell_type": "markdown",
   "id": "45b12aca",
   "metadata": {},
   "source": [
    "Checking non-null data"
   ]
  },
  {
   "cell_type": "markdown",
   "id": "7a33ff68",
   "metadata": {},
   "source": [
    "There are 49 totally incomplete observations (null data in `Observed`, `City`, `State`, `Shape`, and `Duration` columns). Since we do not aim at analyzing textual data, these observations will be removed."
   ]
  },
  {
   "cell_type": "code",
   "execution_count": 60,
   "id": "03f97754",
   "metadata": {},
   "outputs": [
    {
     "data": {
      "text/plain": [
       "49"
      ]
     },
     "execution_count": 60,
     "metadata": {},
     "output_type": "execute_result"
    }
   ],
   "source": [
    "ufo[ufo[['Observed', 'City', 'Shape', 'State', 'Duration']].isnull().sum(axis=1) == 5].shape[0]"
   ]
  },
  {
   "cell_type": "code",
   "execution_count": 61,
   "id": "90e52cbd",
   "metadata": {},
   "outputs": [],
   "source": [
    "ufo = ufo[ufo[['Observed', 'City', 'Shape', 'State', 'Duration']].isnull().sum(axis=1) < 5]"
   ]
  },
  {
   "cell_type": "markdown",
   "id": "5a090531",
   "metadata": {},
   "source": [
    "Working with `States` column: we will find the states abbreviations which are not in the `states` dataframe and correct the errors in data input"
   ]
  },
  {
   "cell_type": "code",
   "execution_count": 62,
   "id": "39416c4a",
   "metadata": {},
   "outputs": [
    {
     "data": {
      "text/plain": [
       "PQ    102\n",
       "NF     43\n",
       "SA     41\n",
       "YK      6\n",
       "Fl      5\n",
       "QB      1\n",
       "Ca      1\n",
       "M0      1\n",
       "Name: State, dtype: int64"
      ]
     },
     "execution_count": 62,
     "metadata": {},
     "output_type": "execute_result"
    }
   ],
   "source": [
    "ufo.query('State not in @states.Abbreviation.values').query('not State.isnull()').State.value_counts()"
   ]
  },
  {
   "cell_type": "markdown",
   "id": "b182fde5",
   "metadata": {},
   "source": [
    "* PQ is another assignment of Quebec (QC)\n",
    "* NF stands for Newfoundland and Labrador (which is NL in `ufo` dataset)\n",
    "* SA is for Sounth Australia (will keep it in the dataframe as is)\n",
    "* YK seems to stand for Yukon (YT)\n",
    "* Fl is misprinted FL (Florida)\n",
    "* QB seems to be Quebec (QC) as well\n",
    "* M0 is misprinted MO\n",
    "* Ca is misprinted CA"
   ]
  },
  {
   "cell_type": "code",
   "execution_count": 63,
   "id": "9fae1efb",
   "metadata": {},
   "outputs": [],
   "source": [
    "new_state = {\n",
    "                'State': {'PQ': 'QC',\n",
    "                          'NF': 'NL',\n",
    "                          'SA': np.nan,\n",
    "                          'YK': 'YT',\n",
    "                          'Fl': 'FL',\n",
    "                          'QB': 'QC',\n",
    "                          'M0': 'MO',\n",
    "                          'Ca': 'CA'}\n",
    "            }\n",
    "\n",
    "ufo = ufo.replace(new_state)"
   ]
  },
  {
   "cell_type": "markdown",
   "id": "88669273",
   "metadata": {},
   "source": [
    "Now we will analyze the duplicates"
   ]
  },
  {
   "cell_type": "markdown",
   "id": "95a7fcc3",
   "metadata": {},
   "source": [
    "4 cases have complete duplicates in the data"
   ]
  },
  {
   "cell_type": "code",
   "execution_count": 65,
   "id": "2b34005b",
   "metadata": {},
   "outputs": [
    {
     "data": {
      "text/html": [
       "<div>\n",
       "<style scoped>\n",
       "    .dataframe tbody tr th:only-of-type {\n",
       "        vertical-align: middle;\n",
       "    }\n",
       "\n",
       "    .dataframe tbody tr th {\n",
       "        vertical-align: top;\n",
       "    }\n",
       "\n",
       "    .dataframe thead th {\n",
       "        text-align: right;\n",
       "    }\n",
       "</style>\n",
       "<table border=\"1\" class=\"dataframe\">\n",
       "  <thead>\n",
       "    <tr style=\"text-align: right;\">\n",
       "      <th></th>\n",
       "      <th>Observed</th>\n",
       "      <th>City</th>\n",
       "      <th>State</th>\n",
       "      <th>Shape</th>\n",
       "      <th>Duration</th>\n",
       "      <th>Summary</th>\n",
       "      <th>Posted</th>\n",
       "    </tr>\n",
       "  </thead>\n",
       "  <tbody>\n",
       "    <tr>\n",
       "      <th>30165</th>\n",
       "      <td>2015-11-15 05:20:00</td>\n",
       "      <td>Reno</td>\n",
       "      <td>NV</td>\n",
       "      <td>Triangle</td>\n",
       "      <td>15 seconds</td>\n",
       "      <td>Black triangle. Only discernible by observing ...</td>\n",
       "      <td>2015-12-10</td>\n",
       "    </tr>\n",
       "    <tr>\n",
       "      <th>30167</th>\n",
       "      <td>2015-11-15 05:20:00</td>\n",
       "      <td>Reno</td>\n",
       "      <td>NV</td>\n",
       "      <td>Triangle</td>\n",
       "      <td>15 seconds</td>\n",
       "      <td>Black triangle. Only discernible by observing ...</td>\n",
       "      <td>2015-12-10</td>\n",
       "    </tr>\n",
       "    <tr>\n",
       "      <th>14406</th>\n",
       "      <td>2019-03-16 20:45:00</td>\n",
       "      <td>Virginia Beach</td>\n",
       "      <td>VA</td>\n",
       "      <td>Circle</td>\n",
       "      <td>5 minutes</td>\n",
       "      <td>Orange orb. ((anonymous report))</td>\n",
       "      <td>2019-03-21</td>\n",
       "    </tr>\n",
       "    <tr>\n",
       "      <th>14407</th>\n",
       "      <td>2019-03-16 20:45:00</td>\n",
       "      <td>Virginia Beach</td>\n",
       "      <td>VA</td>\n",
       "      <td>Circle</td>\n",
       "      <td>5 minutes</td>\n",
       "      <td>Orange orb. ((anonymous report))</td>\n",
       "      <td>2019-03-21</td>\n",
       "    </tr>\n",
       "    <tr>\n",
       "      <th>3200</th>\n",
       "      <td>2020-09-14 06:53:00</td>\n",
       "      <td>Aliquippa</td>\n",
       "      <td>PA</td>\n",
       "      <td>NaN</td>\n",
       "      <td>NaN</td>\n",
       "      <td>MADAR Node 68</td>\n",
       "      <td>2020-11-05</td>\n",
       "    </tr>\n",
       "    <tr>\n",
       "      <th>3201</th>\n",
       "      <td>2020-09-14 06:53:00</td>\n",
       "      <td>Aliquippa</td>\n",
       "      <td>PA</td>\n",
       "      <td>NaN</td>\n",
       "      <td>NaN</td>\n",
       "      <td>MADAR Node 68</td>\n",
       "      <td>2020-11-05</td>\n",
       "    </tr>\n",
       "    <tr>\n",
       "      <th>8538</th>\n",
       "      <td>NaT</td>\n",
       "      <td>Grand Junction</td>\n",
       "      <td>CO</td>\n",
       "      <td>NaN</td>\n",
       "      <td>NaN</td>\n",
       "      <td>MADAR Node 75 A number of anomalies this day</td>\n",
       "      <td>2020-01-31</td>\n",
       "    </tr>\n",
       "    <tr>\n",
       "      <th>8557</th>\n",
       "      <td>NaT</td>\n",
       "      <td>Grand Junction</td>\n",
       "      <td>CO</td>\n",
       "      <td>NaN</td>\n",
       "      <td>NaN</td>\n",
       "      <td>MADAR Node 75 A number of anomalies this day</td>\n",
       "      <td>2020-01-31</td>\n",
       "    </tr>\n",
       "    <tr>\n",
       "      <th>8581</th>\n",
       "      <td>NaT</td>\n",
       "      <td>Grand Junction</td>\n",
       "      <td>CO</td>\n",
       "      <td>NaN</td>\n",
       "      <td>NaN</td>\n",
       "      <td>MADAR Node 75 A number of anomalies this day</td>\n",
       "      <td>2020-01-31</td>\n",
       "    </tr>\n",
       "    <tr>\n",
       "      <th>8601</th>\n",
       "      <td>NaT</td>\n",
       "      <td>Grand Junction</td>\n",
       "      <td>CO</td>\n",
       "      <td>NaN</td>\n",
       "      <td>NaN</td>\n",
       "      <td>MADAR Node 75 A number of anomalies this day</td>\n",
       "      <td>2020-01-31</td>\n",
       "    </tr>\n",
       "  </tbody>\n",
       "</table>\n",
       "</div>"
      ],
      "text/plain": [
       "                 Observed            City State     Shape    Duration  \\\n",
       "30165 2015-11-15 05:20:00            Reno    NV  Triangle  15 seconds   \n",
       "30167 2015-11-15 05:20:00            Reno    NV  Triangle  15 seconds   \n",
       "14406 2019-03-16 20:45:00  Virginia Beach    VA    Circle   5 minutes   \n",
       "14407 2019-03-16 20:45:00  Virginia Beach    VA    Circle   5 minutes   \n",
       "3200  2020-09-14 06:53:00       Aliquippa    PA       NaN         NaN   \n",
       "3201  2020-09-14 06:53:00       Aliquippa    PA       NaN         NaN   \n",
       "8538                  NaT  Grand Junction    CO       NaN         NaN   \n",
       "8557                  NaT  Grand Junction    CO       NaN         NaN   \n",
       "8581                  NaT  Grand Junction    CO       NaN         NaN   \n",
       "8601                  NaT  Grand Junction    CO       NaN         NaN   \n",
       "\n",
       "                                                 Summary     Posted  \n",
       "30165  Black triangle. Only discernible by observing ... 2015-12-10  \n",
       "30167  Black triangle. Only discernible by observing ... 2015-12-10  \n",
       "14406                   Orange orb. ((anonymous report)) 2019-03-21  \n",
       "14407                   Orange orb. ((anonymous report)) 2019-03-21  \n",
       "3200                                       MADAR Node 68 2020-11-05  \n",
       "3201                                       MADAR Node 68 2020-11-05  \n",
       "8538        MADAR Node 75 A number of anomalies this day 2020-01-31  \n",
       "8557        MADAR Node 75 A number of anomalies this day 2020-01-31  \n",
       "8581        MADAR Node 75 A number of anomalies this day 2020-01-31  \n",
       "8601        MADAR Node 75 A number of anomalies this day 2020-01-31  "
      ]
     },
     "execution_count": 65,
     "metadata": {},
     "output_type": "execute_result"
    }
   ],
   "source": [
    "ufo[ufo.duplicated(['Observed', 'City', 'State', 'Shape', 'Duration', 'Summary', 'Posted'], keep=False)]\\\n",
    "    .sort_values(by=['Observed', 'City', 'State', 'Shape', 'Duration', 'Summary', 'Posted'])"
   ]
  },
  {
   "cell_type": "markdown",
   "id": "58ffb807",
   "metadata": {},
   "source": [
    "4 more observations differ only in the Posted date"
   ]
  },
  {
   "cell_type": "code",
   "execution_count": 66,
   "id": "a1e3187c",
   "metadata": {},
   "outputs": [
    {
     "data": {
      "text/html": [
       "<div>\n",
       "<style scoped>\n",
       "    .dataframe tbody tr th:only-of-type {\n",
       "        vertical-align: middle;\n",
       "    }\n",
       "\n",
       "    .dataframe tbody tr th {\n",
       "        vertical-align: top;\n",
       "    }\n",
       "\n",
       "    .dataframe thead th {\n",
       "        text-align: right;\n",
       "    }\n",
       "</style>\n",
       "<table border=\"1\" class=\"dataframe\">\n",
       "  <thead>\n",
       "    <tr style=\"text-align: right;\">\n",
       "      <th></th>\n",
       "      <th>Observed</th>\n",
       "      <th>City</th>\n",
       "      <th>State</th>\n",
       "      <th>Shape</th>\n",
       "      <th>Duration</th>\n",
       "      <th>Summary</th>\n",
       "      <th>Posted</th>\n",
       "    </tr>\n",
       "  </thead>\n",
       "  <tbody>\n",
       "    <tr>\n",
       "      <th>30165</th>\n",
       "      <td>2015-11-15 05:20:00</td>\n",
       "      <td>Reno</td>\n",
       "      <td>NV</td>\n",
       "      <td>Triangle</td>\n",
       "      <td>15 seconds</td>\n",
       "      <td>Black triangle. Only discernible by observing ...</td>\n",
       "      <td>2015-12-10</td>\n",
       "    </tr>\n",
       "    <tr>\n",
       "      <th>30167</th>\n",
       "      <td>2015-11-15 05:20:00</td>\n",
       "      <td>Reno</td>\n",
       "      <td>NV</td>\n",
       "      <td>Triangle</td>\n",
       "      <td>15 seconds</td>\n",
       "      <td>Black triangle. Only discernible by observing ...</td>\n",
       "      <td>2015-12-10</td>\n",
       "    </tr>\n",
       "    <tr>\n",
       "      <th>20683</th>\n",
       "      <td>2017-08-12 22:30:00</td>\n",
       "      <td>Mount Pleasant</td>\n",
       "      <td>OH</td>\n",
       "      <td>Flash</td>\n",
       "      <td>12 minutes</td>\n",
       "      <td>White flashing light moving irregularly throug...</td>\n",
       "      <td>2017-08-24</td>\n",
       "    </tr>\n",
       "    <tr>\n",
       "      <th>20682</th>\n",
       "      <td>2017-08-12 22:30:00</td>\n",
       "      <td>Mount Pleasant</td>\n",
       "      <td>OH</td>\n",
       "      <td>Flash</td>\n",
       "      <td>12 minutes</td>\n",
       "      <td>White flashing light moving irregularly throug...</td>\n",
       "      <td>2017-09-05</td>\n",
       "    </tr>\n",
       "    <tr>\n",
       "      <th>15061</th>\n",
       "      <td>2019-01-05 14:00:00</td>\n",
       "      <td>Detroit</td>\n",
       "      <td>MI</td>\n",
       "      <td>Flash</td>\n",
       "      <td>10 minutes</td>\n",
       "      <td>We witnessed 3 bright objects flying in a circ...</td>\n",
       "      <td>2019-01-11</td>\n",
       "    </tr>\n",
       "    <tr>\n",
       "      <th>15062</th>\n",
       "      <td>2019-01-05 14:00:00</td>\n",
       "      <td>Detroit</td>\n",
       "      <td>MI</td>\n",
       "      <td>Flash</td>\n",
       "      <td>10 minutes</td>\n",
       "      <td>We witnessed 3 bright objects flying in a circ...</td>\n",
       "      <td>2019-01-17</td>\n",
       "    </tr>\n",
       "    <tr>\n",
       "      <th>14406</th>\n",
       "      <td>2019-03-16 20:45:00</td>\n",
       "      <td>Virginia Beach</td>\n",
       "      <td>VA</td>\n",
       "      <td>Circle</td>\n",
       "      <td>5 minutes</td>\n",
       "      <td>Orange orb. ((anonymous report))</td>\n",
       "      <td>2019-03-21</td>\n",
       "    </tr>\n",
       "    <tr>\n",
       "      <th>14407</th>\n",
       "      <td>2019-03-16 20:45:00</td>\n",
       "      <td>Virginia Beach</td>\n",
       "      <td>VA</td>\n",
       "      <td>Circle</td>\n",
       "      <td>5 minutes</td>\n",
       "      <td>Orange orb. ((anonymous report))</td>\n",
       "      <td>2019-03-21</td>\n",
       "    </tr>\n",
       "    <tr>\n",
       "      <th>8533</th>\n",
       "      <td>2020-01-12 05:37:00</td>\n",
       "      <td>Mountlake Terrace</td>\n",
       "      <td>WA</td>\n",
       "      <td>NaN</td>\n",
       "      <td>NaN</td>\n",
       "      <td>MADAR Node 100</td>\n",
       "      <td>2020-01-31</td>\n",
       "    </tr>\n",
       "    <tr>\n",
       "      <th>8534</th>\n",
       "      <td>2020-01-12 05:37:00</td>\n",
       "      <td>Mountlake Terrace</td>\n",
       "      <td>WA</td>\n",
       "      <td>NaN</td>\n",
       "      <td>NaN</td>\n",
       "      <td>MADAR Node 100</td>\n",
       "      <td>2020-02-07</td>\n",
       "    </tr>\n",
       "    <tr>\n",
       "      <th>4888</th>\n",
       "      <td>2020-06-20 21:56:00</td>\n",
       "      <td>Grand Junction</td>\n",
       "      <td>CO</td>\n",
       "      <td>NaN</td>\n",
       "      <td>NaN</td>\n",
       "      <td>MADAR Node 75</td>\n",
       "      <td>2020-07-03</td>\n",
       "    </tr>\n",
       "    <tr>\n",
       "      <th>4887</th>\n",
       "      <td>2020-06-20 21:56:00</td>\n",
       "      <td>Grand Junction</td>\n",
       "      <td>CO</td>\n",
       "      <td>NaN</td>\n",
       "      <td>NaN</td>\n",
       "      <td>MADAR Node 75</td>\n",
       "      <td>2020-07-09</td>\n",
       "    </tr>\n",
       "    <tr>\n",
       "      <th>3200</th>\n",
       "      <td>2020-09-14 06:53:00</td>\n",
       "      <td>Aliquippa</td>\n",
       "      <td>PA</td>\n",
       "      <td>NaN</td>\n",
       "      <td>NaN</td>\n",
       "      <td>MADAR Node 68</td>\n",
       "      <td>2020-11-05</td>\n",
       "    </tr>\n",
       "    <tr>\n",
       "      <th>3201</th>\n",
       "      <td>2020-09-14 06:53:00</td>\n",
       "      <td>Aliquippa</td>\n",
       "      <td>PA</td>\n",
       "      <td>NaN</td>\n",
       "      <td>NaN</td>\n",
       "      <td>MADAR Node 68</td>\n",
       "      <td>2020-11-05</td>\n",
       "    </tr>\n",
       "    <tr>\n",
       "      <th>8538</th>\n",
       "      <td>NaT</td>\n",
       "      <td>Grand Junction</td>\n",
       "      <td>CO</td>\n",
       "      <td>NaN</td>\n",
       "      <td>NaN</td>\n",
       "      <td>MADAR Node 75 A number of anomalies this day</td>\n",
       "      <td>2020-01-31</td>\n",
       "    </tr>\n",
       "    <tr>\n",
       "      <th>8557</th>\n",
       "      <td>NaT</td>\n",
       "      <td>Grand Junction</td>\n",
       "      <td>CO</td>\n",
       "      <td>NaN</td>\n",
       "      <td>NaN</td>\n",
       "      <td>MADAR Node 75 A number of anomalies this day</td>\n",
       "      <td>2020-01-31</td>\n",
       "    </tr>\n",
       "    <tr>\n",
       "      <th>8581</th>\n",
       "      <td>NaT</td>\n",
       "      <td>Grand Junction</td>\n",
       "      <td>CO</td>\n",
       "      <td>NaN</td>\n",
       "      <td>NaN</td>\n",
       "      <td>MADAR Node 75 A number of anomalies this day</td>\n",
       "      <td>2020-01-31</td>\n",
       "    </tr>\n",
       "    <tr>\n",
       "      <th>8601</th>\n",
       "      <td>NaT</td>\n",
       "      <td>Grand Junction</td>\n",
       "      <td>CO</td>\n",
       "      <td>NaN</td>\n",
       "      <td>NaN</td>\n",
       "      <td>MADAR Node 75 A number of anomalies this day</td>\n",
       "      <td>2020-01-31</td>\n",
       "    </tr>\n",
       "  </tbody>\n",
       "</table>\n",
       "</div>"
      ],
      "text/plain": [
       "                 Observed               City State     Shape    Duration  \\\n",
       "30165 2015-11-15 05:20:00               Reno    NV  Triangle  15 seconds   \n",
       "30167 2015-11-15 05:20:00               Reno    NV  Triangle  15 seconds   \n",
       "20683 2017-08-12 22:30:00     Mount Pleasant    OH     Flash  12 minutes   \n",
       "20682 2017-08-12 22:30:00     Mount Pleasant    OH     Flash  12 minutes   \n",
       "15061 2019-01-05 14:00:00            Detroit    MI     Flash  10 minutes   \n",
       "15062 2019-01-05 14:00:00            Detroit    MI     Flash  10 minutes   \n",
       "14406 2019-03-16 20:45:00     Virginia Beach    VA    Circle   5 minutes   \n",
       "14407 2019-03-16 20:45:00     Virginia Beach    VA    Circle   5 minutes   \n",
       "8533  2020-01-12 05:37:00  Mountlake Terrace    WA       NaN         NaN   \n",
       "8534  2020-01-12 05:37:00  Mountlake Terrace    WA       NaN         NaN   \n",
       "4888  2020-06-20 21:56:00     Grand Junction    CO       NaN         NaN   \n",
       "4887  2020-06-20 21:56:00     Grand Junction    CO       NaN         NaN   \n",
       "3200  2020-09-14 06:53:00          Aliquippa    PA       NaN         NaN   \n",
       "3201  2020-09-14 06:53:00          Aliquippa    PA       NaN         NaN   \n",
       "8538                  NaT     Grand Junction    CO       NaN         NaN   \n",
       "8557                  NaT     Grand Junction    CO       NaN         NaN   \n",
       "8581                  NaT     Grand Junction    CO       NaN         NaN   \n",
       "8601                  NaT     Grand Junction    CO       NaN         NaN   \n",
       "\n",
       "                                                 Summary     Posted  \n",
       "30165  Black triangle. Only discernible by observing ... 2015-12-10  \n",
       "30167  Black triangle. Only discernible by observing ... 2015-12-10  \n",
       "20683  White flashing light moving irregularly throug... 2017-08-24  \n",
       "20682  White flashing light moving irregularly throug... 2017-09-05  \n",
       "15061  We witnessed 3 bright objects flying in a circ... 2019-01-11  \n",
       "15062  We witnessed 3 bright objects flying in a circ... 2019-01-17  \n",
       "14406                   Orange orb. ((anonymous report)) 2019-03-21  \n",
       "14407                   Orange orb. ((anonymous report)) 2019-03-21  \n",
       "8533                                      MADAR Node 100 2020-01-31  \n",
       "8534                                      MADAR Node 100 2020-02-07  \n",
       "4888                                       MADAR Node 75 2020-07-03  \n",
       "4887                                       MADAR Node 75 2020-07-09  \n",
       "3200                                       MADAR Node 68 2020-11-05  \n",
       "3201                                       MADAR Node 68 2020-11-05  \n",
       "8538        MADAR Node 75 A number of anomalies this day 2020-01-31  \n",
       "8557        MADAR Node 75 A number of anomalies this day 2020-01-31  \n",
       "8581        MADAR Node 75 A number of anomalies this day 2020-01-31  \n",
       "8601        MADAR Node 75 A number of anomalies this day 2020-01-31  "
      ]
     },
     "execution_count": 66,
     "metadata": {},
     "output_type": "execute_result"
    }
   ],
   "source": [
    "ufo[ufo.duplicated(['Observed', 'City', 'State', 'Shape', 'Duration', 'Summary'], keep=False)]\\\n",
    "    .sort_values(by=['Observed', 'City', 'State', 'Shape', 'Duration', 'Summary', 'Posted'])"
   ]
  },
  {
   "cell_type": "markdown",
   "id": "e47e9e25",
   "metadata": {},
   "source": [
    "Quite many observations share place, time, and duration, but Summary is different.\n",
    "\n",
    "Arbitrary inspection of several first cases has shown that there are minor textual differences in the Summary field. It seems safe to consider them true duplicates.\n",
    "\n",
    "No more investigation on duplicates on place, time and duration will be performed - let us consider that if at least duration is different, this can indicate multiple objects or multiple (=more reliable) observations of the same object."
   ]
  },
  {
   "cell_type": "code",
   "execution_count": 68,
   "id": "afecfd5c",
   "metadata": {},
   "outputs": [
    {
     "data": {
      "text/plain": [
       "(1143, 7)"
      ]
     },
     "execution_count": 68,
     "metadata": {},
     "output_type": "execute_result"
    }
   ],
   "source": [
    "ufo[ufo.duplicated(['Observed', 'City', 'State', 'Shape', 'Duration'], keep=False)]\\\n",
    "    .sort_values(by=['Observed', 'City', 'State', 'Shape', 'Duration', 'Summary', 'Posted'], ascending=False)\\\n",
    "    .shape"
   ]
  },
  {
   "cell_type": "markdown",
   "id": "b193ab20",
   "metadata": {},
   "source": [
    "Hence, the decision is to remove duplicates basing on `Observed`, `City`, `State`, `Shape`, and `Duration` fields.\n",
    "\n",
    "This will be done later, upon inspection of the `Shape` column."
   ]
  },
  {
   "cell_type": "code",
   "execution_count": 69,
   "id": "78c71b8c",
   "metadata": {},
   "outputs": [
    {
     "data": {
      "text/plain": [
       "changed           1\n",
       "changing       3267\n",
       "chevron        1541\n",
       "cigar          3256\n",
       "circle        14172\n",
       "cone            537\n",
       "crescent          2\n",
       "cross           432\n",
       "cylinder       2089\n",
       "delta             8\n",
       "diamond        1946\n",
       "disk           7993\n",
       "dome              1\n",
       "egg            1167\n",
       "fireball       9510\n",
       "flare             1\n",
       "flash          2364\n",
       "formation      4490\n",
       "hexagon           1\n",
       "light         27463\n",
       "other          9237\n",
       "oval           5841\n",
       "pyramid           1\n",
       "rectangle      2294\n",
       "round             2\n",
       "sphere         8773\n",
       "teardrop       1163\n",
       "triangle      12121\n",
       "triangular        1\n",
       "unknown        9197\n",
       "Name: Shape, dtype: int64"
      ]
     },
     "execution_count": 69,
     "metadata": {},
     "output_type": "execute_result"
    }
   ],
   "source": [
    "ufo.Shape.str.lower().value_counts().sort_index()"
   ]
  },
  {
   "cell_type": "markdown",
   "id": "7a9c560d",
   "metadata": {},
   "source": [
    "It seems reasonable to \n",
    "1) ignore case and \n",
    "2) consider (other joinings are possible but questionable):\n",
    "* 'changed' = 'changing'\n",
    "* 'cigar' = 'cylinder'\n",
    "* 'delta' = 'triangular' = 'triangle'\n",
    "* 'circle' = 'disk' = 'round' = 'sphere'\n",
    "* 'flare' = 'light'\n",
    "* 'other' = 'unknown'\n",
    "* 'egg' = 'oval'\n",
    "and\n",
    "3) set NaN to 'unknown'"
   ]
  },
  {
   "cell_type": "code",
   "execution_count": 70,
   "id": "d8abf874",
   "metadata": {},
   "outputs": [],
   "source": [
    "ufo.Shape = ufo.Shape.str.lower()\n",
    "\n",
    "new_shape = {\n",
    "                'Shape': {'changed': 'changing',\n",
    "                          'cigar': 'cylinder',\n",
    "                          'delta': 'triangle',\n",
    "                          'triangular': 'triangle',\n",
    "                          'disk': 'circle',\n",
    "                          'round': 'circle',\n",
    "                          'sphere': 'circle',\n",
    "                          'flash': 'light',\n",
    "                          'other': 'unknown',\n",
    "                          'egg': 'oval',\n",
    "                          np.nan: 'unknown'}\n",
    "            }\n",
    "\n",
    "ufo = ufo.replace(new_shape)"
   ]
  },
  {
   "cell_type": "code",
   "execution_count": null,
   "id": "6f908480",
   "metadata": {},
   "outputs": [],
   "source": [
    "ufo[ufo.duplicated(['Observed', 'City', 'State', 'Shape', 'Duration'], keep=False)]\\\n",
    "    .sort_values(by=['Observed', 'City', 'State', 'Shape', 'Duration', 'Summary', 'Posted'], ascending=False)"
   ]
  },
  {
   "cell_type": "markdown",
   "id": "0f4bacc3",
   "metadata": {},
   "source": [
    "Now we will finally drop the duplicates in view of updated `Shape` column"
   ]
  },
  {
   "cell_type": "code",
   "execution_count": 72,
   "id": "97906379",
   "metadata": {},
   "outputs": [],
   "source": [
    "ufo.drop_duplicates(['Observed', 'City', 'State', 'Shape', 'Duration'], keep='first', inplace=True)"
   ]
  },
  {
   "cell_type": "markdown",
   "id": "1b005bdd",
   "metadata": {},
   "source": [
    "Upon the cleaning, we have kept >99% of the observations.\n",
    "\n",
    "Many of them (about 12%) have NaN in at least one of the columns, but let us consider these as potentially useful partial information."
   ]
  },
  {
   "cell_type": "code",
   "execution_count": 73,
   "id": "058be138",
   "metadata": {},
   "outputs": [
    {
     "data": {
      "text/plain": [
       "0.9923"
      ]
     },
     "execution_count": 73,
     "metadata": {},
     "output_type": "execute_result"
    }
   ],
   "source": [
    "round(ufo.shape[0] / ufo_by_date.shape[0], 4)"
   ]
  },
  {
   "cell_type": "code",
   "execution_count": 74,
   "id": "faf8a9c3",
   "metadata": {},
   "outputs": [
    {
     "data": {
      "text/plain": [
       "0.117"
      ]
     },
     "execution_count": 74,
     "metadata": {},
     "output_type": "execute_result"
    }
   ],
   "source": [
    "round((ufo.shape[0] - ufo.dropna().shape[0]) / ufo.shape[0], 3)"
   ]
  },
  {
   "cell_type": "code",
   "execution_count": 75,
   "id": "514c8e8c",
   "metadata": {},
   "outputs": [],
   "source": [
    "# saving cleaned dataframe in case we distort it occasionally during analysis\n",
    "ufo.to_csv(\"ufo_for_analysis.csv\")"
   ]
  },
  {
   "cell_type": "markdown",
   "id": "3fface13",
   "metadata": {},
   "source": [
    "# <span style=\"color:blue\">Exploratory data analysis</span>"
   ]
  },
  {
   "cell_type": "markdown",
   "id": "cff14306",
   "metadata": {},
   "source": [
    "Plan:\n",
    "* **DONE** Fractions of observations by shape\n",
    "* **DONE** Line Plot of observations by year\n",
    "* **DONE** Line Plot of observations by year and shape\n",
    "* **DONE** Barplot of observations by state (raw and normalized by state population)\n",
    "* **DONE** Summarize observations by time, day of week\n",
    "* **DONE** Top counts by state + city\n",
    "* Compare US vs Canada states\n",
    "* Compare DC vs other states (US or Canadian - basing on the previous point) (by ufo shape, time, day of observation)\n",
    "* Compare fractions of states in total observations per year"
   ]
  },
  {
   "cell_type": "code",
   "execution_count": 77,
   "id": "49e9d1af",
   "metadata": {},
   "outputs": [],
   "source": [
    "# start analysis from scratch\n",
    "ufo = pd.read_csv('ufo_for_analysis.csv', index_col=0, parse_dates=['Observed', 'Posted'])"
   ]
  },
  {
   "cell_type": "code",
   "execution_count": 78,
   "id": "568602f6",
   "metadata": {},
   "outputs": [
    {
     "data": {
      "image/png": "[encoded data removed]",
      "text/plain": [
       "<Figure size 864x576 with 1 Axes>"
      ]
     },
     "metadata": {},
     "output_type": "display_data"
    }
   ],
   "source": [
    "ufo_per_shape = ufo.groupby('Shape')\\\n",
    "        .agg(percentage =('Summary', lambda x: x.size / ufo.shape[0] * 100))\\\n",
    "        .sort_values(by='percentage', ascending=False)\\\n",
    "        .round(2)\n",
    "\n",
    "idx = ufo_per_shape.index.tolist()\n",
    "idx.remove('unknown')\n",
    "ufo_per_shape = ufo_per_shape.reindex(idx + ['unknown'])\n",
    "\n",
    "sns.set_style(\"whitegrid\")\n",
    "sns.set(font_scale=1.1)\n",
    "\n",
    "bar,ax = plt.subplots(figsize=(12,8))\n",
    "ax = sns.barplot(x=ufo_per_shape.index,\n",
    "                 y='percentage',\n",
    "                 data=ufo_per_shape,\n",
    "                 ci=None,\n",
    "                 palette=\"muted\",\n",
    "                 orient='v', )\n",
    "ax.set_title(\"Distribution of UFO observations by the shape\", fontsize=15)\n",
    "ax.set_xlabel (\"UFO shape\")\n",
    "ax.set_ylabel (\"Percentage\")\n",
    "ax.tick_params(axis='x', rotation=45)\n",
    "\n",
    "# calculate the percentages and annotate the sns barplot\n",
    "for rect in ax.patches:\n",
    "    ax.text(rect.get_x(),rect.get_height() + 0.1,\"%.1f%%\"% rect.get_height(), weight='bold' );"
   ]
  },
  {
   "cell_type": "code",
   "execution_count": 79,
   "id": "cf0332b6",
   "metadata": {},
   "outputs": [
    {
     "data": {
      "image/png": "[encoded data removed]",
      "text/plain": [
       "<Figure size 864x576 with 1 Axes>"
      ]
     },
     "metadata": {},
     "output_type": "display_data"
    }
   ],
   "source": [
    "ufo_per_year = ufo.copy()\n",
    "ufo_per_year.index = ufo.Observed\n",
    "ufo_per_year = ufo_per_year.resample(rule='Y').Summary.count()\n",
    "\n",
    "sns.set_style(\"whitegrid\")\n",
    "sns.set(font_scale=1.1)\n",
    "\n",
    "plt.figure(figsize=(12,8))\n",
    "ax = sns.lineplot(x=ufo_per_year.index,\n",
    "                 y=ufo_per_year,\n",
    "                 palette=\"muted\")\n",
    "\n",
    "ax.set_title(\"Total UFO observed by year\", fontsize=15)\n",
    "ax.set_xlabel (\"Year\")\n",
    "ax.set_ylabel (\"Observations\");"
   ]
  },
  {
   "cell_type": "code",
   "execution_count": 140,
   "id": "3da4a93d",
   "metadata": {},
   "outputs": [
    {
     "data": {
      "image/png": "[encoded data removed]",
      "text/plain": [
       "<Figure size 864x576 with 1 Axes>"
      ]
     },
     "metadata": {},
     "output_type": "display_data"
    }
   ],
   "source": [
    "ufo_per_day = ufo.groupby(ufo.Observed.dt.day_name())\\\n",
    "                .Summary\\\n",
    "                .count()\\\n",
    "                .reindex(index = ['Monday', 'Tuesday', 'Wednesday', 'Thursday', 'Friday', 'Saturday', 'Sunday'])\n",
    "\n",
    "sns.set_style(\"whitegrid\")\n",
    "sns.set(font_scale=1.1)\n",
    "\n",
    "plt.figure(figsize=(12,8))\n",
    "ax = sns.barplot(x=ufo_per_day.index,\n",
    "                 y=ufo_per_day,\n",
    "                 palette=\"muted\")\n",
    "\n",
    "ax.set_title(\"Total UFO observed by day\", fontsize=15)\n",
    "ax.set_xlabel (\"Day\")\n",
    "ax.set_ylabel (\"Observations\");"
   ]
  },
  {
   "cell_type": "code",
   "execution_count": 143,
   "id": "b8d78e3d",
   "metadata": {},
   "outputs": [
    {
     "data": {
      "image/png": "[encoded data removed]",
      "text/plain": [
       "<Figure size 864x576 with 1 Axes>"
      ]
     },
     "metadata": {},
     "output_type": "display_data"
    }
   ],
   "source": [
    "ufo_per_hour = ufo.groupby(ufo.Observed.map(lambda t: t.hour))\\\n",
    "                .Summary\\\n",
    "                .count()\n",
    "\n",
    "sns.set_style(\"whitegrid\")\n",
    "sns.set(font_scale=1.1)\n",
    "\n",
    "plt.figure(figsize=(12,8))\n",
    "ax = sns.barplot(x=ufo_per_hour.index.astype('int'),\n",
    "                 y=ufo_per_hour,\n",
    "                 palette=\"muted\")\n",
    "\n",
    "ax.set_title(\"Total UFO observed by time\", fontsize=15)\n",
    "ax.set_xlabel (\"Hour\")\n",
    "ax.set_ylabel (\"Observations\");"
   ]
  },
  {
   "cell_type": "code",
   "execution_count": 80,
   "id": "021857ec",
   "metadata": {},
   "outputs": [
    {
     "data": {
      "image/png": "[encoded data removed]",
      "text/plain": [
       "<Figure size 864x576 with 1 Axes>"
      ]
     },
     "metadata": {},
     "output_type": "display_data"
    }
   ],
   "source": [
    "ufo_per_year_shape = ufo.assign(Year = ufo.Observed.dt.year)\n",
    "\n",
    "ufo_per_year_shape = ufo_per_year_shape.groupby(['Year', 'Shape'], as_index=False)\\\n",
    "        .agg({'Summary': 'count'})\\\n",
    "        .pivot('Year', columns='Shape', values='Summary')\n",
    "\n",
    "ufo_per_year_shape['overall'] = ufo_per_year_shape.sum(axis=1)\n",
    "\n",
    "ufo_per_year_shape = ufo_per_year_shape.reset_index()\\\n",
    "    .melt(id_vars = 'Year', var_name='Shape',  value_name='Observations')\n",
    "\n",
    "\n",
    "\n",
    "sns.set_style(\"whitegrid\")\n",
    "sns.set(font_scale=1.1)\n",
    "\n",
    "plt.figure(figsize=(12,8))\n",
    "ax = sns.lineplot(data=ufo_per_year_shape,\n",
    "                  x='Year',\n",
    "                  y='Observations',\n",
    "                  hue='Shape',\n",
    "                 palette=\"muted\")\n",
    "\n",
    "ax.set_title(\"UFO observed by year\", fontsize=15)\n",
    "ax.set_xlabel (\"Year\")\n",
    "ax.set_ylabel (\"Observations\");"
   ]
  },
  {
   "cell_type": "code",
   "execution_count": 81,
   "id": "eb519afa",
   "metadata": {},
   "outputs": [
    {
     "data": {
      "image/png": "[encoded data removed]",
      "text/plain": [
       "<Figure size 864x576 with 1 Axes>"
      ]
     },
     "metadata": {},
     "output_type": "display_data"
    }
   ],
   "source": [
    "ufo_per_year_shape = ufo.assign(Year = ufo.Observed.dt.year)\n",
    "\n",
    "ufo_per_year_shape = ufo_per_year_shape.groupby(['Year', 'Shape'], as_index=False)\\\n",
    "        .agg({'Summary': 'count'})\\\n",
    "        .pivot('Year', columns='Shape', values='Summary')\n",
    "\n",
    "ufo_per_year_shape['overall'] = ufo_per_year_shape.sum(axis=1)\n",
    "\n",
    "ufo_per_year_shape = ufo_per_year_shape.reset_index()\\\n",
    "    .melt(id_vars = 'Year', var_name='Shape',  value_name='Observations')\n",
    "\n",
    "ufo_per_year_shape = ufo_per_year_shape.query(\"Shape in ['overall', 'circle', 'light', 'triangle', 'fireball', 'oval', 'cylinder', 'formation']\")\\\n",
    "            .query(\"1960 <= Year <= 2021\")\n",
    "\n",
    "\n",
    "sns.set_style(\"whitegrid\")\n",
    "sns.set(font_scale=1.1)\n",
    "\n",
    "plt.figure(figsize=(12,8))\n",
    "ax = sns.lineplot(data=ufo_per_year_shape,\n",
    "                  x='Year',\n",
    "                  y='Observations',\n",
    "                  hue='Shape',\n",
    "                 palette=\"muted\")\n",
    "\n",
    "ax.set_title(\"UFO observed by year\", fontsize=15)\n",
    "ax.set_xlabel (\"Year\")\n",
    "ax.set_ylabel (\"Observations\");"
   ]
  },
  {
   "cell_type": "code",
   "execution_count": 82,
   "id": "699f26c0",
   "metadata": {},
   "outputs": [
    {
     "data": {
      "image/png": "[encoded data removed]",
      "text/plain": [
       "<Figure size 1008x720 with 1 Axes>"
      ]
     },
     "metadata": {},
     "output_type": "display_data"
    }
   ],
   "source": [
    "ufo_per_state = ufo.groupby('State', as_index=False)\\\n",
    "        .agg({'Summary': 'count'})\\\n",
    "        .rename(columns={'Summary': 'Observations'})\\\n",
    "        .sort_values(by='State', ascending=True)\n",
    "\n",
    "#Seaborn barplot\n",
    "sns.set_style(\"whitegrid\")\n",
    "\n",
    "sns.set(font_scale=1)\n",
    "\n",
    "bar,ax = plt.subplots(figsize=(14,10))\n",
    "ax = sns.barplot(x='State',\n",
    "                 y='Observations',\n",
    "                 data=ufo_per_state,\n",
    "                 ci=None,\n",
    "                 palette=\"muted\",\n",
    "                 orient='v')\n",
    "ax.set_title(\"Distribution of UFO observed by state\", fontsize=15)\n",
    "ax.set_xlabel (\"State\")\n",
    "ax.set_ylabel (\"Number of observations\")\n",
    "ax.tick_params(axis='x', rotation=90)"
   ]
  },
  {
   "cell_type": "markdown",
   "id": "01aba7cc",
   "metadata": {},
   "source": [
    "Distribution by state is strongly uneven; let us normalize it to the state population and area"
   ]
  },
  {
   "cell_type": "code",
   "execution_count": 83,
   "id": "171dc553",
   "metadata": {},
   "outputs": [],
   "source": [
    "ufo_per_state = pd.merge(left=ufo_per_state, \n",
    "                         right=states, how='inner', \n",
    "                         left_on='State', \n",
    "                         right_on='Abbreviation')"
   ]
  },
  {
   "cell_type": "code",
   "execution_count": 84,
   "id": "64f048aa",
   "metadata": {},
   "outputs": [],
   "source": [
    "ufo_per_state['Observations_per_population'] = ufo_per_state.Observations / ufo_per_state.Population\n",
    "ufo_per_state['Observations_per_area'] = ufo_per_state.Observations / ufo_per_state.Total_area\n",
    "ufo_per_state['Observations_per_land_area'] = ufo_per_state.Observations / ufo_per_state.Land_area"
   ]
  },
  {
   "cell_type": "code",
   "execution_count": 85,
   "id": "f9b6bf98",
   "metadata": {},
   "outputs": [
    {
     "data": {
      "image/png": "[encoded data removed]",
      "text/plain": [
       "<Figure size 1008x720 with 1 Axes>"
      ]
     },
     "metadata": {},
     "output_type": "display_data"
    }
   ],
   "source": [
    "sns.set_style(\"whitegrid\")\n",
    "\n",
    "sns.set(font_scale=1)\n",
    "\n",
    "bar,ax = plt.subplots(figsize=(14,10))\n",
    "ax = sns.barplot(x='State',\n",
    "                 y='Observations_per_population',\n",
    "                 data=ufo_per_state,\n",
    "                 ci=None,\n",
    "                 palette=\"muted\",\n",
    "                 orient='v')\n",
    "ax.set_title(\"Distribution of UFO observed by state normalized by current population\", fontsize=15)\n",
    "ax.set_xlabel (\"State\")\n",
    "ax.set_ylabel (\"Number of observations per person\")\n",
    "ax.tick_params(axis='x', rotation=90)"
   ]
  },
  {
   "cell_type": "code",
   "execution_count": 86,
   "id": "25d62987",
   "metadata": {},
   "outputs": [
    {
     "data": {
      "image/png": "[encoded data removed]",
      "text/plain": [
       "<Figure size 1008x720 with 1 Axes>"
      ]
     },
     "metadata": {},
     "output_type": "display_data"
    }
   ],
   "source": [
    "sns.set_style(\"whitegrid\")\n",
    "\n",
    "sns.set(font_scale=1)\n",
    "\n",
    "bar,ax = plt.subplots(figsize=(14,10))\n",
    "ax = sns.barplot(x='State',\n",
    "                 y='Observations_per_area',\n",
    "                 data=ufo_per_state,\n",
    "                 ci=None,\n",
    "                 palette=\"muted\",\n",
    "                 orient='v')\n",
    "ax.set_title(\"Distribution of UFO observed by state normalized by total area\", fontsize=15)\n",
    "ax.set_xlabel (\"State\")\n",
    "ax.set_ylabel (\"Number of observations per sq.km\")\n",
    "ax.tick_params(axis='x', rotation=90)"
   ]
  },
  {
   "cell_type": "code",
   "execution_count": 87,
   "id": "b5c31e31",
   "metadata": {},
   "outputs": [
    {
     "data": {
      "image/png": "[encoded data removed]",
      "text/plain": [
       "<Figure size 1008x720 with 1 Axes>"
      ]
     },
     "metadata": {},
     "output_type": "display_data"
    }
   ],
   "source": [
    "sns.set_style(\"whitegrid\")\n",
    "\n",
    "sns.set(font_scale=1)\n",
    "\n",
    "bar,ax = plt.subplots(figsize=(14,10))\n",
    "ax = sns.barplot(x='State',\n",
    "                 y='Observations_per_land_area',\n",
    "                 data=ufo_per_state,\n",
    "                 ci=None,\n",
    "                 palette=\"muted\",\n",
    "                 orient='v')\n",
    "ax.set_title(\"Distribution of UFO observed by state normalized by land area\", fontsize=15)\n",
    "ax.set_xlabel (\"State\")\n",
    "ax.set_ylabel (\"Number of observations per sq.km\")\n",
    "ax.tick_params(axis='x', rotation=90)"
   ]
  },
  {
   "cell_type": "code",
   "execution_count": 97,
   "id": "c5366eac",
   "metadata": {},
   "outputs": [],
   "source": [
    "def z_score(column):\n",
    "    column.replace([np.inf, -np.inf], np.nan, inplace=True)\n",
    "    return (column - column.mean())/column.std()\n",
    "\n",
    "ufo_per_state['Observations_std'] = z_score(ufo_per_state['Observations'])\n",
    "ufo_per_state['Observations_per_population_std'] = z_score(ufo_per_state['Observations_per_population'])\n",
    "ufo_per_state['Observations_per_area_std'] = z_score(ufo_per_state['Observations_per_area'])\n",
    "ufo_per_state['Observations_per_land_area_std'] = z_score(ufo_per_state['Observations_per_land_area'])\n",
    "\n",
    "std_observations = ufo_per_state.loc[:, ['State', 'Observations_std', 'Observations_per_population_std', 'Observations_per_area_std', 'Observations_per_land_area_std']]\n",
    "\n",
    "std_observations = pd.melt(frame=std_observations, \n",
    "        id_vars='State',\n",
    "        value_vars=['Observations_std', 'Observations_per_population_std', 'Observations_per_area_std', 'Observations_per_land_area_std'],\n",
    "        )"
   ]
  },
  {
   "cell_type": "code",
   "execution_count": 98,
   "id": "d8b4c432",
   "metadata": {},
   "outputs": [
    {
     "data": {
      "image/png": "[encoded data removed]",
      "text/plain": [
       "<Figure size 576x432 with 1 Axes>"
      ]
     },
     "metadata": {},
     "output_type": "display_data"
    }
   ],
   "source": [
    "plt.figure(figsize=(8,6))\n",
    "sns.boxplot(x=\"value\", y=\"variable\", data=std_observations, color=\"c\")\n",
    "sns.despine(trim=True)"
   ]
  },
  {
   "cell_type": "code",
   "execution_count": 99,
   "id": "aebe1282",
   "metadata": {},
   "outputs": [
    {
     "data": {
      "image/png": "[encoded data removed]",
      "text/plain": [
       "<Figure size 576x432 with 1 Axes>"
      ]
     },
     "metadata": {},
     "output_type": "display_data"
    }
   ],
   "source": [
    "plt.figure(figsize=(8,6))\n",
    "sns.violinplot(x=\"value\", y=\"variable\", data=std_observations, color=\"c\")\n",
    "sns.despine(trim=True)"
   ]
  },
  {
   "cell_type": "code",
   "execution_count": 106,
   "id": "a0f96532",
   "metadata": {},
   "outputs": [
    {
     "data": {
      "text/plain": [
       "65    -1.125210\n",
       "66     2.016161\n",
       "67    -0.660049\n",
       "68    -0.051897\n",
       "69     1.143815\n",
       "         ...   \n",
       "125    2.171767\n",
       "126   -0.021503\n",
       "127    0.334820\n",
       "128    1.223081\n",
       "129    1.801947\n",
       "Name: value, Length: 65, dtype: float64"
      ]
     },
     "execution_count": 106,
     "metadata": {},
     "output_type": "execute_result"
    }
   ],
   "source": [
    "std_observations.query(\"variable == 'Observations_per_population_std'\").value"
   ]
  },
  {
   "cell_type": "code",
   "execution_count": 113,
   "id": "cf7011ca",
   "metadata": {},
   "outputs": [
    {
     "data": {
      "application/vnd.plotly.v1+json": {
       "config": {
        "plotlyServerURL": "https://plot.ly"
       },
       "data": [
        {
         "coloraxis": "coloraxis",
         "geo": "geo",
         "hovertemplate": "locations=%{location}<br>color=%{z}<extra></extra>",
         "locationmode": "USA-states",
         "locations": [
          "AB",
          "AK",
          "AL",
          "AR",
          "AZ",
          "BC",
          "CA",
          "CO",
          "CT",
          "DC",
          "DE",
          "FL",
          "GA",
          "HI",
          "IA",
          "ID",
          "IL",
          "IN",
          "KS",
          "KY",
          "LA",
          "MA",
          "MB",
          "MD",
          "ME",
          "MI",
          "MN",
          "MO",
          "MS",
          "MT",
          "NB",
          "NC",
          "ND",
          "NE",
          "NH",
          "NJ",
          "NL",
          "NM",
          "NS",
          "NT",
          "NV",
          "NY",
          "OH",
          "OK",
          "ON",
          "OR",
          "PA",
          "PE",
          "PR",
          "QC",
          "RI",
          "SC",
          "SD",
          "SK",
          "TN",
          "TX",
          "UT",
          "VA",
          "VI",
          "VT",
          "WA",
          "WI",
          "WV",
          "WY",
          "YT"
         ],
         "name": "",
         "type": "choropleth",
         "z": [
          -1.1252095826911068,
          2.0161611563267354,
          -0.6600490036959887,
          -0.051897197381439,
          1.1438145143970984,
          -0.7765453713316585,
          -0.05693295830699056,
          0.536626972450104,
          0.5325307399076697,
          -0.8598943470604933,
          -0.10717346125228752,
          -0.20797703539854406,
          -0.7347366982079622,
          0.1857403002091502,
          -0.1584081549201637,
          1.2948799192265223,
          -0.3606722645101076,
          -0.12400694829276433,
          -0.08089372382741797,
          -0.2180516161261203,
          -0.7860288932891069,
          -0.21450800595206862,
          -0.9833782719168321,
          -0.5585680771144949,
          1.9026917084921418,
          -0.2609544595343844,
          -0.22534504281459242,
          0.12880553422941285,
          -0.6590531111600367,
          2.187587818648591,
          -0.6464650131838959,
          -0.33910991570634497,
          -0.2700437599729142,
          -0.271285191695016,
          1.8080149476243206,
          -0.49065596570597686,
          -1.4122687581281688,
          1.5069765315245365,
          -0.8032516254203502,
          0.7845890477227434,
          0.5300834324399678,
          -0.58428962120318,
          -0.21027196366643147,
          -0.23484330320506905,
          -1.06569096654763,
          1.763924484098925,
          -0.19557694152854763,
          -1.072854722091223,
          -1.7408473348192786,
          -1.5932519416378905,
          0.531601153640805,
          0.07308250026055182,
          0.02146398900373221,
          -1.0836586269546322,
          -0.4150760999258948,
          -0.9160196861341902,
          0.16149502379832437,
          -0.4891267615108906,
          -1.7513214292005364,
          2.1760119127761963,
          2.171767273822186,
          -0.02150288921628626,
          0.3348202660566559,
          1.223080790427735,
          1.8019467251548105
         ]
        }
       ],
       "layout": {
        "coloraxis": {
         "colorbar": {
          "title": {
           "text": "color"
          }
         },
         "colorscale": [
          [
           0,
           "#0d0887"
          ],
          [
           0.1111111111111111,
           "#46039f"
          ],
          [
           0.2222222222222222,
           "#7201a8"
          ],
          [
           0.3333333333333333,
           "#9c179e"
          ],
          [
           0.4444444444444444,
           "#bd3786"
          ],
          [
           0.5555555555555556,
           "#d8576b"
          ],
          [
           0.6666666666666666,
           "#ed7953"
          ],
          [
           0.7777777777777778,
           "#fb9f3a"
          ],
          [
           0.8888888888888888,
           "#fdca26"
          ],
          [
           1,
           "#f0f921"
          ]
         ]
        },
        "geo": {
         "center": {},
         "domain": {
          "x": [
           0,
           1
          ],
          "y": [
           0,
           1
          ]
         },
         "scope": "usa"
        },
        "legend": {
         "tracegroupgap": 0
        },
        "template": {
         "data": {
          "bar": [
           {
            "error_x": {
             "color": "#2a3f5f"
            },
            "error_y": {
             "color": "#2a3f5f"
            },
            "marker": {
             "line": {
              "color": "#E5ECF6",
              "width": 0.5
             },
             "pattern": {
              "fillmode": "overlay",
              "size": 10,
              "solidity": 0.2
             }
            },
            "type": "bar"
           }
          ],
          "barpolar": [
           {
            "marker": {
             "line": {
              "color": "#E5ECF6",
              "width": 0.5
             },
             "pattern": {
              "fillmode": "overlay",
              "size": 10,
              "solidity": 0.2
             }
            },
            "type": "barpolar"
           }
          ],
          "carpet": [
           {
            "aaxis": {
             "endlinecolor": "#2a3f5f",
             "gridcolor": "white",
             "linecolor": "white",
             "minorgridcolor": "white",
             "startlinecolor": "#2a3f5f"
            },
            "baxis": {
             "endlinecolor": "#2a3f5f",
             "gridcolor": "white",
             "linecolor": "white",
             "minorgridcolor": "white",
             "startlinecolor": "#2a3f5f"
            },
            "type": "carpet"
           }
          ],
          "choropleth": [
           {
            "colorbar": {
             "outlinewidth": 0,
             "ticks": ""
            },
            "type": "choropleth"
           }
          ],
          "contour": [
           {
            "colorbar": {
             "outlinewidth": 0,
             "ticks": ""
            },
            "colorscale": [
             [
              0,
              "#0d0887"
             ],
             [
              0.1111111111111111,
              "#46039f"
             ],
             [
              0.2222222222222222,
              "#7201a8"
             ],
             [
              0.3333333333333333,
              "#9c179e"
             ],
             [
              0.4444444444444444,
              "#bd3786"
             ],
             [
              0.5555555555555556,
              "#d8576b"
             ],
             [
              0.6666666666666666,
              "#ed7953"
             ],
             [
              0.7777777777777778,
              "#fb9f3a"
             ],
             [
              0.8888888888888888,
              "#fdca26"
             ],
             [
              1,
              "#f0f921"
             ]
            ],
            "type": "contour"
           }
          ],
          "contourcarpet": [
           {
            "colorbar": {
             "outlinewidth": 0,
             "ticks": ""
            },
            "type": "contourcarpet"
           }
          ],
          "heatmap": [
           {
            "colorbar": {
             "outlinewidth": 0,
             "ticks": ""
            },
            "colorscale": [
             [
              0,
              "#0d0887"
             ],
             [
              0.1111111111111111,
              "#46039f"
             ],
             [
              0.2222222222222222,
              "#7201a8"
             ],
             [
              0.3333333333333333,
              "#9c179e"
             ],
             [
              0.4444444444444444,
              "#bd3786"
             ],
             [
              0.5555555555555556,
              "#d8576b"
             ],
             [
              0.6666666666666666,
              "#ed7953"
             ],
             [
              0.7777777777777778,
              "#fb9f3a"
             ],
             [
              0.8888888888888888,
              "#fdca26"
             ],
             [
              1,
              "#f0f921"
             ]
            ],
            "type": "heatmap"
           }
          ],
          "heatmapgl": [
           {
            "colorbar": {
             "outlinewidth": 0,
             "ticks": ""
            },
            "colorscale": [
             [
              0,
              "#0d0887"
             ],
             [
              0.1111111111111111,
              "#46039f"
             ],
             [
              0.2222222222222222,
              "#7201a8"
             ],
             [
              0.3333333333333333,
              "#9c179e"
             ],
             [
              0.4444444444444444,
              "#bd3786"
             ],
             [
              0.5555555555555556,
              "#d8576b"
             ],
             [
              0.6666666666666666,
              "#ed7953"
             ],
             [
              0.7777777777777778,
              "#fb9f3a"
             ],
             [
              0.8888888888888888,
              "#fdca26"
             ],
             [
              1,
              "#f0f921"
             ]
            ],
            "type": "heatmapgl"
           }
          ],
          "histogram": [
           {
            "marker": {
             "pattern": {
              "fillmode": "overlay",
              "size": 10,
              "solidity": 0.2
             }
            },
            "type": "histogram"
           }
          ],
          "histogram2d": [
           {
            "colorbar": {
             "outlinewidth": 0,
             "ticks": ""
            },
            "colorscale": [
             [
              0,
              "#0d0887"
             ],
             [
              0.1111111111111111,
              "#46039f"
             ],
             [
              0.2222222222222222,
              "#7201a8"
             ],
             [
              0.3333333333333333,
              "#9c179e"
             ],
             [
              0.4444444444444444,
              "#bd3786"
             ],
             [
              0.5555555555555556,
              "#d8576b"
             ],
             [
              0.6666666666666666,
              "#ed7953"
             ],
             [
              0.7777777777777778,
              "#fb9f3a"
             ],
             [
              0.8888888888888888,
              "#fdca26"
             ],
             [
              1,
              "#f0f921"
             ]
            ],
            "type": "histogram2d"
           }
          ],
          "histogram2dcontour": [
           {
            "colorbar": {
             "outlinewidth": 0,
             "ticks": ""
            },
            "colorscale": [
             [
              0,
              "#0d0887"
             ],
             [
              0.1111111111111111,
              "#46039f"
             ],
             [
              0.2222222222222222,
              "#7201a8"
             ],
             [
              0.3333333333333333,
              "#9c179e"
             ],
             [
              0.4444444444444444,
              "#bd3786"
             ],
             [
              0.5555555555555556,
              "#d8576b"
             ],
             [
              0.6666666666666666,
              "#ed7953"
             ],
             [
              0.7777777777777778,
              "#fb9f3a"
             ],
             [
              0.8888888888888888,
              "#fdca26"
             ],
             [
              1,
              "#f0f921"
             ]
            ],
            "type": "histogram2dcontour"
           }
          ],
          "mesh3d": [
           {
            "colorbar": {
             "outlinewidth": 0,
             "ticks": ""
            },
            "type": "mesh3d"
           }
          ],
          "parcoords": [
           {
            "line": {
             "colorbar": {
              "outlinewidth": 0,
              "ticks": ""
             }
            },
            "type": "parcoords"
           }
          ],
          "pie": [
           {
            "automargin": true,
            "type": "pie"
           }
          ],
          "scatter": [
           {
            "marker": {
             "colorbar": {
              "outlinewidth": 0,
              "ticks": ""
             }
            },
            "type": "scatter"
           }
          ],
          "scatter3d": [
           {
            "line": {
             "colorbar": {
              "outlinewidth": 0,
              "ticks": ""
             }
            },
            "marker": {
             "colorbar": {
              "outlinewidth": 0,
              "ticks": ""
             }
            },
            "type": "scatter3d"
           }
          ],
          "scattercarpet": [
           {
            "marker": {
             "colorbar": {
              "outlinewidth": 0,
              "ticks": ""
             }
            },
            "type": "scattercarpet"
           }
          ],
          "scattergeo": [
           {
            "marker": {
             "colorbar": {
              "outlinewidth": 0,
              "ticks": ""
             }
            },
            "type": "scattergeo"
           }
          ],
          "scattergl": [
           {
            "marker": {
             "colorbar": {
              "outlinewidth": 0,
              "ticks": ""
             }
            },
            "type": "scattergl"
           }
          ],
          "scattermapbox": [
           {
            "marker": {
             "colorbar": {
              "outlinewidth": 0,
              "ticks": ""
             }
            },
            "type": "scattermapbox"
           }
          ],
          "scatterpolar": [
           {
            "marker": {
             "colorbar": {
              "outlinewidth": 0,
              "ticks": ""
             }
            },
            "type": "scatterpolar"
           }
          ],
          "scatterpolargl": [
           {
            "marker": {
             "colorbar": {
              "outlinewidth": 0,
              "ticks": ""
             }
            },
            "type": "scatterpolargl"
           }
          ],
          "scatterternary": [
           {
            "marker": {
             "colorbar": {
              "outlinewidth": 0,
              "ticks": ""
             }
            },
            "type": "scatterternary"
           }
          ],
          "surface": [
           {
            "colorbar": {
             "outlinewidth": 0,
             "ticks": ""
            },
            "colorscale": [
             [
              0,
              "#0d0887"
             ],
             [
              0.1111111111111111,
              "#46039f"
             ],
             [
              0.2222222222222222,
              "#7201a8"
             ],
             [
              0.3333333333333333,
              "#9c179e"
             ],
             [
              0.4444444444444444,
              "#bd3786"
             ],
             [
              0.5555555555555556,
              "#d8576b"
             ],
             [
              0.6666666666666666,
              "#ed7953"
             ],
             [
              0.7777777777777778,
              "#fb9f3a"
             ],
             [
              0.8888888888888888,
              "#fdca26"
             ],
             [
              1,
              "#f0f921"
             ]
            ],
            "type": "surface"
           }
          ],
          "table": [
           {
            "cells": {
             "fill": {
              "color": "#EBF0F8"
             },
             "line": {
              "color": "white"
             }
            },
            "header": {
             "fill": {
              "color": "#C8D4E3"
             },
             "line": {
              "color": "white"
             }
            },
            "type": "table"
           }
          ]
         },
         "layout": {
          "annotationdefaults": {
           "arrowcolor": "#2a3f5f",
           "arrowhead": 0,
           "arrowwidth": 1
          },
          "autotypenumbers": "strict",
          "coloraxis": {
           "colorbar": {
            "outlinewidth": 0,
            "ticks": ""
           }
          },
          "colorscale": {
           "diverging": [
            [
             0,
             "#8e0152"
            ],
            [
             0.1,
             "#c51b7d"
            ],
            [
             0.2,
             "#de77ae"
            ],
            [
             0.3,
             "#f1b6da"
            ],
            [
             0.4,
             "#fde0ef"
            ],
            [
             0.5,
             "#f7f7f7"
            ],
            [
             0.6,
             "#e6f5d0"
            ],
            [
             0.7,
             "#b8e186"
            ],
            [
             0.8,
             "#7fbc41"
            ],
            [
             0.9,
             "#4d9221"
            ],
            [
             1,
             "#276419"
            ]
           ],
           "sequential": [
            [
             0,
             "#0d0887"
            ],
            [
             0.1111111111111111,
             "#46039f"
            ],
            [
             0.2222222222222222,
             "#7201a8"
            ],
            [
             0.3333333333333333,
             "#9c179e"
            ],
            [
             0.4444444444444444,
             "#bd3786"
            ],
            [
             0.5555555555555556,
             "#d8576b"
            ],
            [
             0.6666666666666666,
             "#ed7953"
            ],
            [
             0.7777777777777778,
             "#fb9f3a"
            ],
            [
             0.8888888888888888,
             "#fdca26"
            ],
            [
             1,
             "#f0f921"
            ]
           ],
           "sequentialminus": [
            [
             0,
             "#0d0887"
            ],
            [
             0.1111111111111111,
             "#46039f"
            ],
            [
             0.2222222222222222,
             "#7201a8"
            ],
            [
             0.3333333333333333,
             "#9c179e"
            ],
            [
             0.4444444444444444,
             "#bd3786"
            ],
            [
             0.5555555555555556,
             "#d8576b"
            ],
            [
             0.6666666666666666,
             "#ed7953"
            ],
            [
             0.7777777777777778,
             "#fb9f3a"
            ],
            [
             0.8888888888888888,
             "#fdca26"
            ],
            [
             1,
             "#f0f921"
            ]
           ]
          },
          "colorway": [
           "#636efa",
           "#EF553B",
           "#00cc96",
           "#ab63fa",
           "#FFA15A",
           "#19d3f3",
           "#FF6692",
           "#B6E880",
           "#FF97FF",
           "#FECB52"
          ],
          "font": {
           "color": "#2a3f5f"
          },
          "geo": {
           "bgcolor": "white",
           "lakecolor": "white",
           "landcolor": "#E5ECF6",
           "showlakes": true,
           "showland": true,
           "subunitcolor": "white"
          },
          "hoverlabel": {
           "align": "left"
          },
          "hovermode": "closest",
          "mapbox": {
           "style": "light"
          },
          "paper_bgcolor": "white",
          "plot_bgcolor": "#E5ECF6",
          "polar": {
           "angularaxis": {
            "gridcolor": "white",
            "linecolor": "white",
            "ticks": ""
           },
           "bgcolor": "#E5ECF6",
           "radialaxis": {
            "gridcolor": "white",
            "linecolor": "white",
            "ticks": ""
           }
          },
          "scene": {
           "xaxis": {
            "backgroundcolor": "#E5ECF6",
            "gridcolor": "white",
            "gridwidth": 2,
            "linecolor": "white",
            "showbackground": true,
            "ticks": "",
            "zerolinecolor": "white"
           },
           "yaxis": {
            "backgroundcolor": "#E5ECF6",
            "gridcolor": "white",
            "gridwidth": 2,
            "linecolor": "white",
            "showbackground": true,
            "ticks": "",
            "zerolinecolor": "white"
           },
           "zaxis": {
            "backgroundcolor": "#E5ECF6",
            "gridcolor": "white",
            "gridwidth": 2,
            "linecolor": "white",
            "showbackground": true,
            "ticks": "",
            "zerolinecolor": "white"
           }
          },
          "shapedefaults": {
           "line": {
            "color": "#2a3f5f"
           }
          },
          "ternary": {
           "aaxis": {
            "gridcolor": "white",
            "linecolor": "white",
            "ticks": ""
           },
           "baxis": {
            "gridcolor": "white",
            "linecolor": "white",
            "ticks": ""
           },
           "bgcolor": "#E5ECF6",
           "caxis": {
            "gridcolor": "white",
            "linecolor": "white",
            "ticks": ""
           }
          },
          "title": {
           "x": 0.05
          },
          "xaxis": {
           "automargin": true,
           "gridcolor": "white",
           "linecolor": "white",
           "ticks": "",
           "title": {
            "standoff": 15
           },
           "zerolinecolor": "white",
           "zerolinewidth": 2
          },
          "yaxis": {
           "automargin": true,
           "gridcolor": "white",
           "linecolor": "white",
           "ticks": "",
           "title": {
            "standoff": 15
           },
           "zerolinecolor": "white",
           "zerolinewidth": 2
          }
         }
        },
        "title": {
         "text": "Z-score of UFO observations per current state population"
        }
       }
      },
      "text/html": [
       "<div>                            <div id=\"d10a424a-61cb-4187-aa59-2d3363be4dc2\" class=\"plotly-graph-div\" style=\"height:525px; width:100%;\"></div>            <script type=\"text/javascript\">                require([\"plotly\"], function(Plotly) {                    window.PLOTLYENV=window.PLOTLYENV || {};                                    if (document.getElementById(\"d10a424a-61cb-4187-aa59-2d3363be4dc2\")) {                    Plotly.newPlot(                        \"d10a424a-61cb-4187-aa59-2d3363be4dc2\",                        [{\"coloraxis\":\"coloraxis\",\"geo\":\"geo\",\"hovertemplate\":\"locations=%{location}<br>color=%{z}<extra></extra>\",\"locationmode\":\"USA-states\",\"locations\":[\"AB\",\"AK\",\"AL\",\"AR\",\"AZ\",\"BC\",\"CA\",\"CO\",\"CT\",\"DC\",\"DE\",\"FL\",\"GA\",\"HI\",\"IA\",\"ID\",\"IL\",\"IN\",\"KS\",\"KY\",\"LA\",\"MA\",\"MB\",\"MD\",\"ME\",\"MI\",\"MN\",\"MO\",\"MS\",\"MT\",\"NB\",\"NC\",\"ND\",\"NE\",\"NH\",\"NJ\",\"NL\",\"NM\",\"NS\",\"NT\",\"NV\",\"NY\",\"OH\",\"OK\",\"ON\",\"OR\",\"PA\",\"PE\",\"PR\",\"QC\",\"RI\",\"SC\",\"SD\",\"SK\",\"TN\",\"TX\",\"UT\",\"VA\",\"VI\",\"VT\",\"WA\",\"WI\",\"WV\",\"WY\",\"YT\"],\"name\":\"\",\"type\":\"choropleth\",\"z\":[-1.1252095826911068,2.0161611563267354,-0.6600490036959887,-0.051897197381439,1.1438145143970984,-0.7765453713316585,-0.05693295830699056,0.536626972450104,0.5325307399076697,-0.8598943470604933,-0.10717346125228752,-0.20797703539854406,-0.7347366982079622,0.1857403002091502,-0.1584081549201637,1.2948799192265223,-0.3606722645101076,-0.12400694829276433,-0.08089372382741797,-0.2180516161261203,-0.7860288932891069,-0.21450800595206862,-0.9833782719168321,-0.5585680771144949,1.9026917084921418,-0.2609544595343844,-0.22534504281459242,0.12880553422941285,-0.6590531111600367,2.187587818648591,-0.6464650131838959,-0.33910991570634497,-0.2700437599729142,-0.271285191695016,1.8080149476243206,-0.49065596570597686,-1.4122687581281688,1.5069765315245365,-0.8032516254203502,0.7845890477227434,0.5300834324399678,-0.58428962120318,-0.21027196366643147,-0.23484330320506905,-1.06569096654763,1.763924484098925,-0.19557694152854763,-1.072854722091223,-1.7408473348192786,-1.5932519416378905,0.531601153640805,0.07308250026055182,0.02146398900373221,-1.0836586269546322,-0.4150760999258948,-0.9160196861341902,0.16149502379832437,-0.4891267615108906,-1.7513214292005364,2.1760119127761963,2.171767273822186,-0.02150288921628626,0.3348202660566559,1.223080790427735,1.8019467251548105]}],                        {\"coloraxis\":{\"colorbar\":{\"title\":{\"text\":\"color\"}},\"colorscale\":[[0.0,\"#0d0887\"],[0.1111111111111111,\"#46039f\"],[0.2222222222222222,\"#7201a8\"],[0.3333333333333333,\"#9c179e\"],[0.4444444444444444,\"#bd3786\"],[0.5555555555555556,\"#d8576b\"],[0.6666666666666666,\"#ed7953\"],[0.7777777777777778,\"#fb9f3a\"],[0.8888888888888888,\"#fdca26\"],[1.0,\"#f0f921\"]]},\"geo\":{\"center\":{},\"domain\":{\"x\":[0.0,1.0],\"y\":[0.0,1.0]},\"scope\":\"usa\"},\"legend\":{\"tracegroupgap\":0},\"template\":{\"data\":{\"bar\":[{\"error_x\":{\"color\":\"#2a3f5f\"},\"error_y\":{\"color\":\"#2a3f5f\"},\"marker\":{\"line\":{\"color\":\"#E5ECF6\",\"width\":0.5},\"pattern\":{\"fillmode\":\"overlay\",\"size\":10,\"solidity\":0.2}},\"type\":\"bar\"}],\"barpolar\":[{\"marker\":{\"line\":{\"color\":\"#E5ECF6\",\"width\":0.5},\"pattern\":{\"fillmode\":\"overlay\",\"size\":10,\"solidity\":0.2}},\"type\":\"barpolar\"}],\"carpet\":[{\"aaxis\":{\"endlinecolor\":\"#2a3f5f\",\"gridcolor\":\"white\",\"linecolor\":\"white\",\"minorgridcolor\":\"white\",\"startlinecolor\":\"#2a3f5f\"},\"baxis\":{\"endlinecolor\":\"#2a3f5f\",\"gridcolor\":\"white\",\"linecolor\":\"white\",\"minorgridcolor\":\"white\",\"startlinecolor\":\"#2a3f5f\"},\"type\":\"carpet\"}],\"choropleth\":[{\"colorbar\":{\"outlinewidth\":0,\"ticks\":\"\"},\"type\":\"choropleth\"}],\"contour\":[{\"colorbar\":{\"outlinewidth\":0,\"ticks\":\"\"},\"colorscale\":[[0.0,\"#0d0887\"],[0.1111111111111111,\"#46039f\"],[0.2222222222222222,\"#7201a8\"],[0.3333333333333333,\"#9c179e\"],[0.4444444444444444,\"#bd3786\"],[0.5555555555555556,\"#d8576b\"],[0.6666666666666666,\"#ed7953\"],[0.7777777777777778,\"#fb9f3a\"],[0.8888888888888888,\"#fdca26\"],[1.0,\"#f0f921\"]],\"type\":\"contour\"}],\"contourcarpet\":[{\"colorbar\":{\"outlinewidth\":0,\"ticks\":\"\"},\"type\":\"contourcarpet\"}],\"heatmap\":[{\"colorbar\":{\"outlinewidth\":0,\"ticks\":\"\"},\"colorscale\":[[0.0,\"#0d0887\"],[0.1111111111111111,\"#46039f\"],[0.2222222222222222,\"#7201a8\"],[0.3333333333333333,\"#9c179e\"],[0.4444444444444444,\"#bd3786\"],[0.5555555555555556,\"#d8576b\"],[0.6666666666666666,\"#ed7953\"],[0.7777777777777778,\"#fb9f3a\"],[0.8888888888888888,\"#fdca26\"],[1.0,\"#f0f921\"]],\"type\":\"heatmap\"}],\"heatmapgl\":[{\"colorbar\":{\"outlinewidth\":0,\"ticks\":\"\"},\"colorscale\":[[0.0,\"#0d0887\"],[0.1111111111111111,\"#46039f\"],[0.2222222222222222,\"#7201a8\"],[0.3333333333333333,\"#9c179e\"],[0.4444444444444444,\"#bd3786\"],[0.5555555555555556,\"#d8576b\"],[0.6666666666666666,\"#ed7953\"],[0.7777777777777778,\"#fb9f3a\"],[0.8888888888888888,\"#fdca26\"],[1.0,\"#f0f921\"]],\"type\":\"heatmapgl\"}],\"histogram\":[{\"marker\":{\"pattern\":{\"fillmode\":\"overlay\",\"size\":10,\"solidity\":0.2}},\"type\":\"histogram\"}],\"histogram2d\":[{\"colorbar\":{\"outlinewidth\":0,\"ticks\":\"\"},\"colorscale\":[[0.0,\"#0d0887\"],[0.1111111111111111,\"#46039f\"],[0.2222222222222222,\"#7201a8\"],[0.3333333333333333,\"#9c179e\"],[0.4444444444444444,\"#bd3786\"],[0.5555555555555556,\"#d8576b\"],[0.6666666666666666,\"#ed7953\"],[0.7777777777777778,\"#fb9f3a\"],[0.8888888888888888,\"#fdca26\"],[1.0,\"#f0f921\"]],\"type\":\"histogram2d\"}],\"histogram2dcontour\":[{\"colorbar\":{\"outlinewidth\":0,\"ticks\":\"\"},\"colorscale\":[[0.0,\"#0d0887\"],[0.1111111111111111,\"#46039f\"],[0.2222222222222222,\"#7201a8\"],[0.3333333333333333,\"#9c179e\"],[0.4444444444444444,\"#bd3786\"],[0.5555555555555556,\"#d8576b\"],[0.6666666666666666,\"#ed7953\"],[0.7777777777777778,\"#fb9f3a\"],[0.8888888888888888,\"#fdca26\"],[1.0,\"#f0f921\"]],\"type\":\"histogram2dcontour\"}],\"mesh3d\":[{\"colorbar\":{\"outlinewidth\":0,\"ticks\":\"\"},\"type\":\"mesh3d\"}],\"parcoords\":[{\"line\":{\"colorbar\":{\"outlinewidth\":0,\"ticks\":\"\"}},\"type\":\"parcoords\"}],\"pie\":[{\"automargin\":true,\"type\":\"pie\"}],\"scatter\":[{\"marker\":{\"colorbar\":{\"outlinewidth\":0,\"ticks\":\"\"}},\"type\":\"scatter\"}],\"scatter3d\":[{\"line\":{\"colorbar\":{\"outlinewidth\":0,\"ticks\":\"\"}},\"marker\":{\"colorbar\":{\"outlinewidth\":0,\"ticks\":\"\"}},\"type\":\"scatter3d\"}],\"scattercarpet\":[{\"marker\":{\"colorbar\":{\"outlinewidth\":0,\"ticks\":\"\"}},\"type\":\"scattercarpet\"}],\"scattergeo\":[{\"marker\":{\"colorbar\":{\"outlinewidth\":0,\"ticks\":\"\"}},\"type\":\"scattergeo\"}],\"scattergl\":[{\"marker\":{\"colorbar\":{\"outlinewidth\":0,\"ticks\":\"\"}},\"type\":\"scattergl\"}],\"scattermapbox\":[{\"marker\":{\"colorbar\":{\"outlinewidth\":0,\"ticks\":\"\"}},\"type\":\"scattermapbox\"}],\"scatterpolar\":[{\"marker\":{\"colorbar\":{\"outlinewidth\":0,\"ticks\":\"\"}},\"type\":\"scatterpolar\"}],\"scatterpolargl\":[{\"marker\":{\"colorbar\":{\"outlinewidth\":0,\"ticks\":\"\"}},\"type\":\"scatterpolargl\"}],\"scatterternary\":[{\"marker\":{\"colorbar\":{\"outlinewidth\":0,\"ticks\":\"\"}},\"type\":\"scatterternary\"}],\"surface\":[{\"colorbar\":{\"outlinewidth\":0,\"ticks\":\"\"},\"colorscale\":[[0.0,\"#0d0887\"],[0.1111111111111111,\"#46039f\"],[0.2222222222222222,\"#7201a8\"],[0.3333333333333333,\"#9c179e\"],[0.4444444444444444,\"#bd3786\"],[0.5555555555555556,\"#d8576b\"],[0.6666666666666666,\"#ed7953\"],[0.7777777777777778,\"#fb9f3a\"],[0.8888888888888888,\"#fdca26\"],[1.0,\"#f0f921\"]],\"type\":\"surface\"}],\"table\":[{\"cells\":{\"fill\":{\"color\":\"#EBF0F8\"},\"line\":{\"color\":\"white\"}},\"header\":{\"fill\":{\"color\":\"#C8D4E3\"},\"line\":{\"color\":\"white\"}},\"type\":\"table\"}]},\"layout\":{\"annotationdefaults\":{\"arrowcolor\":\"#2a3f5f\",\"arrowhead\":0,\"arrowwidth\":1},\"autotypenumbers\":\"strict\",\"coloraxis\":{\"colorbar\":{\"outlinewidth\":0,\"ticks\":\"\"}},\"colorscale\":{\"diverging\":[[0,\"#8e0152\"],[0.1,\"#c51b7d\"],[0.2,\"#de77ae\"],[0.3,\"#f1b6da\"],[0.4,\"#fde0ef\"],[0.5,\"#f7f7f7\"],[0.6,\"#e6f5d0\"],[0.7,\"#b8e186\"],[0.8,\"#7fbc41\"],[0.9,\"#4d9221\"],[1,\"#276419\"]],\"sequential\":[[0.0,\"#0d0887\"],[0.1111111111111111,\"#46039f\"],[0.2222222222222222,\"#7201a8\"],[0.3333333333333333,\"#9c179e\"],[0.4444444444444444,\"#bd3786\"],[0.5555555555555556,\"#d8576b\"],[0.6666666666666666,\"#ed7953\"],[0.7777777777777778,\"#fb9f3a\"],[0.8888888888888888,\"#fdca26\"],[1.0,\"#f0f921\"]],\"sequentialminus\":[[0.0,\"#0d0887\"],[0.1111111111111111,\"#46039f\"],[0.2222222222222222,\"#7201a8\"],[0.3333333333333333,\"#9c179e\"],[0.4444444444444444,\"#bd3786\"],[0.5555555555555556,\"#d8576b\"],[0.6666666666666666,\"#ed7953\"],[0.7777777777777778,\"#fb9f3a\"],[0.8888888888888888,\"#fdca26\"],[1.0,\"#f0f921\"]]},\"colorway\":[\"#636efa\",\"#EF553B\",\"#00cc96\",\"#ab63fa\",\"#FFA15A\",\"#19d3f3\",\"#FF6692\",\"#B6E880\",\"#FF97FF\",\"#FECB52\"],\"font\":{\"color\":\"#2a3f5f\"},\"geo\":{\"bgcolor\":\"white\",\"lakecolor\":\"white\",\"landcolor\":\"#E5ECF6\",\"showlakes\":true,\"showland\":true,\"subunitcolor\":\"white\"},\"hoverlabel\":{\"align\":\"left\"},\"hovermode\":\"closest\",\"mapbox\":{\"style\":\"light\"},\"paper_bgcolor\":\"white\",\"plot_bgcolor\":\"#E5ECF6\",\"polar\":{\"angularaxis\":{\"gridcolor\":\"white\",\"linecolor\":\"white\",\"ticks\":\"\"},\"bgcolor\":\"#E5ECF6\",\"radialaxis\":{\"gridcolor\":\"white\",\"linecolor\":\"white\",\"ticks\":\"\"}},\"scene\":{\"xaxis\":{\"backgroundcolor\":\"#E5ECF6\",\"gridcolor\":\"white\",\"gridwidth\":2,\"linecolor\":\"white\",\"showbackground\":true,\"ticks\":\"\",\"zerolinecolor\":\"white\"},\"yaxis\":{\"backgroundcolor\":\"#E5ECF6\",\"gridcolor\":\"white\",\"gridwidth\":2,\"linecolor\":\"white\",\"showbackground\":true,\"ticks\":\"\",\"zerolinecolor\":\"white\"},\"zaxis\":{\"backgroundcolor\":\"#E5ECF6\",\"gridcolor\":\"white\",\"gridwidth\":2,\"linecolor\":\"white\",\"showbackground\":true,\"ticks\":\"\",\"zerolinecolor\":\"white\"}},\"shapedefaults\":{\"line\":{\"color\":\"#2a3f5f\"}},\"ternary\":{\"aaxis\":{\"gridcolor\":\"white\",\"linecolor\":\"white\",\"ticks\":\"\"},\"baxis\":{\"gridcolor\":\"white\",\"linecolor\":\"white\",\"ticks\":\"\"},\"bgcolor\":\"#E5ECF6\",\"caxis\":{\"gridcolor\":\"white\",\"linecolor\":\"white\",\"ticks\":\"\"}},\"title\":{\"x\":0.05},\"xaxis\":{\"automargin\":true,\"gridcolor\":\"white\",\"linecolor\":\"white\",\"ticks\":\"\",\"title\":{\"standoff\":15},\"zerolinecolor\":\"white\",\"zerolinewidth\":2},\"yaxis\":{\"automargin\":true,\"gridcolor\":\"white\",\"linecolor\":\"white\",\"ticks\":\"\",\"title\":{\"standoff\":15},\"zerolinecolor\":\"white\",\"zerolinewidth\":2}}},\"title\":{\"text\":\"Z-score of UFO observations per current state population\"}},                        {\"responsive\": true}                    ).then(function(){\n",
       "                            \n",
       "var gd = document.getElementById('d10a424a-61cb-4187-aa59-2d3363be4dc2');\n",
       "var x = new MutationObserver(function (mutations, observer) {{\n",
       "        var display = window.getComputedStyle(gd).display;\n",
       "        if (!display || display === 'none') {{\n",
       "            console.log([gd, 'removed!']);\n",
       "            Plotly.purge(gd);\n",
       "            observer.disconnect();\n",
       "        }}\n",
       "}});\n",
       "\n",
       "// Listen for the removal of the full notebook cells\n",
       "var notebookContainer = gd.closest('#notebook-container');\n",
       "if (notebookContainer) {{\n",
       "    x.observe(notebookContainer, {childList: true});\n",
       "}}\n",
       "\n",
       "// Listen for the clearing of the current output cell\n",
       "var outputEl = gd.closest('.output');\n",
       "if (outputEl) {{\n",
       "    x.observe(outputEl, {childList: true});\n",
       "}}\n",
       "\n",
       "                        })                };                });            </script>        </div>"
      ]
     },
     "metadata": {},
     "output_type": "display_data"
    }
   ],
   "source": [
    "fig = px.choropleth(locations=std_observations.query(\"variable == 'Observations_per_population_std'\").State,\n",
    "                    locationmode=\"USA-states\",\n",
    "                    color=std_observations.query(\"variable == 'Observations_per_population_std'\").value,\n",
    "                    scope=\"usa\",\n",
    "                    title='Z-score of UFO observations per current state population')\n",
    "fig.show()"
   ]
  },
  {
   "cell_type": "code",
   "execution_count": 111,
   "id": "675b5a95",
   "metadata": {},
   "outputs": [
    {
     "data": {
      "application/vnd.plotly.v1+json": {
       "config": {
        "plotlyServerURL": "https://plot.ly"
       },
       "data": [
        {
         "coloraxis": "coloraxis",
         "geo": "geo",
         "hovertemplate": "locations=%{location}<br>color=%{z}<extra></extra>",
         "locationmode": "USA-states",
         "locations": [
          "AB",
          "AK",
          "AL",
          "AR",
          "AZ",
          "BC",
          "CA",
          "CO",
          "CT",
          "DC",
          "DE",
          "FL",
          "GA",
          "HI",
          "IA",
          "ID",
          "IL",
          "IN",
          "KS",
          "KY",
          "LA",
          "MA",
          "MB",
          "MD",
          "ME",
          "MI",
          "MN",
          "MO",
          "MS",
          "MT",
          "NB",
          "NC",
          "ND",
          "NE",
          "NH",
          "NJ",
          "NL",
          "NM",
          "NS",
          "NT",
          "NV",
          "NY",
          "OH",
          "OK",
          "ON",
          "OR",
          "PA",
          "PE",
          "PR",
          "QC",
          "RI",
          "SC",
          "SD",
          "SK",
          "TN",
          "TX",
          "UT",
          "VA",
          "VI",
          "VT",
          "WA",
          "WI",
          "WV",
          "WY",
          "YT"
         ],
         "name": "",
         "type": "choropleth",
         "z": [
          -0.19853201944114243,
          -0.20110493305682126,
          -0.16666555203918423,
          -0.16999227343533826,
          -0.14180904177673054,
          -0.19762837243639383,
          -0.06429158814498596,
          -0.15992103335221983,
          0.29585016919555834,
          7.886509853246489,
          0.018517163473461922,
          -0.03136115672893988,
          -0.13954631277869736,
          -0.11569231418514325,
          -0.17194195421810737,
          -0.18010899558611626,
          -0.09801352041879244,
          -0.09999742722754375,
          -0.1823391280166515,
          -0.14459776648609166,
          -0.17293780832307246,
          0.1440723584041702,
          -0.20075728765085224,
          0.0002316923158225729,
          -0.15563112096802617,
          -0.14986395481002407,
          -0.1685678022389039,
          -0.14657259750503762,
          -0.17961561406036847,
          -0.1928236624725006,
          -0.19174272222028946,
          -0.10951244984212036,
          -0.19695477346506285,
          -0.18976605642064406,
          -0.027784435398572196,
          0.2548748648290293,
          -0.20203214489541998,
          -0.18356306799036234,
          -0.18690713348864835,
          -0.20240365316678502,
          -0.1810002381417137,
          -0.05486602697417192,
          -0.06515856931572808,
          -0.1733935369355902,
          -0.1924577947673174,
          -0.1520435550081265,
          -0.05382659639859207,
          -0.18500844317447293,
          -0.19158350494824275,
          -0.2013930165717668,
          0.3414927251053797,
          -0.10419290487176305,
          -0.1956122034248876,
          -0.20127670950523652,
          -0.1279857862989213,
          -0.17107021264401417,
          -0.17766946792177543,
          -0.11572568292289286,
          -0.20040233837007418,
          -0.11510013905229567,
          -0.06141636440222206,
          -0.1499531228524009,
          -0.15059133467852587,
          -0.19662960415509512,
          -0.20221199898849224
         ]
        }
       ],
       "layout": {
        "coloraxis": {
         "colorbar": {
          "title": {
           "text": "color"
          }
         },
         "colorscale": [
          [
           0,
           "#0d0887"
          ],
          [
           0.1111111111111111,
           "#46039f"
          ],
          [
           0.2222222222222222,
           "#7201a8"
          ],
          [
           0.3333333333333333,
           "#9c179e"
          ],
          [
           0.4444444444444444,
           "#bd3786"
          ],
          [
           0.5555555555555556,
           "#d8576b"
          ],
          [
           0.6666666666666666,
           "#ed7953"
          ],
          [
           0.7777777777777778,
           "#fb9f3a"
          ],
          [
           0.8888888888888888,
           "#fdca26"
          ],
          [
           1,
           "#f0f921"
          ]
         ]
        },
        "geo": {
         "center": {},
         "domain": {
          "x": [
           0,
           1
          ],
          "y": [
           0,
           1
          ]
         },
         "scope": "usa"
        },
        "legend": {
         "tracegroupgap": 0
        },
        "margin": {
         "t": 60
        },
        "template": {
         "data": {
          "bar": [
           {
            "error_x": {
             "color": "#2a3f5f"
            },
            "error_y": {
             "color": "#2a3f5f"
            },
            "marker": {
             "line": {
              "color": "#E5ECF6",
              "width": 0.5
             },
             "pattern": {
              "fillmode": "overlay",
              "size": 10,
              "solidity": 0.2
             }
            },
            "type": "bar"
           }
          ],
          "barpolar": [
           {
            "marker": {
             "line": {
              "color": "#E5ECF6",
              "width": 0.5
             },
             "pattern": {
              "fillmode": "overlay",
              "size": 10,
              "solidity": 0.2
             }
            },
            "type": "barpolar"
           }
          ],
          "carpet": [
           {
            "aaxis": {
             "endlinecolor": "#2a3f5f",
             "gridcolor": "white",
             "linecolor": "white",
             "minorgridcolor": "white",
             "startlinecolor": "#2a3f5f"
            },
            "baxis": {
             "endlinecolor": "#2a3f5f",
             "gridcolor": "white",
             "linecolor": "white",
             "minorgridcolor": "white",
             "startlinecolor": "#2a3f5f"
            },
            "type": "carpet"
           }
          ],
          "choropleth": [
           {
            "colorbar": {
             "outlinewidth": 0,
             "ticks": ""
            },
            "type": "choropleth"
           }
          ],
          "contour": [
           {
            "colorbar": {
             "outlinewidth": 0,
             "ticks": ""
            },
            "colorscale": [
             [
              0,
              "#0d0887"
             ],
             [
              0.1111111111111111,
              "#46039f"
             ],
             [
              0.2222222222222222,
              "#7201a8"
             ],
             [
              0.3333333333333333,
              "#9c179e"
             ],
             [
              0.4444444444444444,
              "#bd3786"
             ],
             [
              0.5555555555555556,
              "#d8576b"
             ],
             [
              0.6666666666666666,
              "#ed7953"
             ],
             [
              0.7777777777777778,
              "#fb9f3a"
             ],
             [
              0.8888888888888888,
              "#fdca26"
             ],
             [
              1,
              "#f0f921"
             ]
            ],
            "type": "contour"
           }
          ],
          "contourcarpet": [
           {
            "colorbar": {
             "outlinewidth": 0,
             "ticks": ""
            },
            "type": "contourcarpet"
           }
          ],
          "heatmap": [
           {
            "colorbar": {
             "outlinewidth": 0,
             "ticks": ""
            },
            "colorscale": [
             [
              0,
              "#0d0887"
             ],
             [
              0.1111111111111111,
              "#46039f"
             ],
             [
              0.2222222222222222,
              "#7201a8"
             ],
             [
              0.3333333333333333,
              "#9c179e"
             ],
             [
              0.4444444444444444,
              "#bd3786"
             ],
             [
              0.5555555555555556,
              "#d8576b"
             ],
             [
              0.6666666666666666,
              "#ed7953"
             ],
             [
              0.7777777777777778,
              "#fb9f3a"
             ],
             [
              0.8888888888888888,
              "#fdca26"
             ],
             [
              1,
              "#f0f921"
             ]
            ],
            "type": "heatmap"
           }
          ],
          "heatmapgl": [
           {
            "colorbar": {
             "outlinewidth": 0,
             "ticks": ""
            },
            "colorscale": [
             [
              0,
              "#0d0887"
             ],
             [
              0.1111111111111111,
              "#46039f"
             ],
             [
              0.2222222222222222,
              "#7201a8"
             ],
             [
              0.3333333333333333,
              "#9c179e"
             ],
             [
              0.4444444444444444,
              "#bd3786"
             ],
             [
              0.5555555555555556,
              "#d8576b"
             ],
             [
              0.6666666666666666,
              "#ed7953"
             ],
             [
              0.7777777777777778,
              "#fb9f3a"
             ],
             [
              0.8888888888888888,
              "#fdca26"
             ],
             [
              1,
              "#f0f921"
             ]
            ],
            "type": "heatmapgl"
           }
          ],
          "histogram": [
           {
            "marker": {
             "pattern": {
              "fillmode": "overlay",
              "size": 10,
              "solidity": 0.2
             }
            },
            "type": "histogram"
           }
          ],
          "histogram2d": [
           {
            "colorbar": {
             "outlinewidth": 0,
             "ticks": ""
            },
            "colorscale": [
             [
              0,
              "#0d0887"
             ],
             [
              0.1111111111111111,
              "#46039f"
             ],
             [
              0.2222222222222222,
              "#7201a8"
             ],
             [
              0.3333333333333333,
              "#9c179e"
             ],
             [
              0.4444444444444444,
              "#bd3786"
             ],
             [
              0.5555555555555556,
              "#d8576b"
             ],
             [
              0.6666666666666666,
              "#ed7953"
             ],
             [
              0.7777777777777778,
              "#fb9f3a"
             ],
             [
              0.8888888888888888,
              "#fdca26"
             ],
             [
              1,
              "#f0f921"
             ]
            ],
            "type": "histogram2d"
           }
          ],
          "histogram2dcontour": [
           {
            "colorbar": {
             "outlinewidth": 0,
             "ticks": ""
            },
            "colorscale": [
             [
              0,
              "#0d0887"
             ],
             [
              0.1111111111111111,
              "#46039f"
             ],
             [
              0.2222222222222222,
              "#7201a8"
             ],
             [
              0.3333333333333333,
              "#9c179e"
             ],
             [
              0.4444444444444444,
              "#bd3786"
             ],
             [
              0.5555555555555556,
              "#d8576b"
             ],
             [
              0.6666666666666666,
              "#ed7953"
             ],
             [
              0.7777777777777778,
              "#fb9f3a"
             ],
             [
              0.8888888888888888,
              "#fdca26"
             ],
             [
              1,
              "#f0f921"
             ]
            ],
            "type": "histogram2dcontour"
           }
          ],
          "mesh3d": [
           {
            "colorbar": {
             "outlinewidth": 0,
             "ticks": ""
            },
            "type": "mesh3d"
           }
          ],
          "parcoords": [
           {
            "line": {
             "colorbar": {
              "outlinewidth": 0,
              "ticks": ""
             }
            },
            "type": "parcoords"
           }
          ],
          "pie": [
           {
            "automargin": true,
            "type": "pie"
           }
          ],
          "scatter": [
           {
            "marker": {
             "colorbar": {
              "outlinewidth": 0,
              "ticks": ""
             }
            },
            "type": "scatter"
           }
          ],
          "scatter3d": [
           {
            "line": {
             "colorbar": {
              "outlinewidth": 0,
              "ticks": ""
             }
            },
            "marker": {
             "colorbar": {
              "outlinewidth": 0,
              "ticks": ""
             }
            },
            "type": "scatter3d"
           }
          ],
          "scattercarpet": [
           {
            "marker": {
             "colorbar": {
              "outlinewidth": 0,
              "ticks": ""
             }
            },
            "type": "scattercarpet"
           }
          ],
          "scattergeo": [
           {
            "marker": {
             "colorbar": {
              "outlinewidth": 0,
              "ticks": ""
             }
            },
            "type": "scattergeo"
           }
          ],
          "scattergl": [
           {
            "marker": {
             "colorbar": {
              "outlinewidth": 0,
              "ticks": ""
             }
            },
            "type": "scattergl"
           }
          ],
          "scattermapbox": [
           {
            "marker": {
             "colorbar": {
              "outlinewidth": 0,
              "ticks": ""
             }
            },
            "type": "scattermapbox"
           }
          ],
          "scatterpolar": [
           {
            "marker": {
             "colorbar": {
              "outlinewidth": 0,
              "ticks": ""
             }
            },
            "type": "scatterpolar"
           }
          ],
          "scatterpolargl": [
           {
            "marker": {
             "colorbar": {
              "outlinewidth": 0,
              "ticks": ""
             }
            },
            "type": "scatterpolargl"
           }
          ],
          "scatterternary": [
           {
            "marker": {
             "colorbar": {
              "outlinewidth": 0,
              "ticks": ""
             }
            },
            "type": "scatterternary"
           }
          ],
          "surface": [
           {
            "colorbar": {
             "outlinewidth": 0,
             "ticks": ""
            },
            "colorscale": [
             [
              0,
              "#0d0887"
             ],
             [
              0.1111111111111111,
              "#46039f"
             ],
             [
              0.2222222222222222,
              "#7201a8"
             ],
             [
              0.3333333333333333,
              "#9c179e"
             ],
             [
              0.4444444444444444,
              "#bd3786"
             ],
             [
              0.5555555555555556,
              "#d8576b"
             ],
             [
              0.6666666666666666,
              "#ed7953"
             ],
             [
              0.7777777777777778,
              "#fb9f3a"
             ],
             [
              0.8888888888888888,
              "#fdca26"
             ],
             [
              1,
              "#f0f921"
             ]
            ],
            "type": "surface"
           }
          ],
          "table": [
           {
            "cells": {
             "fill": {
              "color": "#EBF0F8"
             },
             "line": {
              "color": "white"
             }
            },
            "header": {
             "fill": {
              "color": "#C8D4E3"
             },
             "line": {
              "color": "white"
             }
            },
            "type": "table"
           }
          ]
         },
         "layout": {
          "annotationdefaults": {
           "arrowcolor": "#2a3f5f",
           "arrowhead": 0,
           "arrowwidth": 1
          },
          "autotypenumbers": "strict",
          "coloraxis": {
           "colorbar": {
            "outlinewidth": 0,
            "ticks": ""
           }
          },
          "colorscale": {
           "diverging": [
            [
             0,
             "#8e0152"
            ],
            [
             0.1,
             "#c51b7d"
            ],
            [
             0.2,
             "#de77ae"
            ],
            [
             0.3,
             "#f1b6da"
            ],
            [
             0.4,
             "#fde0ef"
            ],
            [
             0.5,
             "#f7f7f7"
            ],
            [
             0.6,
             "#e6f5d0"
            ],
            [
             0.7,
             "#b8e186"
            ],
            [
             0.8,
             "#7fbc41"
            ],
            [
             0.9,
             "#4d9221"
            ],
            [
             1,
             "#276419"
            ]
           ],
           "sequential": [
            [
             0,
             "#0d0887"
            ],
            [
             0.1111111111111111,
             "#46039f"
            ],
            [
             0.2222222222222222,
             "#7201a8"
            ],
            [
             0.3333333333333333,
             "#9c179e"
            ],
            [
             0.4444444444444444,
             "#bd3786"
            ],
            [
             0.5555555555555556,
             "#d8576b"
            ],
            [
             0.6666666666666666,
             "#ed7953"
            ],
            [
             0.7777777777777778,
             "#fb9f3a"
            ],
            [
             0.8888888888888888,
             "#fdca26"
            ],
            [
             1,
             "#f0f921"
            ]
           ],
           "sequentialminus": [
            [
             0,
             "#0d0887"
            ],
            [
             0.1111111111111111,
             "#46039f"
            ],
            [
             0.2222222222222222,
             "#7201a8"
            ],
            [
             0.3333333333333333,
             "#9c179e"
            ],
            [
             0.4444444444444444,
             "#bd3786"
            ],
            [
             0.5555555555555556,
             "#d8576b"
            ],
            [
             0.6666666666666666,
             "#ed7953"
            ],
            [
             0.7777777777777778,
             "#fb9f3a"
            ],
            [
             0.8888888888888888,
             "#fdca26"
            ],
            [
             1,
             "#f0f921"
            ]
           ]
          },
          "colorway": [
           "#636efa",
           "#EF553B",
           "#00cc96",
           "#ab63fa",
           "#FFA15A",
           "#19d3f3",
           "#FF6692",
           "#B6E880",
           "#FF97FF",
           "#FECB52"
          ],
          "font": {
           "color": "#2a3f5f"
          },
          "geo": {
           "bgcolor": "white",
           "lakecolor": "white",
           "landcolor": "#E5ECF6",
           "showlakes": true,
           "showland": true,
           "subunitcolor": "white"
          },
          "hoverlabel": {
           "align": "left"
          },
          "hovermode": "closest",
          "mapbox": {
           "style": "light"
          },
          "paper_bgcolor": "white",
          "plot_bgcolor": "#E5ECF6",
          "polar": {
           "angularaxis": {
            "gridcolor": "white",
            "linecolor": "white",
            "ticks": ""
           },
           "bgcolor": "#E5ECF6",
           "radialaxis": {
            "gridcolor": "white",
            "linecolor": "white",
            "ticks": ""
           }
          },
          "scene": {
           "xaxis": {
            "backgroundcolor": "#E5ECF6",
            "gridcolor": "white",
            "gridwidth": 2,
            "linecolor": "white",
            "showbackground": true,
            "ticks": "",
            "zerolinecolor": "white"
           },
           "yaxis": {
            "backgroundcolor": "#E5ECF6",
            "gridcolor": "white",
            "gridwidth": 2,
            "linecolor": "white",
            "showbackground": true,
            "ticks": "",
            "zerolinecolor": "white"
           },
           "zaxis": {
            "backgroundcolor": "#E5ECF6",
            "gridcolor": "white",
            "gridwidth": 2,
            "linecolor": "white",
            "showbackground": true,
            "ticks": "",
            "zerolinecolor": "white"
           }
          },
          "shapedefaults": {
           "line": {
            "color": "#2a3f5f"
           }
          },
          "ternary": {
           "aaxis": {
            "gridcolor": "white",
            "linecolor": "white",
            "ticks": ""
           },
           "baxis": {
            "gridcolor": "white",
            "linecolor": "white",
            "ticks": ""
           },
           "bgcolor": "#E5ECF6",
           "caxis": {
            "gridcolor": "white",
            "linecolor": "white",
            "ticks": ""
           }
          },
          "title": {
           "x": 0.05
          },
          "xaxis": {
           "automargin": true,
           "gridcolor": "white",
           "linecolor": "white",
           "ticks": "",
           "title": {
            "standoff": 15
           },
           "zerolinecolor": "white",
           "zerolinewidth": 2
          },
          "yaxis": {
           "automargin": true,
           "gridcolor": "white",
           "linecolor": "white",
           "ticks": "",
           "title": {
            "standoff": 15
           },
           "zerolinecolor": "white",
           "zerolinewidth": 2
          }
         }
        }
       }
      },
      "text/html": [
       "<div>                            <div id=\"28810732-3b6e-4e2c-9eb6-bfe686403491\" class=\"plotly-graph-div\" style=\"height:525px; width:100%;\"></div>            <script type=\"text/javascript\">                require([\"plotly\"], function(Plotly) {                    window.PLOTLYENV=window.PLOTLYENV || {};                                    if (document.getElementById(\"28810732-3b6e-4e2c-9eb6-bfe686403491\")) {                    Plotly.newPlot(                        \"28810732-3b6e-4e2c-9eb6-bfe686403491\",                        [{\"coloraxis\":\"coloraxis\",\"geo\":\"geo\",\"hovertemplate\":\"locations=%{location}<br>color=%{z}<extra></extra>\",\"locationmode\":\"USA-states\",\"locations\":[\"AB\",\"AK\",\"AL\",\"AR\",\"AZ\",\"BC\",\"CA\",\"CO\",\"CT\",\"DC\",\"DE\",\"FL\",\"GA\",\"HI\",\"IA\",\"ID\",\"IL\",\"IN\",\"KS\",\"KY\",\"LA\",\"MA\",\"MB\",\"MD\",\"ME\",\"MI\",\"MN\",\"MO\",\"MS\",\"MT\",\"NB\",\"NC\",\"ND\",\"NE\",\"NH\",\"NJ\",\"NL\",\"NM\",\"NS\",\"NT\",\"NV\",\"NY\",\"OH\",\"OK\",\"ON\",\"OR\",\"PA\",\"PE\",\"PR\",\"QC\",\"RI\",\"SC\",\"SD\",\"SK\",\"TN\",\"TX\",\"UT\",\"VA\",\"VI\",\"VT\",\"WA\",\"WI\",\"WV\",\"WY\",\"YT\"],\"name\":\"\",\"type\":\"choropleth\",\"z\":[-0.19853201944114243,-0.20110493305682126,-0.16666555203918423,-0.16999227343533826,-0.14180904177673054,-0.19762837243639383,-0.06429158814498596,-0.15992103335221983,0.29585016919555834,7.886509853246489,0.018517163473461922,-0.03136115672893988,-0.13954631277869736,-0.11569231418514325,-0.17194195421810737,-0.18010899558611626,-0.09801352041879244,-0.09999742722754375,-0.1823391280166515,-0.14459776648609166,-0.17293780832307246,0.1440723584041702,-0.20075728765085224,0.0002316923158225729,-0.15563112096802617,-0.14986395481002407,-0.1685678022389039,-0.14657259750503762,-0.17961561406036847,-0.1928236624725006,-0.19174272222028946,-0.10951244984212036,-0.19695477346506285,-0.18976605642064406,-0.027784435398572196,0.2548748648290293,-0.20203214489541998,-0.18356306799036234,-0.18690713348864835,-0.20240365316678502,-0.1810002381417137,-0.05486602697417192,-0.06515856931572808,-0.1733935369355902,-0.1924577947673174,-0.1520435550081265,-0.05382659639859207,-0.18500844317447293,-0.19158350494824275,-0.2013930165717668,0.3414927251053797,-0.10419290487176305,-0.1956122034248876,-0.20127670950523652,-0.1279857862989213,-0.17107021264401417,-0.17766946792177543,-0.11572568292289286,-0.20040233837007418,-0.11510013905229567,-0.06141636440222206,-0.1499531228524009,-0.15059133467852587,-0.19662960415509512,-0.20221199898849224]}],                        {\"coloraxis\":{\"colorbar\":{\"title\":{\"text\":\"color\"}},\"colorscale\":[[0.0,\"#0d0887\"],[0.1111111111111111,\"#46039f\"],[0.2222222222222222,\"#7201a8\"],[0.3333333333333333,\"#9c179e\"],[0.4444444444444444,\"#bd3786\"],[0.5555555555555556,\"#d8576b\"],[0.6666666666666666,\"#ed7953\"],[0.7777777777777778,\"#fb9f3a\"],[0.8888888888888888,\"#fdca26\"],[1.0,\"#f0f921\"]]},\"geo\":{\"center\":{},\"domain\":{\"x\":[0.0,1.0],\"y\":[0.0,1.0]},\"scope\":\"usa\"},\"legend\":{\"tracegroupgap\":0},\"margin\":{\"t\":60},\"template\":{\"data\":{\"bar\":[{\"error_x\":{\"color\":\"#2a3f5f\"},\"error_y\":{\"color\":\"#2a3f5f\"},\"marker\":{\"line\":{\"color\":\"#E5ECF6\",\"width\":0.5},\"pattern\":{\"fillmode\":\"overlay\",\"size\":10,\"solidity\":0.2}},\"type\":\"bar\"}],\"barpolar\":[{\"marker\":{\"line\":{\"color\":\"#E5ECF6\",\"width\":0.5},\"pattern\":{\"fillmode\":\"overlay\",\"size\":10,\"solidity\":0.2}},\"type\":\"barpolar\"}],\"carpet\":[{\"aaxis\":{\"endlinecolor\":\"#2a3f5f\",\"gridcolor\":\"white\",\"linecolor\":\"white\",\"minorgridcolor\":\"white\",\"startlinecolor\":\"#2a3f5f\"},\"baxis\":{\"endlinecolor\":\"#2a3f5f\",\"gridcolor\":\"white\",\"linecolor\":\"white\",\"minorgridcolor\":\"white\",\"startlinecolor\":\"#2a3f5f\"},\"type\":\"carpet\"}],\"choropleth\":[{\"colorbar\":{\"outlinewidth\":0,\"ticks\":\"\"},\"type\":\"choropleth\"}],\"contour\":[{\"colorbar\":{\"outlinewidth\":0,\"ticks\":\"\"},\"colorscale\":[[0.0,\"#0d0887\"],[0.1111111111111111,\"#46039f\"],[0.2222222222222222,\"#7201a8\"],[0.3333333333333333,\"#9c179e\"],[0.4444444444444444,\"#bd3786\"],[0.5555555555555556,\"#d8576b\"],[0.6666666666666666,\"#ed7953\"],[0.7777777777777778,\"#fb9f3a\"],[0.8888888888888888,\"#fdca26\"],[1.0,\"#f0f921\"]],\"type\":\"contour\"}],\"contourcarpet\":[{\"colorbar\":{\"outlinewidth\":0,\"ticks\":\"\"},\"type\":\"contourcarpet\"}],\"heatmap\":[{\"colorbar\":{\"outlinewidth\":0,\"ticks\":\"\"},\"colorscale\":[[0.0,\"#0d0887\"],[0.1111111111111111,\"#46039f\"],[0.2222222222222222,\"#7201a8\"],[0.3333333333333333,\"#9c179e\"],[0.4444444444444444,\"#bd3786\"],[0.5555555555555556,\"#d8576b\"],[0.6666666666666666,\"#ed7953\"],[0.7777777777777778,\"#fb9f3a\"],[0.8888888888888888,\"#fdca26\"],[1.0,\"#f0f921\"]],\"type\":\"heatmap\"}],\"heatmapgl\":[{\"colorbar\":{\"outlinewidth\":0,\"ticks\":\"\"},\"colorscale\":[[0.0,\"#0d0887\"],[0.1111111111111111,\"#46039f\"],[0.2222222222222222,\"#7201a8\"],[0.3333333333333333,\"#9c179e\"],[0.4444444444444444,\"#bd3786\"],[0.5555555555555556,\"#d8576b\"],[0.6666666666666666,\"#ed7953\"],[0.7777777777777778,\"#fb9f3a\"],[0.8888888888888888,\"#fdca26\"],[1.0,\"#f0f921\"]],\"type\":\"heatmapgl\"}],\"histogram\":[{\"marker\":{\"pattern\":{\"fillmode\":\"overlay\",\"size\":10,\"solidity\":0.2}},\"type\":\"histogram\"}],\"histogram2d\":[{\"colorbar\":{\"outlinewidth\":0,\"ticks\":\"\"},\"colorscale\":[[0.0,\"#0d0887\"],[0.1111111111111111,\"#46039f\"],[0.2222222222222222,\"#7201a8\"],[0.3333333333333333,\"#9c179e\"],[0.4444444444444444,\"#bd3786\"],[0.5555555555555556,\"#d8576b\"],[0.6666666666666666,\"#ed7953\"],[0.7777777777777778,\"#fb9f3a\"],[0.8888888888888888,\"#fdca26\"],[1.0,\"#f0f921\"]],\"type\":\"histogram2d\"}],\"histogram2dcontour\":[{\"colorbar\":{\"outlinewidth\":0,\"ticks\":\"\"},\"colorscale\":[[0.0,\"#0d0887\"],[0.1111111111111111,\"#46039f\"],[0.2222222222222222,\"#7201a8\"],[0.3333333333333333,\"#9c179e\"],[0.4444444444444444,\"#bd3786\"],[0.5555555555555556,\"#d8576b\"],[0.6666666666666666,\"#ed7953\"],[0.7777777777777778,\"#fb9f3a\"],[0.8888888888888888,\"#fdca26\"],[1.0,\"#f0f921\"]],\"type\":\"histogram2dcontour\"}],\"mesh3d\":[{\"colorbar\":{\"outlinewidth\":0,\"ticks\":\"\"},\"type\":\"mesh3d\"}],\"parcoords\":[{\"line\":{\"colorbar\":{\"outlinewidth\":0,\"ticks\":\"\"}},\"type\":\"parcoords\"}],\"pie\":[{\"automargin\":true,\"type\":\"pie\"}],\"scatter\":[{\"marker\":{\"colorbar\":{\"outlinewidth\":0,\"ticks\":\"\"}},\"type\":\"scatter\"}],\"scatter3d\":[{\"line\":{\"colorbar\":{\"outlinewidth\":0,\"ticks\":\"\"}},\"marker\":{\"colorbar\":{\"outlinewidth\":0,\"ticks\":\"\"}},\"type\":\"scatter3d\"}],\"scattercarpet\":[{\"marker\":{\"colorbar\":{\"outlinewidth\":0,\"ticks\":\"\"}},\"type\":\"scattercarpet\"}],\"scattergeo\":[{\"marker\":{\"colorbar\":{\"outlinewidth\":0,\"ticks\":\"\"}},\"type\":\"scattergeo\"}],\"scattergl\":[{\"marker\":{\"colorbar\":{\"outlinewidth\":0,\"ticks\":\"\"}},\"type\":\"scattergl\"}],\"scattermapbox\":[{\"marker\":{\"colorbar\":{\"outlinewidth\":0,\"ticks\":\"\"}},\"type\":\"scattermapbox\"}],\"scatterpolar\":[{\"marker\":{\"colorbar\":{\"outlinewidth\":0,\"ticks\":\"\"}},\"type\":\"scatterpolar\"}],\"scatterpolargl\":[{\"marker\":{\"colorbar\":{\"outlinewidth\":0,\"ticks\":\"\"}},\"type\":\"scatterpolargl\"}],\"scatterternary\":[{\"marker\":{\"colorbar\":{\"outlinewidth\":0,\"ticks\":\"\"}},\"type\":\"scatterternary\"}],\"surface\":[{\"colorbar\":{\"outlinewidth\":0,\"ticks\":\"\"},\"colorscale\":[[0.0,\"#0d0887\"],[0.1111111111111111,\"#46039f\"],[0.2222222222222222,\"#7201a8\"],[0.3333333333333333,\"#9c179e\"],[0.4444444444444444,\"#bd3786\"],[0.5555555555555556,\"#d8576b\"],[0.6666666666666666,\"#ed7953\"],[0.7777777777777778,\"#fb9f3a\"],[0.8888888888888888,\"#fdca26\"],[1.0,\"#f0f921\"]],\"type\":\"surface\"}],\"table\":[{\"cells\":{\"fill\":{\"color\":\"#EBF0F8\"},\"line\":{\"color\":\"white\"}},\"header\":{\"fill\":{\"color\":\"#C8D4E3\"},\"line\":{\"color\":\"white\"}},\"type\":\"table\"}]},\"layout\":{\"annotationdefaults\":{\"arrowcolor\":\"#2a3f5f\",\"arrowhead\":0,\"arrowwidth\":1},\"autotypenumbers\":\"strict\",\"coloraxis\":{\"colorbar\":{\"outlinewidth\":0,\"ticks\":\"\"}},\"colorscale\":{\"diverging\":[[0,\"#8e0152\"],[0.1,\"#c51b7d\"],[0.2,\"#de77ae\"],[0.3,\"#f1b6da\"],[0.4,\"#fde0ef\"],[0.5,\"#f7f7f7\"],[0.6,\"#e6f5d0\"],[0.7,\"#b8e186\"],[0.8,\"#7fbc41\"],[0.9,\"#4d9221\"],[1,\"#276419\"]],\"sequential\":[[0.0,\"#0d0887\"],[0.1111111111111111,\"#46039f\"],[0.2222222222222222,\"#7201a8\"],[0.3333333333333333,\"#9c179e\"],[0.4444444444444444,\"#bd3786\"],[0.5555555555555556,\"#d8576b\"],[0.6666666666666666,\"#ed7953\"],[0.7777777777777778,\"#fb9f3a\"],[0.8888888888888888,\"#fdca26\"],[1.0,\"#f0f921\"]],\"sequentialminus\":[[0.0,\"#0d0887\"],[0.1111111111111111,\"#46039f\"],[0.2222222222222222,\"#7201a8\"],[0.3333333333333333,\"#9c179e\"],[0.4444444444444444,\"#bd3786\"],[0.5555555555555556,\"#d8576b\"],[0.6666666666666666,\"#ed7953\"],[0.7777777777777778,\"#fb9f3a\"],[0.8888888888888888,\"#fdca26\"],[1.0,\"#f0f921\"]]},\"colorway\":[\"#636efa\",\"#EF553B\",\"#00cc96\",\"#ab63fa\",\"#FFA15A\",\"#19d3f3\",\"#FF6692\",\"#B6E880\",\"#FF97FF\",\"#FECB52\"],\"font\":{\"color\":\"#2a3f5f\"},\"geo\":{\"bgcolor\":\"white\",\"lakecolor\":\"white\",\"landcolor\":\"#E5ECF6\",\"showlakes\":true,\"showland\":true,\"subunitcolor\":\"white\"},\"hoverlabel\":{\"align\":\"left\"},\"hovermode\":\"closest\",\"mapbox\":{\"style\":\"light\"},\"paper_bgcolor\":\"white\",\"plot_bgcolor\":\"#E5ECF6\",\"polar\":{\"angularaxis\":{\"gridcolor\":\"white\",\"linecolor\":\"white\",\"ticks\":\"\"},\"bgcolor\":\"#E5ECF6\",\"radialaxis\":{\"gridcolor\":\"white\",\"linecolor\":\"white\",\"ticks\":\"\"}},\"scene\":{\"xaxis\":{\"backgroundcolor\":\"#E5ECF6\",\"gridcolor\":\"white\",\"gridwidth\":2,\"linecolor\":\"white\",\"showbackground\":true,\"ticks\":\"\",\"zerolinecolor\":\"white\"},\"yaxis\":{\"backgroundcolor\":\"#E5ECF6\",\"gridcolor\":\"white\",\"gridwidth\":2,\"linecolor\":\"white\",\"showbackground\":true,\"ticks\":\"\",\"zerolinecolor\":\"white\"},\"zaxis\":{\"backgroundcolor\":\"#E5ECF6\",\"gridcolor\":\"white\",\"gridwidth\":2,\"linecolor\":\"white\",\"showbackground\":true,\"ticks\":\"\",\"zerolinecolor\":\"white\"}},\"shapedefaults\":{\"line\":{\"color\":\"#2a3f5f\"}},\"ternary\":{\"aaxis\":{\"gridcolor\":\"white\",\"linecolor\":\"white\",\"ticks\":\"\"},\"baxis\":{\"gridcolor\":\"white\",\"linecolor\":\"white\",\"ticks\":\"\"},\"bgcolor\":\"#E5ECF6\",\"caxis\":{\"gridcolor\":\"white\",\"linecolor\":\"white\",\"ticks\":\"\"}},\"title\":{\"x\":0.05},\"xaxis\":{\"automargin\":true,\"gridcolor\":\"white\",\"linecolor\":\"white\",\"ticks\":\"\",\"title\":{\"standoff\":15},\"zerolinecolor\":\"white\",\"zerolinewidth\":2},\"yaxis\":{\"automargin\":true,\"gridcolor\":\"white\",\"linecolor\":\"white\",\"ticks\":\"\",\"title\":{\"standoff\":15},\"zerolinecolor\":\"white\",\"zerolinewidth\":2}}}},                        {\"responsive\": true}                    ).then(function(){\n",
       "                            \n",
       "var gd = document.getElementById('28810732-3b6e-4e2c-9eb6-bfe686403491');\n",
       "var x = new MutationObserver(function (mutations, observer) {{\n",
       "        var display = window.getComputedStyle(gd).display;\n",
       "        if (!display || display === 'none') {{\n",
       "            console.log([gd, 'removed!']);\n",
       "            Plotly.purge(gd);\n",
       "            observer.disconnect();\n",
       "        }}\n",
       "}});\n",
       "\n",
       "// Listen for the removal of the full notebook cells\n",
       "var notebookContainer = gd.closest('#notebook-container');\n",
       "if (notebookContainer) {{\n",
       "    x.observe(notebookContainer, {childList: true});\n",
       "}}\n",
       "\n",
       "// Listen for the clearing of the current output cell\n",
       "var outputEl = gd.closest('.output');\n",
       "if (outputEl) {{\n",
       "    x.observe(outputEl, {childList: true});\n",
       "}}\n",
       "\n",
       "                        })                };                });            </script>        </div>"
      ]
     },
     "metadata": {},
     "output_type": "display_data"
    }
   ],
   "source": [
    "fig = px.choropleth(locations=std_observations.query(\"variable == 'Observations_per_area_std'\")\\\n",
    "                                              .State,\n",
    "                    locationmode=\"USA-states\",\n",
    "                    color=std_observations.query(\"variable == 'Observations_per_area_std'\")\\\n",
    "                                           .value,\n",
    "                    scope=\"usa\")\n",
    "fig.show()"
   ]
  },
  {
   "cell_type": "code",
   "execution_count": 112,
   "id": "fb6b2622",
   "metadata": {},
   "outputs": [
    {
     "data": {
      "application/vnd.plotly.v1+json": {
       "config": {
        "plotlyServerURL": "https://plot.ly"
       },
       "data": [
        {
         "coloraxis": "coloraxis",
         "geo": "geo",
         "hovertemplate": "locations=%{location}<br>color=%{z}<extra></extra>",
         "locationmode": "USA-states",
         "locations": [
          "AB",
          "AK",
          "AL",
          "AR",
          "AZ",
          "BC",
          "CA",
          "CO",
          "CT",
          "DE",
          "FL",
          "GA",
          "HI",
          "IA",
          "ID",
          "IL",
          "IN",
          "KS",
          "KY",
          "LA",
          "MA",
          "MB",
          "MD",
          "ME",
          "MI",
          "MN",
          "MO",
          "MS",
          "MT",
          "NB",
          "NC",
          "ND",
          "NE",
          "NH",
          "NJ",
          "NL",
          "NM",
          "NS",
          "NT",
          "NV",
          "NY",
          "OH",
          "OK",
          "ON",
          "OR",
          "PA",
          "PE",
          "PR",
          "QC",
          "RI",
          "SC",
          "SD",
          "SK",
          "TN",
          "TX",
          "UT",
          "VA",
          "VI",
          "VT",
          "WA",
          "WI",
          "WV",
          "WY",
          "YT"
         ],
         "name": "",
         "type": "choropleth",
         "z": [
          -0.19853201944114243,
          -0.20110493305682126,
          -0.16666555203918423,
          -0.16999227343533826,
          -0.14180904177673054,
          -0.19762837243639383,
          -0.06429158814498596,
          -0.15992103335221983,
          0.29585016919555834,
          0.018517163473461922,
          -0.03136115672893988,
          -0.13954631277869736,
          -0.11569231418514325,
          -0.17194195421810737,
          -0.18010899558611626,
          -0.09801352041879244,
          -0.09999742722754375,
          -0.1823391280166515,
          -0.14459776648609166,
          -0.17293780832307246,
          0.1440723584041702,
          -0.20075728765085224,
          0.0002316923158225729,
          -0.15563112096802617,
          -0.14986395481002407,
          -0.1685678022389039,
          -0.14657259750503762,
          -0.17961561406036847,
          -0.1928236624725006,
          -0.19174272222028946,
          -0.10951244984212036,
          -0.19695477346506285,
          -0.18976605642064406,
          -0.027784435398572196,
          0.2548748648290293,
          -0.20203214489541998,
          -0.18356306799036234,
          -0.18690713348864835,
          -0.20240365316678502,
          -0.1810002381417137,
          -0.05486602697417192,
          -0.06515856931572808,
          -0.1733935369355902,
          -0.1924577947673174,
          -0.1520435550081265,
          -0.05382659639859207,
          -0.18500844317447293,
          -0.19158350494824275,
          -0.2013930165717668,
          0.3414927251053797,
          -0.10419290487176305,
          -0.1956122034248876,
          -0.20127670950523652,
          -0.1279857862989213,
          -0.17107021264401417,
          -0.17766946792177543,
          -0.11572568292289286,
          -0.20040233837007418,
          -0.11510013905229567,
          -0.06141636440222206,
          -0.1499531228524009,
          -0.15059133467852587,
          -0.19662960415509512,
          -0.20221199898849224
         ]
        }
       ],
       "layout": {
        "coloraxis": {
         "colorbar": {
          "title": {
           "text": "color"
          }
         },
         "colorscale": [
          [
           0,
           "#0d0887"
          ],
          [
           0.1111111111111111,
           "#46039f"
          ],
          [
           0.2222222222222222,
           "#7201a8"
          ],
          [
           0.3333333333333333,
           "#9c179e"
          ],
          [
           0.4444444444444444,
           "#bd3786"
          ],
          [
           0.5555555555555556,
           "#d8576b"
          ],
          [
           0.6666666666666666,
           "#ed7953"
          ],
          [
           0.7777777777777778,
           "#fb9f3a"
          ],
          [
           0.8888888888888888,
           "#fdca26"
          ],
          [
           1,
           "#f0f921"
          ]
         ]
        },
        "geo": {
         "center": {},
         "domain": {
          "x": [
           0,
           1
          ],
          "y": [
           0,
           1
          ]
         },
         "scope": "usa"
        },
        "legend": {
         "tracegroupgap": 0
        },
        "margin": {
         "t": 60
        },
        "template": {
         "data": {
          "bar": [
           {
            "error_x": {
             "color": "#2a3f5f"
            },
            "error_y": {
             "color": "#2a3f5f"
            },
            "marker": {
             "line": {
              "color": "#E5ECF6",
              "width": 0.5
             },
             "pattern": {
              "fillmode": "overlay",
              "size": 10,
              "solidity": 0.2
             }
            },
            "type": "bar"
           }
          ],
          "barpolar": [
           {
            "marker": {
             "line": {
              "color": "#E5ECF6",
              "width": 0.5
             },
             "pattern": {
              "fillmode": "overlay",
              "size": 10,
              "solidity": 0.2
             }
            },
            "type": "barpolar"
           }
          ],
          "carpet": [
           {
            "aaxis": {
             "endlinecolor": "#2a3f5f",
             "gridcolor": "white",
             "linecolor": "white",
             "minorgridcolor": "white",
             "startlinecolor": "#2a3f5f"
            },
            "baxis": {
             "endlinecolor": "#2a3f5f",
             "gridcolor": "white",
             "linecolor": "white",
             "minorgridcolor": "white",
             "startlinecolor": "#2a3f5f"
            },
            "type": "carpet"
           }
          ],
          "choropleth": [
           {
            "colorbar": {
             "outlinewidth": 0,
             "ticks": ""
            },
            "type": "choropleth"
           }
          ],
          "contour": [
           {
            "colorbar": {
             "outlinewidth": 0,
             "ticks": ""
            },
            "colorscale": [
             [
              0,
              "#0d0887"
             ],
             [
              0.1111111111111111,
              "#46039f"
             ],
             [
              0.2222222222222222,
              "#7201a8"
             ],
             [
              0.3333333333333333,
              "#9c179e"
             ],
             [
              0.4444444444444444,
              "#bd3786"
             ],
             [
              0.5555555555555556,
              "#d8576b"
             ],
             [
              0.6666666666666666,
              "#ed7953"
             ],
             [
              0.7777777777777778,
              "#fb9f3a"
             ],
             [
              0.8888888888888888,
              "#fdca26"
             ],
             [
              1,
              "#f0f921"
             ]
            ],
            "type": "contour"
           }
          ],
          "contourcarpet": [
           {
            "colorbar": {
             "outlinewidth": 0,
             "ticks": ""
            },
            "type": "contourcarpet"
           }
          ],
          "heatmap": [
           {
            "colorbar": {
             "outlinewidth": 0,
             "ticks": ""
            },
            "colorscale": [
             [
              0,
              "#0d0887"
             ],
             [
              0.1111111111111111,
              "#46039f"
             ],
             [
              0.2222222222222222,
              "#7201a8"
             ],
             [
              0.3333333333333333,
              "#9c179e"
             ],
             [
              0.4444444444444444,
              "#bd3786"
             ],
             [
              0.5555555555555556,
              "#d8576b"
             ],
             [
              0.6666666666666666,
              "#ed7953"
             ],
             [
              0.7777777777777778,
              "#fb9f3a"
             ],
             [
              0.8888888888888888,
              "#fdca26"
             ],
             [
              1,
              "#f0f921"
             ]
            ],
            "type": "heatmap"
           }
          ],
          "heatmapgl": [
           {
            "colorbar": {
             "outlinewidth": 0,
             "ticks": ""
            },
            "colorscale": [
             [
              0,
              "#0d0887"
             ],
             [
              0.1111111111111111,
              "#46039f"
             ],
             [
              0.2222222222222222,
              "#7201a8"
             ],
             [
              0.3333333333333333,
              "#9c179e"
             ],
             [
              0.4444444444444444,
              "#bd3786"
             ],
             [
              0.5555555555555556,
              "#d8576b"
             ],
             [
              0.6666666666666666,
              "#ed7953"
             ],
             [
              0.7777777777777778,
              "#fb9f3a"
             ],
             [
              0.8888888888888888,
              "#fdca26"
             ],
             [
              1,
              "#f0f921"
             ]
            ],
            "type": "heatmapgl"
           }
          ],
          "histogram": [
           {
            "marker": {
             "pattern": {
              "fillmode": "overlay",
              "size": 10,
              "solidity": 0.2
             }
            },
            "type": "histogram"
           }
          ],
          "histogram2d": [
           {
            "colorbar": {
             "outlinewidth": 0,
             "ticks": ""
            },
            "colorscale": [
             [
              0,
              "#0d0887"
             ],
             [
              0.1111111111111111,
              "#46039f"
             ],
             [
              0.2222222222222222,
              "#7201a8"
             ],
             [
              0.3333333333333333,
              "#9c179e"
             ],
             [
              0.4444444444444444,
              "#bd3786"
             ],
             [
              0.5555555555555556,
              "#d8576b"
             ],
             [
              0.6666666666666666,
              "#ed7953"
             ],
             [
              0.7777777777777778,
              "#fb9f3a"
             ],
             [
              0.8888888888888888,
              "#fdca26"
             ],
             [
              1,
              "#f0f921"
             ]
            ],
            "type": "histogram2d"
           }
          ],
          "histogram2dcontour": [
           {
            "colorbar": {
             "outlinewidth": 0,
             "ticks": ""
            },
            "colorscale": [
             [
              0,
              "#0d0887"
             ],
             [
              0.1111111111111111,
              "#46039f"
             ],
             [
              0.2222222222222222,
              "#7201a8"
             ],
             [
              0.3333333333333333,
              "#9c179e"
             ],
             [
              0.4444444444444444,
              "#bd3786"
             ],
             [
              0.5555555555555556,
              "#d8576b"
             ],
             [
              0.6666666666666666,
              "#ed7953"
             ],
             [
              0.7777777777777778,
              "#fb9f3a"
             ],
             [
              0.8888888888888888,
              "#fdca26"
             ],
             [
              1,
              "#f0f921"
             ]
            ],
            "type": "histogram2dcontour"
           }
          ],
          "mesh3d": [
           {
            "colorbar": {
             "outlinewidth": 0,
             "ticks": ""
            },
            "type": "mesh3d"
           }
          ],
          "parcoords": [
           {
            "line": {
             "colorbar": {
              "outlinewidth": 0,
              "ticks": ""
             }
            },
            "type": "parcoords"
           }
          ],
          "pie": [
           {
            "automargin": true,
            "type": "pie"
           }
          ],
          "scatter": [
           {
            "marker": {
             "colorbar": {
              "outlinewidth": 0,
              "ticks": ""
             }
            },
            "type": "scatter"
           }
          ],
          "scatter3d": [
           {
            "line": {
             "colorbar": {
              "outlinewidth": 0,
              "ticks": ""
             }
            },
            "marker": {
             "colorbar": {
              "outlinewidth": 0,
              "ticks": ""
             }
            },
            "type": "scatter3d"
           }
          ],
          "scattercarpet": [
           {
            "marker": {
             "colorbar": {
              "outlinewidth": 0,
              "ticks": ""
             }
            },
            "type": "scattercarpet"
           }
          ],
          "scattergeo": [
           {
            "marker": {
             "colorbar": {
              "outlinewidth": 0,
              "ticks": ""
             }
            },
            "type": "scattergeo"
           }
          ],
          "scattergl": [
           {
            "marker": {
             "colorbar": {
              "outlinewidth": 0,
              "ticks": ""
             }
            },
            "type": "scattergl"
           }
          ],
          "scattermapbox": [
           {
            "marker": {
             "colorbar": {
              "outlinewidth": 0,
              "ticks": ""
             }
            },
            "type": "scattermapbox"
           }
          ],
          "scatterpolar": [
           {
            "marker": {
             "colorbar": {
              "outlinewidth": 0,
              "ticks": ""
             }
            },
            "type": "scatterpolar"
           }
          ],
          "scatterpolargl": [
           {
            "marker": {
             "colorbar": {
              "outlinewidth": 0,
              "ticks": ""
             }
            },
            "type": "scatterpolargl"
           }
          ],
          "scatterternary": [
           {
            "marker": {
             "colorbar": {
              "outlinewidth": 0,
              "ticks": ""
             }
            },
            "type": "scatterternary"
           }
          ],
          "surface": [
           {
            "colorbar": {
             "outlinewidth": 0,
             "ticks": ""
            },
            "colorscale": [
             [
              0,
              "#0d0887"
             ],
             [
              0.1111111111111111,
              "#46039f"
             ],
             [
              0.2222222222222222,
              "#7201a8"
             ],
             [
              0.3333333333333333,
              "#9c179e"
             ],
             [
              0.4444444444444444,
              "#bd3786"
             ],
             [
              0.5555555555555556,
              "#d8576b"
             ],
             [
              0.6666666666666666,
              "#ed7953"
             ],
             [
              0.7777777777777778,
              "#fb9f3a"
             ],
             [
              0.8888888888888888,
              "#fdca26"
             ],
             [
              1,
              "#f0f921"
             ]
            ],
            "type": "surface"
           }
          ],
          "table": [
           {
            "cells": {
             "fill": {
              "color": "#EBF0F8"
             },
             "line": {
              "color": "white"
             }
            },
            "header": {
             "fill": {
              "color": "#C8D4E3"
             },
             "line": {
              "color": "white"
             }
            },
            "type": "table"
           }
          ]
         },
         "layout": {
          "annotationdefaults": {
           "arrowcolor": "#2a3f5f",
           "arrowhead": 0,
           "arrowwidth": 1
          },
          "autotypenumbers": "strict",
          "coloraxis": {
           "colorbar": {
            "outlinewidth": 0,
            "ticks": ""
           }
          },
          "colorscale": {
           "diverging": [
            [
             0,
             "#8e0152"
            ],
            [
             0.1,
             "#c51b7d"
            ],
            [
             0.2,
             "#de77ae"
            ],
            [
             0.3,
             "#f1b6da"
            ],
            [
             0.4,
             "#fde0ef"
            ],
            [
             0.5,
             "#f7f7f7"
            ],
            [
             0.6,
             "#e6f5d0"
            ],
            [
             0.7,
             "#b8e186"
            ],
            [
             0.8,
             "#7fbc41"
            ],
            [
             0.9,
             "#4d9221"
            ],
            [
             1,
             "#276419"
            ]
           ],
           "sequential": [
            [
             0,
             "#0d0887"
            ],
            [
             0.1111111111111111,
             "#46039f"
            ],
            [
             0.2222222222222222,
             "#7201a8"
            ],
            [
             0.3333333333333333,
             "#9c179e"
            ],
            [
             0.4444444444444444,
             "#bd3786"
            ],
            [
             0.5555555555555556,
             "#d8576b"
            ],
            [
             0.6666666666666666,
             "#ed7953"
            ],
            [
             0.7777777777777778,
             "#fb9f3a"
            ],
            [
             0.8888888888888888,
             "#fdca26"
            ],
            [
             1,
             "#f0f921"
            ]
           ],
           "sequentialminus": [
            [
             0,
             "#0d0887"
            ],
            [
             0.1111111111111111,
             "#46039f"
            ],
            [
             0.2222222222222222,
             "#7201a8"
            ],
            [
             0.3333333333333333,
             "#9c179e"
            ],
            [
             0.4444444444444444,
             "#bd3786"
            ],
            [
             0.5555555555555556,
             "#d8576b"
            ],
            [
             0.6666666666666666,
             "#ed7953"
            ],
            [
             0.7777777777777778,
             "#fb9f3a"
            ],
            [
             0.8888888888888888,
             "#fdca26"
            ],
            [
             1,
             "#f0f921"
            ]
           ]
          },
          "colorway": [
           "#636efa",
           "#EF553B",
           "#00cc96",
           "#ab63fa",
           "#FFA15A",
           "#19d3f3",
           "#FF6692",
           "#B6E880",
           "#FF97FF",
           "#FECB52"
          ],
          "font": {
           "color": "#2a3f5f"
          },
          "geo": {
           "bgcolor": "white",
           "lakecolor": "white",
           "landcolor": "#E5ECF6",
           "showlakes": true,
           "showland": true,
           "subunitcolor": "white"
          },
          "hoverlabel": {
           "align": "left"
          },
          "hovermode": "closest",
          "mapbox": {
           "style": "light"
          },
          "paper_bgcolor": "white",
          "plot_bgcolor": "#E5ECF6",
          "polar": {
           "angularaxis": {
            "gridcolor": "white",
            "linecolor": "white",
            "ticks": ""
           },
           "bgcolor": "#E5ECF6",
           "radialaxis": {
            "gridcolor": "white",
            "linecolor": "white",
            "ticks": ""
           }
          },
          "scene": {
           "xaxis": {
            "backgroundcolor": "#E5ECF6",
            "gridcolor": "white",
            "gridwidth": 2,
            "linecolor": "white",
            "showbackground": true,
            "ticks": "",
            "zerolinecolor": "white"
           },
           "yaxis": {
            "backgroundcolor": "#E5ECF6",
            "gridcolor": "white",
            "gridwidth": 2,
            "linecolor": "white",
            "showbackground": true,
            "ticks": "",
            "zerolinecolor": "white"
           },
           "zaxis": {
            "backgroundcolor": "#E5ECF6",
            "gridcolor": "white",
            "gridwidth": 2,
            "linecolor": "white",
            "showbackground": true,
            "ticks": "",
            "zerolinecolor": "white"
           }
          },
          "shapedefaults": {
           "line": {
            "color": "#2a3f5f"
           }
          },
          "ternary": {
           "aaxis": {
            "gridcolor": "white",
            "linecolor": "white",
            "ticks": ""
           },
           "baxis": {
            "gridcolor": "white",
            "linecolor": "white",
            "ticks": ""
           },
           "bgcolor": "#E5ECF6",
           "caxis": {
            "gridcolor": "white",
            "linecolor": "white",
            "ticks": ""
           }
          },
          "title": {
           "x": 0.05
          },
          "xaxis": {
           "automargin": true,
           "gridcolor": "white",
           "linecolor": "white",
           "ticks": "",
           "title": {
            "standoff": 15
           },
           "zerolinecolor": "white",
           "zerolinewidth": 2
          },
          "yaxis": {
           "automargin": true,
           "gridcolor": "white",
           "linecolor": "white",
           "ticks": "",
           "title": {
            "standoff": 15
           },
           "zerolinecolor": "white",
           "zerolinewidth": 2
          }
         }
        }
       }
      },
      "text/html": [
       "<div>                            <div id=\"2189715d-2773-4a2a-8a8c-8e9e6b072f08\" class=\"plotly-graph-div\" style=\"height:525px; width:100%;\"></div>            <script type=\"text/javascript\">                require([\"plotly\"], function(Plotly) {                    window.PLOTLYENV=window.PLOTLYENV || {};                                    if (document.getElementById(\"2189715d-2773-4a2a-8a8c-8e9e6b072f08\")) {                    Plotly.newPlot(                        \"2189715d-2773-4a2a-8a8c-8e9e6b072f08\",                        [{\"coloraxis\":\"coloraxis\",\"geo\":\"geo\",\"hovertemplate\":\"locations=%{location}<br>color=%{z}<extra></extra>\",\"locationmode\":\"USA-states\",\"locations\":[\"AB\",\"AK\",\"AL\",\"AR\",\"AZ\",\"BC\",\"CA\",\"CO\",\"CT\",\"DE\",\"FL\",\"GA\",\"HI\",\"IA\",\"ID\",\"IL\",\"IN\",\"KS\",\"KY\",\"LA\",\"MA\",\"MB\",\"MD\",\"ME\",\"MI\",\"MN\",\"MO\",\"MS\",\"MT\",\"NB\",\"NC\",\"ND\",\"NE\",\"NH\",\"NJ\",\"NL\",\"NM\",\"NS\",\"NT\",\"NV\",\"NY\",\"OH\",\"OK\",\"ON\",\"OR\",\"PA\",\"PE\",\"PR\",\"QC\",\"RI\",\"SC\",\"SD\",\"SK\",\"TN\",\"TX\",\"UT\",\"VA\",\"VI\",\"VT\",\"WA\",\"WI\",\"WV\",\"WY\",\"YT\"],\"name\":\"\",\"type\":\"choropleth\",\"z\":[-0.19853201944114243,-0.20110493305682126,-0.16666555203918423,-0.16999227343533826,-0.14180904177673054,-0.19762837243639383,-0.06429158814498596,-0.15992103335221983,0.29585016919555834,0.018517163473461922,-0.03136115672893988,-0.13954631277869736,-0.11569231418514325,-0.17194195421810737,-0.18010899558611626,-0.09801352041879244,-0.09999742722754375,-0.1823391280166515,-0.14459776648609166,-0.17293780832307246,0.1440723584041702,-0.20075728765085224,0.0002316923158225729,-0.15563112096802617,-0.14986395481002407,-0.1685678022389039,-0.14657259750503762,-0.17961561406036847,-0.1928236624725006,-0.19174272222028946,-0.10951244984212036,-0.19695477346506285,-0.18976605642064406,-0.027784435398572196,0.2548748648290293,-0.20203214489541998,-0.18356306799036234,-0.18690713348864835,-0.20240365316678502,-0.1810002381417137,-0.05486602697417192,-0.06515856931572808,-0.1733935369355902,-0.1924577947673174,-0.1520435550081265,-0.05382659639859207,-0.18500844317447293,-0.19158350494824275,-0.2013930165717668,0.3414927251053797,-0.10419290487176305,-0.1956122034248876,-0.20127670950523652,-0.1279857862989213,-0.17107021264401417,-0.17766946792177543,-0.11572568292289286,-0.20040233837007418,-0.11510013905229567,-0.06141636440222206,-0.1499531228524009,-0.15059133467852587,-0.19662960415509512,-0.20221199898849224]}],                        {\"coloraxis\":{\"colorbar\":{\"title\":{\"text\":\"color\"}},\"colorscale\":[[0.0,\"#0d0887\"],[0.1111111111111111,\"#46039f\"],[0.2222222222222222,\"#7201a8\"],[0.3333333333333333,\"#9c179e\"],[0.4444444444444444,\"#bd3786\"],[0.5555555555555556,\"#d8576b\"],[0.6666666666666666,\"#ed7953\"],[0.7777777777777778,\"#fb9f3a\"],[0.8888888888888888,\"#fdca26\"],[1.0,\"#f0f921\"]]},\"geo\":{\"center\":{},\"domain\":{\"x\":[0.0,1.0],\"y\":[0.0,1.0]},\"scope\":\"usa\"},\"legend\":{\"tracegroupgap\":0},\"margin\":{\"t\":60},\"template\":{\"data\":{\"bar\":[{\"error_x\":{\"color\":\"#2a3f5f\"},\"error_y\":{\"color\":\"#2a3f5f\"},\"marker\":{\"line\":{\"color\":\"#E5ECF6\",\"width\":0.5},\"pattern\":{\"fillmode\":\"overlay\",\"size\":10,\"solidity\":0.2}},\"type\":\"bar\"}],\"barpolar\":[{\"marker\":{\"line\":{\"color\":\"#E5ECF6\",\"width\":0.5},\"pattern\":{\"fillmode\":\"overlay\",\"size\":10,\"solidity\":0.2}},\"type\":\"barpolar\"}],\"carpet\":[{\"aaxis\":{\"endlinecolor\":\"#2a3f5f\",\"gridcolor\":\"white\",\"linecolor\":\"white\",\"minorgridcolor\":\"white\",\"startlinecolor\":\"#2a3f5f\"},\"baxis\":{\"endlinecolor\":\"#2a3f5f\",\"gridcolor\":\"white\",\"linecolor\":\"white\",\"minorgridcolor\":\"white\",\"startlinecolor\":\"#2a3f5f\"},\"type\":\"carpet\"}],\"choropleth\":[{\"colorbar\":{\"outlinewidth\":0,\"ticks\":\"\"},\"type\":\"choropleth\"}],\"contour\":[{\"colorbar\":{\"outlinewidth\":0,\"ticks\":\"\"},\"colorscale\":[[0.0,\"#0d0887\"],[0.1111111111111111,\"#46039f\"],[0.2222222222222222,\"#7201a8\"],[0.3333333333333333,\"#9c179e\"],[0.4444444444444444,\"#bd3786\"],[0.5555555555555556,\"#d8576b\"],[0.6666666666666666,\"#ed7953\"],[0.7777777777777778,\"#fb9f3a\"],[0.8888888888888888,\"#fdca26\"],[1.0,\"#f0f921\"]],\"type\":\"contour\"}],\"contourcarpet\":[{\"colorbar\":{\"outlinewidth\":0,\"ticks\":\"\"},\"type\":\"contourcarpet\"}],\"heatmap\":[{\"colorbar\":{\"outlinewidth\":0,\"ticks\":\"\"},\"colorscale\":[[0.0,\"#0d0887\"],[0.1111111111111111,\"#46039f\"],[0.2222222222222222,\"#7201a8\"],[0.3333333333333333,\"#9c179e\"],[0.4444444444444444,\"#bd3786\"],[0.5555555555555556,\"#d8576b\"],[0.6666666666666666,\"#ed7953\"],[0.7777777777777778,\"#fb9f3a\"],[0.8888888888888888,\"#fdca26\"],[1.0,\"#f0f921\"]],\"type\":\"heatmap\"}],\"heatmapgl\":[{\"colorbar\":{\"outlinewidth\":0,\"ticks\":\"\"},\"colorscale\":[[0.0,\"#0d0887\"],[0.1111111111111111,\"#46039f\"],[0.2222222222222222,\"#7201a8\"],[0.3333333333333333,\"#9c179e\"],[0.4444444444444444,\"#bd3786\"],[0.5555555555555556,\"#d8576b\"],[0.6666666666666666,\"#ed7953\"],[0.7777777777777778,\"#fb9f3a\"],[0.8888888888888888,\"#fdca26\"],[1.0,\"#f0f921\"]],\"type\":\"heatmapgl\"}],\"histogram\":[{\"marker\":{\"pattern\":{\"fillmode\":\"overlay\",\"size\":10,\"solidity\":0.2}},\"type\":\"histogram\"}],\"histogram2d\":[{\"colorbar\":{\"outlinewidth\":0,\"ticks\":\"\"},\"colorscale\":[[0.0,\"#0d0887\"],[0.1111111111111111,\"#46039f\"],[0.2222222222222222,\"#7201a8\"],[0.3333333333333333,\"#9c179e\"],[0.4444444444444444,\"#bd3786\"],[0.5555555555555556,\"#d8576b\"],[0.6666666666666666,\"#ed7953\"],[0.7777777777777778,\"#fb9f3a\"],[0.8888888888888888,\"#fdca26\"],[1.0,\"#f0f921\"]],\"type\":\"histogram2d\"}],\"histogram2dcontour\":[{\"colorbar\":{\"outlinewidth\":0,\"ticks\":\"\"},\"colorscale\":[[0.0,\"#0d0887\"],[0.1111111111111111,\"#46039f\"],[0.2222222222222222,\"#7201a8\"],[0.3333333333333333,\"#9c179e\"],[0.4444444444444444,\"#bd3786\"],[0.5555555555555556,\"#d8576b\"],[0.6666666666666666,\"#ed7953\"],[0.7777777777777778,\"#fb9f3a\"],[0.8888888888888888,\"#fdca26\"],[1.0,\"#f0f921\"]],\"type\":\"histogram2dcontour\"}],\"mesh3d\":[{\"colorbar\":{\"outlinewidth\":0,\"ticks\":\"\"},\"type\":\"mesh3d\"}],\"parcoords\":[{\"line\":{\"colorbar\":{\"outlinewidth\":0,\"ticks\":\"\"}},\"type\":\"parcoords\"}],\"pie\":[{\"automargin\":true,\"type\":\"pie\"}],\"scatter\":[{\"marker\":{\"colorbar\":{\"outlinewidth\":0,\"ticks\":\"\"}},\"type\":\"scatter\"}],\"scatter3d\":[{\"line\":{\"colorbar\":{\"outlinewidth\":0,\"ticks\":\"\"}},\"marker\":{\"colorbar\":{\"outlinewidth\":0,\"ticks\":\"\"}},\"type\":\"scatter3d\"}],\"scattercarpet\":[{\"marker\":{\"colorbar\":{\"outlinewidth\":0,\"ticks\":\"\"}},\"type\":\"scattercarpet\"}],\"scattergeo\":[{\"marker\":{\"colorbar\":{\"outlinewidth\":0,\"ticks\":\"\"}},\"type\":\"scattergeo\"}],\"scattergl\":[{\"marker\":{\"colorbar\":{\"outlinewidth\":0,\"ticks\":\"\"}},\"type\":\"scattergl\"}],\"scattermapbox\":[{\"marker\":{\"colorbar\":{\"outlinewidth\":0,\"ticks\":\"\"}},\"type\":\"scattermapbox\"}],\"scatterpolar\":[{\"marker\":{\"colorbar\":{\"outlinewidth\":0,\"ticks\":\"\"}},\"type\":\"scatterpolar\"}],\"scatterpolargl\":[{\"marker\":{\"colorbar\":{\"outlinewidth\":0,\"ticks\":\"\"}},\"type\":\"scatterpolargl\"}],\"scatterternary\":[{\"marker\":{\"colorbar\":{\"outlinewidth\":0,\"ticks\":\"\"}},\"type\":\"scatterternary\"}],\"surface\":[{\"colorbar\":{\"outlinewidth\":0,\"ticks\":\"\"},\"colorscale\":[[0.0,\"#0d0887\"],[0.1111111111111111,\"#46039f\"],[0.2222222222222222,\"#7201a8\"],[0.3333333333333333,\"#9c179e\"],[0.4444444444444444,\"#bd3786\"],[0.5555555555555556,\"#d8576b\"],[0.6666666666666666,\"#ed7953\"],[0.7777777777777778,\"#fb9f3a\"],[0.8888888888888888,\"#fdca26\"],[1.0,\"#f0f921\"]],\"type\":\"surface\"}],\"table\":[{\"cells\":{\"fill\":{\"color\":\"#EBF0F8\"},\"line\":{\"color\":\"white\"}},\"header\":{\"fill\":{\"color\":\"#C8D4E3\"},\"line\":{\"color\":\"white\"}},\"type\":\"table\"}]},\"layout\":{\"annotationdefaults\":{\"arrowcolor\":\"#2a3f5f\",\"arrowhead\":0,\"arrowwidth\":1},\"autotypenumbers\":\"strict\",\"coloraxis\":{\"colorbar\":{\"outlinewidth\":0,\"ticks\":\"\"}},\"colorscale\":{\"diverging\":[[0,\"#8e0152\"],[0.1,\"#c51b7d\"],[0.2,\"#de77ae\"],[0.3,\"#f1b6da\"],[0.4,\"#fde0ef\"],[0.5,\"#f7f7f7\"],[0.6,\"#e6f5d0\"],[0.7,\"#b8e186\"],[0.8,\"#7fbc41\"],[0.9,\"#4d9221\"],[1,\"#276419\"]],\"sequential\":[[0.0,\"#0d0887\"],[0.1111111111111111,\"#46039f\"],[0.2222222222222222,\"#7201a8\"],[0.3333333333333333,\"#9c179e\"],[0.4444444444444444,\"#bd3786\"],[0.5555555555555556,\"#d8576b\"],[0.6666666666666666,\"#ed7953\"],[0.7777777777777778,\"#fb9f3a\"],[0.8888888888888888,\"#fdca26\"],[1.0,\"#f0f921\"]],\"sequentialminus\":[[0.0,\"#0d0887\"],[0.1111111111111111,\"#46039f\"],[0.2222222222222222,\"#7201a8\"],[0.3333333333333333,\"#9c179e\"],[0.4444444444444444,\"#bd3786\"],[0.5555555555555556,\"#d8576b\"],[0.6666666666666666,\"#ed7953\"],[0.7777777777777778,\"#fb9f3a\"],[0.8888888888888888,\"#fdca26\"],[1.0,\"#f0f921\"]]},\"colorway\":[\"#636efa\",\"#EF553B\",\"#00cc96\",\"#ab63fa\",\"#FFA15A\",\"#19d3f3\",\"#FF6692\",\"#B6E880\",\"#FF97FF\",\"#FECB52\"],\"font\":{\"color\":\"#2a3f5f\"},\"geo\":{\"bgcolor\":\"white\",\"lakecolor\":\"white\",\"landcolor\":\"#E5ECF6\",\"showlakes\":true,\"showland\":true,\"subunitcolor\":\"white\"},\"hoverlabel\":{\"align\":\"left\"},\"hovermode\":\"closest\",\"mapbox\":{\"style\":\"light\"},\"paper_bgcolor\":\"white\",\"plot_bgcolor\":\"#E5ECF6\",\"polar\":{\"angularaxis\":{\"gridcolor\":\"white\",\"linecolor\":\"white\",\"ticks\":\"\"},\"bgcolor\":\"#E5ECF6\",\"radialaxis\":{\"gridcolor\":\"white\",\"linecolor\":\"white\",\"ticks\":\"\"}},\"scene\":{\"xaxis\":{\"backgroundcolor\":\"#E5ECF6\",\"gridcolor\":\"white\",\"gridwidth\":2,\"linecolor\":\"white\",\"showbackground\":true,\"ticks\":\"\",\"zerolinecolor\":\"white\"},\"yaxis\":{\"backgroundcolor\":\"#E5ECF6\",\"gridcolor\":\"white\",\"gridwidth\":2,\"linecolor\":\"white\",\"showbackground\":true,\"ticks\":\"\",\"zerolinecolor\":\"white\"},\"zaxis\":{\"backgroundcolor\":\"#E5ECF6\",\"gridcolor\":\"white\",\"gridwidth\":2,\"linecolor\":\"white\",\"showbackground\":true,\"ticks\":\"\",\"zerolinecolor\":\"white\"}},\"shapedefaults\":{\"line\":{\"color\":\"#2a3f5f\"}},\"ternary\":{\"aaxis\":{\"gridcolor\":\"white\",\"linecolor\":\"white\",\"ticks\":\"\"},\"baxis\":{\"gridcolor\":\"white\",\"linecolor\":\"white\",\"ticks\":\"\"},\"bgcolor\":\"#E5ECF6\",\"caxis\":{\"gridcolor\":\"white\",\"linecolor\":\"white\",\"ticks\":\"\"}},\"title\":{\"x\":0.05},\"xaxis\":{\"automargin\":true,\"gridcolor\":\"white\",\"linecolor\":\"white\",\"ticks\":\"\",\"title\":{\"standoff\":15},\"zerolinecolor\":\"white\",\"zerolinewidth\":2},\"yaxis\":{\"automargin\":true,\"gridcolor\":\"white\",\"linecolor\":\"white\",\"ticks\":\"\",\"title\":{\"standoff\":15},\"zerolinecolor\":\"white\",\"zerolinewidth\":2}}}},                        {\"responsive\": true}                    ).then(function(){\n",
       "                            \n",
       "var gd = document.getElementById('2189715d-2773-4a2a-8a8c-8e9e6b072f08');\n",
       "var x = new MutationObserver(function (mutations, observer) {{\n",
       "        var display = window.getComputedStyle(gd).display;\n",
       "        if (!display || display === 'none') {{\n",
       "            console.log([gd, 'removed!']);\n",
       "            Plotly.purge(gd);\n",
       "            observer.disconnect();\n",
       "        }}\n",
       "}});\n",
       "\n",
       "// Listen for the removal of the full notebook cells\n",
       "var notebookContainer = gd.closest('#notebook-container');\n",
       "if (notebookContainer) {{\n",
       "    x.observe(notebookContainer, {childList: true});\n",
       "}}\n",
       "\n",
       "// Listen for the clearing of the current output cell\n",
       "var outputEl = gd.closest('.output');\n",
       "if (outputEl) {{\n",
       "    x.observe(outputEl, {childList: true});\n",
       "}}\n",
       "\n",
       "                        })                };                });            </script>        </div>"
      ]
     },
     "metadata": {},
     "output_type": "display_data"
    }
   ],
   "source": [
    "fig = px.choropleth(locations=std_observations.query(\"variable == 'Observations_per_area_std'\")\\\n",
    "                                              .query(\"abs(value) < 1\")\\\n",
    "                                              .State,\n",
    "                    locationmode=\"USA-states\",\n",
    "                    color=std_observations.query(\"variable == 'Observations_per_area_std'\")\\\n",
    "                                           .query(\"abs(value) < 1\")\\\n",
    "                                           .value,\n",
    "                    scope=\"usa\")\n",
    "fig.show()"
   ]
  },
  {
   "cell_type": "markdown",
   "id": "3f9d00ad",
   "metadata": {},
   "source": [
    "![historical population in USA by state](\"https://upload.wikimedia.org/wikipedia/commons/f/f3/US_state_historical_population_FRED_SMIL.svg\")"
   ]
  },
  {
   "cell_type": "code",
   "execution_count": 120,
   "id": "c4feaf80",
   "metadata": {},
   "outputs": [
    {
     "data": {
      "text/html": [
       "\n",
       "    <style>\n",
       "        #ipyplot-html-viewer-toggle-KmgAJaGbvY4s3oBEjW78sR {\n",
       "            position: absolute;\n",
       "            top: -9999px;\n",
       "            left: -9999px;\n",
       "            visibility: hidden;\n",
       "        }\n",
       "\n",
       "        #ipyplot-html-viewer-label-KmgAJaGbvY4s3oBEjW78sR { \n",
       "            position: relative;\n",
       "            display: inline-block;\n",
       "            cursor: pointer;\n",
       "            color: blue;\n",
       "            text-decoration: underline;\n",
       "        }\n",
       "\n",
       "        #ipyplot-html-viewer-textarea-KmgAJaGbvY4s3oBEjW78sR {\n",
       "            background: lightgrey;\n",
       "            width: 100%;\n",
       "            height: 0px;\n",
       "            display: none;\n",
       "        }\n",
       "\n",
       "        #ipyplot-html-viewer-toggle-KmgAJaGbvY4s3oBEjW78sR:checked ~ #ipyplot-html-viewer-textarea-KmgAJaGbvY4s3oBEjW78sR {\n",
       "            height: 200px;\n",
       "            display: block;\n",
       "        }\n",
       "\n",
       "        #ipyplot-html-viewer-toggle-KmgAJaGbvY4s3oBEjW78sR:checked + #ipyplot-html-viewer-label-KmgAJaGbvY4s3oBEjW78sR:after {\n",
       "            content: \"hide html\";\n",
       "            position: absolute;\n",
       "            top: 0;\n",
       "            left: 0;\n",
       "            right: 0;\n",
       "            bottom: 0;\n",
       "            background: white;\n",
       "            cursor: pointer;\n",
       "            color: blue;\n",
       "            text-decoration: underline;\n",
       "        }\n",
       "    </style>\n",
       "    <div>\n",
       "        <input type=\"checkbox\" id=\"ipyplot-html-viewer-toggle-KmgAJaGbvY4s3oBEjW78sR\">\n",
       "        <label id=\"ipyplot-html-viewer-label-KmgAJaGbvY4s3oBEjW78sR\" for=\"ipyplot-html-viewer-toggle-KmgAJaGbvY4s3oBEjW78sR\">show html</label>\n",
       "        <textarea id=\"ipyplot-html-viewer-textarea-KmgAJaGbvY4s3oBEjW78sR\" readonly>\n",
       "            \n",
       "        <style>\n",
       "        #ipyplot-imgs-container-div-hG7JuAHJaDg7wSkDsn8T4q {\n",
       "            width: 100%;\n",
       "            height: 100%;\n",
       "            margin: 0%;\n",
       "            overflow: auto;\n",
       "            position: relative;\n",
       "            overflow-y: scroll;\n",
       "        }\n",
       "\n",
       "        div.ipyplot-placeholder-div-hG7JuAHJaDg7wSkDsn8T4q {\n",
       "            width: 800px;\n",
       "            display: inline-block;\n",
       "            margin: 3px;\n",
       "            position: relative;\n",
       "        }\n",
       "\n",
       "        div.ipyplot-content-div-hG7JuAHJaDg7wSkDsn8T4q {\n",
       "            width: 800px;\n",
       "            background: white;\n",
       "            display: inline-block;\n",
       "            vertical-align: top;\n",
       "            text-align: center;\n",
       "            position: relative;\n",
       "            border: 2px solid #ddd;\n",
       "            top: 0;\n",
       "            left: 0;\n",
       "        }\n",
       "\n",
       "        div.ipyplot-content-div-hG7JuAHJaDg7wSkDsn8T4q span.ipyplot-img-close {\n",
       "            display: none;\n",
       "        }\n",
       "\n",
       "        div.ipyplot-content-div-hG7JuAHJaDg7wSkDsn8T4q span {\n",
       "            width: 100%;\n",
       "            height: 100%;\n",
       "            position: absolute;\n",
       "            top: 0;\n",
       "            left: 0;\n",
       "        }\n",
       "\n",
       "        div.ipyplot-content-div-hG7JuAHJaDg7wSkDsn8T4q img {\n",
       "            width: 800px;\n",
       "        }\n",
       "\n",
       "        div.ipyplot-content-div-hG7JuAHJaDg7wSkDsn8T4q span.ipyplot-img-close:hover {\n",
       "            cursor: zoom-out;\n",
       "        }\n",
       "        div.ipyplot-content-div-hG7JuAHJaDg7wSkDsn8T4q span.ipyplot-img-expand:hover {\n",
       "            cursor: zoom-in;\n",
       "        }\n",
       "\n",
       "        div[id^=ipyplot-content-div-hG7JuAHJaDg7wSkDsn8T4q]:target {\n",
       "            transform: scale(2.5);\n",
       "            transform-origin: left top;\n",
       "            z-index: 5000;\n",
       "            top: 0;\n",
       "            left: 0;\n",
       "            position: absolute;\n",
       "        }\n",
       "\n",
       "        div[id^=ipyplot-content-div-hG7JuAHJaDg7wSkDsn8T4q]:target span.ipyplot-img-close {\n",
       "            display: block;\n",
       "        }\n",
       "\n",
       "        div[id^=ipyplot-content-div-hG7JuAHJaDg7wSkDsn8T4q]:target span.ipyplot-img-expand {\n",
       "            display: none;\n",
       "        }\n",
       "        </style>\n",
       "    <div id=\"ipyplot-imgs-container-div-hG7JuAHJaDg7wSkDsn8T4q\">\n",
       "    <div class=\"ipyplot-placeholder-div-hG7JuAHJaDg7wSkDsn8T4q\">\n",
       "        <div id=\"ipyplot-content-div-hG7JuAHJaDg7wSkDsn8T4q-HPhQ5fHmR5YK5h4raMneX7\" class=\"ipyplot-content-div-hG7JuAHJaDg7wSkDsn8T4q\">\n",
       "            <h4 style=\"font-size: 12px; word-wrap: break-word;\">0</h4>\n",
       "            <h4 style=\"font-size: 9px; padding-left: 10px; padding-right: 10px; width: 95%; word-wrap: break-word; white-space: normal;\">https://upload.wikimedia.org/wikipedia/commons/f/f3/US_state_historical_population_FRED_SMIL.svg</h4><img src=\"https://upload.wikimedia.org/wikipedia/commons/f/f3/US_state_historical_population_FRED_SMIL.svg\"/>\n",
       "            <a href=\"#!\">\n",
       "                <span class=\"ipyplot-img-close\"/>\n",
       "            </a>\n",
       "            <a href=\"#ipyplot-content-div-hG7JuAHJaDg7wSkDsn8T4q-HPhQ5fHmR5YK5h4raMneX7\">\n",
       "                <span class=\"ipyplot-img-expand\"/>\n",
       "            </a>\n",
       "        </div>\n",
       "    </div>\n",
       "    </div>\n",
       "        </textarea>\n",
       "    </div>\n",
       "    "
      ],
      "text/plain": [
       "<IPython.core.display.HTML object>"
      ]
     },
     "metadata": {},
     "output_type": "display_data"
    },
    {
     "data": {
      "text/html": [
       "\n",
       "        <style>\n",
       "        #ipyplot-imgs-container-div-hG7JuAHJaDg7wSkDsn8T4q {\n",
       "            width: 100%;\n",
       "            height: 100%;\n",
       "            margin: 0%;\n",
       "            overflow: auto;\n",
       "            position: relative;\n",
       "            overflow-y: scroll;\n",
       "        }\n",
       "\n",
       "        div.ipyplot-placeholder-div-hG7JuAHJaDg7wSkDsn8T4q {\n",
       "            width: 800px;\n",
       "            display: inline-block;\n",
       "            margin: 3px;\n",
       "            position: relative;\n",
       "        }\n",
       "\n",
       "        div.ipyplot-content-div-hG7JuAHJaDg7wSkDsn8T4q {\n",
       "            width: 800px;\n",
       "            background: white;\n",
       "            display: inline-block;\n",
       "            vertical-align: top;\n",
       "            text-align: center;\n",
       "            position: relative;\n",
       "            border: 2px solid #ddd;\n",
       "            top: 0;\n",
       "            left: 0;\n",
       "        }\n",
       "\n",
       "        div.ipyplot-content-div-hG7JuAHJaDg7wSkDsn8T4q span.ipyplot-img-close {\n",
       "            display: none;\n",
       "        }\n",
       "\n",
       "        div.ipyplot-content-div-hG7JuAHJaDg7wSkDsn8T4q span {\n",
       "            width: 100%;\n",
       "            height: 100%;\n",
       "            position: absolute;\n",
       "            top: 0;\n",
       "            left: 0;\n",
       "        }\n",
       "\n",
       "        div.ipyplot-content-div-hG7JuAHJaDg7wSkDsn8T4q img {\n",
       "            width: 800px;\n",
       "        }\n",
       "\n",
       "        div.ipyplot-content-div-hG7JuAHJaDg7wSkDsn8T4q span.ipyplot-img-close:hover {\n",
       "            cursor: zoom-out;\n",
       "        }\n",
       "        div.ipyplot-content-div-hG7JuAHJaDg7wSkDsn8T4q span.ipyplot-img-expand:hover {\n",
       "            cursor: zoom-in;\n",
       "        }\n",
       "\n",
       "        div[id^=ipyplot-content-div-hG7JuAHJaDg7wSkDsn8T4q]:target {\n",
       "            transform: scale(2.5);\n",
       "            transform-origin: left top;\n",
       "            z-index: 5000;\n",
       "            top: 0;\n",
       "            left: 0;\n",
       "            position: absolute;\n",
       "        }\n",
       "\n",
       "        div[id^=ipyplot-content-div-hG7JuAHJaDg7wSkDsn8T4q]:target span.ipyplot-img-close {\n",
       "            display: block;\n",
       "        }\n",
       "\n",
       "        div[id^=ipyplot-content-div-hG7JuAHJaDg7wSkDsn8T4q]:target span.ipyplot-img-expand {\n",
       "            display: none;\n",
       "        }\n",
       "        </style>\n",
       "    <div id=\"ipyplot-imgs-container-div-hG7JuAHJaDg7wSkDsn8T4q\">\n",
       "    <div class=\"ipyplot-placeholder-div-hG7JuAHJaDg7wSkDsn8T4q\">\n",
       "        <div id=\"ipyplot-content-div-hG7JuAHJaDg7wSkDsn8T4q-HPhQ5fHmR5YK5h4raMneX7\" class=\"ipyplot-content-div-hG7JuAHJaDg7wSkDsn8T4q\">\n",
       "            <h4 style=\"font-size: 12px; word-wrap: break-word;\">0</h4>\n",
       "            <h4 style=\"font-size: 9px; padding-left: 10px; padding-right: 10px; width: 95%; word-wrap: break-word; white-space: normal;\">https://upload.wikimedia.org/wikipedia/commons/f/f3/US_state_historical_population_FRED_SMIL.svg</h4><img src=\"https://upload.wikimedia.org/wikipedia/commons/f/f3/US_state_historical_population_FRED_SMIL.svg\"/>\n",
       "            <a href=\"#!\">\n",
       "                <span class=\"ipyplot-img-close\"/>\n",
       "            </a>\n",
       "            <a href=\"#ipyplot-content-div-hG7JuAHJaDg7wSkDsn8T4q-HPhQ5fHmR5YK5h4raMneX7\">\n",
       "                <span class=\"ipyplot-img-expand\"/>\n",
       "            </a>\n",
       "        </div>\n",
       "    </div>\n",
       "    </div>"
      ],
      "text/plain": [
       "<IPython.core.display.HTML object>"
      ]
     },
     "metadata": {},
     "output_type": "display_data"
    }
   ],
   "source": [
    "import ipyplot\n",
    "\n",
    "ipyplot.plot_images(\n",
    "    ['https://upload.wikimedia.org/wikipedia/commons/f/f3/US_state_historical_population_FRED_SMIL.svg'], # images should be passed in as an array\n",
    "    img_width=800)"
   ]
  },
  {
   "cell_type": "code",
   "execution_count": 153,
   "id": "dfd18ccc",
   "metadata": {},
   "outputs": [
    {
     "data": {
      "text/plain": [
       "State  City                    \n",
       "AZ     Phoenix                     718\n",
       "WA     Seattle                     697\n",
       "NV     Las Vegas                   591\n",
       "OR     Portland                    543\n",
       "CA     San Diego                   500\n",
       "       Los Angeles                 494\n",
       "AZ     Tucson                      412\n",
       "IL     Chicago                     408\n",
       "TX     Houston                     400\n",
       "NM     Albuquerque                 371\n",
       "FL     Orlando                     355\n",
       "       Miami                       328\n",
       "TX     Austin                      316\n",
       "ID     Boise                       306\n",
       "CO     Denver                      306\n",
       "CA     Sacramento                  294\n",
       "SC     Myrtle Beach                285\n",
       "CA     San Jose                    267\n",
       "TX     San Antonio                 257\n",
       "OH     Columbus                    246\n",
       "CO     Colorado Springs            246\n",
       "ON     Toronto (Canada)            245\n",
       "FL     Jacksonville                240\n",
       "CA     San Francisco               237\n",
       "AZ     Mesa                        232\n",
       "NY     New York City (Brooklyn)    232\n",
       "IN     Indianapolis                231\n",
       "UT     Salt Lake City              224\n",
       "NC     Charlotte                   223\n",
       "MO     St. Louis                   221\n",
       "WA     Spokane                     221\n",
       "       Vancouver                   218\n",
       "KY     Louisville                  218\n",
       "FL     Tampa                       213\n",
       "PA     Philadelphia                196\n",
       "TX     Dallas                      192\n",
       "WA     Tacoma                      189\n",
       "PA     Pittsburgh                  187\n",
       "NV     Reno                        185\n",
       "VA     Virginia Beach              175\n",
       "Name: Posted, dtype: int64"
      ]
     },
     "execution_count": 153,
     "metadata": {},
     "output_type": "execute_result"
    }
   ],
   "source": [
    "ufo.groupby(['State', 'City']).Posted.count().sort_values(ascending=False)[:40]"
   ]
  },
  {
   "cell_type": "code",
   "execution_count": 152,
   "id": "156daf2b",
   "metadata": {},
   "outputs": [
    {
     "data": {
      "text/plain": [
       "State  City                                    \n",
       "DC     Washington, D.C.                            107\n",
       "       Washington                                   10\n",
       "       Washington, DC                                4\n",
       "       Caracas (Venezuela)                           2\n",
       "       Washington, D.C. (area)                       2\n",
       "       Washington, D.C. (Roosevelt Island Area)      1\n",
       "       Wilmington                                    1\n",
       "       WashingtonWhite House                         1\n",
       "       Washington, D.C. to Kansas City               1\n",
       "       Washington, D.C. (above I-295 bridge)         1\n",
       "       Washington, D.C. (Capitol Hill)               1\n",
       "       Washington, D.C. (Georgetown)                 1\n",
       "       Georgetown                                    1\n",
       "       Washington, D.C. (6 miles west of)            1\n",
       "       Rehoboth Beach                                1\n",
       "       México                                        1\n",
       "       Meppel (Netherlands)                          1\n",
       "       Maroochydore (Queensland) (Australia)         1\n",
       "       na                                            1\n",
       "Name: Posted, dtype: int64"
      ]
     },
     "execution_count": 152,
     "metadata": {},
     "output_type": "execute_result"
    }
   ],
   "source": [
    "ufo.query('State == \"DC\"').groupby(['State', 'City']).Posted.count().sort_values(ascending=False)[:20]"
   ]
  },
  {
   "cell_type": "code",
   "execution_count": 165,
   "id": "06c2b900",
   "metadata": {},
   "outputs": [],
   "source": [
    "us_states = states.iloc[:56]\n",
    "canada_states = states.iloc[56:]"
   ]
  },
  {
   "cell_type": "code",
   "execution_count": 167,
   "id": "451bcf52",
   "metadata": {},
   "outputs": [],
   "source": [
    "ufo_us = ufo.query('State in @us_states.Abbreviation')\n",
    "ufo_canada = ufo.query('State in @canada_states.Abbreviation')\n",
    "ufo_dc = ufo_us.query('State == \"DC\"')\n",
    "ufo_no_dc = ufo_us.query('State != \"DC\"')"
   ]
  },
  {
   "cell_type": "code",
   "execution_count": 181,
   "id": "8b892bc7",
   "metadata": {},
   "outputs": [],
   "source": [
    "ufo_us_per_hour = ufo_us.groupby(ufo_us.Observed.map(lambda t: t.hour))\\\n",
    "                .Summary\\\n",
    "                .count()\n",
    "\n",
    "ufo_canada_per_hour = ufo_canada.groupby(ufo_canada.Observed.map(lambda t: t.hour))\\\n",
    "                .Summary\\\n",
    "                .count()\n",
    "\n",
    "ufo_dc_per_hour = ufo_dc.groupby(ufo_dc.Observed.map(lambda t: t.hour))\\\n",
    "                .Summary\\\n",
    "                .count()\n",
    "\n",
    "ufo_no_dc_per_hour = ufo_no_dc.groupby(ufo_no_dc.Observed.map(lambda t: t.hour))\\\n",
    "                .Summary\\\n",
    "                .count()\n",
    "\n",
    "\n",
    "ufo_us_per_hour = pd.DataFrame({\n",
    "    'Observations': ufo_us_per_hour / ufo_us_per_hour.sum(),\n",
    "    'Region': 'US'\n",
    "            })\n",
    "\n",
    "ufo_canada_per_hour = pd.DataFrame({\n",
    "    'Observations': ufo_canada_per_hour / ufo_canada_per_hour.sum(),\n",
    "    'Region': 'Canada'\n",
    "            })\n",
    "\n",
    "ufo_dc_per_hour = pd.DataFrame({\n",
    "    'Observations': ufo_dc_per_hour / ufo_dc_per_hour.sum(),\n",
    "    'Region': 'DC'\n",
    "            })\n",
    "\n",
    "ufo_no_dc_per_hour = pd.DataFrame({\n",
    "    'Observations': ufo_no_dc_per_hour / ufo_no_dc_per_hour.sum(),\n",
    "    'Region': 'US outside DC'\n",
    "            })\n",
    "\n",
    "\n",
    "\n",
    "ufo_region_hour = pd.concat([ufo_us_per_hour, ufo_canada_per_hour, ufo_dc_per_hour, ufo_no_dc_per_hour])\n"
   ]
  },
  {
   "cell_type": "code",
   "execution_count": 183,
   "id": "3100a140",
   "metadata": {},
   "outputs": [
    {
     "data": {
      "image/png": "[encoded data removed]",
      "text/plain": [
       "<Figure size 864x576 with 1 Axes>"
      ]
     },
     "metadata": {},
     "output_type": "display_data"
    }
   ],
   "source": [
    "sns.set_style(\"whitegrid\")\n",
    "sns.set(font_scale=1.1)\n",
    "\n",
    "plt.figure(figsize=(12,8))\n",
    "ax = sns.lineplot(x=ufo_region_hour.index.astype('int'),\n",
    "                 y=ufo_region_hour.Observations,\n",
    "                 hue=ufo_region_hour.Region, \n",
    "                 palette=\"muted\")\n",
    "\n",
    "ax.set_title(\"Total UFO observed by time\", fontsize=15)\n",
    "ax.set_xlabel (\"Hour\")\n",
    "ax.set_ylabel (\"Observations fraction\");"
   ]
  },
  {
   "cell_type": "code",
   "execution_count": 191,
   "id": "cec7efee",
   "metadata": {},
   "outputs": [],
   "source": [
    "ufo_us_per_shape = ufo_us.groupby('Shape')\\\n",
    "        .agg(percentage =('Summary', lambda x: x.size / ufo_us.shape[0] * 100))\\\n",
    "        .sort_values(by='percentage', ascending=False)\\\n",
    "        .round(2)\n",
    "ufo_us_per_shape['Region'] = 'US'\n",
    "\n",
    "\n",
    "ufo_canada_per_shape = ufo_canada.groupby('Shape')\\\n",
    "        .agg(percentage =('Summary', lambda x: x.size / ufo_canada.shape[0] * 100))\\\n",
    "        .sort_values(by='percentage', ascending=False)\\\n",
    "        .round(2)\n",
    "ufo_canada_per_shape['Region'] = 'Canada'\n",
    "\n",
    "ufo_dc_per_shape = ufo_dc.groupby('Shape')\\\n",
    "        .agg(percentage =('Summary', lambda x: x.size / ufo_dc.shape[0] * 100))\\\n",
    "        .sort_values(by='percentage', ascending=False)\\\n",
    "        .round(2)\n",
    "ufo_dc_per_shape['Region'] = 'DC'\n",
    "\n",
    "ufo_no_dc_per_shape = ufo_no_dc.groupby('Shape')\\\n",
    "        .agg(percentage =('Summary', lambda x: x.size / ufo_no_dc.shape[0] * 100))\\\n",
    "        .sort_values(by='percentage', ascending=False)\\\n",
    "        .round(2)\n",
    "ufo_no_dc_per_shape['Region'] = 'US outside DC'\n",
    "\n",
    "ufo_region_shape = pd.concat([ufo_us_per_shape, ufo_canada_per_shape, ufo_dc_per_shape, ufo_no_dc_per_shape])"
   ]
  },
  {
   "cell_type": "code",
   "execution_count": 194,
   "id": "3d162863",
   "metadata": {},
   "outputs": [
    {
     "data": {
      "image/png": "[encoded data removed]",
      "text/plain": [
       "<Figure size 864x576 with 1 Axes>"
      ]
     },
     "metadata": {},
     "output_type": "display_data"
    }
   ],
   "source": [
    "idx = ufo_per_shape.index.tolist()\n",
    "idx.remove('unknown')\n",
    "idx.append('unknown')\n",
    "\n",
    "\n",
    "\n",
    "sns.set_style(\"whitegrid\")\n",
    "sns.set(font_scale=1.1)\n",
    "\n",
    "bar,ax = plt.subplots(figsize=(12,8))\n",
    "ax = sns.barplot(x=ufo_region_shape.index,\n",
    "                 y='percentage',\n",
    "                 data=ufo_region_shape,\n",
    "                 hue='Region',\n",
    "                 ci=None,\n",
    "                 palette=\"muted\",\n",
    "                 orient='v',\n",
    "                 order=idx)\n",
    "ax.set_title(\"Distribution of UFO observations by the shape\", fontsize=15)\n",
    "ax.set_xlabel (\"UFO shape\")\n",
    "ax.set_ylabel (\"Percentage\")\n",
    "ax.tick_params(axis='x', rotation=45)\n",
    "\n",
    "# calculate the percentages and annotate the sns barplot\n",
    "# for rect in ax.patches:\n",
    "#     ax.text(rect.get_x(),rect.get_height() + 0.1,\"%.1f%%\"% rect.get_height(), weight='bold' );"
   ]
  },
  {
   "cell_type": "code",
   "execution_count": null,
   "id": "37a19b48",
   "metadata": {},
   "outputs": [],
   "source": []
  }
 ],
 "metadata": {
  "kernelspec": {
   "display_name": "Python 3",
   "language": "python",
   "name": "python3"
  },
  "language_info": {
   "codemirror_mode": {
    "name": "ipython",
    "version": 3
   },
   "file_extension": ".py",
   "mimetype": "text/x-python",
   "name": "python",
   "nbconvert_exporter": "python",
   "pygments_lexer": "ipython3",
   "version": "3.8.7"
  }
 },
 "nbformat": 4,
 "nbformat_minor": 5
}
